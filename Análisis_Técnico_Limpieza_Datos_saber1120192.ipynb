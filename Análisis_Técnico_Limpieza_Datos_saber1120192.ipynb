{
  "nbformat": 4,
  "nbformat_minor": 0,
  "metadata": {
    "colab": {
      "provenance": [],
      "collapsed_sections": [
        "R62lhETTtp_N"
      ],
      "include_colab_link": true
    },
    "kernelspec": {
      "name": "python3",
      "display_name": "Python 3"
    },
    "language_info": {
      "name": "python"
    }
  },
  "cells": [
    {
      "cell_type": "markdown",
      "metadata": {
        "id": "view-in-github",
        "colab_type": "text"
      },
      "source": [
        "<a href=\"https://colab.research.google.com/github/ricardoruiz19/TalentoTech/blob/main/An%C3%A1lisis_T%C3%A9cnico_Limpieza_Datos_saber1120192.ipynb\" target=\"_parent\"><img src=\"https://colab.research.google.com/assets/colab-badge.svg\" alt=\"Open In Colab\"/></a>"
      ]
    },
    {
      "cell_type": "markdown",
      "source": [
        "# Datacleaning: Limpieza de datos"
      ],
      "metadata": {
        "id": "PbCD_rsF6Bg0"
      }
    },
    {
      "cell_type": "markdown",
      "source": [
        "La limpieza de datos es un proceso esencial en la `Ciencia de Datos`. Consiste en identificar y corregir anomalías en los conjuntos de datos para que estos pueden ser explotados y explorados en adecuados análisis de datos.\n",
        "\n",
        "La limpieza de datos, también conocida como `\"Data Cleansing\"` o `\"Data Scrubbing\"`, engloba varios procesos destinados a mejorar la calidad de los datos mediante la identificación y corrección de registros inexactos, incompletos, corruptos o irrelevantes en una base de datos o conjunto de datos.\n",
        "\n",
        "Para lograr esto, existen numerosas herramientas y prácticas disponibles para eliminar estos problemas en los datos. Una vez que se completa la limpieza de datos de manera adecuada, todos los conjuntos de datos deben ser coherentes y estar libres de errores, lo que es esencial para su uso y explotación. En resumen, la limpieza de datos es un proceso importante para garantizar la calidad y fiabilidad de los datos y su adecuación para su posterior análisis."
      ],
      "metadata": {
        "id": "-bNchaIX6H01"
      }
    },
    {
      "cell_type": "markdown",
      "source": [
        "## ¿En qué consiste la limpieza de los datos?"
      ],
      "metadata": {
        "id": "bX9QSBDW6V5_"
      }
    },
    {
      "cell_type": "markdown",
      "source": [
        "La limpieza de datos es un paso esencial y critico en la preparación de datos para el análisis, ya que los datos incompletos, duplicados, inconsistentes o con errores pueden dar lugar a resultados inexactos o sesgados en los modelos de Aprendizaje Automatico (Machine Learning) y análisis estadísticos.\n",
        "\n",
        "Algunos pasos claves para la limpieza de datos son modificar y eliminar campos de datos incompletos e incorrectos, identificar y eliminar información duplicada y datos sin relación, y corregir el formato, los valores faltantes y los errores de ortografía."
      ],
      "metadata": {
        "id": "2jblHAxw6ZX-"
      }
    },
    {
      "cell_type": "markdown",
      "source": [
        "## Consejos y buenas prácticas para el proceso de limpieza de datos."
      ],
      "metadata": {
        "id": "rrZI2w8tpGnO"
      }
    },
    {
      "cell_type": "markdown",
      "source": [
        "* **Comprender los datos:** Antes de comenzar cualquier proceso de limpieza, es fundamental tener una comprensión completa de los datos que se están limpiando. Esto incluye entender la estructura de los datos, las variables que se están utilizando, los tipos de datos y cualquier valor atípico o valor faltante que pueda estar presente.\n",
        "\n",
        "* **Establecer criterios de calidad de datos:** Es importante establecer criterios de calidad de datos para asegurar que los datos limpios sean precisos, consistentes y completos. Esto puede incluir la eliminación de datos duplicados, la corrección de errores de formato y la imputación de valores faltantes.\n",
        "\n",
        "* **Utilizar herramientas de limpieza de datos:** Existen muchas herramientas de limpieza de datos disponibles que pueden ayudar en el proceso de limpieza. Estas herramientas pueden ayudar a detectar errores y valores atípicos, eliminar datos duplicados y corregir errores de formato.\n",
        "\n",
        "* **Validar los datos limpios:** Después de realizar la limpieza de datos, es importante validar que los datos limpios sean precisos y completos. Esto puede incluir la comparación de los datos limpios con los datos originales y la realización de pruebas de consistencia.\n",
        "\n",
        "* **Documentar el proceso de limpieza de datos:** Es importante documentar el proceso de limpieza de datos para que otros puedan entender cómo se limpiaron los datos y cómo se llegó a los resultados finales. Esto también puede ayudar a asegurar la replicabilidad y reproducibilidad de los resultados."
      ],
      "metadata": {
        "id": "sMGT5mBupKOG"
      }
    },
    {
      "cell_type": "markdown",
      "source": [
        "## ¿Cómo puede confirmar que sus datos están limpios?"
      ],
      "metadata": {
        "id": "Rzvt_boX6bi0"
      }
    },
    {
      "cell_type": "markdown",
      "source": [
        "Varios son los pasos para identificar y corregir datos erroneos. Una de las primeras cosas es analizar los datos para identificar errores. Esto puede suponer el uso de herramientas de análisis cualitativo que usen reglas, patrones y límites para identificar valores no válidos. Posterior a eso, es eliminar o corregir errores.\n",
        "\n",
        "Los pasos de limpieza de datos comunes incluyen la corrección.\n",
        "\n",
        "* Duplicación de datos: Eliminar información duplicada.\n",
        "* Datos irrelevantes: Identificar campos esenciales, eliminar datos irrelevantes.\n",
        "* Valores atípicos: Repercuten sustancialmente en el rendimiento del modelo, por lo que es importante identificar y determinar las medidas apropiadas.\n",
        "* Datos faltantes: Notificación y eliminación o atribución de datos faltantes.\n",
        "* Errores estructurales: Corrección de errores tipográficos y otras incoherencias, y elaboración de datos en función de un patrón o una convención común."
      ],
      "metadata": {
        "id": "PtvXnaWM6fXn"
      }
    },
    {
      "cell_type": "markdown",
      "source": [
        "# Dataset: Saber 11° 2019-2"
      ],
      "metadata": {
        "id": "gzfQ4wsL6vyy"
      }
    },
    {
      "cell_type": "markdown",
      "source": [
        "* **Objetivo:** Realizar limpieza de datos de los resultados de las pruebas saber 11° correspondientes al segundo semestre del año 2019.\n",
        "\n",
        "* Esta fuente de datos es extraida de [Datos Abiertos Colombia](https://www.datos.gov.co/), Los datos abiertos son información pública dispuesta en formatos que permiten su uso y reutilización bajo licencia abierta y sin restricciones legales para su aprovechamiento.\n",
        "\n",
        "* Este conjunto de datos, está compuesto por datos anonimizados sobre los resultados y características de los resultados de las pruebas saber 11 correspondientes al segundo semestre del año 2019"
      ],
      "metadata": {
        "id": "iSfu3thv6xPl"
      }
    },
    {
      "cell_type": "markdown",
      "source": [
        "## Ficha técnica del dataset, información sobre este conjunto de datos"
      ],
      "metadata": {
        "id": "MKr8rFTx7DCd"
      }
    },
    {
      "cell_type": "markdown",
      "source": [
        "Información sobre el conjunto de datos:\n",
        "\n",
        "* Fuente de datos: [Datos abiertos Colombia - Saber 11° 2019-2](https://www.datos.gov.co/Educaci-n/Saber-11-2019-2/ynam-yc42)\n",
        "* Fecha de creación: 23 de diciembre de 2019\n",
        "* Filas: 546212\n",
        "* Columnas: 82\n",
        "* Vistas: 45k (a la fecha de descarga)\n",
        "* Descargas: 13,2k (a la fecha de descarga)"
      ],
      "metadata": {
        "id": "GG_NZ0ra7PE6"
      }
    },
    {
      "cell_type": "markdown",
      "source": [
        "Información de la entidad:\n",
        "\n",
        "* Área o dependencia: Instituto Colombiano para la Evaluación de la Educación - ICFES\n",
        "* Nombre de la entidad: Instituto Colombiano para la Evaluación de la Educación\n",
        "* Departamento: Bogotá D.C.\n",
        "* Municipio: Bogotá D.C.\n",
        "* Orden: Nacional\n",
        "* Sector: Educación"
      ],
      "metadata": {
        "id": "UwB-1nhI7k83"
      }
    },
    {
      "cell_type": "markdown",
      "source": [
        "# Preparación y configuración del entorno de trabajo"
      ],
      "metadata": {
        "id": "Y6UM75Ry7vo4"
      }
    },
    {
      "cell_type": "markdown",
      "source": [
        "## Configuración de las librerias a usar"
      ],
      "metadata": {
        "id": "rPoVkXWA8UDw"
      }
    },
    {
      "cell_type": "code",
      "execution_count": 1,
      "metadata": {
        "id": "guhMoLgdE2Im"
      },
      "outputs": [],
      "source": [
        "import os\n",
        "import altair as alt\n",
        "import pandas as pd\n",
        "import numpy as np\n",
        "import seaborn as sns\n",
        "import matplotlib.pyplot as plt\n",
        "import statsmodels.api as sm\n",
        "import json as json\n",
        "from google.colab import data_table\n",
        "from vega_datasets import data\n",
        "from wordcloud import WordCloud"
      ]
    },
    {
      "cell_type": "markdown",
      "source": [
        "## Conexión a la fuente de datos"
      ],
      "metadata": {
        "id": "LYULSH8x8XnP"
      }
    },
    {
      "cell_type": "markdown",
      "source": [
        "En algunos casos, consumir la API puede ser una buena opción (sobre todo por la actualización constante de datos desde su fuente original para tener metricas en tiempo real.), pero hay que tener la certeza de que al consumir dicho recurso, podamos contar con la totalidad de los registros, desde el equipo de Ingeniería de Datos podrían ayudar a confirmar eso.\n",
        "\n",
        "Sin embargo, al ser una fuente de datos abierta (pública), se procede a descargar y procesar desde un CSV para contar con la validez y totalidad del dataset.\n",
        "\n",
        "![image.png](data:image/png;base64,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)"
      ],
      "metadata": {
        "id": "X10NPSmY8agB"
      }
    },
    {
      "cell_type": "code",
      "source": [
        "# Cargar el dataset\n",
        "df_resultados = pd.read_csv('/content/saber120192.csv')\n",
        "\n",
        "# Mostrar el dataframe completo\n",
        "display(df_resultados) # Por la cantidad de registros (82 columnas y 546212 filas), la carga de estos dura entre 5 y 6 min."
      ],
      "metadata": {
        "colab": {
          "base_uri": "https://localhost:8080/",
          "height": 686
        },
        "id": "bDkttSxrPmBu",
        "outputId": "81787743-4dc2-4e34-e6ee-6faed7df541d"
      },
      "execution_count": 32,
      "outputs": [
        {
          "output_type": "stream",
          "name": "stderr",
          "text": [
            "<ipython-input-32-180b5db50636>:2: DtypeWarning: Columns (76,78) have mixed types. Specify dtype option on import or set low_memory=False.\n",
            "  df_resultados = pd.read_csv('/content/saber120192.csv')\n"
          ]
        },
        {
          "output_type": "display_data",
          "data": {
            "text/plain": [
              "       ESTU_TIPODOCUMENTO ESTU_NACIONALIDAD ESTU_GENERO  \\\n",
              "0                      TI          COLOMBIA           M   \n",
              "1                      TI          COLOMBIA           M   \n",
              "2                      TI          COLOMBIA           M   \n",
              "3                      TI          COLOMBIA           M   \n",
              "4                      TI          COLOMBIA           M   \n",
              "...                   ...               ...         ...   \n",
              "546207                 CC          COLOMBIA           M   \n",
              "546208                 TI          COLOMBIA           M   \n",
              "546209                 TI          COLOMBIA           M   \n",
              "546210                 TI          COLOMBIA           M   \n",
              "546211                 TI          COLOMBIA           M   \n",
              "\n",
              "          ESTU_FECHANACIMIENTO  PERIODO  ESTU_CONSECUTIVO ESTU_ESTUDIANTE  \\\n",
              "0       02/18/2002 12:00:00 AM    20194  SB11201940031558      ESTUDIANTE   \n",
              "1       06/28/2003 12:00:00 AM    20194  SB11201940303339      ESTUDIANTE   \n",
              "2       06/02/2001 12:00:00 AM    20194  SB11201940255017      ESTUDIANTE   \n",
              "3       04/26/2002 12:00:00 AM    20194  SB11201940154799      ESTUDIANTE   \n",
              "4       02/05/2002 12:00:00 AM    20194  SB11201940280831      ESTUDIANTE   \n",
              "...                        ...      ...               ...             ...   \n",
              "546207  02/25/1999 12:00:00 AM    20194  SB11201940195862      ESTUDIANTE   \n",
              "546208  10/14/2002 12:00:00 AM    20194  SB11201940253002      ESTUDIANTE   \n",
              "546209  11/22/2002 12:00:00 AM    20194  SB11201940364767      ESTUDIANTE   \n",
              "546210  11/10/2002 12:00:00 AM    20194  SB11201940210026      ESTUDIANTE   \n",
              "546211  06/02/2002 12:00:00 AM    20194  SB11201940074679      ESTUDIANTE   \n",
              "\n",
              "       ESTU_TIENEETNIA ESTU_PAIS_RESIDE ESTU_ETNIA  ... PUNT_INGLES  \\\n",
              "0                   No         COLOMBIA          -  ...        54.0   \n",
              "1                   No         COLOMBIA          -  ...        63.0   \n",
              "2                   No         COLOMBIA          -  ...        64.0   \n",
              "3                   Si         COLOMBIA    Ninguno  ...        53.0   \n",
              "4                   No         COLOMBIA          -  ...        52.0   \n",
              "...                ...              ...        ...  ...         ...   \n",
              "546207              No         COLOMBIA          -  ...        58.0   \n",
              "546208              No         COLOMBIA          -  ...        74.0   \n",
              "546209              No         COLOMBIA          -  ...        72.0   \n",
              "546210              No         COLOMBIA          -  ...        46.0   \n",
              "546211              No         COLOMBIA          -  ...        74.0   \n",
              "\n",
              "       PERCENTIL_INGLES DESEMP_INGLES PUNT_GLOBAL PERCENTIL_GLOBAL  \\\n",
              "0                    67            A1         208               25   \n",
              "1                    88            A2         299               83   \n",
              "2                    89            A2         299               84   \n",
              "3                    67            A1         309               88   \n",
              "4                    63            A1         288               78   \n",
              "...                 ...           ...         ...              ...   \n",
              "546207               79            A2         360               99   \n",
              "546208               97            B1         360               99   \n",
              "546209               96            B1         377              100   \n",
              "546210               45            A-         278               73   \n",
              "546211               97            B1         365               99   \n",
              "\n",
              "       ESTU_INSE_INDIVIDUAL ESTU_NSE_INDIVIDUAL ESTU_NSE_ESTABLECIMIENTO  \\\n",
              "0          50.9421557404314                 2.0                      2.0   \n",
              "1           59.767864431576                 3.0                      4.0   \n",
              "2          50.7642383644749                 2.0                      3.0   \n",
              "3          45.7791353123516                 2.0                      3.0   \n",
              "4          52.9109464277177                 3.0                      3.0   \n",
              "...                     ...                 ...                      ...   \n",
              "546207     47.5807720132296                 2.0                      2.0   \n",
              "546208      57.406418472062                 3.0                      4.0   \n",
              "546209     71.2254308010465                 4.0                      3.0   \n",
              "546210     38.1334451267846                 1.0                      2.0   \n",
              "546211     49.7833058735661                 2.0                      3.0   \n",
              "\n",
              "       ESTU_ESTADOINVESTIGACION                        ESTU_GENERACION-E  \n",
              "0                      PUBLICAR                                       NO  \n",
              "1                      PUBLICAR                                       NO  \n",
              "2                      PUBLICAR                 GENERACION E - GRATUIDAD  \n",
              "3                      PUBLICAR                 GENERACION E - GRATUIDAD  \n",
              "4                      PUBLICAR                                       NO  \n",
              "...                         ...                                      ...  \n",
              "546207                 PUBLICAR       GENERACION E - EXCELENCIA NACIONAL  \n",
              "546208                 PUBLICAR       GENERACION E - EXCELENCIA NACIONAL  \n",
              "546209                 PUBLICAR  GENERACION E - EXCELENCIA DEPARTAMENTAL  \n",
              "546210                 PUBLICAR                 GENERACION E - GRATUIDAD  \n",
              "546211                 PUBLICAR       GENERACION E - EXCELENCIA NACIONAL  \n",
              "\n",
              "[546212 rows x 82 columns]"
            ],
            "text/html": [
              "\n",
              "  <div id=\"df-a9130a52-9aaa-478f-b96f-bcbcd37a1aa9\" class=\"colab-df-container\">\n",
              "    <div>\n",
              "<style scoped>\n",
              "    .dataframe tbody tr th:only-of-type {\n",
              "        vertical-align: middle;\n",
              "    }\n",
              "\n",
              "    .dataframe tbody tr th {\n",
              "        vertical-align: top;\n",
              "    }\n",
              "\n",
              "    .dataframe thead th {\n",
              "        text-align: right;\n",
              "    }\n",
              "</style>\n",
              "<table border=\"1\" class=\"dataframe\">\n",
              "  <thead>\n",
              "    <tr style=\"text-align: right;\">\n",
              "      <th></th>\n",
              "      <th>ESTU_TIPODOCUMENTO</th>\n",
              "      <th>ESTU_NACIONALIDAD</th>\n",
              "      <th>ESTU_GENERO</th>\n",
              "      <th>ESTU_FECHANACIMIENTO</th>\n",
              "      <th>PERIODO</th>\n",
              "      <th>ESTU_CONSECUTIVO</th>\n",
              "      <th>ESTU_ESTUDIANTE</th>\n",
              "      <th>ESTU_TIENEETNIA</th>\n",
              "      <th>ESTU_PAIS_RESIDE</th>\n",
              "      <th>ESTU_ETNIA</th>\n",
              "      <th>...</th>\n",
              "      <th>PUNT_INGLES</th>\n",
              "      <th>PERCENTIL_INGLES</th>\n",
              "      <th>DESEMP_INGLES</th>\n",
              "      <th>PUNT_GLOBAL</th>\n",
              "      <th>PERCENTIL_GLOBAL</th>\n",
              "      <th>ESTU_INSE_INDIVIDUAL</th>\n",
              "      <th>ESTU_NSE_INDIVIDUAL</th>\n",
              "      <th>ESTU_NSE_ESTABLECIMIENTO</th>\n",
              "      <th>ESTU_ESTADOINVESTIGACION</th>\n",
              "      <th>ESTU_GENERACION-E</th>\n",
              "    </tr>\n",
              "  </thead>\n",
              "  <tbody>\n",
              "    <tr>\n",
              "      <th>0</th>\n",
              "      <td>TI</td>\n",
              "      <td>COLOMBIA</td>\n",
              "      <td>M</td>\n",
              "      <td>02/18/2002 12:00:00 AM</td>\n",
              "      <td>20194</td>\n",
              "      <td>SB11201940031558</td>\n",
              "      <td>ESTUDIANTE</td>\n",
              "      <td>No</td>\n",
              "      <td>COLOMBIA</td>\n",
              "      <td>-</td>\n",
              "      <td>...</td>\n",
              "      <td>54.0</td>\n",
              "      <td>67</td>\n",
              "      <td>A1</td>\n",
              "      <td>208</td>\n",
              "      <td>25</td>\n",
              "      <td>50.9421557404314</td>\n",
              "      <td>2.0</td>\n",
              "      <td>2.0</td>\n",
              "      <td>PUBLICAR</td>\n",
              "      <td>NO</td>\n",
              "    </tr>\n",
              "    <tr>\n",
              "      <th>1</th>\n",
              "      <td>TI</td>\n",
              "      <td>COLOMBIA</td>\n",
              "      <td>M</td>\n",
              "      <td>06/28/2003 12:00:00 AM</td>\n",
              "      <td>20194</td>\n",
              "      <td>SB11201940303339</td>\n",
              "      <td>ESTUDIANTE</td>\n",
              "      <td>No</td>\n",
              "      <td>COLOMBIA</td>\n",
              "      <td>-</td>\n",
              "      <td>...</td>\n",
              "      <td>63.0</td>\n",
              "      <td>88</td>\n",
              "      <td>A2</td>\n",
              "      <td>299</td>\n",
              "      <td>83</td>\n",
              "      <td>59.767864431576</td>\n",
              "      <td>3.0</td>\n",
              "      <td>4.0</td>\n",
              "      <td>PUBLICAR</td>\n",
              "      <td>NO</td>\n",
              "    </tr>\n",
              "    <tr>\n",
              "      <th>2</th>\n",
              "      <td>TI</td>\n",
              "      <td>COLOMBIA</td>\n",
              "      <td>M</td>\n",
              "      <td>06/02/2001 12:00:00 AM</td>\n",
              "      <td>20194</td>\n",
              "      <td>SB11201940255017</td>\n",
              "      <td>ESTUDIANTE</td>\n",
              "      <td>No</td>\n",
              "      <td>COLOMBIA</td>\n",
              "      <td>-</td>\n",
              "      <td>...</td>\n",
              "      <td>64.0</td>\n",
              "      <td>89</td>\n",
              "      <td>A2</td>\n",
              "      <td>299</td>\n",
              "      <td>84</td>\n",
              "      <td>50.7642383644749</td>\n",
              "      <td>2.0</td>\n",
              "      <td>3.0</td>\n",
              "      <td>PUBLICAR</td>\n",
              "      <td>GENERACION E - GRATUIDAD</td>\n",
              "    </tr>\n",
              "    <tr>\n",
              "      <th>3</th>\n",
              "      <td>TI</td>\n",
              "      <td>COLOMBIA</td>\n",
              "      <td>M</td>\n",
              "      <td>04/26/2002 12:00:00 AM</td>\n",
              "      <td>20194</td>\n",
              "      <td>SB11201940154799</td>\n",
              "      <td>ESTUDIANTE</td>\n",
              "      <td>Si</td>\n",
              "      <td>COLOMBIA</td>\n",
              "      <td>Ninguno</td>\n",
              "      <td>...</td>\n",
              "      <td>53.0</td>\n",
              "      <td>67</td>\n",
              "      <td>A1</td>\n",
              "      <td>309</td>\n",
              "      <td>88</td>\n",
              "      <td>45.7791353123516</td>\n",
              "      <td>2.0</td>\n",
              "      <td>3.0</td>\n",
              "      <td>PUBLICAR</td>\n",
              "      <td>GENERACION E - GRATUIDAD</td>\n",
              "    </tr>\n",
              "    <tr>\n",
              "      <th>4</th>\n",
              "      <td>TI</td>\n",
              "      <td>COLOMBIA</td>\n",
              "      <td>M</td>\n",
              "      <td>02/05/2002 12:00:00 AM</td>\n",
              "      <td>20194</td>\n",
              "      <td>SB11201940280831</td>\n",
              "      <td>ESTUDIANTE</td>\n",
              "      <td>No</td>\n",
              "      <td>COLOMBIA</td>\n",
              "      <td>-</td>\n",
              "      <td>...</td>\n",
              "      <td>52.0</td>\n",
              "      <td>63</td>\n",
              "      <td>A1</td>\n",
              "      <td>288</td>\n",
              "      <td>78</td>\n",
              "      <td>52.9109464277177</td>\n",
              "      <td>3.0</td>\n",
              "      <td>3.0</td>\n",
              "      <td>PUBLICAR</td>\n",
              "      <td>NO</td>\n",
              "    </tr>\n",
              "    <tr>\n",
              "      <th>...</th>\n",
              "      <td>...</td>\n",
              "      <td>...</td>\n",
              "      <td>...</td>\n",
              "      <td>...</td>\n",
              "      <td>...</td>\n",
              "      <td>...</td>\n",
              "      <td>...</td>\n",
              "      <td>...</td>\n",
              "      <td>...</td>\n",
              "      <td>...</td>\n",
              "      <td>...</td>\n",
              "      <td>...</td>\n",
              "      <td>...</td>\n",
              "      <td>...</td>\n",
              "      <td>...</td>\n",
              "      <td>...</td>\n",
              "      <td>...</td>\n",
              "      <td>...</td>\n",
              "      <td>...</td>\n",
              "      <td>...</td>\n",
              "      <td>...</td>\n",
              "    </tr>\n",
              "    <tr>\n",
              "      <th>546207</th>\n",
              "      <td>CC</td>\n",
              "      <td>COLOMBIA</td>\n",
              "      <td>M</td>\n",
              "      <td>02/25/1999 12:00:00 AM</td>\n",
              "      <td>20194</td>\n",
              "      <td>SB11201940195862</td>\n",
              "      <td>ESTUDIANTE</td>\n",
              "      <td>No</td>\n",
              "      <td>COLOMBIA</td>\n",
              "      <td>-</td>\n",
              "      <td>...</td>\n",
              "      <td>58.0</td>\n",
              "      <td>79</td>\n",
              "      <td>A2</td>\n",
              "      <td>360</td>\n",
              "      <td>99</td>\n",
              "      <td>47.5807720132296</td>\n",
              "      <td>2.0</td>\n",
              "      <td>2.0</td>\n",
              "      <td>PUBLICAR</td>\n",
              "      <td>GENERACION E - EXCELENCIA NACIONAL</td>\n",
              "    </tr>\n",
              "    <tr>\n",
              "      <th>546208</th>\n",
              "      <td>TI</td>\n",
              "      <td>COLOMBIA</td>\n",
              "      <td>M</td>\n",
              "      <td>10/14/2002 12:00:00 AM</td>\n",
              "      <td>20194</td>\n",
              "      <td>SB11201940253002</td>\n",
              "      <td>ESTUDIANTE</td>\n",
              "      <td>No</td>\n",
              "      <td>COLOMBIA</td>\n",
              "      <td>-</td>\n",
              "      <td>...</td>\n",
              "      <td>74.0</td>\n",
              "      <td>97</td>\n",
              "      <td>B1</td>\n",
              "      <td>360</td>\n",
              "      <td>99</td>\n",
              "      <td>57.406418472062</td>\n",
              "      <td>3.0</td>\n",
              "      <td>4.0</td>\n",
              "      <td>PUBLICAR</td>\n",
              "      <td>GENERACION E - EXCELENCIA NACIONAL</td>\n",
              "    </tr>\n",
              "    <tr>\n",
              "      <th>546209</th>\n",
              "      <td>TI</td>\n",
              "      <td>COLOMBIA</td>\n",
              "      <td>M</td>\n",
              "      <td>11/22/2002 12:00:00 AM</td>\n",
              "      <td>20194</td>\n",
              "      <td>SB11201940364767</td>\n",
              "      <td>ESTUDIANTE</td>\n",
              "      <td>No</td>\n",
              "      <td>COLOMBIA</td>\n",
              "      <td>-</td>\n",
              "      <td>...</td>\n",
              "      <td>72.0</td>\n",
              "      <td>96</td>\n",
              "      <td>B1</td>\n",
              "      <td>377</td>\n",
              "      <td>100</td>\n",
              "      <td>71.2254308010465</td>\n",
              "      <td>4.0</td>\n",
              "      <td>3.0</td>\n",
              "      <td>PUBLICAR</td>\n",
              "      <td>GENERACION E - EXCELENCIA DEPARTAMENTAL</td>\n",
              "    </tr>\n",
              "    <tr>\n",
              "      <th>546210</th>\n",
              "      <td>TI</td>\n",
              "      <td>COLOMBIA</td>\n",
              "      <td>M</td>\n",
              "      <td>11/10/2002 12:00:00 AM</td>\n",
              "      <td>20194</td>\n",
              "      <td>SB11201940210026</td>\n",
              "      <td>ESTUDIANTE</td>\n",
              "      <td>No</td>\n",
              "      <td>COLOMBIA</td>\n",
              "      <td>-</td>\n",
              "      <td>...</td>\n",
              "      <td>46.0</td>\n",
              "      <td>45</td>\n",
              "      <td>A-</td>\n",
              "      <td>278</td>\n",
              "      <td>73</td>\n",
              "      <td>38.1334451267846</td>\n",
              "      <td>1.0</td>\n",
              "      <td>2.0</td>\n",
              "      <td>PUBLICAR</td>\n",
              "      <td>GENERACION E - GRATUIDAD</td>\n",
              "    </tr>\n",
              "    <tr>\n",
              "      <th>546211</th>\n",
              "      <td>TI</td>\n",
              "      <td>COLOMBIA</td>\n",
              "      <td>M</td>\n",
              "      <td>06/02/2002 12:00:00 AM</td>\n",
              "      <td>20194</td>\n",
              "      <td>SB11201940074679</td>\n",
              "      <td>ESTUDIANTE</td>\n",
              "      <td>No</td>\n",
              "      <td>COLOMBIA</td>\n",
              "      <td>-</td>\n",
              "      <td>...</td>\n",
              "      <td>74.0</td>\n",
              "      <td>97</td>\n",
              "      <td>B1</td>\n",
              "      <td>365</td>\n",
              "      <td>99</td>\n",
              "      <td>49.7833058735661</td>\n",
              "      <td>2.0</td>\n",
              "      <td>3.0</td>\n",
              "      <td>PUBLICAR</td>\n",
              "      <td>GENERACION E - EXCELENCIA NACIONAL</td>\n",
              "    </tr>\n",
              "  </tbody>\n",
              "</table>\n",
              "<p>546212 rows × 82 columns</p>\n",
              "</div>\n",
              "    <div class=\"colab-df-buttons\">\n",
              "\n",
              "  <div class=\"colab-df-container\">\n",
              "    <button class=\"colab-df-convert\" onclick=\"convertToInteractive('df-a9130a52-9aaa-478f-b96f-bcbcd37a1aa9')\"\n",
              "            title=\"Convert this dataframe to an interactive table.\"\n",
              "            style=\"display:none;\">\n",
              "\n",
              "  <svg xmlns=\"http://www.w3.org/2000/svg\" height=\"24px\" viewBox=\"0 -960 960 960\">\n",
              "    <path d=\"M120-120v-720h720v720H120Zm60-500h600v-160H180v160Zm220 220h160v-160H400v160Zm0 220h160v-160H400v160ZM180-400h160v-160H180v160Zm440 0h160v-160H620v160ZM180-180h160v-160H180v160Zm440 0h160v-160H620v160Z\"/>\n",
              "  </svg>\n",
              "    </button>\n",
              "\n",
              "  <style>\n",
              "    .colab-df-container {\n",
              "      display:flex;\n",
              "      gap: 12px;\n",
              "    }\n",
              "\n",
              "    .colab-df-convert {\n",
              "      background-color: #E8F0FE;\n",
              "      border: none;\n",
              "      border-radius: 50%;\n",
              "      cursor: pointer;\n",
              "      display: none;\n",
              "      fill: #1967D2;\n",
              "      height: 32px;\n",
              "      padding: 0 0 0 0;\n",
              "      width: 32px;\n",
              "    }\n",
              "\n",
              "    .colab-df-convert:hover {\n",
              "      background-color: #E2EBFA;\n",
              "      box-shadow: 0px 1px 2px rgba(60, 64, 67, 0.3), 0px 1px 3px 1px rgba(60, 64, 67, 0.15);\n",
              "      fill: #174EA6;\n",
              "    }\n",
              "\n",
              "    .colab-df-buttons div {\n",
              "      margin-bottom: 4px;\n",
              "    }\n",
              "\n",
              "    [theme=dark] .colab-df-convert {\n",
              "      background-color: #3B4455;\n",
              "      fill: #D2E3FC;\n",
              "    }\n",
              "\n",
              "    [theme=dark] .colab-df-convert:hover {\n",
              "      background-color: #434B5C;\n",
              "      box-shadow: 0px 1px 3px 1px rgba(0, 0, 0, 0.15);\n",
              "      filter: drop-shadow(0px 1px 2px rgba(0, 0, 0, 0.3));\n",
              "      fill: #FFFFFF;\n",
              "    }\n",
              "  </style>\n",
              "\n",
              "    <script>\n",
              "      const buttonEl =\n",
              "        document.querySelector('#df-a9130a52-9aaa-478f-b96f-bcbcd37a1aa9 button.colab-df-convert');\n",
              "      buttonEl.style.display =\n",
              "        google.colab.kernel.accessAllowed ? 'block' : 'none';\n",
              "\n",
              "      async function convertToInteractive(key) {\n",
              "        const element = document.querySelector('#df-a9130a52-9aaa-478f-b96f-bcbcd37a1aa9');\n",
              "        const dataTable =\n",
              "          await google.colab.kernel.invokeFunction('convertToInteractive',\n",
              "                                                    [key], {});\n",
              "        if (!dataTable) return;\n",
              "\n",
              "        const docLinkHtml = 'Like what you see? Visit the ' +\n",
              "          '<a target=\"_blank\" href=https://colab.research.google.com/notebooks/data_table.ipynb>data table notebook</a>'\n",
              "          + ' to learn more about interactive tables.';\n",
              "        element.innerHTML = '';\n",
              "        dataTable['output_type'] = 'display_data';\n",
              "        await google.colab.output.renderOutput(dataTable, element);\n",
              "        const docLink = document.createElement('div');\n",
              "        docLink.innerHTML = docLinkHtml;\n",
              "        element.appendChild(docLink);\n",
              "      }\n",
              "    </script>\n",
              "  </div>\n",
              "\n",
              "\n",
              "<div id=\"df-06149663-ffb4-4f59-8438-2e6cd34daa00\">\n",
              "  <button class=\"colab-df-quickchart\" onclick=\"quickchart('df-06149663-ffb4-4f59-8438-2e6cd34daa00')\"\n",
              "            title=\"Suggest charts\"\n",
              "            style=\"display:none;\">\n",
              "\n",
              "<svg xmlns=\"http://www.w3.org/2000/svg\" height=\"24px\"viewBox=\"0 0 24 24\"\n",
              "     width=\"24px\">\n",
              "    <g>\n",
              "        <path d=\"M19 3H5c-1.1 0-2 .9-2 2v14c0 1.1.9 2 2 2h14c1.1 0 2-.9 2-2V5c0-1.1-.9-2-2-2zM9 17H7v-7h2v7zm4 0h-2V7h2v10zm4 0h-2v-4h2v4z\"/>\n",
              "    </g>\n",
              "</svg>\n",
              "  </button>\n",
              "\n",
              "<style>\n",
              "  .colab-df-quickchart {\n",
              "      --bg-color: #E8F0FE;\n",
              "      --fill-color: #1967D2;\n",
              "      --hover-bg-color: #E2EBFA;\n",
              "      --hover-fill-color: #174EA6;\n",
              "      --disabled-fill-color: #AAA;\n",
              "      --disabled-bg-color: #DDD;\n",
              "  }\n",
              "\n",
              "  [theme=dark] .colab-df-quickchart {\n",
              "      --bg-color: #3B4455;\n",
              "      --fill-color: #D2E3FC;\n",
              "      --hover-bg-color: #434B5C;\n",
              "      --hover-fill-color: #FFFFFF;\n",
              "      --disabled-bg-color: #3B4455;\n",
              "      --disabled-fill-color: #666;\n",
              "  }\n",
              "\n",
              "  .colab-df-quickchart {\n",
              "    background-color: var(--bg-color);\n",
              "    border: none;\n",
              "    border-radius: 50%;\n",
              "    cursor: pointer;\n",
              "    display: none;\n",
              "    fill: var(--fill-color);\n",
              "    height: 32px;\n",
              "    padding: 0;\n",
              "    width: 32px;\n",
              "  }\n",
              "\n",
              "  .colab-df-quickchart:hover {\n",
              "    background-color: var(--hover-bg-color);\n",
              "    box-shadow: 0 1px 2px rgba(60, 64, 67, 0.3), 0 1px 3px 1px rgba(60, 64, 67, 0.15);\n",
              "    fill: var(--button-hover-fill-color);\n",
              "  }\n",
              "\n",
              "  .colab-df-quickchart-complete:disabled,\n",
              "  .colab-df-quickchart-complete:disabled:hover {\n",
              "    background-color: var(--disabled-bg-color);\n",
              "    fill: var(--disabled-fill-color);\n",
              "    box-shadow: none;\n",
              "  }\n",
              "\n",
              "  .colab-df-spinner {\n",
              "    border: 2px solid var(--fill-color);\n",
              "    border-color: transparent;\n",
              "    border-bottom-color: var(--fill-color);\n",
              "    animation:\n",
              "      spin 1s steps(1) infinite;\n",
              "  }\n",
              "\n",
              "  @keyframes spin {\n",
              "    0% {\n",
              "      border-color: transparent;\n",
              "      border-bottom-color: var(--fill-color);\n",
              "      border-left-color: var(--fill-color);\n",
              "    }\n",
              "    20% {\n",
              "      border-color: transparent;\n",
              "      border-left-color: var(--fill-color);\n",
              "      border-top-color: var(--fill-color);\n",
              "    }\n",
              "    30% {\n",
              "      border-color: transparent;\n",
              "      border-left-color: var(--fill-color);\n",
              "      border-top-color: var(--fill-color);\n",
              "      border-right-color: var(--fill-color);\n",
              "    }\n",
              "    40% {\n",
              "      border-color: transparent;\n",
              "      border-right-color: var(--fill-color);\n",
              "      border-top-color: var(--fill-color);\n",
              "    }\n",
              "    60% {\n",
              "      border-color: transparent;\n",
              "      border-right-color: var(--fill-color);\n",
              "    }\n",
              "    80% {\n",
              "      border-color: transparent;\n",
              "      border-right-color: var(--fill-color);\n",
              "      border-bottom-color: var(--fill-color);\n",
              "    }\n",
              "    90% {\n",
              "      border-color: transparent;\n",
              "      border-bottom-color: var(--fill-color);\n",
              "    }\n",
              "  }\n",
              "</style>\n",
              "\n",
              "  <script>\n",
              "    async function quickchart(key) {\n",
              "      const quickchartButtonEl =\n",
              "        document.querySelector('#' + key + ' button');\n",
              "      quickchartButtonEl.disabled = true;  // To prevent multiple clicks.\n",
              "      quickchartButtonEl.classList.add('colab-df-spinner');\n",
              "      try {\n",
              "        const charts = await google.colab.kernel.invokeFunction(\n",
              "            'suggestCharts', [key], {});\n",
              "      } catch (error) {\n",
              "        console.error('Error during call to suggestCharts:', error);\n",
              "      }\n",
              "      quickchartButtonEl.classList.remove('colab-df-spinner');\n",
              "      quickchartButtonEl.classList.add('colab-df-quickchart-complete');\n",
              "    }\n",
              "    (() => {\n",
              "      let quickchartButtonEl =\n",
              "        document.querySelector('#df-06149663-ffb4-4f59-8438-2e6cd34daa00 button');\n",
              "      quickchartButtonEl.style.display =\n",
              "        google.colab.kernel.accessAllowed ? 'block' : 'none';\n",
              "    })();\n",
              "  </script>\n",
              "</div>\n",
              "\n",
              "  <div id=\"id_673c86a3-2f80-4625-a170-670065941b8e\">\n",
              "    <style>\n",
              "      .colab-df-generate {\n",
              "        background-color: #E8F0FE;\n",
              "        border: none;\n",
              "        border-radius: 50%;\n",
              "        cursor: pointer;\n",
              "        display: none;\n",
              "        fill: #1967D2;\n",
              "        height: 32px;\n",
              "        padding: 0 0 0 0;\n",
              "        width: 32px;\n",
              "      }\n",
              "\n",
              "      .colab-df-generate:hover {\n",
              "        background-color: #E2EBFA;\n",
              "        box-shadow: 0px 1px 2px rgba(60, 64, 67, 0.3), 0px 1px 3px 1px rgba(60, 64, 67, 0.15);\n",
              "        fill: #174EA6;\n",
              "      }\n",
              "\n",
              "      [theme=dark] .colab-df-generate {\n",
              "        background-color: #3B4455;\n",
              "        fill: #D2E3FC;\n",
              "      }\n",
              "\n",
              "      [theme=dark] .colab-df-generate:hover {\n",
              "        background-color: #434B5C;\n",
              "        box-shadow: 0px 1px 3px 1px rgba(0, 0, 0, 0.15);\n",
              "        filter: drop-shadow(0px 1px 2px rgba(0, 0, 0, 0.3));\n",
              "        fill: #FFFFFF;\n",
              "      }\n",
              "    </style>\n",
              "    <button class=\"colab-df-generate\" onclick=\"generateWithVariable('df_resultados')\"\n",
              "            title=\"Generate code using this dataframe.\"\n",
              "            style=\"display:none;\">\n",
              "\n",
              "  <svg xmlns=\"http://www.w3.org/2000/svg\" height=\"24px\"viewBox=\"0 0 24 24\"\n",
              "       width=\"24px\">\n",
              "    <path d=\"M7,19H8.4L18.45,9,17,7.55,7,17.6ZM5,21V16.75L18.45,3.32a2,2,0,0,1,2.83,0l1.4,1.43a1.91,1.91,0,0,1,.58,1.4,1.91,1.91,0,0,1-.58,1.4L9.25,21ZM18.45,9,17,7.55Zm-12,3A5.31,5.31,0,0,0,4.9,8.1,5.31,5.31,0,0,0,1,6.5,5.31,5.31,0,0,0,4.9,4.9,5.31,5.31,0,0,0,6.5,1,5.31,5.31,0,0,0,8.1,4.9,5.31,5.31,0,0,0,12,6.5,5.46,5.46,0,0,0,6.5,12Z\"/>\n",
              "  </svg>\n",
              "    </button>\n",
              "    <script>\n",
              "      (() => {\n",
              "      const buttonEl =\n",
              "        document.querySelector('#id_673c86a3-2f80-4625-a170-670065941b8e button.colab-df-generate');\n",
              "      buttonEl.style.display =\n",
              "        google.colab.kernel.accessAllowed ? 'block' : 'none';\n",
              "\n",
              "      buttonEl.onclick = () => {\n",
              "        google.colab.notebook.generateWithVariable('df_resultados');\n",
              "      }\n",
              "      })();\n",
              "    </script>\n",
              "  </div>\n",
              "\n",
              "    </div>\n",
              "  </div>\n"
            ],
            "application/vnd.google.colaboratory.intrinsic+json": {
              "type": "dataframe",
              "variable_name": "df_resultados"
            }
          },
          "metadata": {}
        }
      ]
    },
    {
      "cell_type": "code",
      "source": [
        "# Consulta y validación de la cantidad de filas y columnas del dataframe\n",
        "num_rows, num_cols = df_resultados.shape\n",
        "\n",
        "# Imprimir mensaje y valores de salidas del dataframe\n",
        "print(f'El DataFrame, tiene {num_rows} filas y {num_cols} columnas.')"
      ],
      "metadata": {
        "colab": {
          "base_uri": "https://localhost:8080/"
        },
        "id": "gZCd09iPczoJ",
        "outputId": "c7cba563-223e-4b27-c322-073c65e42d5d"
      },
      "execution_count": 4,
      "outputs": [
        {
          "output_type": "stream",
          "name": "stdout",
          "text": [
            "El DataFrame, tiene 546212 filas y 82 columnas.\n"
          ]
        }
      ]
    },
    {
      "cell_type": "markdown",
      "source": [
        "# Evaluación de calidad de los datos"
      ],
      "metadata": {
        "id": "f3fkljdh0dby"
      }
    },
    {
      "cell_type": "code",
      "source": [
        "# Vista de los primeros 5 registros.\n",
        "df_resultados.head(5)"
      ],
      "metadata": {
        "colab": {
          "base_uri": "https://localhost:8080/",
          "height": 307
        },
        "id": "Q0MgW1tWYhsy",
        "outputId": "257333dd-d9bb-4628-a9f9-eb961aa43ef6"
      },
      "execution_count": 5,
      "outputs": [
        {
          "output_type": "execute_result",
          "data": {
            "text/plain": [
              "  ESTU_TIPODOCUMENTO ESTU_NACIONALIDAD ESTU_GENERO    ESTU_FECHANACIMIENTO  \\\n",
              "0                 TI          COLOMBIA           M  02/18/2002 12:00:00 AM   \n",
              "1                 TI          COLOMBIA           M  06/28/2003 12:00:00 AM   \n",
              "2                 TI          COLOMBIA           M  06/02/2001 12:00:00 AM   \n",
              "3                 TI          COLOMBIA           M  04/26/2002 12:00:00 AM   \n",
              "4                 TI          COLOMBIA           M  02/05/2002 12:00:00 AM   \n",
              "\n",
              "   PERIODO  ESTU_CONSECUTIVO ESTU_ESTUDIANTE ESTU_TIENEETNIA ESTU_PAIS_RESIDE  \\\n",
              "0    20194  SB11201940031558      ESTUDIANTE              No         COLOMBIA   \n",
              "1    20194  SB11201940303339      ESTUDIANTE              No         COLOMBIA   \n",
              "2    20194  SB11201940255017      ESTUDIANTE              No         COLOMBIA   \n",
              "3    20194  SB11201940154799      ESTUDIANTE              Si         COLOMBIA   \n",
              "4    20194  SB11201940280831      ESTUDIANTE              No         COLOMBIA   \n",
              "\n",
              "  ESTU_ETNIA  ... PUNT_INGLES PERCENTIL_INGLES DESEMP_INGLES PUNT_GLOBAL  \\\n",
              "0          -  ...        54.0               67            A1         208   \n",
              "1          -  ...        63.0               88            A2         299   \n",
              "2          -  ...        64.0               89            A2         299   \n",
              "3    Ninguno  ...        53.0               67            A1         309   \n",
              "4          -  ...        52.0               63            A1         288   \n",
              "\n",
              "  PERCENTIL_GLOBAL ESTU_INSE_INDIVIDUAL ESTU_NSE_INDIVIDUAL  \\\n",
              "0               25     50.9421557404314                 2.0   \n",
              "1               83      59.767864431576                 3.0   \n",
              "2               84     50.7642383644749                 2.0   \n",
              "3               88     45.7791353123516                 2.0   \n",
              "4               78     52.9109464277177                 3.0   \n",
              "\n",
              "  ESTU_NSE_ESTABLECIMIENTO ESTU_ESTADOINVESTIGACION         ESTU_GENERACION-E  \n",
              "0                      2.0                 PUBLICAR                        NO  \n",
              "1                      4.0                 PUBLICAR                        NO  \n",
              "2                      3.0                 PUBLICAR  GENERACION E - GRATUIDAD  \n",
              "3                      3.0                 PUBLICAR  GENERACION E - GRATUIDAD  \n",
              "4                      3.0                 PUBLICAR                        NO  \n",
              "\n",
              "[5 rows x 82 columns]"
            ],
            "text/html": [
              "\n",
              "  <div id=\"df-488110a7-eef2-4b2a-965c-37d19bfc3802\" class=\"colab-df-container\">\n",
              "    <div>\n",
              "<style scoped>\n",
              "    .dataframe tbody tr th:only-of-type {\n",
              "        vertical-align: middle;\n",
              "    }\n",
              "\n",
              "    .dataframe tbody tr th {\n",
              "        vertical-align: top;\n",
              "    }\n",
              "\n",
              "    .dataframe thead th {\n",
              "        text-align: right;\n",
              "    }\n",
              "</style>\n",
              "<table border=\"1\" class=\"dataframe\">\n",
              "  <thead>\n",
              "    <tr style=\"text-align: right;\">\n",
              "      <th></th>\n",
              "      <th>ESTU_TIPODOCUMENTO</th>\n",
              "      <th>ESTU_NACIONALIDAD</th>\n",
              "      <th>ESTU_GENERO</th>\n",
              "      <th>ESTU_FECHANACIMIENTO</th>\n",
              "      <th>PERIODO</th>\n",
              "      <th>ESTU_CONSECUTIVO</th>\n",
              "      <th>ESTU_ESTUDIANTE</th>\n",
              "      <th>ESTU_TIENEETNIA</th>\n",
              "      <th>ESTU_PAIS_RESIDE</th>\n",
              "      <th>ESTU_ETNIA</th>\n",
              "      <th>...</th>\n",
              "      <th>PUNT_INGLES</th>\n",
              "      <th>PERCENTIL_INGLES</th>\n",
              "      <th>DESEMP_INGLES</th>\n",
              "      <th>PUNT_GLOBAL</th>\n",
              "      <th>PERCENTIL_GLOBAL</th>\n",
              "      <th>ESTU_INSE_INDIVIDUAL</th>\n",
              "      <th>ESTU_NSE_INDIVIDUAL</th>\n",
              "      <th>ESTU_NSE_ESTABLECIMIENTO</th>\n",
              "      <th>ESTU_ESTADOINVESTIGACION</th>\n",
              "      <th>ESTU_GENERACION-E</th>\n",
              "    </tr>\n",
              "  </thead>\n",
              "  <tbody>\n",
              "    <tr>\n",
              "      <th>0</th>\n",
              "      <td>TI</td>\n",
              "      <td>COLOMBIA</td>\n",
              "      <td>M</td>\n",
              "      <td>02/18/2002 12:00:00 AM</td>\n",
              "      <td>20194</td>\n",
              "      <td>SB11201940031558</td>\n",
              "      <td>ESTUDIANTE</td>\n",
              "      <td>No</td>\n",
              "      <td>COLOMBIA</td>\n",
              "      <td>-</td>\n",
              "      <td>...</td>\n",
              "      <td>54.0</td>\n",
              "      <td>67</td>\n",
              "      <td>A1</td>\n",
              "      <td>208</td>\n",
              "      <td>25</td>\n",
              "      <td>50.9421557404314</td>\n",
              "      <td>2.0</td>\n",
              "      <td>2.0</td>\n",
              "      <td>PUBLICAR</td>\n",
              "      <td>NO</td>\n",
              "    </tr>\n",
              "    <tr>\n",
              "      <th>1</th>\n",
              "      <td>TI</td>\n",
              "      <td>COLOMBIA</td>\n",
              "      <td>M</td>\n",
              "      <td>06/28/2003 12:00:00 AM</td>\n",
              "      <td>20194</td>\n",
              "      <td>SB11201940303339</td>\n",
              "      <td>ESTUDIANTE</td>\n",
              "      <td>No</td>\n",
              "      <td>COLOMBIA</td>\n",
              "      <td>-</td>\n",
              "      <td>...</td>\n",
              "      <td>63.0</td>\n",
              "      <td>88</td>\n",
              "      <td>A2</td>\n",
              "      <td>299</td>\n",
              "      <td>83</td>\n",
              "      <td>59.767864431576</td>\n",
              "      <td>3.0</td>\n",
              "      <td>4.0</td>\n",
              "      <td>PUBLICAR</td>\n",
              "      <td>NO</td>\n",
              "    </tr>\n",
              "    <tr>\n",
              "      <th>2</th>\n",
              "      <td>TI</td>\n",
              "      <td>COLOMBIA</td>\n",
              "      <td>M</td>\n",
              "      <td>06/02/2001 12:00:00 AM</td>\n",
              "      <td>20194</td>\n",
              "      <td>SB11201940255017</td>\n",
              "      <td>ESTUDIANTE</td>\n",
              "      <td>No</td>\n",
              "      <td>COLOMBIA</td>\n",
              "      <td>-</td>\n",
              "      <td>...</td>\n",
              "      <td>64.0</td>\n",
              "      <td>89</td>\n",
              "      <td>A2</td>\n",
              "      <td>299</td>\n",
              "      <td>84</td>\n",
              "      <td>50.7642383644749</td>\n",
              "      <td>2.0</td>\n",
              "      <td>3.0</td>\n",
              "      <td>PUBLICAR</td>\n",
              "      <td>GENERACION E - GRATUIDAD</td>\n",
              "    </tr>\n",
              "    <tr>\n",
              "      <th>3</th>\n",
              "      <td>TI</td>\n",
              "      <td>COLOMBIA</td>\n",
              "      <td>M</td>\n",
              "      <td>04/26/2002 12:00:00 AM</td>\n",
              "      <td>20194</td>\n",
              "      <td>SB11201940154799</td>\n",
              "      <td>ESTUDIANTE</td>\n",
              "      <td>Si</td>\n",
              "      <td>COLOMBIA</td>\n",
              "      <td>Ninguno</td>\n",
              "      <td>...</td>\n",
              "      <td>53.0</td>\n",
              "      <td>67</td>\n",
              "      <td>A1</td>\n",
              "      <td>309</td>\n",
              "      <td>88</td>\n",
              "      <td>45.7791353123516</td>\n",
              "      <td>2.0</td>\n",
              "      <td>3.0</td>\n",
              "      <td>PUBLICAR</td>\n",
              "      <td>GENERACION E - GRATUIDAD</td>\n",
              "    </tr>\n",
              "    <tr>\n",
              "      <th>4</th>\n",
              "      <td>TI</td>\n",
              "      <td>COLOMBIA</td>\n",
              "      <td>M</td>\n",
              "      <td>02/05/2002 12:00:00 AM</td>\n",
              "      <td>20194</td>\n",
              "      <td>SB11201940280831</td>\n",
              "      <td>ESTUDIANTE</td>\n",
              "      <td>No</td>\n",
              "      <td>COLOMBIA</td>\n",
              "      <td>-</td>\n",
              "      <td>...</td>\n",
              "      <td>52.0</td>\n",
              "      <td>63</td>\n",
              "      <td>A1</td>\n",
              "      <td>288</td>\n",
              "      <td>78</td>\n",
              "      <td>52.9109464277177</td>\n",
              "      <td>3.0</td>\n",
              "      <td>3.0</td>\n",
              "      <td>PUBLICAR</td>\n",
              "      <td>NO</td>\n",
              "    </tr>\n",
              "  </tbody>\n",
              "</table>\n",
              "<p>5 rows × 82 columns</p>\n",
              "</div>\n",
              "    <div class=\"colab-df-buttons\">\n",
              "\n",
              "  <div class=\"colab-df-container\">\n",
              "    <button class=\"colab-df-convert\" onclick=\"convertToInteractive('df-488110a7-eef2-4b2a-965c-37d19bfc3802')\"\n",
              "            title=\"Convert this dataframe to an interactive table.\"\n",
              "            style=\"display:none;\">\n",
              "\n",
              "  <svg xmlns=\"http://www.w3.org/2000/svg\" height=\"24px\" viewBox=\"0 -960 960 960\">\n",
              "    <path d=\"M120-120v-720h720v720H120Zm60-500h600v-160H180v160Zm220 220h160v-160H400v160Zm0 220h160v-160H400v160ZM180-400h160v-160H180v160Zm440 0h160v-160H620v160ZM180-180h160v-160H180v160Zm440 0h160v-160H620v160Z\"/>\n",
              "  </svg>\n",
              "    </button>\n",
              "\n",
              "  <style>\n",
              "    .colab-df-container {\n",
              "      display:flex;\n",
              "      gap: 12px;\n",
              "    }\n",
              "\n",
              "    .colab-df-convert {\n",
              "      background-color: #E8F0FE;\n",
              "      border: none;\n",
              "      border-radius: 50%;\n",
              "      cursor: pointer;\n",
              "      display: none;\n",
              "      fill: #1967D2;\n",
              "      height: 32px;\n",
              "      padding: 0 0 0 0;\n",
              "      width: 32px;\n",
              "    }\n",
              "\n",
              "    .colab-df-convert:hover {\n",
              "      background-color: #E2EBFA;\n",
              "      box-shadow: 0px 1px 2px rgba(60, 64, 67, 0.3), 0px 1px 3px 1px rgba(60, 64, 67, 0.15);\n",
              "      fill: #174EA6;\n",
              "    }\n",
              "\n",
              "    .colab-df-buttons div {\n",
              "      margin-bottom: 4px;\n",
              "    }\n",
              "\n",
              "    [theme=dark] .colab-df-convert {\n",
              "      background-color: #3B4455;\n",
              "      fill: #D2E3FC;\n",
              "    }\n",
              "\n",
              "    [theme=dark] .colab-df-convert:hover {\n",
              "      background-color: #434B5C;\n",
              "      box-shadow: 0px 1px 3px 1px rgba(0, 0, 0, 0.15);\n",
              "      filter: drop-shadow(0px 1px 2px rgba(0, 0, 0, 0.3));\n",
              "      fill: #FFFFFF;\n",
              "    }\n",
              "  </style>\n",
              "\n",
              "    <script>\n",
              "      const buttonEl =\n",
              "        document.querySelector('#df-488110a7-eef2-4b2a-965c-37d19bfc3802 button.colab-df-convert');\n",
              "      buttonEl.style.display =\n",
              "        google.colab.kernel.accessAllowed ? 'block' : 'none';\n",
              "\n",
              "      async function convertToInteractive(key) {\n",
              "        const element = document.querySelector('#df-488110a7-eef2-4b2a-965c-37d19bfc3802');\n",
              "        const dataTable =\n",
              "          await google.colab.kernel.invokeFunction('convertToInteractive',\n",
              "                                                    [key], {});\n",
              "        if (!dataTable) return;\n",
              "\n",
              "        const docLinkHtml = 'Like what you see? Visit the ' +\n",
              "          '<a target=\"_blank\" href=https://colab.research.google.com/notebooks/data_table.ipynb>data table notebook</a>'\n",
              "          + ' to learn more about interactive tables.';\n",
              "        element.innerHTML = '';\n",
              "        dataTable['output_type'] = 'display_data';\n",
              "        await google.colab.output.renderOutput(dataTable, element);\n",
              "        const docLink = document.createElement('div');\n",
              "        docLink.innerHTML = docLinkHtml;\n",
              "        element.appendChild(docLink);\n",
              "      }\n",
              "    </script>\n",
              "  </div>\n",
              "\n",
              "\n",
              "<div id=\"df-e0878664-fcd7-485d-bf41-165c8e22e1ad\">\n",
              "  <button class=\"colab-df-quickchart\" onclick=\"quickchart('df-e0878664-fcd7-485d-bf41-165c8e22e1ad')\"\n",
              "            title=\"Suggest charts\"\n",
              "            style=\"display:none;\">\n",
              "\n",
              "<svg xmlns=\"http://www.w3.org/2000/svg\" height=\"24px\"viewBox=\"0 0 24 24\"\n",
              "     width=\"24px\">\n",
              "    <g>\n",
              "        <path d=\"M19 3H5c-1.1 0-2 .9-2 2v14c0 1.1.9 2 2 2h14c1.1 0 2-.9 2-2V5c0-1.1-.9-2-2-2zM9 17H7v-7h2v7zm4 0h-2V7h2v10zm4 0h-2v-4h2v4z\"/>\n",
              "    </g>\n",
              "</svg>\n",
              "  </button>\n",
              "\n",
              "<style>\n",
              "  .colab-df-quickchart {\n",
              "      --bg-color: #E8F0FE;\n",
              "      --fill-color: #1967D2;\n",
              "      --hover-bg-color: #E2EBFA;\n",
              "      --hover-fill-color: #174EA6;\n",
              "      --disabled-fill-color: #AAA;\n",
              "      --disabled-bg-color: #DDD;\n",
              "  }\n",
              "\n",
              "  [theme=dark] .colab-df-quickchart {\n",
              "      --bg-color: #3B4455;\n",
              "      --fill-color: #D2E3FC;\n",
              "      --hover-bg-color: #434B5C;\n",
              "      --hover-fill-color: #FFFFFF;\n",
              "      --disabled-bg-color: #3B4455;\n",
              "      --disabled-fill-color: #666;\n",
              "  }\n",
              "\n",
              "  .colab-df-quickchart {\n",
              "    background-color: var(--bg-color);\n",
              "    border: none;\n",
              "    border-radius: 50%;\n",
              "    cursor: pointer;\n",
              "    display: none;\n",
              "    fill: var(--fill-color);\n",
              "    height: 32px;\n",
              "    padding: 0;\n",
              "    width: 32px;\n",
              "  }\n",
              "\n",
              "  .colab-df-quickchart:hover {\n",
              "    background-color: var(--hover-bg-color);\n",
              "    box-shadow: 0 1px 2px rgba(60, 64, 67, 0.3), 0 1px 3px 1px rgba(60, 64, 67, 0.15);\n",
              "    fill: var(--button-hover-fill-color);\n",
              "  }\n",
              "\n",
              "  .colab-df-quickchart-complete:disabled,\n",
              "  .colab-df-quickchart-complete:disabled:hover {\n",
              "    background-color: var(--disabled-bg-color);\n",
              "    fill: var(--disabled-fill-color);\n",
              "    box-shadow: none;\n",
              "  }\n",
              "\n",
              "  .colab-df-spinner {\n",
              "    border: 2px solid var(--fill-color);\n",
              "    border-color: transparent;\n",
              "    border-bottom-color: var(--fill-color);\n",
              "    animation:\n",
              "      spin 1s steps(1) infinite;\n",
              "  }\n",
              "\n",
              "  @keyframes spin {\n",
              "    0% {\n",
              "      border-color: transparent;\n",
              "      border-bottom-color: var(--fill-color);\n",
              "      border-left-color: var(--fill-color);\n",
              "    }\n",
              "    20% {\n",
              "      border-color: transparent;\n",
              "      border-left-color: var(--fill-color);\n",
              "      border-top-color: var(--fill-color);\n",
              "    }\n",
              "    30% {\n",
              "      border-color: transparent;\n",
              "      border-left-color: var(--fill-color);\n",
              "      border-top-color: var(--fill-color);\n",
              "      border-right-color: var(--fill-color);\n",
              "    }\n",
              "    40% {\n",
              "      border-color: transparent;\n",
              "      border-right-color: var(--fill-color);\n",
              "      border-top-color: var(--fill-color);\n",
              "    }\n",
              "    60% {\n",
              "      border-color: transparent;\n",
              "      border-right-color: var(--fill-color);\n",
              "    }\n",
              "    80% {\n",
              "      border-color: transparent;\n",
              "      border-right-color: var(--fill-color);\n",
              "      border-bottom-color: var(--fill-color);\n",
              "    }\n",
              "    90% {\n",
              "      border-color: transparent;\n",
              "      border-bottom-color: var(--fill-color);\n",
              "    }\n",
              "  }\n",
              "</style>\n",
              "\n",
              "  <script>\n",
              "    async function quickchart(key) {\n",
              "      const quickchartButtonEl =\n",
              "        document.querySelector('#' + key + ' button');\n",
              "      quickchartButtonEl.disabled = true;  // To prevent multiple clicks.\n",
              "      quickchartButtonEl.classList.add('colab-df-spinner');\n",
              "      try {\n",
              "        const charts = await google.colab.kernel.invokeFunction(\n",
              "            'suggestCharts', [key], {});\n",
              "      } catch (error) {\n",
              "        console.error('Error during call to suggestCharts:', error);\n",
              "      }\n",
              "      quickchartButtonEl.classList.remove('colab-df-spinner');\n",
              "      quickchartButtonEl.classList.add('colab-df-quickchart-complete');\n",
              "    }\n",
              "    (() => {\n",
              "      let quickchartButtonEl =\n",
              "        document.querySelector('#df-e0878664-fcd7-485d-bf41-165c8e22e1ad button');\n",
              "      quickchartButtonEl.style.display =\n",
              "        google.colab.kernel.accessAllowed ? 'block' : 'none';\n",
              "    })();\n",
              "  </script>\n",
              "</div>\n",
              "\n",
              "    </div>\n",
              "  </div>\n"
            ],
            "application/vnd.google.colaboratory.intrinsic+json": {
              "type": "dataframe",
              "variable_name": "df_resultados"
            }
          },
          "metadata": {},
          "execution_count": 5
        }
      ]
    },
    {
      "cell_type": "code",
      "source": [
        "# Identificación de porcentajes faltantes por columnas\n",
        "\n",
        "df_resultados = df_resultados.replace(r'^\\s*$', np.nan, regex=True)\n",
        "percent_missing = df_resultados.isnull().sum() * 100 / len(df_resultados)\n",
        "missing_value_df = pd.DataFrame({'Columnas': df_resultados.columns,\n",
        "                                 'Porcentajes_vacios': percent_missing})\n",
        "missing_value_df.sort_values(by=\"Porcentajes_vacios\", ascending= False).reset_index(drop=True)"
      ],
      "metadata": {
        "colab": {
          "base_uri": "https://localhost:8080/",
          "height": 423
        },
        "id": "kegUdXHSc9z5",
        "outputId": "071101ed-7838-4718-afc8-48cbdf77ea3d"
      },
      "execution_count": 33,
      "outputs": [
        {
          "output_type": "execute_result",
          "data": {
            "text/plain": [
              "                         Columnas  Porcentajes_vacios\n",
              "0         ESTU_DEDICACIONINTERNET            5.546930\n",
              "1   FAMI_COMECEREALFRUTOSLEGUMBRE            4.088522\n",
              "2         FAMI_COMELECHEDERIVADOS            4.083579\n",
              "3            FAMI_TIENESERVICIOTV            4.079002\n",
              "4             FAMI_EDUCACIONMADRE            3.837155\n",
              "..                            ...                 ...\n",
              "77            COLE_AREA_UBICACION            0.000000\n",
              "78                   COLE_JORNADA            0.000000\n",
              "79       COLE_COD_MCPIO_UBICACION            0.000000\n",
              "80           COLE_MCPIO_UBICACION            0.000000\n",
              "81              ESTU_GENERACION-E            0.000000\n",
              "\n",
              "[82 rows x 2 columns]"
            ],
            "text/html": [
              "\n",
              "  <div id=\"df-295ddf6f-94d1-427c-bcbb-30633a14eae2\" class=\"colab-df-container\">\n",
              "    <div>\n",
              "<style scoped>\n",
              "    .dataframe tbody tr th:only-of-type {\n",
              "        vertical-align: middle;\n",
              "    }\n",
              "\n",
              "    .dataframe tbody tr th {\n",
              "        vertical-align: top;\n",
              "    }\n",
              "\n",
              "    .dataframe thead th {\n",
              "        text-align: right;\n",
              "    }\n",
              "</style>\n",
              "<table border=\"1\" class=\"dataframe\">\n",
              "  <thead>\n",
              "    <tr style=\"text-align: right;\">\n",
              "      <th></th>\n",
              "      <th>Columnas</th>\n",
              "      <th>Porcentajes_vacios</th>\n",
              "    </tr>\n",
              "  </thead>\n",
              "  <tbody>\n",
              "    <tr>\n",
              "      <th>0</th>\n",
              "      <td>ESTU_DEDICACIONINTERNET</td>\n",
              "      <td>5.546930</td>\n",
              "    </tr>\n",
              "    <tr>\n",
              "      <th>1</th>\n",
              "      <td>FAMI_COMECEREALFRUTOSLEGUMBRE</td>\n",
              "      <td>4.088522</td>\n",
              "    </tr>\n",
              "    <tr>\n",
              "      <th>2</th>\n",
              "      <td>FAMI_COMELECHEDERIVADOS</td>\n",
              "      <td>4.083579</td>\n",
              "    </tr>\n",
              "    <tr>\n",
              "      <th>3</th>\n",
              "      <td>FAMI_TIENESERVICIOTV</td>\n",
              "      <td>4.079002</td>\n",
              "    </tr>\n",
              "    <tr>\n",
              "      <th>4</th>\n",
              "      <td>FAMI_EDUCACIONMADRE</td>\n",
              "      <td>3.837155</td>\n",
              "    </tr>\n",
              "    <tr>\n",
              "      <th>...</th>\n",
              "      <td>...</td>\n",
              "      <td>...</td>\n",
              "    </tr>\n",
              "    <tr>\n",
              "      <th>77</th>\n",
              "      <td>COLE_AREA_UBICACION</td>\n",
              "      <td>0.000000</td>\n",
              "    </tr>\n",
              "    <tr>\n",
              "      <th>78</th>\n",
              "      <td>COLE_JORNADA</td>\n",
              "      <td>0.000000</td>\n",
              "    </tr>\n",
              "    <tr>\n",
              "      <th>79</th>\n",
              "      <td>COLE_COD_MCPIO_UBICACION</td>\n",
              "      <td>0.000000</td>\n",
              "    </tr>\n",
              "    <tr>\n",
              "      <th>80</th>\n",
              "      <td>COLE_MCPIO_UBICACION</td>\n",
              "      <td>0.000000</td>\n",
              "    </tr>\n",
              "    <tr>\n",
              "      <th>81</th>\n",
              "      <td>ESTU_GENERACION-E</td>\n",
              "      <td>0.000000</td>\n",
              "    </tr>\n",
              "  </tbody>\n",
              "</table>\n",
              "<p>82 rows × 2 columns</p>\n",
              "</div>\n",
              "    <div class=\"colab-df-buttons\">\n",
              "\n",
              "  <div class=\"colab-df-container\">\n",
              "    <button class=\"colab-df-convert\" onclick=\"convertToInteractive('df-295ddf6f-94d1-427c-bcbb-30633a14eae2')\"\n",
              "            title=\"Convert this dataframe to an interactive table.\"\n",
              "            style=\"display:none;\">\n",
              "\n",
              "  <svg xmlns=\"http://www.w3.org/2000/svg\" height=\"24px\" viewBox=\"0 -960 960 960\">\n",
              "    <path d=\"M120-120v-720h720v720H120Zm60-500h600v-160H180v160Zm220 220h160v-160H400v160Zm0 220h160v-160H400v160ZM180-400h160v-160H180v160Zm440 0h160v-160H620v160ZM180-180h160v-160H180v160Zm440 0h160v-160H620v160Z\"/>\n",
              "  </svg>\n",
              "    </button>\n",
              "\n",
              "  <style>\n",
              "    .colab-df-container {\n",
              "      display:flex;\n",
              "      gap: 12px;\n",
              "    }\n",
              "\n",
              "    .colab-df-convert {\n",
              "      background-color: #E8F0FE;\n",
              "      border: none;\n",
              "      border-radius: 50%;\n",
              "      cursor: pointer;\n",
              "      display: none;\n",
              "      fill: #1967D2;\n",
              "      height: 32px;\n",
              "      padding: 0 0 0 0;\n",
              "      width: 32px;\n",
              "    }\n",
              "\n",
              "    .colab-df-convert:hover {\n",
              "      background-color: #E2EBFA;\n",
              "      box-shadow: 0px 1px 2px rgba(60, 64, 67, 0.3), 0px 1px 3px 1px rgba(60, 64, 67, 0.15);\n",
              "      fill: #174EA6;\n",
              "    }\n",
              "\n",
              "    .colab-df-buttons div {\n",
              "      margin-bottom: 4px;\n",
              "    }\n",
              "\n",
              "    [theme=dark] .colab-df-convert {\n",
              "      background-color: #3B4455;\n",
              "      fill: #D2E3FC;\n",
              "    }\n",
              "\n",
              "    [theme=dark] .colab-df-convert:hover {\n",
              "      background-color: #434B5C;\n",
              "      box-shadow: 0px 1px 3px 1px rgba(0, 0, 0, 0.15);\n",
              "      filter: drop-shadow(0px 1px 2px rgba(0, 0, 0, 0.3));\n",
              "      fill: #FFFFFF;\n",
              "    }\n",
              "  </style>\n",
              "\n",
              "    <script>\n",
              "      const buttonEl =\n",
              "        document.querySelector('#df-295ddf6f-94d1-427c-bcbb-30633a14eae2 button.colab-df-convert');\n",
              "      buttonEl.style.display =\n",
              "        google.colab.kernel.accessAllowed ? 'block' : 'none';\n",
              "\n",
              "      async function convertToInteractive(key) {\n",
              "        const element = document.querySelector('#df-295ddf6f-94d1-427c-bcbb-30633a14eae2');\n",
              "        const dataTable =\n",
              "          await google.colab.kernel.invokeFunction('convertToInteractive',\n",
              "                                                    [key], {});\n",
              "        if (!dataTable) return;\n",
              "\n",
              "        const docLinkHtml = 'Like what you see? Visit the ' +\n",
              "          '<a target=\"_blank\" href=https://colab.research.google.com/notebooks/data_table.ipynb>data table notebook</a>'\n",
              "          + ' to learn more about interactive tables.';\n",
              "        element.innerHTML = '';\n",
              "        dataTable['output_type'] = 'display_data';\n",
              "        await google.colab.output.renderOutput(dataTable, element);\n",
              "        const docLink = document.createElement('div');\n",
              "        docLink.innerHTML = docLinkHtml;\n",
              "        element.appendChild(docLink);\n",
              "      }\n",
              "    </script>\n",
              "  </div>\n",
              "\n",
              "\n",
              "<div id=\"df-9945a40b-2643-4c66-9b9e-46284a3ca6d9\">\n",
              "  <button class=\"colab-df-quickchart\" onclick=\"quickchart('df-9945a40b-2643-4c66-9b9e-46284a3ca6d9')\"\n",
              "            title=\"Suggest charts\"\n",
              "            style=\"display:none;\">\n",
              "\n",
              "<svg xmlns=\"http://www.w3.org/2000/svg\" height=\"24px\"viewBox=\"0 0 24 24\"\n",
              "     width=\"24px\">\n",
              "    <g>\n",
              "        <path d=\"M19 3H5c-1.1 0-2 .9-2 2v14c0 1.1.9 2 2 2h14c1.1 0 2-.9 2-2V5c0-1.1-.9-2-2-2zM9 17H7v-7h2v7zm4 0h-2V7h2v10zm4 0h-2v-4h2v4z\"/>\n",
              "    </g>\n",
              "</svg>\n",
              "  </button>\n",
              "\n",
              "<style>\n",
              "  .colab-df-quickchart {\n",
              "      --bg-color: #E8F0FE;\n",
              "      --fill-color: #1967D2;\n",
              "      --hover-bg-color: #E2EBFA;\n",
              "      --hover-fill-color: #174EA6;\n",
              "      --disabled-fill-color: #AAA;\n",
              "      --disabled-bg-color: #DDD;\n",
              "  }\n",
              "\n",
              "  [theme=dark] .colab-df-quickchart {\n",
              "      --bg-color: #3B4455;\n",
              "      --fill-color: #D2E3FC;\n",
              "      --hover-bg-color: #434B5C;\n",
              "      --hover-fill-color: #FFFFFF;\n",
              "      --disabled-bg-color: #3B4455;\n",
              "      --disabled-fill-color: #666;\n",
              "  }\n",
              "\n",
              "  .colab-df-quickchart {\n",
              "    background-color: var(--bg-color);\n",
              "    border: none;\n",
              "    border-radius: 50%;\n",
              "    cursor: pointer;\n",
              "    display: none;\n",
              "    fill: var(--fill-color);\n",
              "    height: 32px;\n",
              "    padding: 0;\n",
              "    width: 32px;\n",
              "  }\n",
              "\n",
              "  .colab-df-quickchart:hover {\n",
              "    background-color: var(--hover-bg-color);\n",
              "    box-shadow: 0 1px 2px rgba(60, 64, 67, 0.3), 0 1px 3px 1px rgba(60, 64, 67, 0.15);\n",
              "    fill: var(--button-hover-fill-color);\n",
              "  }\n",
              "\n",
              "  .colab-df-quickchart-complete:disabled,\n",
              "  .colab-df-quickchart-complete:disabled:hover {\n",
              "    background-color: var(--disabled-bg-color);\n",
              "    fill: var(--disabled-fill-color);\n",
              "    box-shadow: none;\n",
              "  }\n",
              "\n",
              "  .colab-df-spinner {\n",
              "    border: 2px solid var(--fill-color);\n",
              "    border-color: transparent;\n",
              "    border-bottom-color: var(--fill-color);\n",
              "    animation:\n",
              "      spin 1s steps(1) infinite;\n",
              "  }\n",
              "\n",
              "  @keyframes spin {\n",
              "    0% {\n",
              "      border-color: transparent;\n",
              "      border-bottom-color: var(--fill-color);\n",
              "      border-left-color: var(--fill-color);\n",
              "    }\n",
              "    20% {\n",
              "      border-color: transparent;\n",
              "      border-left-color: var(--fill-color);\n",
              "      border-top-color: var(--fill-color);\n",
              "    }\n",
              "    30% {\n",
              "      border-color: transparent;\n",
              "      border-left-color: var(--fill-color);\n",
              "      border-top-color: var(--fill-color);\n",
              "      border-right-color: var(--fill-color);\n",
              "    }\n",
              "    40% {\n",
              "      border-color: transparent;\n",
              "      border-right-color: var(--fill-color);\n",
              "      border-top-color: var(--fill-color);\n",
              "    }\n",
              "    60% {\n",
              "      border-color: transparent;\n",
              "      border-right-color: var(--fill-color);\n",
              "    }\n",
              "    80% {\n",
              "      border-color: transparent;\n",
              "      border-right-color: var(--fill-color);\n",
              "      border-bottom-color: var(--fill-color);\n",
              "    }\n",
              "    90% {\n",
              "      border-color: transparent;\n",
              "      border-bottom-color: var(--fill-color);\n",
              "    }\n",
              "  }\n",
              "</style>\n",
              "\n",
              "  <script>\n",
              "    async function quickchart(key) {\n",
              "      const quickchartButtonEl =\n",
              "        document.querySelector('#' + key + ' button');\n",
              "      quickchartButtonEl.disabled = true;  // To prevent multiple clicks.\n",
              "      quickchartButtonEl.classList.add('colab-df-spinner');\n",
              "      try {\n",
              "        const charts = await google.colab.kernel.invokeFunction(\n",
              "            'suggestCharts', [key], {});\n",
              "      } catch (error) {\n",
              "        console.error('Error during call to suggestCharts:', error);\n",
              "      }\n",
              "      quickchartButtonEl.classList.remove('colab-df-spinner');\n",
              "      quickchartButtonEl.classList.add('colab-df-quickchart-complete');\n",
              "    }\n",
              "    (() => {\n",
              "      let quickchartButtonEl =\n",
              "        document.querySelector('#df-9945a40b-2643-4c66-9b9e-46284a3ca6d9 button');\n",
              "      quickchartButtonEl.style.display =\n",
              "        google.colab.kernel.accessAllowed ? 'block' : 'none';\n",
              "    })();\n",
              "  </script>\n",
              "</div>\n",
              "\n",
              "    </div>\n",
              "  </div>\n"
            ],
            "application/vnd.google.colaboratory.intrinsic+json": {
              "type": "dataframe",
              "summary": "{\n  \"name\": \"missing_value_df\",\n  \"rows\": 82,\n  \"fields\": [\n    {\n      \"column\": \"Columnas\",\n      \"properties\": {\n        \"dtype\": \"string\",\n        \"num_unique_values\": 82,\n        \"samples\": [\n          \"ESTU_INSE_INDIVIDUAL\",\n          \"ESTU_DEDICACIONINTERNET\",\n          \"FAMI_CUARTOSHOGAR\"\n        ],\n        \"semantic_type\": \"\",\n        \"description\": \"\"\n      }\n    },\n    {\n      \"column\": \"Porcentajes_vacios\",\n      \"properties\": {\n        \"dtype\": \"number\",\n        \"std\": 1.2144341453756322,\n        \"min\": 0.0,\n        \"max\": 5.546930495851428,\n        \"num_unique_values\": 31,\n        \"samples\": [\n          0.004760056534825306,\n          1.5120502661970077,\n          0.11479059412828718\n        ],\n        \"semantic_type\": \"\",\n        \"description\": \"\"\n      }\n    }\n  ]\n}"
            }
          },
          "metadata": {},
          "execution_count": 33
        }
      ]
    },
    {
      "cell_type": "code",
      "source": [
        "# Isnull nos permite detectar datos nulos, simplificando este proceso independientemente de la dimensión de nuestra base de datos.\n",
        "(df_resultados.head(10)).notnull()"
      ],
      "metadata": {
        "colab": {
          "base_uri": "https://localhost:8080/",
          "height": 429
        },
        "id": "cxcPwjfLdGJZ",
        "outputId": "7febdb68-c689-40e9-c085-34ca7e50bdd0"
      },
      "execution_count": 34,
      "outputs": [
        {
          "output_type": "execute_result",
          "data": {
            "text/plain": [
              "   ESTU_TIPODOCUMENTO  ESTU_NACIONALIDAD  ESTU_GENERO  ESTU_FECHANACIMIENTO  \\\n",
              "0                True               True         True                  True   \n",
              "1                True               True         True                  True   \n",
              "2                True               True         True                  True   \n",
              "3                True               True         True                  True   \n",
              "4                True               True         True                  True   \n",
              "5                True               True         True                  True   \n",
              "6                True               True         True                  True   \n",
              "7                True               True         True                  True   \n",
              "8                True               True         True                  True   \n",
              "9                True               True         True                  True   \n",
              "\n",
              "   PERIODO  ESTU_CONSECUTIVO  ESTU_ESTUDIANTE  ESTU_TIENEETNIA  \\\n",
              "0     True              True             True             True   \n",
              "1     True              True             True             True   \n",
              "2     True              True             True             True   \n",
              "3     True              True             True             True   \n",
              "4     True              True             True             True   \n",
              "5     True              True             True             True   \n",
              "6     True              True             True             True   \n",
              "7     True              True             True             True   \n",
              "8     True              True             True             True   \n",
              "9     True              True             True             True   \n",
              "\n",
              "   ESTU_PAIS_RESIDE  ESTU_ETNIA  ...  PUNT_INGLES  PERCENTIL_INGLES  \\\n",
              "0              True        True  ...         True              True   \n",
              "1              True        True  ...         True              True   \n",
              "2              True        True  ...         True              True   \n",
              "3              True        True  ...         True              True   \n",
              "4              True        True  ...         True              True   \n",
              "5              True        True  ...         True              True   \n",
              "6              True        True  ...         True              True   \n",
              "7              True        True  ...         True              True   \n",
              "8              True        True  ...         True              True   \n",
              "9              True        True  ...         True              True   \n",
              "\n",
              "   DESEMP_INGLES  PUNT_GLOBAL  PERCENTIL_GLOBAL  ESTU_INSE_INDIVIDUAL  \\\n",
              "0           True         True              True                  True   \n",
              "1           True         True              True                  True   \n",
              "2           True         True              True                  True   \n",
              "3           True         True              True                  True   \n",
              "4           True         True              True                  True   \n",
              "5           True         True              True                  True   \n",
              "6           True         True              True                  True   \n",
              "7           True         True              True                  True   \n",
              "8           True         True              True                  True   \n",
              "9           True         True              True                  True   \n",
              "\n",
              "   ESTU_NSE_INDIVIDUAL  ESTU_NSE_ESTABLECIMIENTO  ESTU_ESTADOINVESTIGACION  \\\n",
              "0                 True                      True                      True   \n",
              "1                 True                      True                      True   \n",
              "2                 True                      True                      True   \n",
              "3                 True                      True                      True   \n",
              "4                 True                      True                      True   \n",
              "5                 True                      True                      True   \n",
              "6                 True                      True                      True   \n",
              "7                 True                      True                      True   \n",
              "8                 True                      True                      True   \n",
              "9                 True                      True                      True   \n",
              "\n",
              "   ESTU_GENERACION-E  \n",
              "0               True  \n",
              "1               True  \n",
              "2               True  \n",
              "3               True  \n",
              "4               True  \n",
              "5               True  \n",
              "6               True  \n",
              "7               True  \n",
              "8               True  \n",
              "9               True  \n",
              "\n",
              "[10 rows x 82 columns]"
            ],
            "text/html": [
              "\n",
              "  <div id=\"df-e31b7f83-60a8-4507-80f3-910539e9b40e\" class=\"colab-df-container\">\n",
              "    <div>\n",
              "<style scoped>\n",
              "    .dataframe tbody tr th:only-of-type {\n",
              "        vertical-align: middle;\n",
              "    }\n",
              "\n",
              "    .dataframe tbody tr th {\n",
              "        vertical-align: top;\n",
              "    }\n",
              "\n",
              "    .dataframe thead th {\n",
              "        text-align: right;\n",
              "    }\n",
              "</style>\n",
              "<table border=\"1\" class=\"dataframe\">\n",
              "  <thead>\n",
              "    <tr style=\"text-align: right;\">\n",
              "      <th></th>\n",
              "      <th>ESTU_TIPODOCUMENTO</th>\n",
              "      <th>ESTU_NACIONALIDAD</th>\n",
              "      <th>ESTU_GENERO</th>\n",
              "      <th>ESTU_FECHANACIMIENTO</th>\n",
              "      <th>PERIODO</th>\n",
              "      <th>ESTU_CONSECUTIVO</th>\n",
              "      <th>ESTU_ESTUDIANTE</th>\n",
              "      <th>ESTU_TIENEETNIA</th>\n",
              "      <th>ESTU_PAIS_RESIDE</th>\n",
              "      <th>ESTU_ETNIA</th>\n",
              "      <th>...</th>\n",
              "      <th>PUNT_INGLES</th>\n",
              "      <th>PERCENTIL_INGLES</th>\n",
              "      <th>DESEMP_INGLES</th>\n",
              "      <th>PUNT_GLOBAL</th>\n",
              "      <th>PERCENTIL_GLOBAL</th>\n",
              "      <th>ESTU_INSE_INDIVIDUAL</th>\n",
              "      <th>ESTU_NSE_INDIVIDUAL</th>\n",
              "      <th>ESTU_NSE_ESTABLECIMIENTO</th>\n",
              "      <th>ESTU_ESTADOINVESTIGACION</th>\n",
              "      <th>ESTU_GENERACION-E</th>\n",
              "    </tr>\n",
              "  </thead>\n",
              "  <tbody>\n",
              "    <tr>\n",
              "      <th>0</th>\n",
              "      <td>True</td>\n",
              "      <td>True</td>\n",
              "      <td>True</td>\n",
              "      <td>True</td>\n",
              "      <td>True</td>\n",
              "      <td>True</td>\n",
              "      <td>True</td>\n",
              "      <td>True</td>\n",
              "      <td>True</td>\n",
              "      <td>True</td>\n",
              "      <td>...</td>\n",
              "      <td>True</td>\n",
              "      <td>True</td>\n",
              "      <td>True</td>\n",
              "      <td>True</td>\n",
              "      <td>True</td>\n",
              "      <td>True</td>\n",
              "      <td>True</td>\n",
              "      <td>True</td>\n",
              "      <td>True</td>\n",
              "      <td>True</td>\n",
              "    </tr>\n",
              "    <tr>\n",
              "      <th>1</th>\n",
              "      <td>True</td>\n",
              "      <td>True</td>\n",
              "      <td>True</td>\n",
              "      <td>True</td>\n",
              "      <td>True</td>\n",
              "      <td>True</td>\n",
              "      <td>True</td>\n",
              "      <td>True</td>\n",
              "      <td>True</td>\n",
              "      <td>True</td>\n",
              "      <td>...</td>\n",
              "      <td>True</td>\n",
              "      <td>True</td>\n",
              "      <td>True</td>\n",
              "      <td>True</td>\n",
              "      <td>True</td>\n",
              "      <td>True</td>\n",
              "      <td>True</td>\n",
              "      <td>True</td>\n",
              "      <td>True</td>\n",
              "      <td>True</td>\n",
              "    </tr>\n",
              "    <tr>\n",
              "      <th>2</th>\n",
              "      <td>True</td>\n",
              "      <td>True</td>\n",
              "      <td>True</td>\n",
              "      <td>True</td>\n",
              "      <td>True</td>\n",
              "      <td>True</td>\n",
              "      <td>True</td>\n",
              "      <td>True</td>\n",
              "      <td>True</td>\n",
              "      <td>True</td>\n",
              "      <td>...</td>\n",
              "      <td>True</td>\n",
              "      <td>True</td>\n",
              "      <td>True</td>\n",
              "      <td>True</td>\n",
              "      <td>True</td>\n",
              "      <td>True</td>\n",
              "      <td>True</td>\n",
              "      <td>True</td>\n",
              "      <td>True</td>\n",
              "      <td>True</td>\n",
              "    </tr>\n",
              "    <tr>\n",
              "      <th>3</th>\n",
              "      <td>True</td>\n",
              "      <td>True</td>\n",
              "      <td>True</td>\n",
              "      <td>True</td>\n",
              "      <td>True</td>\n",
              "      <td>True</td>\n",
              "      <td>True</td>\n",
              "      <td>True</td>\n",
              "      <td>True</td>\n",
              "      <td>True</td>\n",
              "      <td>...</td>\n",
              "      <td>True</td>\n",
              "      <td>True</td>\n",
              "      <td>True</td>\n",
              "      <td>True</td>\n",
              "      <td>True</td>\n",
              "      <td>True</td>\n",
              "      <td>True</td>\n",
              "      <td>True</td>\n",
              "      <td>True</td>\n",
              "      <td>True</td>\n",
              "    </tr>\n",
              "    <tr>\n",
              "      <th>4</th>\n",
              "      <td>True</td>\n",
              "      <td>True</td>\n",
              "      <td>True</td>\n",
              "      <td>True</td>\n",
              "      <td>True</td>\n",
              "      <td>True</td>\n",
              "      <td>True</td>\n",
              "      <td>True</td>\n",
              "      <td>True</td>\n",
              "      <td>True</td>\n",
              "      <td>...</td>\n",
              "      <td>True</td>\n",
              "      <td>True</td>\n",
              "      <td>True</td>\n",
              "      <td>True</td>\n",
              "      <td>True</td>\n",
              "      <td>True</td>\n",
              "      <td>True</td>\n",
              "      <td>True</td>\n",
              "      <td>True</td>\n",
              "      <td>True</td>\n",
              "    </tr>\n",
              "    <tr>\n",
              "      <th>5</th>\n",
              "      <td>True</td>\n",
              "      <td>True</td>\n",
              "      <td>True</td>\n",
              "      <td>True</td>\n",
              "      <td>True</td>\n",
              "      <td>True</td>\n",
              "      <td>True</td>\n",
              "      <td>True</td>\n",
              "      <td>True</td>\n",
              "      <td>True</td>\n",
              "      <td>...</td>\n",
              "      <td>True</td>\n",
              "      <td>True</td>\n",
              "      <td>True</td>\n",
              "      <td>True</td>\n",
              "      <td>True</td>\n",
              "      <td>True</td>\n",
              "      <td>True</td>\n",
              "      <td>True</td>\n",
              "      <td>True</td>\n",
              "      <td>True</td>\n",
              "    </tr>\n",
              "    <tr>\n",
              "      <th>6</th>\n",
              "      <td>True</td>\n",
              "      <td>True</td>\n",
              "      <td>True</td>\n",
              "      <td>True</td>\n",
              "      <td>True</td>\n",
              "      <td>True</td>\n",
              "      <td>True</td>\n",
              "      <td>True</td>\n",
              "      <td>True</td>\n",
              "      <td>True</td>\n",
              "      <td>...</td>\n",
              "      <td>True</td>\n",
              "      <td>True</td>\n",
              "      <td>True</td>\n",
              "      <td>True</td>\n",
              "      <td>True</td>\n",
              "      <td>True</td>\n",
              "      <td>True</td>\n",
              "      <td>True</td>\n",
              "      <td>True</td>\n",
              "      <td>True</td>\n",
              "    </tr>\n",
              "    <tr>\n",
              "      <th>7</th>\n",
              "      <td>True</td>\n",
              "      <td>True</td>\n",
              "      <td>True</td>\n",
              "      <td>True</td>\n",
              "      <td>True</td>\n",
              "      <td>True</td>\n",
              "      <td>True</td>\n",
              "      <td>True</td>\n",
              "      <td>True</td>\n",
              "      <td>True</td>\n",
              "      <td>...</td>\n",
              "      <td>True</td>\n",
              "      <td>True</td>\n",
              "      <td>True</td>\n",
              "      <td>True</td>\n",
              "      <td>True</td>\n",
              "      <td>True</td>\n",
              "      <td>True</td>\n",
              "      <td>True</td>\n",
              "      <td>True</td>\n",
              "      <td>True</td>\n",
              "    </tr>\n",
              "    <tr>\n",
              "      <th>8</th>\n",
              "      <td>True</td>\n",
              "      <td>True</td>\n",
              "      <td>True</td>\n",
              "      <td>True</td>\n",
              "      <td>True</td>\n",
              "      <td>True</td>\n",
              "      <td>True</td>\n",
              "      <td>True</td>\n",
              "      <td>True</td>\n",
              "      <td>True</td>\n",
              "      <td>...</td>\n",
              "      <td>True</td>\n",
              "      <td>True</td>\n",
              "      <td>True</td>\n",
              "      <td>True</td>\n",
              "      <td>True</td>\n",
              "      <td>True</td>\n",
              "      <td>True</td>\n",
              "      <td>True</td>\n",
              "      <td>True</td>\n",
              "      <td>True</td>\n",
              "    </tr>\n",
              "    <tr>\n",
              "      <th>9</th>\n",
              "      <td>True</td>\n",
              "      <td>True</td>\n",
              "      <td>True</td>\n",
              "      <td>True</td>\n",
              "      <td>True</td>\n",
              "      <td>True</td>\n",
              "      <td>True</td>\n",
              "      <td>True</td>\n",
              "      <td>True</td>\n",
              "      <td>True</td>\n",
              "      <td>...</td>\n",
              "      <td>True</td>\n",
              "      <td>True</td>\n",
              "      <td>True</td>\n",
              "      <td>True</td>\n",
              "      <td>True</td>\n",
              "      <td>True</td>\n",
              "      <td>True</td>\n",
              "      <td>True</td>\n",
              "      <td>True</td>\n",
              "      <td>True</td>\n",
              "    </tr>\n",
              "  </tbody>\n",
              "</table>\n",
              "<p>10 rows × 82 columns</p>\n",
              "</div>\n",
              "    <div class=\"colab-df-buttons\">\n",
              "\n",
              "  <div class=\"colab-df-container\">\n",
              "    <button class=\"colab-df-convert\" onclick=\"convertToInteractive('df-e31b7f83-60a8-4507-80f3-910539e9b40e')\"\n",
              "            title=\"Convert this dataframe to an interactive table.\"\n",
              "            style=\"display:none;\">\n",
              "\n",
              "  <svg xmlns=\"http://www.w3.org/2000/svg\" height=\"24px\" viewBox=\"0 -960 960 960\">\n",
              "    <path d=\"M120-120v-720h720v720H120Zm60-500h600v-160H180v160Zm220 220h160v-160H400v160Zm0 220h160v-160H400v160ZM180-400h160v-160H180v160Zm440 0h160v-160H620v160ZM180-180h160v-160H180v160Zm440 0h160v-160H620v160Z\"/>\n",
              "  </svg>\n",
              "    </button>\n",
              "\n",
              "  <style>\n",
              "    .colab-df-container {\n",
              "      display:flex;\n",
              "      gap: 12px;\n",
              "    }\n",
              "\n",
              "    .colab-df-convert {\n",
              "      background-color: #E8F0FE;\n",
              "      border: none;\n",
              "      border-radius: 50%;\n",
              "      cursor: pointer;\n",
              "      display: none;\n",
              "      fill: #1967D2;\n",
              "      height: 32px;\n",
              "      padding: 0 0 0 0;\n",
              "      width: 32px;\n",
              "    }\n",
              "\n",
              "    .colab-df-convert:hover {\n",
              "      background-color: #E2EBFA;\n",
              "      box-shadow: 0px 1px 2px rgba(60, 64, 67, 0.3), 0px 1px 3px 1px rgba(60, 64, 67, 0.15);\n",
              "      fill: #174EA6;\n",
              "    }\n",
              "\n",
              "    .colab-df-buttons div {\n",
              "      margin-bottom: 4px;\n",
              "    }\n",
              "\n",
              "    [theme=dark] .colab-df-convert {\n",
              "      background-color: #3B4455;\n",
              "      fill: #D2E3FC;\n",
              "    }\n",
              "\n",
              "    [theme=dark] .colab-df-convert:hover {\n",
              "      background-color: #434B5C;\n",
              "      box-shadow: 0px 1px 3px 1px rgba(0, 0, 0, 0.15);\n",
              "      filter: drop-shadow(0px 1px 2px rgba(0, 0, 0, 0.3));\n",
              "      fill: #FFFFFF;\n",
              "    }\n",
              "  </style>\n",
              "\n",
              "    <script>\n",
              "      const buttonEl =\n",
              "        document.querySelector('#df-e31b7f83-60a8-4507-80f3-910539e9b40e button.colab-df-convert');\n",
              "      buttonEl.style.display =\n",
              "        google.colab.kernel.accessAllowed ? 'block' : 'none';\n",
              "\n",
              "      async function convertToInteractive(key) {\n",
              "        const element = document.querySelector('#df-e31b7f83-60a8-4507-80f3-910539e9b40e');\n",
              "        const dataTable =\n",
              "          await google.colab.kernel.invokeFunction('convertToInteractive',\n",
              "                                                    [key], {});\n",
              "        if (!dataTable) return;\n",
              "\n",
              "        const docLinkHtml = 'Like what you see? Visit the ' +\n",
              "          '<a target=\"_blank\" href=https://colab.research.google.com/notebooks/data_table.ipynb>data table notebook</a>'\n",
              "          + ' to learn more about interactive tables.';\n",
              "        element.innerHTML = '';\n",
              "        dataTable['output_type'] = 'display_data';\n",
              "        await google.colab.output.renderOutput(dataTable, element);\n",
              "        const docLink = document.createElement('div');\n",
              "        docLink.innerHTML = docLinkHtml;\n",
              "        element.appendChild(docLink);\n",
              "      }\n",
              "    </script>\n",
              "  </div>\n",
              "\n",
              "\n",
              "<div id=\"df-50fa3daa-5389-4781-b8f1-221b52938c8b\">\n",
              "  <button class=\"colab-df-quickchart\" onclick=\"quickchart('df-50fa3daa-5389-4781-b8f1-221b52938c8b')\"\n",
              "            title=\"Suggest charts\"\n",
              "            style=\"display:none;\">\n",
              "\n",
              "<svg xmlns=\"http://www.w3.org/2000/svg\" height=\"24px\"viewBox=\"0 0 24 24\"\n",
              "     width=\"24px\">\n",
              "    <g>\n",
              "        <path d=\"M19 3H5c-1.1 0-2 .9-2 2v14c0 1.1.9 2 2 2h14c1.1 0 2-.9 2-2V5c0-1.1-.9-2-2-2zM9 17H7v-7h2v7zm4 0h-2V7h2v10zm4 0h-2v-4h2v4z\"/>\n",
              "    </g>\n",
              "</svg>\n",
              "  </button>\n",
              "\n",
              "<style>\n",
              "  .colab-df-quickchart {\n",
              "      --bg-color: #E8F0FE;\n",
              "      --fill-color: #1967D2;\n",
              "      --hover-bg-color: #E2EBFA;\n",
              "      --hover-fill-color: #174EA6;\n",
              "      --disabled-fill-color: #AAA;\n",
              "      --disabled-bg-color: #DDD;\n",
              "  }\n",
              "\n",
              "  [theme=dark] .colab-df-quickchart {\n",
              "      --bg-color: #3B4455;\n",
              "      --fill-color: #D2E3FC;\n",
              "      --hover-bg-color: #434B5C;\n",
              "      --hover-fill-color: #FFFFFF;\n",
              "      --disabled-bg-color: #3B4455;\n",
              "      --disabled-fill-color: #666;\n",
              "  }\n",
              "\n",
              "  .colab-df-quickchart {\n",
              "    background-color: var(--bg-color);\n",
              "    border: none;\n",
              "    border-radius: 50%;\n",
              "    cursor: pointer;\n",
              "    display: none;\n",
              "    fill: var(--fill-color);\n",
              "    height: 32px;\n",
              "    padding: 0;\n",
              "    width: 32px;\n",
              "  }\n",
              "\n",
              "  .colab-df-quickchart:hover {\n",
              "    background-color: var(--hover-bg-color);\n",
              "    box-shadow: 0 1px 2px rgba(60, 64, 67, 0.3), 0 1px 3px 1px rgba(60, 64, 67, 0.15);\n",
              "    fill: var(--button-hover-fill-color);\n",
              "  }\n",
              "\n",
              "  .colab-df-quickchart-complete:disabled,\n",
              "  .colab-df-quickchart-complete:disabled:hover {\n",
              "    background-color: var(--disabled-bg-color);\n",
              "    fill: var(--disabled-fill-color);\n",
              "    box-shadow: none;\n",
              "  }\n",
              "\n",
              "  .colab-df-spinner {\n",
              "    border: 2px solid var(--fill-color);\n",
              "    border-color: transparent;\n",
              "    border-bottom-color: var(--fill-color);\n",
              "    animation:\n",
              "      spin 1s steps(1) infinite;\n",
              "  }\n",
              "\n",
              "  @keyframes spin {\n",
              "    0% {\n",
              "      border-color: transparent;\n",
              "      border-bottom-color: var(--fill-color);\n",
              "      border-left-color: var(--fill-color);\n",
              "    }\n",
              "    20% {\n",
              "      border-color: transparent;\n",
              "      border-left-color: var(--fill-color);\n",
              "      border-top-color: var(--fill-color);\n",
              "    }\n",
              "    30% {\n",
              "      border-color: transparent;\n",
              "      border-left-color: var(--fill-color);\n",
              "      border-top-color: var(--fill-color);\n",
              "      border-right-color: var(--fill-color);\n",
              "    }\n",
              "    40% {\n",
              "      border-color: transparent;\n",
              "      border-right-color: var(--fill-color);\n",
              "      border-top-color: var(--fill-color);\n",
              "    }\n",
              "    60% {\n",
              "      border-color: transparent;\n",
              "      border-right-color: var(--fill-color);\n",
              "    }\n",
              "    80% {\n",
              "      border-color: transparent;\n",
              "      border-right-color: var(--fill-color);\n",
              "      border-bottom-color: var(--fill-color);\n",
              "    }\n",
              "    90% {\n",
              "      border-color: transparent;\n",
              "      border-bottom-color: var(--fill-color);\n",
              "    }\n",
              "  }\n",
              "</style>\n",
              "\n",
              "  <script>\n",
              "    async function quickchart(key) {\n",
              "      const quickchartButtonEl =\n",
              "        document.querySelector('#' + key + ' button');\n",
              "      quickchartButtonEl.disabled = true;  // To prevent multiple clicks.\n",
              "      quickchartButtonEl.classList.add('colab-df-spinner');\n",
              "      try {\n",
              "        const charts = await google.colab.kernel.invokeFunction(\n",
              "            'suggestCharts', [key], {});\n",
              "      } catch (error) {\n",
              "        console.error('Error during call to suggestCharts:', error);\n",
              "      }\n",
              "      quickchartButtonEl.classList.remove('colab-df-spinner');\n",
              "      quickchartButtonEl.classList.add('colab-df-quickchart-complete');\n",
              "    }\n",
              "    (() => {\n",
              "      let quickchartButtonEl =\n",
              "        document.querySelector('#df-50fa3daa-5389-4781-b8f1-221b52938c8b button');\n",
              "      quickchartButtonEl.style.display =\n",
              "        google.colab.kernel.accessAllowed ? 'block' : 'none';\n",
              "    })();\n",
              "  </script>\n",
              "</div>\n",
              "\n",
              "    </div>\n",
              "  </div>\n"
            ],
            "application/vnd.google.colaboratory.intrinsic+json": {
              "type": "dataframe"
            }
          },
          "metadata": {},
          "execution_count": 34
        }
      ]
    },
    {
      "cell_type": "code",
      "source": [
        "# Nombres de las columnas\n",
        "df_resultados.columns"
      ],
      "metadata": {
        "colab": {
          "base_uri": "https://localhost:8080/"
        },
        "id": "ZSP7Ere-dVOt",
        "outputId": "4a91952d-247a-401d-daf5-c32f0c67efa3"
      },
      "execution_count": 35,
      "outputs": [
        {
          "output_type": "execute_result",
          "data": {
            "text/plain": [
              "Index(['ESTU_TIPODOCUMENTO', 'ESTU_NACIONALIDAD', 'ESTU_GENERO',\n",
              "       'ESTU_FECHANACIMIENTO', 'PERIODO', 'ESTU_CONSECUTIVO',\n",
              "       'ESTU_ESTUDIANTE', 'ESTU_TIENEETNIA', 'ESTU_PAIS_RESIDE', 'ESTU_ETNIA',\n",
              "       'ESTU_DEPTO_RESIDE', 'ESTU_COD_RESIDE_DEPTO', 'ESTU_MCPIO_RESIDE',\n",
              "       'ESTU_COD_RESIDE_MCPIO', 'FAMI_ESTRATOVIVIENDA', 'FAMI_PERSONASHOGAR',\n",
              "       'FAMI_CUARTOSHOGAR', 'FAMI_EDUCACIONPADRE', 'FAMI_EDUCACIONMADRE',\n",
              "       'FAMI_TRABAJOLABORPADRE', 'FAMI_TRABAJOLABORMADRE',\n",
              "       'FAMI_TIENEINTERNET', 'FAMI_TIENESERVICIOTV', 'FAMI_TIENECOMPUTADOR',\n",
              "       'FAMI_TIENELAVADORA', 'FAMI_TIENEHORNOMICROOGAS', 'FAMI_TIENEAUTOMOVIL',\n",
              "       'FAMI_TIENEMOTOCICLETA', 'FAMI_TIENECONSOLAVIDEOJUEGOS',\n",
              "       'FAMI_NUMLIBROS', 'FAMI_COMELECHEDERIVADOS',\n",
              "       'FAMI_COMECARNEPESCADOHUEVO', 'FAMI_COMECEREALFRUTOSLEGUMBRE',\n",
              "       'FAMI_SITUACIONECONOMICA', 'ESTU_DEDICACIONLECTURADIARIA',\n",
              "       'ESTU_DEDICACIONINTERNET', 'ESTU_HORASSEMANATRABAJA',\n",
              "       'ESTU_TIPOREMUNERACION', 'COLE_CODIGO_ICFES',\n",
              "       'COLE_COD_DANE_ESTABLECIMIENTO', 'COLE_NOMBRE_ESTABLECIMIENTO',\n",
              "       'COLE_GENERO', 'COLE_NATURALEZA', 'COLE_CALENDARIO', 'COLE_BILINGUE',\n",
              "       'COLE_CARACTER', 'COLE_COD_DANE_SEDE', 'COLE_NOMBRE_SEDE',\n",
              "       'COLE_SEDE_PRINCIPAL', 'COLE_AREA_UBICACION', 'COLE_JORNADA',\n",
              "       'COLE_COD_MCPIO_UBICACION', 'COLE_MCPIO_UBICACION',\n",
              "       'COLE_COD_DEPTO_UBICACION', 'COLE_DEPTO_UBICACION',\n",
              "       'ESTU_PRIVADO_LIBERTAD', 'ESTU_COD_MCPIO_PRESENTACION',\n",
              "       'ESTU_MCPIO_PRESENTACION', 'ESTU_DEPTO_PRESENTACION',\n",
              "       'ESTU_COD_DEPTO_PRESENTACION', 'PUNT_LECTURA_CRITICA',\n",
              "       'PERCENTIL_LECTURA_CRITICA', 'DESEMP_LECTURA_CRITICA',\n",
              "       'PUNT_MATEMATICAS', 'PERCENTIL_MATEMATICAS', 'DESEMP_MATEMATICAS',\n",
              "       'PUNT_C_NATURALES', 'PERCENTIL_C_NATURALES', 'DESEMP_C_NATURALES',\n",
              "       'PUNT_SOCIALES_CIUDADANAS', 'PERCENTIL_SOCIALES_CIUDADANAS',\n",
              "       'DESEMP_SOCIALES_CIUDADANAS', 'PUNT_INGLES', 'PERCENTIL_INGLES',\n",
              "       'DESEMP_INGLES', 'PUNT_GLOBAL', 'PERCENTIL_GLOBAL',\n",
              "       'ESTU_INSE_INDIVIDUAL', 'ESTU_NSE_INDIVIDUAL',\n",
              "       'ESTU_NSE_ESTABLECIMIENTO', 'ESTU_ESTADOINVESTIGACION',\n",
              "       'ESTU_GENERACION-E'],\n",
              "      dtype='object')"
            ]
          },
          "metadata": {},
          "execution_count": 35
        }
      ]
    },
    {
      "cell_type": "code",
      "source": [
        "# Cantidad, información y tipo de dato de las 82 columnas del dataframe columnas\n",
        "df_resultados.info()"
      ],
      "metadata": {
        "colab": {
          "base_uri": "https://localhost:8080/"
        },
        "id": "4HXLdUQwdblA",
        "outputId": "495f2217-ec46-47c6-d00c-e309fbb8a578"
      },
      "execution_count": 36,
      "outputs": [
        {
          "output_type": "stream",
          "name": "stdout",
          "text": [
            "<class 'pandas.core.frame.DataFrame'>\n",
            "RangeIndex: 546212 entries, 0 to 546211\n",
            "Data columns (total 82 columns):\n",
            " #   Column                         Non-Null Count   Dtype  \n",
            "---  ------                         --------------   -----  \n",
            " 0   ESTU_TIPODOCUMENTO             546212 non-null  object \n",
            " 1   ESTU_NACIONALIDAD              546212 non-null  object \n",
            " 2   ESTU_GENERO                    546212 non-null  object \n",
            " 3   ESTU_FECHANACIMIENTO           546212 non-null  object \n",
            " 4   PERIODO                        546212 non-null  int64  \n",
            " 5   ESTU_CONSECUTIVO               546212 non-null  object \n",
            " 6   ESTU_ESTUDIANTE                546212 non-null  object \n",
            " 7   ESTU_TIENEETNIA                546212 non-null  object \n",
            " 8   ESTU_PAIS_RESIDE               546212 non-null  object \n",
            " 9   ESTU_ETNIA                     546212 non-null  object \n",
            " 10  ESTU_DEPTO_RESIDE              545835 non-null  object \n",
            " 11  ESTU_COD_RESIDE_DEPTO          546212 non-null  object \n",
            " 12  ESTU_MCPIO_RESIDE              545835 non-null  object \n",
            " 13  ESTU_COD_RESIDE_MCPIO          546212 non-null  object \n",
            " 14  FAMI_ESTRATOVIVIENDA           546186 non-null  object \n",
            " 15  FAMI_PERSONASHOGAR             537749 non-null  object \n",
            " 16  FAMI_CUARTOSHOGAR              539794 non-null  object \n",
            " 17  FAMI_EDUCACIONPADRE            537920 non-null  object \n",
            " 18  FAMI_EDUCACIONMADRE            525253 non-null  object \n",
            " 19  FAMI_TRABAJOLABORPADRE         538081 non-null  object \n",
            " 20  FAMI_TRABAJOLABORMADRE         538743 non-null  object \n",
            " 21  FAMI_TIENEINTERNET             537875 non-null  object \n",
            " 22  FAMI_TIENESERVICIOTV           523932 non-null  object \n",
            " 23  FAMI_TIENECOMPUTADOR           538027 non-null  object \n",
            " 24  FAMI_TIENELAVADORA             538569 non-null  object \n",
            " 25  FAMI_TIENEHORNOMICROOGAS       537582 non-null  object \n",
            " 26  FAMI_TIENEAUTOMOVIL            538006 non-null  object \n",
            " 27  FAMI_TIENEMOTOCICLETA          537395 non-null  object \n",
            " 28  FAMI_TIENECONSOLAVIDEOJUEGOS   538487 non-null  object \n",
            " 29  FAMI_NUMLIBROS                 537558 non-null  object \n",
            " 30  FAMI_COMELECHEDERIVADOS        523907 non-null  object \n",
            " 31  FAMI_COMECARNEPESCADOHUEVO     536587 non-null  object \n",
            " 32  FAMI_COMECEREALFRUTOSLEGUMBRE  523880 non-null  object \n",
            " 33  FAMI_SITUACIONECONOMICA        537953 non-null  object \n",
            " 34  ESTU_DEDICACIONLECTURADIARIA   545585 non-null  object \n",
            " 35  ESTU_DEDICACIONINTERNET        515914 non-null  object \n",
            " 36  ESTU_HORASSEMANATRABAJA        545831 non-null  object \n",
            " 37  ESTU_TIPOREMUNERACION          530704 non-null  object \n",
            " 38  COLE_CODIGO_ICFES              546212 non-null  int64  \n",
            " 39  COLE_COD_DANE_ESTABLECIMIENTO  546212 non-null  int64  \n",
            " 40  COLE_NOMBRE_ESTABLECIMIENTO    546212 non-null  object \n",
            " 41  COLE_GENERO                    546212 non-null  object \n",
            " 42  COLE_NATURALEZA                546212 non-null  object \n",
            " 43  COLE_CALENDARIO                546212 non-null  object \n",
            " 44  COLE_BILINGUE                  546212 non-null  object \n",
            " 45  COLE_CARACTER                  532464 non-null  object \n",
            " 46  COLE_COD_DANE_SEDE             546212 non-null  int64  \n",
            " 47  COLE_NOMBRE_SEDE               546212 non-null  object \n",
            " 48  COLE_SEDE_PRINCIPAL            546212 non-null  object \n",
            " 49  COLE_AREA_UBICACION            546212 non-null  object \n",
            " 50  COLE_JORNADA                   546212 non-null  object \n",
            " 51  COLE_COD_MCPIO_UBICACION       546212 non-null  int64  \n",
            " 52  COLE_MCPIO_UBICACION           546212 non-null  object \n",
            " 53  COLE_COD_DEPTO_UBICACION       546212 non-null  int64  \n",
            " 54  COLE_DEPTO_UBICACION           546212 non-null  object \n",
            " 55  ESTU_PRIVADO_LIBERTAD          546212 non-null  object \n",
            " 56  ESTU_COD_MCPIO_PRESENTACION    546212 non-null  int64  \n",
            " 57  ESTU_MCPIO_PRESENTACION        546212 non-null  object \n",
            " 58  ESTU_DEPTO_PRESENTACION        546212 non-null  object \n",
            " 59  ESTU_COD_DEPTO_PRESENTACION    546212 non-null  int64  \n",
            " 60  PUNT_LECTURA_CRITICA           546212 non-null  int64  \n",
            " 61  PERCENTIL_LECTURA_CRITICA      546212 non-null  int64  \n",
            " 62  DESEMP_LECTURA_CRITICA         546212 non-null  int64  \n",
            " 63  PUNT_MATEMATICAS               546212 non-null  int64  \n",
            " 64  PERCENTIL_MATEMATICAS          546212 non-null  int64  \n",
            " 65  DESEMP_MATEMATICAS             546212 non-null  int64  \n",
            " 66  PUNT_C_NATURALES               546212 non-null  int64  \n",
            " 67  PERCENTIL_C_NATURALES          546212 non-null  int64  \n",
            " 68  DESEMP_C_NATURALES             546212 non-null  int64  \n",
            " 69  PUNT_SOCIALES_CIUDADANAS       546212 non-null  int64  \n",
            " 70  PERCENTIL_SOCIALES_CIUDADANAS  546212 non-null  int64  \n",
            " 71  DESEMP_SOCIALES_CIUDADANAS     546212 non-null  int64  \n",
            " 72  PUNT_INGLES                    546193 non-null  float64\n",
            " 73  PERCENTIL_INGLES               546212 non-null  int64  \n",
            " 74  DESEMP_INGLES                  546212 non-null  object \n",
            " 75  PUNT_GLOBAL                    546212 non-null  int64  \n",
            " 76  PERCENTIL_GLOBAL               546212 non-null  object \n",
            " 77  ESTU_INSE_INDIVIDUAL           546208 non-null  object \n",
            " 78  ESTU_NSE_INDIVIDUAL            529171 non-null  object \n",
            " 79  ESTU_NSE_ESTABLECIMIENTO       546168 non-null  float64\n",
            " 80  ESTU_ESTADOINVESTIGACION       546212 non-null  object \n",
            " 81  ESTU_GENERACION-E              546212 non-null  object \n",
            "dtypes: float64(2), int64(22), object(58)\n",
            "memory usage: 341.7+ MB\n"
          ]
        }
      ]
    },
    {
      "cell_type": "code",
      "source": [
        "# Columna de prueba, exploración visual del comportamiento de algunos datos\n",
        "\n",
        "# Se definen colores para cada categoría de la columna 'ESTU_GENERO'\n",
        "colors = ['#1f77b4', '#ff7f0e', '#2ca02c']\n",
        "\n",
        "# Se crea el gráfico de barras con colores y leyenda\n",
        "plt.bar(df_resultados['ESTU_GENERO'].value_counts(dropna=False).index,\n",
        "        df_resultados['ESTU_GENERO'].value_counts(dropna=False), color=colors)\n",
        "\n",
        "# Se agrega la cantidad a las barras\n",
        "for i, v in enumerate(df_resultados['ESTU_GENERO'].value_counts(dropna=False)):\n",
        "    plt.text(i, v, str(v), ha='center', va='bottom')\n",
        "\n",
        "# Se establece los nombres de los ejes y el título\n",
        "plt.xlabel('Género')\n",
        "plt.ylabel('Cantidad de estudiantes')\n",
        "plt.title('Distribución de estudiantes por género')\n",
        "\n",
        "# Se crea la leyenda\n",
        "handles, labels = plt.gca().get_legend_handles_labels()\n",
        "custom_labels = ['Femenino', 'Masculino', 'No informado']\n",
        "custom_handles = [plt.Rectangle((0,0),1,1, color=color) for color in colors]\n",
        "handles = custom_handles + handles\n",
        "labels = custom_labels + labels\n",
        "plt.legend(handles, labels, loc='best')\n",
        "\n",
        "# Visualización del gráfico\n",
        "plt.show()"
      ],
      "metadata": {
        "colab": {
          "base_uri": "https://localhost:8080/",
          "height": 472
        },
        "id": "slL7Y-Shhr8-",
        "outputId": "f9390703-92ee-4146-af8b-ae3cb34432cb"
      },
      "execution_count": 38,
      "outputs": [
        {
          "output_type": "display_data",
          "data": {
            "text/plain": [
              "<Figure size 640x480 with 1 Axes>"
            ],
            "image/png": "[encoded data removed]"
          },
          "metadata": {}
        }
      ]
    },
    {
      "cell_type": "markdown",
      "source": [
        "**Observaciones iniciales:**\n",
        "\n",
        "* Con base en la gráfica de la columna 'ESTU_GENERO', se evidencia que hay una cantidad no informada, es decir, Remover Outliers (valores atipicos), no hubo respuesta de 121 registros para la caracterización del tipo de género; esa cantidad representa el 0.02% de la totalidad del DataFrame.\n",
        "* Los porcentajes de registros vacios en las columnas son pocos, eso nos da a entender que la data esta bien nutrida, y es posible un buen trabajo no solo desde la limpieza, también para la exploración de datos e incluso una posible generación de pruebas de hipótesis.\n",
        "* No se observan caracteres especiales en los nombres de las columnas, lo que facilita y ahorra tiempo en el proceso.\n",
        "* Al igual que en la columna 'ESTU_GENERO', es posible que existan otras con registros no informados, nulos, con respuestas incoherentes o vacias.\n"
      ],
      "metadata": {
        "id": "QL0Z99U61WAY"
      }
    },
    {
      "cell_type": "markdown",
      "source": [
        "# Limpieza de datos técnica del DataFrame"
      ],
      "metadata": {
        "id": "5NexdGGn1g3g"
      }
    },
    {
      "cell_type": "markdown",
      "source": [
        "La limpieza de datos a nivel técnico de un `DataFrame`, se refiere a la identificación, corrección y eliminación de errores, inconsistencias, valores nulos y duplicados en los datos almacenados en un objeto `DataFrame`.\n",
        "\n",
        "En términos técnicos, esto implica realizar una serie de operaciones y transformaciones en los datos, tales como la eliminación de valores duplicados, la imputación de valores nulos, la normalización de datos, la detección y eliminación de outliers, entre otras.\n",
        "\n",
        "Para el presente DataFrame, analizaremos una a una las columnas más importantes para un futuro analisis exploratorio de datos. Es de recordar que estas selecciones y/o segmentaciones de datos a trabajar, van asociadas a la necesidad puntual de obtener un valor agregado de la logica del negocio; para este ejercicio seleccionare las columnas que para mi analisis son relevantes y procedere con la limpieza."
      ],
      "metadata": {
        "id": "QmxIGjNx6E8_"
      }
    },
    {
      "cell_type": "markdown",
      "source": [
        "## Columna ESTU_GENERO"
      ],
      "metadata": {
        "id": "cvq4qmd67Atb"
      }
    },
    {
      "cell_type": "code",
      "source": [
        "# Cantidad de registros por el tipo de genero\n",
        "\n",
        "# generar conteo de registros por valor único en la columna ESTU_GENERO\n",
        "df_genero = df_resultados['ESTU_GENERO'].value_counts()\n",
        "\n",
        "# establecer etiquetas y colores\n",
        "etiquetas = ['F', 'M', 'No informado']\n",
        "colores = ['#FFC0CB', '#6495ED', '#C0C0C0']\n",
        "\n",
        "# crear gráfico de torta\n",
        "plt.pie(df_genero, labels=etiquetas, colors=colores, autopct='%1.1f%%', startangle=90)\n",
        "\n",
        "# agregar leyenda\n",
        "plt.legend(title='Género', loc='center left', bbox_to_anchor=(1.0, 0.5))\n",
        "\n",
        "# mostrar gráfico\n",
        "plt.show()\n",
        "\n",
        "# imprimir resultados\n",
        "print(df_genero)"
      ],
      "metadata": {
        "colab": {
          "base_uri": "https://localhost:8080/",
          "height": 493
        },
        "id": "EeJcdV46AG8H",
        "outputId": "aac52d9c-7dfb-43e9-8268-a64889a93593"
      },
      "execution_count": 39,
      "outputs": [
        {
          "output_type": "display_data",
          "data": {
            "text/plain": [
              "<Figure size 640x480 with 1 Axes>"
            ],
            "image/png": "[encoded data removed]"
          },
          "metadata": {}
        },
        {
          "output_type": "stream",
          "name": "stdout",
          "text": [
            "ESTU_GENERO\n",
            "F    295994\n",
            "M    250097\n",
            "-       121\n",
            "Name: count, dtype: int64\n"
          ]
        }
      ]
    },
    {
      "cell_type": "markdown",
      "source": [
        "Los valores que etiquetamos como \"No informado\", representan un 0.02% del total de registros, estos estan representados con el caracter \"-\".\n",
        "\n",
        "Se procederá a reemplazar en el DataFrame original ese caracter con la etiqueta de \"Desconocido\"."
      ],
      "metadata": {
        "id": "35dSbMErLR7o"
      }
    },
    {
      "cell_type": "code",
      "source": [
        "# reemplazar valores \"-\"\n",
        "df_resultados['ESTU_GENERO'] = df_resultados['ESTU_GENERO'].replace('-', 'Desconocido')\n",
        "\n",
        "# contar registros de la columna 'ESTU_GENERO'\n",
        "df_resultados['ESTU_GENERO'].value_counts()"
      ],
      "metadata": {
        "colab": {
          "base_uri": "https://localhost:8080/",
          "height": 209
        },
        "id": "-XrRuu5tLqVT",
        "outputId": "8764b844-20c9-45ab-fd63-c6a0f128ff22"
      },
      "execution_count": 40,
      "outputs": [
        {
          "output_type": "execute_result",
          "data": {
            "text/plain": [
              "ESTU_GENERO\n",
              "F              295994\n",
              "M              250097\n",
              "Desconocido       121\n",
              "Name: count, dtype: int64"
            ],
            "text/html": [
              "<div>\n",
              "<style scoped>\n",
              "    .dataframe tbody tr th:only-of-type {\n",
              "        vertical-align: middle;\n",
              "    }\n",
              "\n",
              "    .dataframe tbody tr th {\n",
              "        vertical-align: top;\n",
              "    }\n",
              "\n",
              "    .dataframe thead th {\n",
              "        text-align: right;\n",
              "    }\n",
              "</style>\n",
              "<table border=\"1\" class=\"dataframe\">\n",
              "  <thead>\n",
              "    <tr style=\"text-align: right;\">\n",
              "      <th></th>\n",
              "      <th>count</th>\n",
              "    </tr>\n",
              "    <tr>\n",
              "      <th>ESTU_GENERO</th>\n",
              "      <th></th>\n",
              "    </tr>\n",
              "  </thead>\n",
              "  <tbody>\n",
              "    <tr>\n",
              "      <th>F</th>\n",
              "      <td>295994</td>\n",
              "    </tr>\n",
              "    <tr>\n",
              "      <th>M</th>\n",
              "      <td>250097</td>\n",
              "    </tr>\n",
              "    <tr>\n",
              "      <th>Desconocido</th>\n",
              "      <td>121</td>\n",
              "    </tr>\n",
              "  </tbody>\n",
              "</table>\n",
              "</div><br><label><b>dtype:</b> int64</label>"
            ]
          },
          "metadata": {},
          "execution_count": 40
        }
      ]
    },
    {
      "cell_type": "markdown",
      "source": [
        "## Columna ESTU_FECHANACIMIENTO"
      ],
      "metadata": {
        "id": "qJ9tqYi0NODd"
      }
    },
    {
      "cell_type": "code",
      "source": [
        "# generar conteo de registros por valor único en la columna ESTU_FECHANACIMIENTO\n",
        "df_fecha_naci = df_resultados['ESTU_FECHANACIMIENTO'].value_counts()\n",
        "\n",
        "df_fecha_naci"
      ],
      "metadata": {
        "colab": {
          "base_uri": "https://localhost:8080/",
          "height": 489
        },
        "id": "_-8H1jX9NoHG",
        "outputId": "2dfe0a59-52e9-4977-f836-48eb0c2acfca"
      },
      "execution_count": 41,
      "outputs": [
        {
          "output_type": "execute_result",
          "data": {
            "text/plain": [
              "ESTU_FECHANACIMIENTO\n",
              "01/01/1900 12:00:00 AM    1826\n",
              "09/20/2002 12:00:00 AM     866\n",
              "09/17/2002 12:00:00 AM     859\n",
              "09/13/2002 12:00:00 AM     851\n",
              "09/24/2002 12:00:00 AM     850\n",
              "                          ... \n",
              "11/21/1968 12:00:00 AM       1\n",
              "02/09/1975 12:00:00 AM       1\n",
              "02/27/1971 12:00:00 AM       1\n",
              "06/17/2005 12:00:00 AM       1\n",
              "07/01/2011 12:00:00 AM       1\n",
              "Name: count, Length: 11663, dtype: int64"
            ],
            "text/html": [
              "<div>\n",
              "<style scoped>\n",
              "    .dataframe tbody tr th:only-of-type {\n",
              "        vertical-align: middle;\n",
              "    }\n",
              "\n",
              "    .dataframe tbody tr th {\n",
              "        vertical-align: top;\n",
              "    }\n",
              "\n",
              "    .dataframe thead th {\n",
              "        text-align: right;\n",
              "    }\n",
              "</style>\n",
              "<table border=\"1\" class=\"dataframe\">\n",
              "  <thead>\n",
              "    <tr style=\"text-align: right;\">\n",
              "      <th></th>\n",
              "      <th>count</th>\n",
              "    </tr>\n",
              "    <tr>\n",
              "      <th>ESTU_FECHANACIMIENTO</th>\n",
              "      <th></th>\n",
              "    </tr>\n",
              "  </thead>\n",
              "  <tbody>\n",
              "    <tr>\n",
              "      <th>01/01/1900 12:00:00 AM</th>\n",
              "      <td>1826</td>\n",
              "    </tr>\n",
              "    <tr>\n",
              "      <th>09/20/2002 12:00:00 AM</th>\n",
              "      <td>866</td>\n",
              "    </tr>\n",
              "    <tr>\n",
              "      <th>09/17/2002 12:00:00 AM</th>\n",
              "      <td>859</td>\n",
              "    </tr>\n",
              "    <tr>\n",
              "      <th>09/13/2002 12:00:00 AM</th>\n",
              "      <td>851</td>\n",
              "    </tr>\n",
              "    <tr>\n",
              "      <th>09/24/2002 12:00:00 AM</th>\n",
              "      <td>850</td>\n",
              "    </tr>\n",
              "    <tr>\n",
              "      <th>...</th>\n",
              "      <td>...</td>\n",
              "    </tr>\n",
              "    <tr>\n",
              "      <th>11/21/1968 12:00:00 AM</th>\n",
              "      <td>1</td>\n",
              "    </tr>\n",
              "    <tr>\n",
              "      <th>02/09/1975 12:00:00 AM</th>\n",
              "      <td>1</td>\n",
              "    </tr>\n",
              "    <tr>\n",
              "      <th>02/27/1971 12:00:00 AM</th>\n",
              "      <td>1</td>\n",
              "    </tr>\n",
              "    <tr>\n",
              "      <th>06/17/2005 12:00:00 AM</th>\n",
              "      <td>1</td>\n",
              "    </tr>\n",
              "    <tr>\n",
              "      <th>07/01/2011 12:00:00 AM</th>\n",
              "      <td>1</td>\n",
              "    </tr>\n",
              "  </tbody>\n",
              "</table>\n",
              "<p>11663 rows × 1 columns</p>\n",
              "</div><br><label><b>dtype:</b> int64</label>"
            ]
          },
          "metadata": {},
          "execution_count": 41
        }
      ]
    },
    {
      "cell_type": "markdown",
      "source": [
        "Al dar un vistazo a la columna 'ESTU_FECHANACIMIENTO' es evidente notar que hay un detalle muy especifico de la fecha de nacimiento de los estudiantes. Se puede ver que los valores están en formato de fecha y hora, para esta columna inicialmente transformaremos a tipo DATE ya que solo capturaremos el año de nacimiento."
      ],
      "metadata": {
        "id": "HF_AbtuyNdSx"
      }
    },
    {
      "cell_type": "code",
      "source": [
        "# Es posible que lleguemos a evidenciar un error \"OutOfBoundsDatetime: Out of bounds nanosecond timestamp\" cuano ejecutemos el cambio de tipo de dato, indica que en la columna\n",
        "# de fechas se encuentran valores que no se pueden representar correctamente como objetos de fecha y hora de pandas.\n",
        "\n",
        "# Para solucionar ese error, debemos identificar los valores problemáticos y limpiarlos antes de convertir la columna al formato de fecha y hora de pandas.\n",
        "# Una forma de hacerlo es mediante la función \"to_datetime()\" de pandas, pasando el argumento \"errors='coerce'\". De esta forma, cualquier valor que no pueda convertirse\n",
        "# correctamente será reemplazado por \"NaT\" (valores faltantes en pandas).\n",
        "\n",
        "# limpiar valores problemáticos\n",
        "df_resultados['ESTU_FECHANACIMIENTO'] = df_resultados['ESTU_FECHANACIMIENTO'].str.replace('\\r', '')\n",
        "df_resultados['ESTU_FECHANACIMIENTO'] = df_resultados['ESTU_FECHANACIMIENTO'].str.replace('\\n', '')\n",
        "\n",
        "# convertir columna 'ESTU_FECHANACIMIENTO' al formato de fecha y hora de pandas\n",
        "df_resultados['ESTU_FECHANACIMIENTO'] = pd.to_datetime(df_resultados['ESTU_FECHANACIMIENTO'], errors='coerce')\n",
        "\n",
        "# obtener solo el año de nacimiento\n",
        "df_resultados['ANIO_NACIMIENTO'] = df_resultados['ESTU_FECHANACIMIENTO'].dt.year\n",
        "\n",
        "# Si deseamos, tenemos la opción de eliminar o no columnas innecesarias, en este caso la columna 'ESTU_FECHANACIMIENTO' será reemplazada por 'ANIO_NACIMIENTO'\n",
        "df_resultados = df_resultados.drop('ESTU_FECHANACIMIENTO', axis=1)\n",
        "\n",
        "# mostrar resultados\n",
        "df_resultados.head(3)"
      ],
      "metadata": {
        "colab": {
          "base_uri": "https://localhost:8080/",
          "height": 262
        },
        "id": "ivLrihXJO6em",
        "outputId": "655b89f0-f8f7-41c0-e284-80b377b7b46a"
      },
      "execution_count": 42,
      "outputs": [
        {
          "output_type": "stream",
          "name": "stderr",
          "text": [
            "<ipython-input-42-695a8794aefc>:13: UserWarning: Could not infer format, so each element will be parsed individually, falling back to `dateutil`. To ensure parsing is consistent and as-expected, please specify a format.\n",
            "  df_resultados['ESTU_FECHANACIMIENTO'] = pd.to_datetime(df_resultados['ESTU_FECHANACIMIENTO'], errors='coerce')\n"
          ]
        },
        {
          "output_type": "execute_result",
          "data": {
            "text/plain": [
              "  ESTU_TIPODOCUMENTO ESTU_NACIONALIDAD ESTU_GENERO  PERIODO  ESTU_CONSECUTIVO  \\\n",
              "0                 TI          COLOMBIA           M    20194  SB11201940031558   \n",
              "1                 TI          COLOMBIA           M    20194  SB11201940303339   \n",
              "2                 TI          COLOMBIA           M    20194  SB11201940255017   \n",
              "\n",
              "  ESTU_ESTUDIANTE ESTU_TIENEETNIA ESTU_PAIS_RESIDE ESTU_ETNIA  \\\n",
              "0      ESTUDIANTE              No         COLOMBIA          -   \n",
              "1      ESTUDIANTE              No         COLOMBIA          -   \n",
              "2      ESTUDIANTE              No         COLOMBIA          -   \n",
              "\n",
              "  ESTU_DEPTO_RESIDE  ... PERCENTIL_INGLES DESEMP_INGLES PUNT_GLOBAL  \\\n",
              "0         MAGDALENA  ...               67            A1         208   \n",
              "1            BOGOTÁ  ...               88            A2         299   \n",
              "2           BOLIVAR  ...               89            A2         299   \n",
              "\n",
              "  PERCENTIL_GLOBAL ESTU_INSE_INDIVIDUAL ESTU_NSE_INDIVIDUAL  \\\n",
              "0               25     50.9421557404314                 2.0   \n",
              "1               83      59.767864431576                 3.0   \n",
              "2               84     50.7642383644749                 2.0   \n",
              "\n",
              "  ESTU_NSE_ESTABLECIMIENTO ESTU_ESTADOINVESTIGACION         ESTU_GENERACION-E  \\\n",
              "0                      2.0                 PUBLICAR                        NO   \n",
              "1                      4.0                 PUBLICAR                        NO   \n",
              "2                      3.0                 PUBLICAR  GENERACION E - GRATUIDAD   \n",
              "\n",
              "  ANIO_NACIMIENTO  \n",
              "0          2002.0  \n",
              "1          2003.0  \n",
              "2          2001.0  \n",
              "\n",
              "[3 rows x 82 columns]"
            ],
            "text/html": [
              "\n",
              "  <div id=\"df-9535b78b-8f49-4fcd-a8ab-1740089f4d2c\" class=\"colab-df-container\">\n",
              "    <div>\n",
              "<style scoped>\n",
              "    .dataframe tbody tr th:only-of-type {\n",
              "        vertical-align: middle;\n",
              "    }\n",
              "\n",
              "    .dataframe tbody tr th {\n",
              "        vertical-align: top;\n",
              "    }\n",
              "\n",
              "    .dataframe thead th {\n",
              "        text-align: right;\n",
              "    }\n",
              "</style>\n",
              "<table border=\"1\" class=\"dataframe\">\n",
              "  <thead>\n",
              "    <tr style=\"text-align: right;\">\n",
              "      <th></th>\n",
              "      <th>ESTU_TIPODOCUMENTO</th>\n",
              "      <th>ESTU_NACIONALIDAD</th>\n",
              "      <th>ESTU_GENERO</th>\n",
              "      <th>PERIODO</th>\n",
              "      <th>ESTU_CONSECUTIVO</th>\n",
              "      <th>ESTU_ESTUDIANTE</th>\n",
              "      <th>ESTU_TIENEETNIA</th>\n",
              "      <th>ESTU_PAIS_RESIDE</th>\n",
              "      <th>ESTU_ETNIA</th>\n",
              "      <th>ESTU_DEPTO_RESIDE</th>\n",
              "      <th>...</th>\n",
              "      <th>PERCENTIL_INGLES</th>\n",
              "      <th>DESEMP_INGLES</th>\n",
              "      <th>PUNT_GLOBAL</th>\n",
              "      <th>PERCENTIL_GLOBAL</th>\n",
              "      <th>ESTU_INSE_INDIVIDUAL</th>\n",
              "      <th>ESTU_NSE_INDIVIDUAL</th>\n",
              "      <th>ESTU_NSE_ESTABLECIMIENTO</th>\n",
              "      <th>ESTU_ESTADOINVESTIGACION</th>\n",
              "      <th>ESTU_GENERACION-E</th>\n",
              "      <th>ANIO_NACIMIENTO</th>\n",
              "    </tr>\n",
              "  </thead>\n",
              "  <tbody>\n",
              "    <tr>\n",
              "      <th>0</th>\n",
              "      <td>TI</td>\n",
              "      <td>COLOMBIA</td>\n",
              "      <td>M</td>\n",
              "      <td>20194</td>\n",
              "      <td>SB11201940031558</td>\n",
              "      <td>ESTUDIANTE</td>\n",
              "      <td>No</td>\n",
              "      <td>COLOMBIA</td>\n",
              "      <td>-</td>\n",
              "      <td>MAGDALENA</td>\n",
              "      <td>...</td>\n",
              "      <td>67</td>\n",
              "      <td>A1</td>\n",
              "      <td>208</td>\n",
              "      <td>25</td>\n",
              "      <td>50.9421557404314</td>\n",
              "      <td>2.0</td>\n",
              "      <td>2.0</td>\n",
              "      <td>PUBLICAR</td>\n",
              "      <td>NO</td>\n",
              "      <td>2002.0</td>\n",
              "    </tr>\n",
              "    <tr>\n",
              "      <th>1</th>\n",
              "      <td>TI</td>\n",
              "      <td>COLOMBIA</td>\n",
              "      <td>M</td>\n",
              "      <td>20194</td>\n",
              "      <td>SB11201940303339</td>\n",
              "      <td>ESTUDIANTE</td>\n",
              "      <td>No</td>\n",
              "      <td>COLOMBIA</td>\n",
              "      <td>-</td>\n",
              "      <td>BOGOTÁ</td>\n",
              "      <td>...</td>\n",
              "      <td>88</td>\n",
              "      <td>A2</td>\n",
              "      <td>299</td>\n",
              "      <td>83</td>\n",
              "      <td>59.767864431576</td>\n",
              "      <td>3.0</td>\n",
              "      <td>4.0</td>\n",
              "      <td>PUBLICAR</td>\n",
              "      <td>NO</td>\n",
              "      <td>2003.0</td>\n",
              "    </tr>\n",
              "    <tr>\n",
              "      <th>2</th>\n",
              "      <td>TI</td>\n",
              "      <td>COLOMBIA</td>\n",
              "      <td>M</td>\n",
              "      <td>20194</td>\n",
              "      <td>SB11201940255017</td>\n",
              "      <td>ESTUDIANTE</td>\n",
              "      <td>No</td>\n",
              "      <td>COLOMBIA</td>\n",
              "      <td>-</td>\n",
              "      <td>BOLIVAR</td>\n",
              "      <td>...</td>\n",
              "      <td>89</td>\n",
              "      <td>A2</td>\n",
              "      <td>299</td>\n",
              "      <td>84</td>\n",
              "      <td>50.7642383644749</td>\n",
              "      <td>2.0</td>\n",
              "      <td>3.0</td>\n",
              "      <td>PUBLICAR</td>\n",
              "      <td>GENERACION E - GRATUIDAD</td>\n",
              "      <td>2001.0</td>\n",
              "    </tr>\n",
              "  </tbody>\n",
              "</table>\n",
              "<p>3 rows × 82 columns</p>\n",
              "</div>\n",
              "    <div class=\"colab-df-buttons\">\n",
              "\n",
              "  <div class=\"colab-df-container\">\n",
              "    <button class=\"colab-df-convert\" onclick=\"convertToInteractive('df-9535b78b-8f49-4fcd-a8ab-1740089f4d2c')\"\n",
              "            title=\"Convert this dataframe to an interactive table.\"\n",
              "            style=\"display:none;\">\n",
              "\n",
              "  <svg xmlns=\"http://www.w3.org/2000/svg\" height=\"24px\" viewBox=\"0 -960 960 960\">\n",
              "    <path d=\"M120-120v-720h720v720H120Zm60-500h600v-160H180v160Zm220 220h160v-160H400v160Zm0 220h160v-160H400v160ZM180-400h160v-160H180v160Zm440 0h160v-160H620v160ZM180-180h160v-160H180v160Zm440 0h160v-160H620v160Z\"/>\n",
              "  </svg>\n",
              "    </button>\n",
              "\n",
              "  <style>\n",
              "    .colab-df-container {\n",
              "      display:flex;\n",
              "      gap: 12px;\n",
              "    }\n",
              "\n",
              "    .colab-df-convert {\n",
              "      background-color: #E8F0FE;\n",
              "      border: none;\n",
              "      border-radius: 50%;\n",
              "      cursor: pointer;\n",
              "      display: none;\n",
              "      fill: #1967D2;\n",
              "      height: 32px;\n",
              "      padding: 0 0 0 0;\n",
              "      width: 32px;\n",
              "    }\n",
              "\n",
              "    .colab-df-convert:hover {\n",
              "      background-color: #E2EBFA;\n",
              "      box-shadow: 0px 1px 2px rgba(60, 64, 67, 0.3), 0px 1px 3px 1px rgba(60, 64, 67, 0.15);\n",
              "      fill: #174EA6;\n",
              "    }\n",
              "\n",
              "    .colab-df-buttons div {\n",
              "      margin-bottom: 4px;\n",
              "    }\n",
              "\n",
              "    [theme=dark] .colab-df-convert {\n",
              "      background-color: #3B4455;\n",
              "      fill: #D2E3FC;\n",
              "    }\n",
              "\n",
              "    [theme=dark] .colab-df-convert:hover {\n",
              "      background-color: #434B5C;\n",
              "      box-shadow: 0px 1px 3px 1px rgba(0, 0, 0, 0.15);\n",
              "      filter: drop-shadow(0px 1px 2px rgba(0, 0, 0, 0.3));\n",
              "      fill: #FFFFFF;\n",
              "    }\n",
              "  </style>\n",
              "\n",
              "    <script>\n",
              "      const buttonEl =\n",
              "        document.querySelector('#df-9535b78b-8f49-4fcd-a8ab-1740089f4d2c button.colab-df-convert');\n",
              "      buttonEl.style.display =\n",
              "        google.colab.kernel.accessAllowed ? 'block' : 'none';\n",
              "\n",
              "      async function convertToInteractive(key) {\n",
              "        const element = document.querySelector('#df-9535b78b-8f49-4fcd-a8ab-1740089f4d2c');\n",
              "        const dataTable =\n",
              "          await google.colab.kernel.invokeFunction('convertToInteractive',\n",
              "                                                    [key], {});\n",
              "        if (!dataTable) return;\n",
              "\n",
              "        const docLinkHtml = 'Like what you see? Visit the ' +\n",
              "          '<a target=\"_blank\" href=https://colab.research.google.com/notebooks/data_table.ipynb>data table notebook</a>'\n",
              "          + ' to learn more about interactive tables.';\n",
              "        element.innerHTML = '';\n",
              "        dataTable['output_type'] = 'display_data';\n",
              "        await google.colab.output.renderOutput(dataTable, element);\n",
              "        const docLink = document.createElement('div');\n",
              "        docLink.innerHTML = docLinkHtml;\n",
              "        element.appendChild(docLink);\n",
              "      }\n",
              "    </script>\n",
              "  </div>\n",
              "\n",
              "\n",
              "<div id=\"df-6d3638ab-6243-4401-ab33-25e449d0f33e\">\n",
              "  <button class=\"colab-df-quickchart\" onclick=\"quickchart('df-6d3638ab-6243-4401-ab33-25e449d0f33e')\"\n",
              "            title=\"Suggest charts\"\n",
              "            style=\"display:none;\">\n",
              "\n",
              "<svg xmlns=\"http://www.w3.org/2000/svg\" height=\"24px\"viewBox=\"0 0 24 24\"\n",
              "     width=\"24px\">\n",
              "    <g>\n",
              "        <path d=\"M19 3H5c-1.1 0-2 .9-2 2v14c0 1.1.9 2 2 2h14c1.1 0 2-.9 2-2V5c0-1.1-.9-2-2-2zM9 17H7v-7h2v7zm4 0h-2V7h2v10zm4 0h-2v-4h2v4z\"/>\n",
              "    </g>\n",
              "</svg>\n",
              "  </button>\n",
              "\n",
              "<style>\n",
              "  .colab-df-quickchart {\n",
              "      --bg-color: #E8F0FE;\n",
              "      --fill-color: #1967D2;\n",
              "      --hover-bg-color: #E2EBFA;\n",
              "      --hover-fill-color: #174EA6;\n",
              "      --disabled-fill-color: #AAA;\n",
              "      --disabled-bg-color: #DDD;\n",
              "  }\n",
              "\n",
              "  [theme=dark] .colab-df-quickchart {\n",
              "      --bg-color: #3B4455;\n",
              "      --fill-color: #D2E3FC;\n",
              "      --hover-bg-color: #434B5C;\n",
              "      --hover-fill-color: #FFFFFF;\n",
              "      --disabled-bg-color: #3B4455;\n",
              "      --disabled-fill-color: #666;\n",
              "  }\n",
              "\n",
              "  .colab-df-quickchart {\n",
              "    background-color: var(--bg-color);\n",
              "    border: none;\n",
              "    border-radius: 50%;\n",
              "    cursor: pointer;\n",
              "    display: none;\n",
              "    fill: var(--fill-color);\n",
              "    height: 32px;\n",
              "    padding: 0;\n",
              "    width: 32px;\n",
              "  }\n",
              "\n",
              "  .colab-df-quickchart:hover {\n",
              "    background-color: var(--hover-bg-color);\n",
              "    box-shadow: 0 1px 2px rgba(60, 64, 67, 0.3), 0 1px 3px 1px rgba(60, 64, 67, 0.15);\n",
              "    fill: var(--button-hover-fill-color);\n",
              "  }\n",
              "\n",
              "  .colab-df-quickchart-complete:disabled,\n",
              "  .colab-df-quickchart-complete:disabled:hover {\n",
              "    background-color: var(--disabled-bg-color);\n",
              "    fill: var(--disabled-fill-color);\n",
              "    box-shadow: none;\n",
              "  }\n",
              "\n",
              "  .colab-df-spinner {\n",
              "    border: 2px solid var(--fill-color);\n",
              "    border-color: transparent;\n",
              "    border-bottom-color: var(--fill-color);\n",
              "    animation:\n",
              "      spin 1s steps(1) infinite;\n",
              "  }\n",
              "\n",
              "  @keyframes spin {\n",
              "    0% {\n",
              "      border-color: transparent;\n",
              "      border-bottom-color: var(--fill-color);\n",
              "      border-left-color: var(--fill-color);\n",
              "    }\n",
              "    20% {\n",
              "      border-color: transparent;\n",
              "      border-left-color: var(--fill-color);\n",
              "      border-top-color: var(--fill-color);\n",
              "    }\n",
              "    30% {\n",
              "      border-color: transparent;\n",
              "      border-left-color: var(--fill-color);\n",
              "      border-top-color: var(--fill-color);\n",
              "      border-right-color: var(--fill-color);\n",
              "    }\n",
              "    40% {\n",
              "      border-color: transparent;\n",
              "      border-right-color: var(--fill-color);\n",
              "      border-top-color: var(--fill-color);\n",
              "    }\n",
              "    60% {\n",
              "      border-color: transparent;\n",
              "      border-right-color: var(--fill-color);\n",
              "    }\n",
              "    80% {\n",
              "      border-color: transparent;\n",
              "      border-right-color: var(--fill-color);\n",
              "      border-bottom-color: var(--fill-color);\n",
              "    }\n",
              "    90% {\n",
              "      border-color: transparent;\n",
              "      border-bottom-color: var(--fill-color);\n",
              "    }\n",
              "  }\n",
              "</style>\n",
              "\n",
              "  <script>\n",
              "    async function quickchart(key) {\n",
              "      const quickchartButtonEl =\n",
              "        document.querySelector('#' + key + ' button');\n",
              "      quickchartButtonEl.disabled = true;  // To prevent multiple clicks.\n",
              "      quickchartButtonEl.classList.add('colab-df-spinner');\n",
              "      try {\n",
              "        const charts = await google.colab.kernel.invokeFunction(\n",
              "            'suggestCharts', [key], {});\n",
              "      } catch (error) {\n",
              "        console.error('Error during call to suggestCharts:', error);\n",
              "      }\n",
              "      quickchartButtonEl.classList.remove('colab-df-spinner');\n",
              "      quickchartButtonEl.classList.add('colab-df-quickchart-complete');\n",
              "    }\n",
              "    (() => {\n",
              "      let quickchartButtonEl =\n",
              "        document.querySelector('#df-6d3638ab-6243-4401-ab33-25e449d0f33e button');\n",
              "      quickchartButtonEl.style.display =\n",
              "        google.colab.kernel.accessAllowed ? 'block' : 'none';\n",
              "    })();\n",
              "  </script>\n",
              "</div>\n",
              "\n",
              "    </div>\n",
              "  </div>\n"
            ],
            "application/vnd.google.colaboratory.intrinsic+json": {
              "type": "dataframe",
              "variable_name": "df_resultados"
            }
          },
          "metadata": {},
          "execution_count": 42
        }
      ]
    },
    {
      "cell_type": "code",
      "source": [
        "# mostrar resultados\n",
        "df_resultados['ANIO_NACIMIENTO'].value_counts()"
      ],
      "metadata": {
        "colab": {
          "base_uri": "https://localhost:8080/",
          "height": 489
        },
        "id": "x7SDkYRzQnVo",
        "outputId": "10de4144-29f0-446d-fb3e-255f31c87e32"
      },
      "execution_count": 43,
      "outputs": [
        {
          "output_type": "execute_result",
          "data": {
            "text/plain": [
              "ANIO_NACIMIENTO\n",
              "2002.0    217955\n",
              "2001.0    114088\n",
              "2003.0    110771\n",
              "2000.0     51158\n",
              "1999.0     16152\n",
              "           ...  \n",
              "1940.0         2\n",
              "1945.0         1\n",
              "2015.0         1\n",
              "1936.0         1\n",
              "1910.0         1\n",
              "Name: count, Length: 81, dtype: int64"
            ],
            "text/html": [
              "<div>\n",
              "<style scoped>\n",
              "    .dataframe tbody tr th:only-of-type {\n",
              "        vertical-align: middle;\n",
              "    }\n",
              "\n",
              "    .dataframe tbody tr th {\n",
              "        vertical-align: top;\n",
              "    }\n",
              "\n",
              "    .dataframe thead th {\n",
              "        text-align: right;\n",
              "    }\n",
              "</style>\n",
              "<table border=\"1\" class=\"dataframe\">\n",
              "  <thead>\n",
              "    <tr style=\"text-align: right;\">\n",
              "      <th></th>\n",
              "      <th>count</th>\n",
              "    </tr>\n",
              "    <tr>\n",
              "      <th>ANIO_NACIMIENTO</th>\n",
              "      <th></th>\n",
              "    </tr>\n",
              "  </thead>\n",
              "  <tbody>\n",
              "    <tr>\n",
              "      <th>2002.0</th>\n",
              "      <td>217955</td>\n",
              "    </tr>\n",
              "    <tr>\n",
              "      <th>2001.0</th>\n",
              "      <td>114088</td>\n",
              "    </tr>\n",
              "    <tr>\n",
              "      <th>2003.0</th>\n",
              "      <td>110771</td>\n",
              "    </tr>\n",
              "    <tr>\n",
              "      <th>2000.0</th>\n",
              "      <td>51158</td>\n",
              "    </tr>\n",
              "    <tr>\n",
              "      <th>1999.0</th>\n",
              "      <td>16152</td>\n",
              "    </tr>\n",
              "    <tr>\n",
              "      <th>...</th>\n",
              "      <td>...</td>\n",
              "    </tr>\n",
              "    <tr>\n",
              "      <th>1940.0</th>\n",
              "      <td>2</td>\n",
              "    </tr>\n",
              "    <tr>\n",
              "      <th>1945.0</th>\n",
              "      <td>1</td>\n",
              "    </tr>\n",
              "    <tr>\n",
              "      <th>2015.0</th>\n",
              "      <td>1</td>\n",
              "    </tr>\n",
              "    <tr>\n",
              "      <th>1936.0</th>\n",
              "      <td>1</td>\n",
              "    </tr>\n",
              "    <tr>\n",
              "      <th>1910.0</th>\n",
              "      <td>1</td>\n",
              "    </tr>\n",
              "  </tbody>\n",
              "</table>\n",
              "<p>81 rows × 1 columns</p>\n",
              "</div><br><label><b>dtype:</b> int64</label>"
            ]
          },
          "metadata": {},
          "execution_count": 43
        }
      ]
    },
    {
      "cell_type": "code",
      "source": [
        "# Podemos validar que la columna 'ANIO_NACIMIENTO' se encuentra al final.\n",
        "df_resultados.head(5)"
      ],
      "metadata": {
        "colab": {
          "base_uri": "https://localhost:8080/",
          "height": 307
        },
        "id": "xIigmAWRRhsy",
        "outputId": "88938fcc-8eab-45fc-af0c-6dfdc2343070"
      },
      "execution_count": 44,
      "outputs": [
        {
          "output_type": "execute_result",
          "data": {
            "text/plain": [
              "  ESTU_TIPODOCUMENTO ESTU_NACIONALIDAD ESTU_GENERO  PERIODO  ESTU_CONSECUTIVO  \\\n",
              "0                 TI          COLOMBIA           M    20194  SB11201940031558   \n",
              "1                 TI          COLOMBIA           M    20194  SB11201940303339   \n",
              "2                 TI          COLOMBIA           M    20194  SB11201940255017   \n",
              "3                 TI          COLOMBIA           M    20194  SB11201940154799   \n",
              "4                 TI          COLOMBIA           M    20194  SB11201940280831   \n",
              "\n",
              "  ESTU_ESTUDIANTE ESTU_TIENEETNIA ESTU_PAIS_RESIDE ESTU_ETNIA  \\\n",
              "0      ESTUDIANTE              No         COLOMBIA          -   \n",
              "1      ESTUDIANTE              No         COLOMBIA          -   \n",
              "2      ESTUDIANTE              No         COLOMBIA          -   \n",
              "3      ESTUDIANTE              Si         COLOMBIA    Ninguno   \n",
              "4      ESTUDIANTE              No         COLOMBIA          -   \n",
              "\n",
              "  ESTU_DEPTO_RESIDE  ... PERCENTIL_INGLES DESEMP_INGLES PUNT_GLOBAL  \\\n",
              "0         MAGDALENA  ...               67            A1         208   \n",
              "1            BOGOTÁ  ...               88            A2         299   \n",
              "2           BOLIVAR  ...               89            A2         299   \n",
              "3            BOGOTÁ  ...               67            A1         309   \n",
              "4            BOGOTÁ  ...               63            A1         288   \n",
              "\n",
              "  PERCENTIL_GLOBAL ESTU_INSE_INDIVIDUAL ESTU_NSE_INDIVIDUAL  \\\n",
              "0               25     50.9421557404314                 2.0   \n",
              "1               83      59.767864431576                 3.0   \n",
              "2               84     50.7642383644749                 2.0   \n",
              "3               88     45.7791353123516                 2.0   \n",
              "4               78     52.9109464277177                 3.0   \n",
              "\n",
              "  ESTU_NSE_ESTABLECIMIENTO ESTU_ESTADOINVESTIGACION         ESTU_GENERACION-E  \\\n",
              "0                      2.0                 PUBLICAR                        NO   \n",
              "1                      4.0                 PUBLICAR                        NO   \n",
              "2                      3.0                 PUBLICAR  GENERACION E - GRATUIDAD   \n",
              "3                      3.0                 PUBLICAR  GENERACION E - GRATUIDAD   \n",
              "4                      3.0                 PUBLICAR                        NO   \n",
              "\n",
              "  ANIO_NACIMIENTO  \n",
              "0          2002.0  \n",
              "1          2003.0  \n",
              "2          2001.0  \n",
              "3          2002.0  \n",
              "4          2002.0  \n",
              "\n",
              "[5 rows x 82 columns]"
            ],
            "text/html": [
              "\n",
              "  <div id=\"df-0a3c06eb-5d8b-4793-8fdf-e1a6a703f97a\" class=\"colab-df-container\">\n",
              "    <div>\n",
              "<style scoped>\n",
              "    .dataframe tbody tr th:only-of-type {\n",
              "        vertical-align: middle;\n",
              "    }\n",
              "\n",
              "    .dataframe tbody tr th {\n",
              "        vertical-align: top;\n",
              "    }\n",
              "\n",
              "    .dataframe thead th {\n",
              "        text-align: right;\n",
              "    }\n",
              "</style>\n",
              "<table border=\"1\" class=\"dataframe\">\n",
              "  <thead>\n",
              "    <tr style=\"text-align: right;\">\n",
              "      <th></th>\n",
              "      <th>ESTU_TIPODOCUMENTO</th>\n",
              "      <th>ESTU_NACIONALIDAD</th>\n",
              "      <th>ESTU_GENERO</th>\n",
              "      <th>PERIODO</th>\n",
              "      <th>ESTU_CONSECUTIVO</th>\n",
              "      <th>ESTU_ESTUDIANTE</th>\n",
              "      <th>ESTU_TIENEETNIA</th>\n",
              "      <th>ESTU_PAIS_RESIDE</th>\n",
              "      <th>ESTU_ETNIA</th>\n",
              "      <th>ESTU_DEPTO_RESIDE</th>\n",
              "      <th>...</th>\n",
              "      <th>PERCENTIL_INGLES</th>\n",
              "      <th>DESEMP_INGLES</th>\n",
              "      <th>PUNT_GLOBAL</th>\n",
              "      <th>PERCENTIL_GLOBAL</th>\n",
              "      <th>ESTU_INSE_INDIVIDUAL</th>\n",
              "      <th>ESTU_NSE_INDIVIDUAL</th>\n",
              "      <th>ESTU_NSE_ESTABLECIMIENTO</th>\n",
              "      <th>ESTU_ESTADOINVESTIGACION</th>\n",
              "      <th>ESTU_GENERACION-E</th>\n",
              "      <th>ANIO_NACIMIENTO</th>\n",
              "    </tr>\n",
              "  </thead>\n",
              "  <tbody>\n",
              "    <tr>\n",
              "      <th>0</th>\n",
              "      <td>TI</td>\n",
              "      <td>COLOMBIA</td>\n",
              "      <td>M</td>\n",
              "      <td>20194</td>\n",
              "      <td>SB11201940031558</td>\n",
              "      <td>ESTUDIANTE</td>\n",
              "      <td>No</td>\n",
              "      <td>COLOMBIA</td>\n",
              "      <td>-</td>\n",
              "      <td>MAGDALENA</td>\n",
              "      <td>...</td>\n",
              "      <td>67</td>\n",
              "      <td>A1</td>\n",
              "      <td>208</td>\n",
              "      <td>25</td>\n",
              "      <td>50.9421557404314</td>\n",
              "      <td>2.0</td>\n",
              "      <td>2.0</td>\n",
              "      <td>PUBLICAR</td>\n",
              "      <td>NO</td>\n",
              "      <td>2002.0</td>\n",
              "    </tr>\n",
              "    <tr>\n",
              "      <th>1</th>\n",
              "      <td>TI</td>\n",
              "      <td>COLOMBIA</td>\n",
              "      <td>M</td>\n",
              "      <td>20194</td>\n",
              "      <td>SB11201940303339</td>\n",
              "      <td>ESTUDIANTE</td>\n",
              "      <td>No</td>\n",
              "      <td>COLOMBIA</td>\n",
              "      <td>-</td>\n",
              "      <td>BOGOTÁ</td>\n",
              "      <td>...</td>\n",
              "      <td>88</td>\n",
              "      <td>A2</td>\n",
              "      <td>299</td>\n",
              "      <td>83</td>\n",
              "      <td>59.767864431576</td>\n",
              "      <td>3.0</td>\n",
              "      <td>4.0</td>\n",
              "      <td>PUBLICAR</td>\n",
              "      <td>NO</td>\n",
              "      <td>2003.0</td>\n",
              "    </tr>\n",
              "    <tr>\n",
              "      <th>2</th>\n",
              "      <td>TI</td>\n",
              "      <td>COLOMBIA</td>\n",
              "      <td>M</td>\n",
              "      <td>20194</td>\n",
              "      <td>SB11201940255017</td>\n",
              "      <td>ESTUDIANTE</td>\n",
              "      <td>No</td>\n",
              "      <td>COLOMBIA</td>\n",
              "      <td>-</td>\n",
              "      <td>BOLIVAR</td>\n",
              "      <td>...</td>\n",
              "      <td>89</td>\n",
              "      <td>A2</td>\n",
              "      <td>299</td>\n",
              "      <td>84</td>\n",
              "      <td>50.7642383644749</td>\n",
              "      <td>2.0</td>\n",
              "      <td>3.0</td>\n",
              "      <td>PUBLICAR</td>\n",
              "      <td>GENERACION E - GRATUIDAD</td>\n",
              "      <td>2001.0</td>\n",
              "    </tr>\n",
              "    <tr>\n",
              "      <th>3</th>\n",
              "      <td>TI</td>\n",
              "      <td>COLOMBIA</td>\n",
              "      <td>M</td>\n",
              "      <td>20194</td>\n",
              "      <td>SB11201940154799</td>\n",
              "      <td>ESTUDIANTE</td>\n",
              "      <td>Si</td>\n",
              "      <td>COLOMBIA</td>\n",
              "      <td>Ninguno</td>\n",
              "      <td>BOGOTÁ</td>\n",
              "      <td>...</td>\n",
              "      <td>67</td>\n",
              "      <td>A1</td>\n",
              "      <td>309</td>\n",
              "      <td>88</td>\n",
              "      <td>45.7791353123516</td>\n",
              "      <td>2.0</td>\n",
              "      <td>3.0</td>\n",
              "      <td>PUBLICAR</td>\n",
              "      <td>GENERACION E - GRATUIDAD</td>\n",
              "      <td>2002.0</td>\n",
              "    </tr>\n",
              "    <tr>\n",
              "      <th>4</th>\n",
              "      <td>TI</td>\n",
              "      <td>COLOMBIA</td>\n",
              "      <td>M</td>\n",
              "      <td>20194</td>\n",
              "      <td>SB11201940280831</td>\n",
              "      <td>ESTUDIANTE</td>\n",
              "      <td>No</td>\n",
              "      <td>COLOMBIA</td>\n",
              "      <td>-</td>\n",
              "      <td>BOGOTÁ</td>\n",
              "      <td>...</td>\n",
              "      <td>63</td>\n",
              "      <td>A1</td>\n",
              "      <td>288</td>\n",
              "      <td>78</td>\n",
              "      <td>52.9109464277177</td>\n",
              "      <td>3.0</td>\n",
              "      <td>3.0</td>\n",
              "      <td>PUBLICAR</td>\n",
              "      <td>NO</td>\n",
              "      <td>2002.0</td>\n",
              "    </tr>\n",
              "  </tbody>\n",
              "</table>\n",
              "<p>5 rows × 82 columns</p>\n",
              "</div>\n",
              "    <div class=\"colab-df-buttons\">\n",
              "\n",
              "  <div class=\"colab-df-container\">\n",
              "    <button class=\"colab-df-convert\" onclick=\"convertToInteractive('df-0a3c06eb-5d8b-4793-8fdf-e1a6a703f97a')\"\n",
              "            title=\"Convert this dataframe to an interactive table.\"\n",
              "            style=\"display:none;\">\n",
              "\n",
              "  <svg xmlns=\"http://www.w3.org/2000/svg\" height=\"24px\" viewBox=\"0 -960 960 960\">\n",
              "    <path d=\"M120-120v-720h720v720H120Zm60-500h600v-160H180v160Zm220 220h160v-160H400v160Zm0 220h160v-160H400v160ZM180-400h160v-160H180v160Zm440 0h160v-160H620v160ZM180-180h160v-160H180v160Zm440 0h160v-160H620v160Z\"/>\n",
              "  </svg>\n",
              "    </button>\n",
              "\n",
              "  <style>\n",
              "    .colab-df-container {\n",
              "      display:flex;\n",
              "      gap: 12px;\n",
              "    }\n",
              "\n",
              "    .colab-df-convert {\n",
              "      background-color: #E8F0FE;\n",
              "      border: none;\n",
              "      border-radius: 50%;\n",
              "      cursor: pointer;\n",
              "      display: none;\n",
              "      fill: #1967D2;\n",
              "      height: 32px;\n",
              "      padding: 0 0 0 0;\n",
              "      width: 32px;\n",
              "    }\n",
              "\n",
              "    .colab-df-convert:hover {\n",
              "      background-color: #E2EBFA;\n",
              "      box-shadow: 0px 1px 2px rgba(60, 64, 67, 0.3), 0px 1px 3px 1px rgba(60, 64, 67, 0.15);\n",
              "      fill: #174EA6;\n",
              "    }\n",
              "\n",
              "    .colab-df-buttons div {\n",
              "      margin-bottom: 4px;\n",
              "    }\n",
              "\n",
              "    [theme=dark] .colab-df-convert {\n",
              "      background-color: #3B4455;\n",
              "      fill: #D2E3FC;\n",
              "    }\n",
              "\n",
              "    [theme=dark] .colab-df-convert:hover {\n",
              "      background-color: #434B5C;\n",
              "      box-shadow: 0px 1px 3px 1px rgba(0, 0, 0, 0.15);\n",
              "      filter: drop-shadow(0px 1px 2px rgba(0, 0, 0, 0.3));\n",
              "      fill: #FFFFFF;\n",
              "    }\n",
              "  </style>\n",
              "\n",
              "    <script>\n",
              "      const buttonEl =\n",
              "        document.querySelector('#df-0a3c06eb-5d8b-4793-8fdf-e1a6a703f97a button.colab-df-convert');\n",
              "      buttonEl.style.display =\n",
              "        google.colab.kernel.accessAllowed ? 'block' : 'none';\n",
              "\n",
              "      async function convertToInteractive(key) {\n",
              "        const element = document.querySelector('#df-0a3c06eb-5d8b-4793-8fdf-e1a6a703f97a');\n",
              "        const dataTable =\n",
              "          await google.colab.kernel.invokeFunction('convertToInteractive',\n",
              "                                                    [key], {});\n",
              "        if (!dataTable) return;\n",
              "\n",
              "        const docLinkHtml = 'Like what you see? Visit the ' +\n",
              "          '<a target=\"_blank\" href=https://colab.research.google.com/notebooks/data_table.ipynb>data table notebook</a>'\n",
              "          + ' to learn more about interactive tables.';\n",
              "        element.innerHTML = '';\n",
              "        dataTable['output_type'] = 'display_data';\n",
              "        await google.colab.output.renderOutput(dataTable, element);\n",
              "        const docLink = document.createElement('div');\n",
              "        docLink.innerHTML = docLinkHtml;\n",
              "        element.appendChild(docLink);\n",
              "      }\n",
              "    </script>\n",
              "  </div>\n",
              "\n",
              "\n",
              "<div id=\"df-d5c59635-9829-44a4-93b8-98bf903209c2\">\n",
              "  <button class=\"colab-df-quickchart\" onclick=\"quickchart('df-d5c59635-9829-44a4-93b8-98bf903209c2')\"\n",
              "            title=\"Suggest charts\"\n",
              "            style=\"display:none;\">\n",
              "\n",
              "<svg xmlns=\"http://www.w3.org/2000/svg\" height=\"24px\"viewBox=\"0 0 24 24\"\n",
              "     width=\"24px\">\n",
              "    <g>\n",
              "        <path d=\"M19 3H5c-1.1 0-2 .9-2 2v14c0 1.1.9 2 2 2h14c1.1 0 2-.9 2-2V5c0-1.1-.9-2-2-2zM9 17H7v-7h2v7zm4 0h-2V7h2v10zm4 0h-2v-4h2v4z\"/>\n",
              "    </g>\n",
              "</svg>\n",
              "  </button>\n",
              "\n",
              "<style>\n",
              "  .colab-df-quickchart {\n",
              "      --bg-color: #E8F0FE;\n",
              "      --fill-color: #1967D2;\n",
              "      --hover-bg-color: #E2EBFA;\n",
              "      --hover-fill-color: #174EA6;\n",
              "      --disabled-fill-color: #AAA;\n",
              "      --disabled-bg-color: #DDD;\n",
              "  }\n",
              "\n",
              "  [theme=dark] .colab-df-quickchart {\n",
              "      --bg-color: #3B4455;\n",
              "      --fill-color: #D2E3FC;\n",
              "      --hover-bg-color: #434B5C;\n",
              "      --hover-fill-color: #FFFFFF;\n",
              "      --disabled-bg-color: #3B4455;\n",
              "      --disabled-fill-color: #666;\n",
              "  }\n",
              "\n",
              "  .colab-df-quickchart {\n",
              "    background-color: var(--bg-color);\n",
              "    border: none;\n",
              "    border-radius: 50%;\n",
              "    cursor: pointer;\n",
              "    display: none;\n",
              "    fill: var(--fill-color);\n",
              "    height: 32px;\n",
              "    padding: 0;\n",
              "    width: 32px;\n",
              "  }\n",
              "\n",
              "  .colab-df-quickchart:hover {\n",
              "    background-color: var(--hover-bg-color);\n",
              "    box-shadow: 0 1px 2px rgba(60, 64, 67, 0.3), 0 1px 3px 1px rgba(60, 64, 67, 0.15);\n",
              "    fill: var(--button-hover-fill-color);\n",
              "  }\n",
              "\n",
              "  .colab-df-quickchart-complete:disabled,\n",
              "  .colab-df-quickchart-complete:disabled:hover {\n",
              "    background-color: var(--disabled-bg-color);\n",
              "    fill: var(--disabled-fill-color);\n",
              "    box-shadow: none;\n",
              "  }\n",
              "\n",
              "  .colab-df-spinner {\n",
              "    border: 2px solid var(--fill-color);\n",
              "    border-color: transparent;\n",
              "    border-bottom-color: var(--fill-color);\n",
              "    animation:\n",
              "      spin 1s steps(1) infinite;\n",
              "  }\n",
              "\n",
              "  @keyframes spin {\n",
              "    0% {\n",
              "      border-color: transparent;\n",
              "      border-bottom-color: var(--fill-color);\n",
              "      border-left-color: var(--fill-color);\n",
              "    }\n",
              "    20% {\n",
              "      border-color: transparent;\n",
              "      border-left-color: var(--fill-color);\n",
              "      border-top-color: var(--fill-color);\n",
              "    }\n",
              "    30% {\n",
              "      border-color: transparent;\n",
              "      border-left-color: var(--fill-color);\n",
              "      border-top-color: var(--fill-color);\n",
              "      border-right-color: var(--fill-color);\n",
              "    }\n",
              "    40% {\n",
              "      border-color: transparent;\n",
              "      border-right-color: var(--fill-color);\n",
              "      border-top-color: var(--fill-color);\n",
              "    }\n",
              "    60% {\n",
              "      border-color: transparent;\n",
              "      border-right-color: var(--fill-color);\n",
              "    }\n",
              "    80% {\n",
              "      border-color: transparent;\n",
              "      border-right-color: var(--fill-color);\n",
              "      border-bottom-color: var(--fill-color);\n",
              "    }\n",
              "    90% {\n",
              "      border-color: transparent;\n",
              "      border-bottom-color: var(--fill-color);\n",
              "    }\n",
              "  }\n",
              "</style>\n",
              "\n",
              "  <script>\n",
              "    async function quickchart(key) {\n",
              "      const quickchartButtonEl =\n",
              "        document.querySelector('#' + key + ' button');\n",
              "      quickchartButtonEl.disabled = true;  // To prevent multiple clicks.\n",
              "      quickchartButtonEl.classList.add('colab-df-spinner');\n",
              "      try {\n",
              "        const charts = await google.colab.kernel.invokeFunction(\n",
              "            'suggestCharts', [key], {});\n",
              "      } catch (error) {\n",
              "        console.error('Error during call to suggestCharts:', error);\n",
              "      }\n",
              "      quickchartButtonEl.classList.remove('colab-df-spinner');\n",
              "      quickchartButtonEl.classList.add('colab-df-quickchart-complete');\n",
              "    }\n",
              "    (() => {\n",
              "      let quickchartButtonEl =\n",
              "        document.querySelector('#df-d5c59635-9829-44a4-93b8-98bf903209c2 button');\n",
              "      quickchartButtonEl.style.display =\n",
              "        google.colab.kernel.accessAllowed ? 'block' : 'none';\n",
              "    })();\n",
              "  </script>\n",
              "</div>\n",
              "\n",
              "    </div>\n",
              "  </div>\n"
            ],
            "application/vnd.google.colaboratory.intrinsic+json": {
              "type": "dataframe",
              "variable_name": "df_resultados"
            }
          },
          "metadata": {},
          "execution_count": 44
        }
      ]
    },
    {
      "cell_type": "code",
      "source": [
        "# contar registros por año de nacimiento\n",
        "conteo_por_anio = df_resultados['ANIO_NACIMIENTO'].value_counts()\n",
        "\n",
        "# filtrar años de interés, iniciaremos por los nacidos entre 1999 y 2019\n",
        "filtro = (conteo_por_anio.index >= 1999) & (conteo_por_anio.index <= 2019)\n",
        "conteo_por_anio_filtrado = conteo_por_anio.loc[filtro]\n",
        "\n",
        "# mostrar resultados\n",
        "print(conteo_por_anio_filtrado)\n",
        "plt.show()"
      ],
      "metadata": {
        "colab": {
          "base_uri": "https://localhost:8080/"
        },
        "id": "he-tGzGiSJjj",
        "outputId": "5ab516c9-d0f8-4f63-a6a7-1740f77848bf"
      },
      "execution_count": 45,
      "outputs": [
        {
          "output_type": "stream",
          "name": "stdout",
          "text": [
            "ANIO_NACIMIENTO\n",
            "2002.0    217955\n",
            "2001.0    114088\n",
            "2003.0    110771\n",
            "2000.0     51158\n",
            "1999.0     16152\n",
            "2004.0      5040\n",
            "2005.0       184\n",
            "2009.0       114\n",
            "2010.0       111\n",
            "2019.0        97\n",
            "2011.0        72\n",
            "2006.0        45\n",
            "2008.0        43\n",
            "2012.0        42\n",
            "2007.0        29\n",
            "2018.0        25\n",
            "2013.0        24\n",
            "2014.0         8\n",
            "2017.0         7\n",
            "2016.0         3\n",
            "2015.0         1\n",
            "Name: count, dtype: int64\n"
          ]
        }
      ]
    },
    {
      "cell_type": "markdown",
      "source": [
        "Podemos observar algunos registros que son Outliers (valores atipicos):\n",
        "\n",
        "La edad promedio de presentación del examen ICFES es entre los 14 y 20 años, por ende los nacidos entre los años 2006 y 2019, o son datos erroneos o mal diligenciados.\n",
        "\n",
        "Sin embargo, hay una excepción, ocurrio en el año 2012. Uno de los registros de estudiantes con menor edad en presentar el examen ICFES pertenece a [Juan Sebastián Andrés Pérez Riaño](https://www.elcolombiano.com/colombia/nino-de-doce-anos-presento-el-icfes-y-se-va-a-graduar-GE18585650), un niño de 12 años que estudio en Yopal, Casanare. Esto fue en 2022, con base a este, y generando una hipótesis (que luego deberá ser validada o descartada), se limpiaran y datos de los nacidos de 2007 hacía abajo, es decir, los nacidos entre 2008 y 2019, serán registros a eliminar."
      ],
      "metadata": {
        "id": "lnmoaA77S1qZ"
      }
    },
    {
      "cell_type": "code",
      "source": [
        "# contar registros por año de nacimiento\n",
        "conteo_por_anio = df_resultados['ANIO_NACIMIENTO'].value_counts()\n",
        "\n",
        "# filtrar años de interés\n",
        "filtro = (conteo_por_anio.index >= 2008) & (conteo_por_anio.index <= 2019)\n",
        "conteo_por_anio_filtrado = conteo_por_anio.loc[filtro]\n",
        "\n",
        "# mostrar resultados\n",
        "print(conteo_por_anio_filtrado)\n",
        "plt.show()"
      ],
      "metadata": {
        "colab": {
          "base_uri": "https://localhost:8080/"
        },
        "id": "1ZxiMRwQVU6X",
        "outputId": "df51e4df-f31c-4a08-f1a0-66b46ebb7981"
      },
      "execution_count": 46,
      "outputs": [
        {
          "output_type": "stream",
          "name": "stdout",
          "text": [
            "ANIO_NACIMIENTO\n",
            "2009.0    114\n",
            "2010.0    111\n",
            "2019.0     97\n",
            "2011.0     72\n",
            "2008.0     43\n",
            "2012.0     42\n",
            "2018.0     25\n",
            "2013.0     24\n",
            "2014.0      8\n",
            "2017.0      7\n",
            "2016.0      3\n",
            "2015.0      1\n",
            "Name: count, dtype: int64\n"
          ]
        }
      ]
    },
    {
      "cell_type": "code",
      "source": [
        "print(\"Entre los años 2006 y 2019, hay un total de:\", conteo_por_anio_filtrado.sum())"
      ],
      "metadata": {
        "colab": {
          "base_uri": "https://localhost:8080/"
        },
        "id": "PDIv917TV4HS",
        "outputId": "91538231-1e1b-4eb2-9494-169aa02eb98f"
      },
      "execution_count": 47,
      "outputs": [
        {
          "output_type": "stream",
          "name": "stdout",
          "text": [
            "Entre los años 2006 y 2019, hay un total de: 547\n"
          ]
        }
      ]
    },
    {
      "cell_type": "markdown",
      "source": [
        "547 son los registros que generan incongruencia entre los años nacidos de los estudiantes, es decir, de la población total, hacemos referencia a que esos 547 representa un 0.11% del DataFrame, por ende se procede a borrar los registros nacidos en esos años."
      ],
      "metadata": {
        "id": "LmKzM_UDVmB4"
      }
    },
    {
      "cell_type": "code",
      "source": [
        "# Identificar los índices de los registros a eliminar\n",
        "indices_eliminar = df_resultados[(df_resultados['ANIO_NACIMIENTO'] >= 2008) & (df_resultados['ANIO_NACIMIENTO'] <= 2019)].index\n",
        "\n",
        "# Eliminar los registros\n",
        "df_resultados = df_resultados.drop(indices_eliminar)\n",
        "\n",
        "# Verificar que se hayan eliminado los registros\n",
        "print(df_resultados['ANIO_NACIMIENTO'].value_counts())\n",
        "plt.show()\n",
        "\n",
        "print(\"Se eliminaron:\", conteo_por_anio_filtrado.sum(),'registros que pertencen a los outliers de nacidos entre 2008 y 2019, es decir, edades entre 11 y 0 años')"
      ],
      "metadata": {
        "colab": {
          "base_uri": "https://localhost:8080/"
        },
        "id": "1Hapx-4UWtdQ",
        "outputId": "5ee00693-6510-4010-cb4c-2dbc684a16ef"
      },
      "execution_count": 48,
      "outputs": [
        {
          "output_type": "stream",
          "name": "stdout",
          "text": [
            "ANIO_NACIMIENTO\n",
            "2002.0    217955\n",
            "2001.0    114088\n",
            "2003.0    110771\n",
            "2000.0     51158\n",
            "1999.0     16152\n",
            "           ...  \n",
            "1943.0         2\n",
            "1940.0         2\n",
            "1945.0         1\n",
            "1936.0         1\n",
            "1910.0         1\n",
            "Name: count, Length: 69, dtype: int64\n",
            "Se eliminaron: 547 registros que pertencen a los outliers de nacidos entre 2008 y 2019, es decir, edades entre 11 y 0 años\n"
          ]
        }
      ]
    },
    {
      "cell_type": "markdown",
      "source": [
        "Con base en lo anterior, se realizará análisis de edades de nacimiento de 2007 hacía abajo. El promedio de edad de los estudiantes a la hora de presentarse al examen ICFES, a lo largo de la historia, es de 15,16,17,18, 19 y 20 años."
      ],
      "metadata": {
        "id": "KAotbCQbXJxm"
      }
    },
    {
      "cell_type": "code",
      "source": [
        "import matplotlib.pyplot as plt\n",
        "\n",
        "# Suponiendo que df_resultados es tu DataFrame original\n",
        "\n",
        "# Contar registros por año de nacimiento\n",
        "conteo_por_anio = df_resultados['ANIO_NACIMIENTO'].value_counts().reset_index()\n",
        "\n",
        "# Renombrar las columnas correctamente\n",
        "conteo_por_anio.columns = ['Anio', 'Cantidad']\n",
        "\n",
        "# Convertir la columna 'Anio' a tipo numérico\n",
        "conteo_por_anio['Anio'] = pd.to_numeric(conteo_por_anio['Anio'], errors='coerce')\n",
        "\n",
        "# Filtrar años de interés (1997 a 2007)\n",
        "filtro = (conteo_por_anio['Anio'] >= 1997) & (conteo_por_anio['Anio'] <= 2007)\n",
        "conteo_por_anio_1997_2007 = conteo_por_anio.loc[filtro]\n",
        "\n",
        "# Mostrar resultados\n",
        "print(conteo_por_anio_1997_2007.to_string(index=False))\n",
        "plt.show()\n",
        "\n",
        "# Calcular y mostrar el total\n",
        "print(\"Entre los nacidos de los años 1997 y 2007, hay un total de\", conteo_por_anio_1997_2007['Cantidad'].sum(), \"estudiantes que presentaron el examen ICFES en 2019-2\")\n"
      ],
      "metadata": {
        "colab": {
          "base_uri": "https://localhost:8080/"
        },
        "id": "bEaE7dRtWUBf",
        "outputId": "2d660c31-6c1e-4c01-afcd-c225195afde7"
      },
      "execution_count": 49,
      "outputs": [
        {
          "output_type": "stream",
          "name": "stdout",
          "text": [
            "  Anio  Cantidad\n",
            "2002.0    217955\n",
            "2001.0    114088\n",
            "2003.0    110771\n",
            "2000.0     51158\n",
            "1999.0     16152\n",
            "1998.0      6050\n",
            "2004.0      5040\n",
            "1997.0      3336\n",
            "2005.0       184\n",
            "2006.0        45\n",
            "2007.0        29\n",
            "Entre los nacidos de los años 1997 y 2007, hay un total de 524808 estudiantes que presentaron el examen ICFES en 2019-2\n"
          ]
        }
      ]
    },
    {
      "cell_type": "code",
      "source": [
        "# crear gráfico de barras\n",
        "fig, ax = plt.subplots()\n",
        "fig.set_size_inches(12, 4)\n",
        "ax.bar(conteo_por_anio_1997_2007['Anio'], conteo_por_anio_1997_2007['Cantidad'], color=['tab:red', 'tab:blue', 'tab:red', 'tab:orange', 'tab:green', 'tab:purple', 'tab:pink', 'tab:brown', 'tab:olive', 'tab:cyan', 'tab:gray'], label=conteo_por_anio_1997_2007['Anio'].astype(int).astype(str))\n",
        "\n",
        "# agregar leyendas y etiquetas\n",
        "ax.set_xlabel('Año de nacimiento')\n",
        "ax.set_ylabel('Cantidad de registros')\n",
        "ax.set_title('Registros por año de nacimiento (1997-2007)')\n",
        "ax.legend(title='Año de nacimiento', bbox_to_anchor=(1.05, 1), loc='upper left')\n",
        "\n",
        "# mostrar resultados\n",
        "plt.show()"
      ],
      "metadata": {
        "colab": {
          "base_uri": "https://localhost:8080/",
          "height": 410
        },
        "id": "kLnce8uxQvPD",
        "outputId": "f7d1c968-469f-42fa-84e9-36cc01b2b651"
      },
      "execution_count": 50,
      "outputs": [
        {
          "output_type": "display_data",
          "data": {
            "text/plain": [
              "<Figure size 1200x400 with 1 Axes>"
            ],
            "image/png": "[encoded data removed]"
          },
          "metadata": {}
        }
      ]
    },
    {
      "cell_type": "markdown",
      "source": [
        "Esta cifra equivale al 96% de los registros, una gran población, y que se ajusta los promedios de edades con base al registro del niño de 12 que fue en 2022, pero que sirve como un precente a tener en cuenta."
      ],
      "metadata": {
        "id": "rhJgtc7ZMPdm"
      }
    },
    {
      "cell_type": "code",
      "source": [
        "#\tValidación de nacidos de 1990 a 1996, se conservaran dichos registros por la cantidad acorde a la población filtrada.\n",
        "\n",
        "# contar registros por año de nacimiento\n",
        "conteo_por_anio = df_resultados['ANIO_NACIMIENTO'].value_counts().reset_index()\n",
        "\n",
        "# filtrar años de interés\n",
        "filtro = (conteo_por_anio['index'] >= 1990) & (conteo_por_anio['index'] <= 1996)\n",
        "conteo_por_anio_1990_1996 = conteo_por_anio.loc[filtro].rename(columns={'index': 'Anio', 'ANIO_NACIMIENTO': 'Cantidad'})\n",
        "\n",
        "# mostrar resultados\n",
        "print(conteo_por_anio_1990_1996.to_string(index=False))\n",
        "plt.show()\n",
        "\n",
        "print(\"Entre los nacidos de los años 1990 y 1996, hay un total de\", conteo_por_anio_1990_1996['Cantidad'].sum(),\"estudiantes que presentaron el examen ICFES en 2019-2\")"
      ],
      "metadata": {
        "colab": {
          "base_uri": "https://localhost:8080/",
          "height": 547
        },
        "id": "mF9H4VCHOx3V",
        "outputId": "16e7ac44-c7c8-460b-e198-30bfb29a1244"
      },
      "execution_count": 31,
      "outputs": [
        {
          "output_type": "error",
          "ename": "KeyError",
          "evalue": "'index'",
          "traceback": [
            "\u001b[0;31m---------------------------------------------------------------------------\u001b[0m",
            "\u001b[0;31mKeyError\u001b[0m                                  Traceback (most recent call last)",
            "\u001b[0;32m/usr/local/lib/python3.10/dist-packages/pandas/core/indexes/base.py\u001b[0m in \u001b[0;36mget_loc\u001b[0;34m(self, key)\u001b[0m\n\u001b[1;32m   3790\u001b[0m         \u001b[0;32mtry\u001b[0m\u001b[0;34m:\u001b[0m\u001b[0;34m\u001b[0m\u001b[0;34m\u001b[0m\u001b[0m\n\u001b[0;32m-> 3791\u001b[0;31m             \u001b[0;32mreturn\u001b[0m \u001b[0mself\u001b[0m\u001b[0;34m.\u001b[0m\u001b[0m_engine\u001b[0m\u001b[0;34m.\u001b[0m\u001b[0mget_loc\u001b[0m\u001b[0;34m(\u001b[0m\u001b[0mcasted_key\u001b[0m\u001b[0;34m)\u001b[0m\u001b[0;34m\u001b[0m\u001b[0;34m\u001b[0m\u001b[0m\n\u001b[0m\u001b[1;32m   3792\u001b[0m         \u001b[0;32mexcept\u001b[0m \u001b[0mKeyError\u001b[0m \u001b[0;32mas\u001b[0m \u001b[0merr\u001b[0m\u001b[0;34m:\u001b[0m\u001b[0;34m\u001b[0m\u001b[0;34m\u001b[0m\u001b[0m\n",
            "\u001b[0;32mindex.pyx\u001b[0m in \u001b[0;36mpandas._libs.index.IndexEngine.get_loc\u001b[0;34m()\u001b[0m\n",
            "\u001b[0;32mindex.pyx\u001b[0m in \u001b[0;36mpandas._libs.index.IndexEngine.get_loc\u001b[0;34m()\u001b[0m\n",
            "\u001b[0;32mpandas/_libs/hashtable_class_helper.pxi\u001b[0m in \u001b[0;36mpandas._libs.hashtable.PyObjectHashTable.get_item\u001b[0;34m()\u001b[0m\n",
            "\u001b[0;32mpandas/_libs/hashtable_class_helper.pxi\u001b[0m in \u001b[0;36mpandas._libs.hashtable.PyObjectHashTable.get_item\u001b[0;34m()\u001b[0m\n",
            "\u001b[0;31mKeyError\u001b[0m: 'index'",
            "\nThe above exception was the direct cause of the following exception:\n",
            "\u001b[0;31mKeyError\u001b[0m                                  Traceback (most recent call last)",
            "\u001b[0;32m<ipython-input-31-9dff09d9598c>\u001b[0m in \u001b[0;36m<cell line: 7>\u001b[0;34m()\u001b[0m\n\u001b[1;32m      5\u001b[0m \u001b[0;34m\u001b[0m\u001b[0m\n\u001b[1;32m      6\u001b[0m \u001b[0;31m# filtrar años de interés\u001b[0m\u001b[0;34m\u001b[0m\u001b[0;34m\u001b[0m\u001b[0m\n\u001b[0;32m----> 7\u001b[0;31m \u001b[0mfiltro\u001b[0m \u001b[0;34m=\u001b[0m \u001b[0;34m(\u001b[0m\u001b[0mconteo_por_anio\u001b[0m\u001b[0;34m[\u001b[0m\u001b[0;34m'index'\u001b[0m\u001b[0;34m]\u001b[0m \u001b[0;34m>=\u001b[0m \u001b[0;36m1990\u001b[0m\u001b[0;34m)\u001b[0m \u001b[0;34m&\u001b[0m \u001b[0;34m(\u001b[0m\u001b[0mconteo_por_anio\u001b[0m\u001b[0;34m[\u001b[0m\u001b[0;34m'index'\u001b[0m\u001b[0;34m]\u001b[0m \u001b[0;34m<=\u001b[0m \u001b[0;36m1996\u001b[0m\u001b[0;34m)\u001b[0m\u001b[0;34m\u001b[0m\u001b[0;34m\u001b[0m\u001b[0m\n\u001b[0m\u001b[1;32m      8\u001b[0m \u001b[0mconteo_por_anio_1990_1996\u001b[0m \u001b[0;34m=\u001b[0m \u001b[0mconteo_por_anio\u001b[0m\u001b[0;34m.\u001b[0m\u001b[0mloc\u001b[0m\u001b[0;34m[\u001b[0m\u001b[0mfiltro\u001b[0m\u001b[0;34m]\u001b[0m\u001b[0;34m.\u001b[0m\u001b[0mrename\u001b[0m\u001b[0;34m(\u001b[0m\u001b[0mcolumns\u001b[0m\u001b[0;34m=\u001b[0m\u001b[0;34m{\u001b[0m\u001b[0;34m'index'\u001b[0m\u001b[0;34m:\u001b[0m \u001b[0;34m'Anio'\u001b[0m\u001b[0;34m,\u001b[0m \u001b[0;34m'ANIO_NACIMIENTO'\u001b[0m\u001b[0;34m:\u001b[0m \u001b[0;34m'Cantidad'\u001b[0m\u001b[0;34m}\u001b[0m\u001b[0;34m)\u001b[0m\u001b[0;34m\u001b[0m\u001b[0;34m\u001b[0m\u001b[0m\n\u001b[1;32m      9\u001b[0m \u001b[0;34m\u001b[0m\u001b[0m\n",
            "\u001b[0;32m/usr/local/lib/python3.10/dist-packages/pandas/core/frame.py\u001b[0m in \u001b[0;36m__getitem__\u001b[0;34m(self, key)\u001b[0m\n\u001b[1;32m   3891\u001b[0m             \u001b[0;32mif\u001b[0m \u001b[0mself\u001b[0m\u001b[0;34m.\u001b[0m\u001b[0mcolumns\u001b[0m\u001b[0;34m.\u001b[0m\u001b[0mnlevels\u001b[0m \u001b[0;34m>\u001b[0m \u001b[0;36m1\u001b[0m\u001b[0;34m:\u001b[0m\u001b[0;34m\u001b[0m\u001b[0;34m\u001b[0m\u001b[0m\n\u001b[1;32m   3892\u001b[0m                 \u001b[0;32mreturn\u001b[0m \u001b[0mself\u001b[0m\u001b[0;34m.\u001b[0m\u001b[0m_getitem_multilevel\u001b[0m\u001b[0;34m(\u001b[0m\u001b[0mkey\u001b[0m\u001b[0;34m)\u001b[0m\u001b[0;34m\u001b[0m\u001b[0;34m\u001b[0m\u001b[0m\n\u001b[0;32m-> 3893\u001b[0;31m             \u001b[0mindexer\u001b[0m \u001b[0;34m=\u001b[0m \u001b[0mself\u001b[0m\u001b[0;34m.\u001b[0m\u001b[0mcolumns\u001b[0m\u001b[0;34m.\u001b[0m\u001b[0mget_loc\u001b[0m\u001b[0;34m(\u001b[0m\u001b[0mkey\u001b[0m\u001b[0;34m)\u001b[0m\u001b[0;34m\u001b[0m\u001b[0;34m\u001b[0m\u001b[0m\n\u001b[0m\u001b[1;32m   3894\u001b[0m             \u001b[0;32mif\u001b[0m \u001b[0mis_integer\u001b[0m\u001b[0;34m(\u001b[0m\u001b[0mindexer\u001b[0m\u001b[0;34m)\u001b[0m\u001b[0;34m:\u001b[0m\u001b[0;34m\u001b[0m\u001b[0;34m\u001b[0m\u001b[0m\n\u001b[1;32m   3895\u001b[0m                 \u001b[0mindexer\u001b[0m \u001b[0;34m=\u001b[0m \u001b[0;34m[\u001b[0m\u001b[0mindexer\u001b[0m\u001b[0;34m]\u001b[0m\u001b[0;34m\u001b[0m\u001b[0;34m\u001b[0m\u001b[0m\n",
            "\u001b[0;32m/usr/local/lib/python3.10/dist-packages/pandas/core/indexes/base.py\u001b[0m in \u001b[0;36mget_loc\u001b[0;34m(self, key)\u001b[0m\n\u001b[1;32m   3796\u001b[0m             ):\n\u001b[1;32m   3797\u001b[0m                 \u001b[0;32mraise\u001b[0m \u001b[0mInvalidIndexError\u001b[0m\u001b[0;34m(\u001b[0m\u001b[0mkey\u001b[0m\u001b[0;34m)\u001b[0m\u001b[0;34m\u001b[0m\u001b[0;34m\u001b[0m\u001b[0m\n\u001b[0;32m-> 3798\u001b[0;31m             \u001b[0;32mraise\u001b[0m \u001b[0mKeyError\u001b[0m\u001b[0;34m(\u001b[0m\u001b[0mkey\u001b[0m\u001b[0;34m)\u001b[0m \u001b[0;32mfrom\u001b[0m \u001b[0merr\u001b[0m\u001b[0;34m\u001b[0m\u001b[0;34m\u001b[0m\u001b[0m\n\u001b[0m\u001b[1;32m   3799\u001b[0m         \u001b[0;32mexcept\u001b[0m \u001b[0mTypeError\u001b[0m\u001b[0;34m:\u001b[0m\u001b[0;34m\u001b[0m\u001b[0;34m\u001b[0m\u001b[0m\n\u001b[1;32m   3800\u001b[0m             \u001b[0;31m# If we have a listlike key, _check_indexing_error will raise\u001b[0m\u001b[0;34m\u001b[0m\u001b[0;34m\u001b[0m\u001b[0m\n",
            "\u001b[0;31mKeyError\u001b[0m: 'index'"
          ]
        }
      ]
    },
    {
      "cell_type": "code",
      "source": [
        "# crear gráfico de barras\n",
        "fig, ax = plt.subplots()\n",
        "fig.set_size_inches(12, 4)\n",
        "ax.bar(conteo_por_anio_1990_1996['Anio'], conteo_por_anio_1990_1996['Cantidad'], color=['tab:red', 'tab:blue', 'tab:red', 'tab:orange', 'tab:green', 'tab:purple', 'tab:pink'], label=conteo_por_anio_1990_1996['Anio'].astype(int).astype(str))\n",
        "\n",
        "# agregar leyendas y etiquetas\n",
        "ax.set_xlabel('Año de nacimiento')\n",
        "ax.set_ylabel('Cantidad de registros')\n",
        "ax.set_title('Registros por año de nacimiento (1990-1996)')\n",
        "ax.legend(title='Año de nacimiento', bbox_to_anchor=(1.05, 1), loc='upper left')\n",
        "\n",
        "# mostrar resultados\n",
        "plt.show()\n",
        "\n",
        "print(\"Entre los nacidos de los años 1990 y 1996, hay un total de\", conteo_por_anio_1990_1996['Cantidad'].sum(),\"estudiantes que presentaron el examen ICFES en 2019-2\")"
      ],
      "metadata": {
        "colab": {
          "base_uri": "https://localhost:8080/",
          "height": 428
        },
        "id": "DIDzgMSBPayo",
        "outputId": "d23375be-69db-4d65-d4dc-cf2b9259a6bb"
      },
      "execution_count": null,
      "outputs": [
        {
          "output_type": "display_data",
          "data": {
            "text/plain": [
              "<Figure size 1200x400 with 1 Axes>"
            ],
            "image/png": "[encoded data removed]"
          },
          "metadata": {}
        },
        {
          "output_type": "stream",
          "name": "stdout",
          "text": [
            "Entre los nacidos de los años 1990 y 1996, hay un total de 9896 estudiantes que presentaron el examen ICFES en 2019-2\n"
          ]
        }
      ]
    },
    {
      "cell_type": "markdown",
      "source": [
        "Se conservan los registros de la población estudiantil nacida entre los años 1990 y 1996 por la cantidad acorde a la población filtrada."
      ],
      "metadata": {
        "id": "Qa7HYDMPPR1y"
      }
    },
    {
      "cell_type": "code",
      "source": [
        "#\tValidación de nacidos de 1980 a 1989, se conservaran dichos registros por la cantidad acorde a la población filtrada.\n",
        "\n",
        "# contar registros por año de nacimiento\n",
        "conteo_por_anio = df_resultados['ANIO_NACIMIENTO'].value_counts().reset_index()\n",
        "\n",
        "# filtrar años de interés\n",
        "filtro = (conteo_por_anio['index'] >= 1980) & (conteo_por_anio['index'] <= 1989)\n",
        "conteo_por_anio_1980_1989 = conteo_por_anio.loc[filtro].rename(columns={'index': 'Anio', 'ANIO_NACIMIENTO': 'Cantidad'})\n",
        "\n",
        "# mostrar resultados\n",
        "print(conteo_por_anio_1980_1989.to_string(index=False))\n",
        "plt.show()\n",
        "\n",
        "print(\"Entre los nacidos de los años 1997 y 2007, hay un total de\", conteo_por_anio_1980_1989['Cantidad'].sum(),\"estudiantes que presentaron el examen ICFES en 2019-2\")"
      ],
      "metadata": {
        "colab": {
          "base_uri": "https://localhost:8080/"
        },
        "id": "qBGykAv_Xsrv",
        "outputId": "21be936b-a333-4bce-ba37-1fe031295390"
      },
      "execution_count": null,
      "outputs": [
        {
          "output_type": "stream",
          "name": "stdout",
          "text": [
            "  Anio  Cantidad\n",
            "1989.0       774\n",
            "1988.0       680\n",
            "1987.0       649\n",
            "1985.0       598\n",
            "1986.0       584\n",
            "1984.0       509\n",
            "1983.0       490\n",
            "1982.0       450\n",
            "1981.0       424\n",
            "1980.0       376\n",
            "Entre los nacidos de los años 1997 y 2007, hay un total de 5534 estudiantes que presentaron el examen ICFES en 2019-2\n"
          ]
        }
      ]
    },
    {
      "cell_type": "code",
      "source": [
        "# crear gráfico de barras\n",
        "fig, ax = plt.subplots()\n",
        "fig.set_size_inches(12, 4)\n",
        "ax.bar(conteo_por_anio_1980_1989['Anio'], conteo_por_anio_1980_1989['Cantidad'], color=['tab:red', 'tab:blue', 'tab:red', 'tab:orange', 'tab:green', 'tab:purple', 'tab:pink', 'tab:brown', 'tab:olive', 'tab:cyan'], label=conteo_por_anio_1980_1989['Anio'].astype(int).astype(str))\n",
        "\n",
        "# agregar leyendas y etiquetas\n",
        "ax.set_xlabel('Año de nacimiento')\n",
        "ax.set_ylabel('Cantidad de registros')\n",
        "ax.set_title('Registros por año de nacimiento (1997-2007)')\n",
        "ax.legend(title='Año de nacimiento', bbox_to_anchor=(1.05, 1), loc='upper left')\n",
        "\n",
        "# mostrar resultados\n",
        "plt.show()\n",
        "\n",
        "print(\"Entre los nacidos de los años 1997 y 2007, hay un total de\", conteo_por_anio_1980_1989['Cantidad'].sum(),\"estudiantes que presentaron el examen ICFES en 2019-2\")\n",
        "\n"
      ],
      "metadata": {
        "colab": {
          "base_uri": "https://localhost:8080/",
          "height": 428
        },
        "id": "5PstWYpZPyhU",
        "outputId": "b8cb118c-84ed-4bcc-c3bf-0dc1f95b7ab7"
      },
      "execution_count": null,
      "outputs": [
        {
          "output_type": "display_data",
          "data": {
            "text/plain": [
              "<Figure size 1200x400 with 1 Axes>"
            ],
            "image/png": "[encoded data removed]"
          },
          "metadata": {}
        },
        {
          "output_type": "stream",
          "name": "stdout",
          "text": [
            "Entre los nacidos de los años 1997 y 2007, hay un total de 5534 estudiantes que presentaron el examen ICFES en 2019-2\n"
          ]
        }
      ]
    },
    {
      "cell_type": "markdown",
      "source": [
        "Se conservan dichos registros por la cantidad acorde a la población filtrada."
      ],
      "metadata": {
        "id": "-Q_MyPuPZNQj"
      }
    },
    {
      "cell_type": "code",
      "source": [
        "#\tValidación de nacidos de 1970 a 1979, se conservaran dichos registros por la cantidad acorde a la población filtrada.\n",
        "\n",
        "# contar registros por año de nacimiento\n",
        "conteo_por_anio = df_resultados['ANIO_NACIMIENTO'].value_counts().reset_index()\n",
        "\n",
        "# filtrar años de interés\n",
        "filtro = (conteo_por_anio['index'] >= 1970) & (conteo_por_anio['index'] <= 1979)\n",
        "conteo_por_anio_1970_1979 = conteo_por_anio.loc[filtro].rename(columns={'index': 'Anio', 'ANIO_NACIMIENTO': 'Cantidad'})\n",
        "\n",
        "# mostrar resultados\n",
        "print(conteo_por_anio_1970_1979.to_string(index=False))\n",
        "plt.show()\n",
        "\n",
        "print(\"Entre los nacidos de los años 1970 y 1979, hay un total de\", conteo_por_anio_1970_1979['Cantidad'].sum(),\"estudiantes que presentaron el examen ICFES en 2019-2\")"
      ],
      "metadata": {
        "colab": {
          "base_uri": "https://localhost:8080/"
        },
        "id": "SmuSgPJDZi-F",
        "outputId": "4f6dc906-d0b0-4934-a445-e100e3901cd2"
      },
      "execution_count": null,
      "outputs": [
        {
          "output_type": "stream",
          "name": "stdout",
          "text": [
            "  Anio  Cantidad\n",
            "1979.0       334\n",
            "1978.0       318\n",
            "1975.0       256\n",
            "1977.0       251\n",
            "1976.0       242\n",
            "1974.0       224\n",
            "1973.0       179\n",
            "1972.0       174\n",
            "1971.0       167\n",
            "1970.0       153\n",
            "Entre los nacidos de los años 1970 y 1979, hay un total de 2298 estudiantes que presentaron el examen ICFES en 2019-2\n"
          ]
        }
      ]
    },
    {
      "cell_type": "code",
      "source": [
        "# crear gráfico de barras\n",
        "fig, ax = plt.subplots()\n",
        "fig.set_size_inches(12, 4)\n",
        "ax.bar(conteo_por_anio_1970_1979['Anio'], conteo_por_anio_1970_1979['Cantidad'], color=['tab:red', 'tab:blue', 'tab:red', 'tab:orange', 'tab:green', 'tab:purple', 'tab:pink', 'tab:brown', 'tab:olive', 'tab:cyan', 'tab:gray'], label=conteo_por_anio_1970_1979['Anio'].astype(int).astype(str))\n",
        "\n",
        "# agregar leyendas y etiquetas\n",
        "ax.set_xlabel('Año de nacimiento')\n",
        "ax.set_ylabel('Cantidad de registros')\n",
        "ax.set_title('Registros por año de nacimiento (1997-2007)')\n",
        "ax.legend(title='Año de nacimiento', bbox_to_anchor=(1.05, 1), loc='upper left')\n",
        "\n",
        "# mostrar resultados\n",
        "plt.show()\n",
        "\n",
        "print(\"Entre los nacidos de los años 1997 y 2007, hay un total de\", conteo_por_anio_1970_1979['Cantidad'].sum(),\"estudiantes que presentaron el examen ICFES en 2019-2\")"
      ],
      "metadata": {
        "colab": {
          "base_uri": "https://localhost:8080/",
          "height": 428
        },
        "id": "FnV8jNmJZJmv",
        "outputId": "7575563f-ca4c-48b7-8c1d-147ac3b5e49b"
      },
      "execution_count": null,
      "outputs": [
        {
          "output_type": "display_data",
          "data": {
            "text/plain": [
              "<Figure size 1200x400 with 1 Axes>"
            ],
            "image/png": "[encoded data removed]"
          },
          "metadata": {}
        },
        {
          "output_type": "stream",
          "name": "stdout",
          "text": [
            "Entre los nacidos de los años 1997 y 2007, hay un total de 2298 estudiantes que presentaron el examen ICFES en 2019-2\n"
          ]
        }
      ]
    },
    {
      "cell_type": "markdown",
      "source": [
        "Se conservan los registros de la población estudiantil nacida entre los años 1970 y 1979 por la cantidad acorde a la población filtrada."
      ],
      "metadata": {
        "id": "xAUZfb_CZzex"
      }
    },
    {
      "cell_type": "code",
      "source": [
        "#\tValidación de nacidos de 1950 a 1969, se conservaran dichos registros por la cantidad acorde a la población filtrada.\n",
        "\n",
        "# contar registros por año de nacimiento\n",
        "conteo_por_anio = df_resultados['ANIO_NACIMIENTO'].value_counts().reset_index()\n",
        "\n",
        "# filtrar años de interés\n",
        "filtro = (conteo_por_anio['index'] >= 1950) & (conteo_por_anio['index'] <= 1969)\n",
        "conteo_por_anio_1950_1969 = conteo_por_anio.loc[filtro].rename(columns={'index': 'Anio', 'ANIO_NACIMIENTO': 'Cantidad'})\n",
        "\n",
        "# mostrar resultados\n",
        "print(conteo_por_anio_1950_1969.to_string(index=False))\n",
        "plt.show()\n",
        "\n",
        "print(\"Entre los nacidos de los años 1950 y 1969, hay un total de\", conteo_por_anio_1950_1969['Cantidad'].sum(),\"estudiantes que presentaron el examen ICFES en 2019-2\")"
      ],
      "metadata": {
        "colab": {
          "base_uri": "https://localhost:8080/"
        },
        "id": "8Qu9_pq0Zyqb",
        "outputId": "ab110ffa-8846-4b17-b09d-dcff874596f4"
      },
      "execution_count": null,
      "outputs": [
        {
          "output_type": "stream",
          "name": "stdout",
          "text": [
            "  Anio  Cantidad\n",
            "1969.0       152\n",
            "1968.0       135\n",
            "1967.0       126\n",
            "1966.0       119\n",
            "1965.0       100\n",
            "1963.0        95\n",
            "1964.0        95\n",
            "1962.0        73\n",
            "1961.0        65\n",
            "1960.0        49\n",
            "1959.0        46\n",
            "1958.0        40\n",
            "1957.0        30\n",
            "1956.0        23\n",
            "1953.0        21\n",
            "1955.0        20\n",
            "1954.0        20\n",
            "1952.0        14\n",
            "1951.0        11\n",
            "1950.0         7\n",
            "Entre los nacidos de los años 1950 y 1969, hay un total de 1241 estudiantes que presentaron el examen ICFES en 2019-2\n"
          ]
        }
      ]
    },
    {
      "cell_type": "code",
      "source": [
        "# crear gráfico de barras\n",
        "fig, ax = plt.subplots()\n",
        "fig.set_size_inches(12, 4)\n",
        "ax.bar(conteo_por_anio_1950_1969['Anio'], conteo_por_anio_1950_1969['Cantidad'],\n",
        "       color=['tab:red', 'tab:blue', 'tab:red', 'tab:orange', 'tab:green', 'tab:purple', 'tab:pink', 'tab:brown', 'tab:olive', 'tab:cyan', 'tab:gray',\n",
        "              'tab:red', 'tab:blue', 'tab:red', 'tab:orange', 'tab:green', 'tab:purple', 'tab:pink', 'tab:brown', 'tab:olive', 'tab:cyan', 'tab:gray'], label=conteo_por_anio_1950_1969['Anio'].astype(int).astype(str))\n",
        "\n",
        "# agregar leyendas y etiquetas\n",
        "ax.set_xlabel('Año de nacimiento')\n",
        "ax.set_ylabel('Cantidad de registros')\n",
        "ax.set_title('Registros por año de nacimiento (1997-2007)')\n",
        "ax.legend(title='Año de nacimiento', bbox_to_anchor=(1.05, 1), loc='upper left')\n",
        "\n",
        "# mostrar resultados\n",
        "plt.show()\n",
        "\n",
        "print(\"Entre los nacidos de los años 1950 y 1969, hay un total de\", conteo_por_anio_1950_1969['Cantidad'].sum(),\"estudiantes que presentaron el examen ICFES en 2019-2\")"
      ],
      "metadata": {
        "colab": {
          "base_uri": "https://localhost:8080/",
          "height": 528
        },
        "id": "6JDP4Cx9ZlCH",
        "outputId": "a95f5263-a0b8-4988-e338-9afd70c93f5e"
      },
      "execution_count": null,
      "outputs": [
        {
          "output_type": "display_data",
          "data": {
            "text/plain": [
              "<Figure size 1200x400 with 1 Axes>"
            ],
            "image/png": "[encoded data removed]"
          },
          "metadata": {}
        },
        {
          "output_type": "stream",
          "name": "stdout",
          "text": [
            "Entre los nacidos de los años 1950 y 1969, hay un total de 1241 estudiantes que presentaron el examen ICFES en 2019-2\n"
          ]
        }
      ]
    },
    {
      "cell_type": "markdown",
      "source": [
        "Es posible que personas con 50 años, o mayores de 50 hayan presentado el examen ICFES, se conservan los registros de la población estudiantil nacida entre los años 1950 y 1969 por la cantidad acorde a la población filtrada y la poca representación del dataset total 0.22%"
      ],
      "metadata": {
        "id": "wdDTQKDiabAz"
      }
    },
    {
      "cell_type": "code",
      "source": [
        "#\tValidación de nacidos de 1949 a 1900, se conservaran dichos registros por la cantidad acorde a la población filtrada.\n",
        "\n",
        "# contar registros por año de nacimiento\n",
        "conteo_por_anio = df_resultados['ANIO_NACIMIENTO'].value_counts().reset_index()\n",
        "\n",
        "# filtrar años de interés\n",
        "filtro = (conteo_por_anio['index'] >= 1900) & (conteo_por_anio['index'] <= 1949)\n",
        "conteo_por_anio_1900_1949 = conteo_por_anio.loc[filtro].rename(columns={'index': 'Anio', 'ANIO_NACIMIENTO': 'Cantidad'})\n",
        "\n",
        "# mostrar resultados\n",
        "print(conteo_por_anio_1900_1949.to_string(index=False))\n",
        "plt.show()\n",
        "\n",
        "print(\"Entre los nacidos de los años 1900 y 1949, hay un total de\", conteo_por_anio_1900_1949['Cantidad'].sum(),\"estudiantes que presentaron el examen ICFES en 2019-2\")"
      ],
      "metadata": {
        "colab": {
          "base_uri": "https://localhost:8080/"
        },
        "id": "9Ub37Lypajo6",
        "outputId": "1da626df-91f7-4c1d-af52-1a6d6bd19735"
      },
      "execution_count": null,
      "outputs": [
        {
          "output_type": "stream",
          "name": "stdout",
          "text": [
            "  Anio  Cantidad\n",
            "1900.0      1851\n",
            "1948.0         9\n",
            "1946.0         6\n",
            "1944.0         4\n",
            "1949.0         4\n",
            "1947.0         3\n",
            "1943.0         2\n",
            "1940.0         2\n",
            "1945.0         1\n",
            "1936.0         1\n",
            "1910.0         1\n",
            "Entre los nacidos de los años 1900 y 1949, hay un total de 1884 estudiantes que presentaron el examen ICFES en 2019-2\n"
          ]
        }
      ]
    },
    {
      "cell_type": "markdown",
      "source": [
        "Por sentido común, es dificil creer que personas nacidas en la decada de los 40, hayan presentado el examen ICFES, por ende, los registros donde hayan nacidos entre los años 1910 y 1949, serán eliminados."
      ],
      "metadata": {
        "id": "mEml7Amaa6Rb"
      }
    },
    {
      "cell_type": "code",
      "source": [
        "# Identificar los índices de los registros a eliminar\n",
        "indices_eliminar = df_resultados[(df_resultados['ANIO_NACIMIENTO'] >= 1910) & (df_resultados['ANIO_NACIMIENTO'] <= 1949)].index\n",
        "\n",
        "# Eliminar los registros\n",
        "df_resultados = df_resultados.drop(indices_eliminar)\n",
        "\n",
        "# Verificar que se hayan eliminado los registros\n",
        "print(df_resultados['ANIO_NACIMIENTO'].value_counts())\n",
        "plt.show()"
      ],
      "metadata": {
        "colab": {
          "base_uri": "https://localhost:8080/"
        },
        "id": "iPzxy8LFbMvJ",
        "outputId": "531879a9-9a1a-4b0d-d863-38ed6bf836c3"
      },
      "execution_count": null,
      "outputs": [
        {
          "output_type": "stream",
          "name": "stdout",
          "text": [
            "2002.0    217955\n",
            "2001.0    114088\n",
            "2003.0    110771\n",
            "2000.0     51158\n",
            "1999.0     16152\n",
            "1998.0      6050\n",
            "2004.0      5040\n",
            "1997.0      3336\n",
            "1996.0      2417\n",
            "1995.0      1876\n",
            "1900.0      1851\n",
            "1994.0      1412\n",
            "1993.0      1299\n",
            "1992.0      1059\n",
            "1991.0       974\n",
            "1990.0       859\n",
            "1989.0       774\n",
            "1988.0       680\n",
            "1987.0       649\n",
            "1985.0       598\n",
            "1986.0       584\n",
            "1984.0       509\n",
            "1983.0       490\n",
            "1982.0       450\n",
            "1981.0       424\n",
            "1980.0       376\n",
            "1979.0       334\n",
            "1978.0       318\n",
            "1975.0       256\n",
            "1977.0       251\n",
            "1976.0       242\n",
            "1974.0       224\n",
            "2005.0       184\n",
            "1973.0       179\n",
            "1972.0       174\n",
            "1971.0       167\n",
            "1970.0       153\n",
            "1969.0       152\n",
            "1968.0       135\n",
            "1967.0       126\n",
            "1966.0       119\n",
            "1965.0       100\n",
            "1964.0        95\n",
            "1963.0        95\n",
            "1962.0        73\n",
            "1961.0        65\n",
            "1960.0        49\n",
            "1959.0        46\n",
            "2006.0        45\n",
            "1958.0        40\n",
            "1957.0        30\n",
            "2007.0        29\n",
            "1956.0        23\n",
            "1953.0        21\n",
            "1955.0        20\n",
            "1954.0        20\n",
            "1952.0        14\n",
            "1951.0        11\n",
            "1950.0         7\n",
            "Name: ANIO_NACIMIENTO, dtype: int64\n"
          ]
        }
      ]
    },
    {
      "cell_type": "markdown",
      "source": [
        "Hay una particularidad con el año 1900, para dicho año hay 1851 registros. Validemos haciendo un cruce con el tipo de documento para ver como estan los registros distribuidos."
      ],
      "metadata": {
        "id": "8CXlbXwEbeco"
      }
    },
    {
      "cell_type": "code",
      "source": [
        "# Seleccionar los registros correspondientes a estudiantes nacidos en 1900\n",
        "estudiantes_1900 = df_resultados[df_resultados['ANIO_NACIMIENTO'] == 1900]\n",
        "\n",
        "# Contar los tipos de documentos\n",
        "tipos_documento = estudiantes_1900['ESTU_TIPODOCUMENTO'].value_counts()\n",
        "\n",
        "# Imprimir el resultado\n",
        "print(tipos_documento)"
      ],
      "metadata": {
        "colab": {
          "base_uri": "https://localhost:8080/"
        },
        "id": "zBnK_2m1bdqm",
        "outputId": "50948d80-eb9f-47fc-892e-f362b97e908d"
      },
      "execution_count": null,
      "outputs": [
        {
          "output_type": "stream",
          "name": "stdout",
          "text": [
            "TI    1816\n",
            "CC      29\n",
            "CE       5\n",
            "CR       1\n",
            "Name: ESTU_TIPODOCUMENTO, dtype: int64\n"
          ]
        }
      ]
    },
    {
      "cell_type": "code",
      "source": [
        "# Seleccionar los registros correspondientes a estudiantes nacidos en 1900\n",
        "estudiantes_1900 = df_resultados[df_resultados['ANIO_NACIMIENTO'] == 1900]\n",
        "\n",
        "# Contar los tipos de documentos\n",
        "tipos_documento = estudiantes_1900['ESTU_TIPODOCUMENTO'].value_counts()\n",
        "\n",
        "# Crear el gráfico de barras\n",
        "fig, ax = plt.subplots()\n",
        "barras = ax.bar(tipos_documento.index, tipos_documento.values, color=['blue', 'orange', 'green', 'red', 'purple'])\n",
        "\n",
        "# Agregar la cantidad de valores de las barras\n",
        "for bar in barras:\n",
        "    height = bar.get_height()\n",
        "    ax.text(bar.get_x() + bar.get_width()/2, height, height, ha='center', va='bottom')\n",
        "\n",
        "# Agregar la leyenda y título\n",
        "ax.set_xlabel('Tipo de documento')\n",
        "ax.set_ylabel('Cantidad')\n",
        "ax.set_title('Tipos de documentos de estudiantes nacidos en 1900')\n",
        "ax.legend(barras, tipos_documento.index)\n",
        "\n",
        "plt.show()"
      ],
      "metadata": {
        "colab": {
          "base_uri": "https://localhost:8080/",
          "height": 472
        },
        "id": "5Z0yhCJucDCS",
        "outputId": "4871ca13-d27f-4b9f-d77e-d287859e0d38"
      },
      "execution_count": null,
      "outputs": [
        {
          "output_type": "display_data",
          "data": {
            "text/plain": [
              "<Figure size 640x480 with 1 Axes>"
            ],
            "image/png": "[encoded data removed]"
          },
          "metadata": {}
        }
      ]
    },
    {
      "cell_type": "markdown",
      "source": [
        "* Para los registros con el año 1900 y que son de tipo TI, se les asignara el año 2002 (2019-2002 = 17)\n",
        "* Para los registros con el año 1900 y que son de tipo CC, se les asignara el año 2001 (2019-2001 = 18)\n",
        "* Para los registros con el año 1900 y que son de tipo CE y CR, se proceden a eliminar"
      ],
      "metadata": {
        "id": "knxj3k25e8XY"
      }
    },
    {
      "cell_type": "code",
      "source": [
        "# Seleccionar los registros correspondientes a estudiantes nacidos en 1900 y con tipo de documento TI\n",
        "filtro = (df_resultados['ANIO_NACIMIENTO'] == 1900) & (df_resultados['ESTU_TIPODOCUMENTO'] == 'TI')\n",
        "df_resultados.loc[filtro, 'ANIO_NACIMIENTO'] = 2002"
      ],
      "metadata": {
        "id": "GQcvBSO_fp1o"
      },
      "execution_count": null,
      "outputs": []
    },
    {
      "cell_type": "code",
      "source": [
        "# Seleccionar los registros correspondientes a estudiantes nacidos en 1900 y con tipo de documento CC\n",
        "filtro = (df_resultados['ANIO_NACIMIENTO'] == 1900) & (df_resultados['ESTU_TIPODOCUMENTO'] == 'CC')\n",
        "df_resultados.loc[filtro, 'ANIO_NACIMIENTO'] = 2001"
      ],
      "metadata": {
        "id": "45VppkqVgpRL"
      },
      "execution_count": null,
      "outputs": []
    },
    {
      "cell_type": "code",
      "source": [
        "# Seleccionar los registros correspondientes a estudiantes nacidos en 1900 con tipo de documento diferente a 'CE' y 'CR' para eliminar\n",
        "estudiantes_1900 = df_resultados[(df_resultados['ANIO_NACIMIENTO'] == 1900) & ~(df_resultados['ESTU_TIPODOCUMENTO'].isin(['CE', 'CR']))]"
      ],
      "metadata": {
        "id": "5EH1UPAvhBhb"
      },
      "execution_count": null,
      "outputs": []
    },
    {
      "cell_type": "code",
      "source": [
        "conteo_por_anio = df_resultados['ANIO_NACIMIENTO'].value_counts().reset_index()\n",
        "conteo_por_anio.columns = ['año', 'cantidad']\n",
        "conteo_por_anio = conteo_por_anio.sort_values('año', ascending=False)\n",
        "\n",
        "print(conteo_por_anio)"
      ],
      "metadata": {
        "colab": {
          "base_uri": "https://localhost:8080/"
        },
        "id": "5tnJ-GGYhX9y",
        "outputId": "6df81b31-ed49-432d-cb72-a9821dcf86f8"
      },
      "execution_count": null,
      "outputs": [
        {
          "output_type": "stream",
          "name": "stdout",
          "text": [
            "       año  cantidad\n",
            "50  2007.0        29\n",
            "47  2006.0        45\n",
            "31  2005.0       184\n",
            "6   2004.0      5040\n",
            "2   2003.0    110771\n",
            "0   2002.0    219771\n",
            "1   2001.0    114117\n",
            "3   2000.0     51158\n",
            "4   1999.0     16152\n",
            "5   1998.0      6050\n",
            "7   1997.0      3336\n",
            "8   1996.0      2417\n",
            "9   1995.0      1876\n",
            "10  1994.0      1412\n",
            "11  1993.0      1299\n",
            "12  1992.0      1059\n",
            "13  1991.0       974\n",
            "14  1990.0       859\n",
            "15  1989.0       774\n",
            "16  1988.0       680\n",
            "17  1987.0       649\n",
            "19  1986.0       584\n",
            "18  1985.0       598\n",
            "20  1984.0       509\n",
            "21  1983.0       490\n",
            "22  1982.0       450\n",
            "23  1981.0       424\n",
            "24  1980.0       376\n",
            "25  1979.0       334\n",
            "26  1978.0       318\n",
            "28  1977.0       251\n",
            "29  1976.0       242\n",
            "27  1975.0       256\n",
            "30  1974.0       224\n",
            "32  1973.0       179\n",
            "33  1972.0       174\n",
            "34  1971.0       167\n",
            "35  1970.0       153\n",
            "36  1969.0       152\n",
            "37  1968.0       135\n",
            "38  1967.0       126\n",
            "39  1966.0       119\n",
            "40  1965.0       100\n",
            "41  1964.0        95\n",
            "42  1963.0        95\n",
            "43  1962.0        73\n",
            "44  1961.0        65\n",
            "45  1960.0        49\n",
            "46  1959.0        46\n",
            "48  1958.0        40\n",
            "49  1957.0        30\n",
            "51  1956.0        23\n",
            "53  1955.0        20\n",
            "54  1954.0        20\n",
            "52  1953.0        21\n",
            "55  1952.0        14\n",
            "56  1951.0        11\n",
            "57  1950.0         7\n"
          ]
        }
      ]
    },
    {
      "cell_type": "code",
      "source": [
        "# Mostrar el dataframe completo\n",
        "display(df_resultados)"
      ],
      "metadata": {
        "colab": {
          "base_uri": "https://localhost:8080/",
          "height": 696
        },
        "id": "QasORYJxjHha",
        "outputId": "bc557b08-5c6c-4ac2-c779-df0bac3c187e"
      },
      "execution_count": null,
      "outputs": [
        {
          "output_type": "display_data",
          "data": {
            "text/plain": [
              "       ESTU_TIPODOCUMENTO ESTU_NACIONALIDAD ESTU_GENERO  PERIODO  \\\n",
              "0                      TI          COLOMBIA           M    20194   \n",
              "1                      TI          COLOMBIA           M    20194   \n",
              "2                      TI          COLOMBIA           M    20194   \n",
              "3                      TI          COLOMBIA           M    20194   \n",
              "4                      TI          COLOMBIA           M    20194   \n",
              "...                   ...               ...         ...      ...   \n",
              "546207                 CC          COLOMBIA           M    20194   \n",
              "546208                 TI          COLOMBIA           M    20194   \n",
              "546209                 TI          COLOMBIA           M    20194   \n",
              "546210                 TI          COLOMBIA           M    20194   \n",
              "546211                 TI          COLOMBIA           M    20194   \n",
              "\n",
              "        ESTU_CONSECUTIVO ESTU_ESTUDIANTE ESTU_TIENEETNIA ESTU_PAIS_RESIDE  \\\n",
              "0       SB11201940031558      ESTUDIANTE              No         COLOMBIA   \n",
              "1       SB11201940303339      ESTUDIANTE              No         COLOMBIA   \n",
              "2       SB11201940255017      ESTUDIANTE              No         COLOMBIA   \n",
              "3       SB11201940154799      ESTUDIANTE              Si         COLOMBIA   \n",
              "4       SB11201940280831      ESTUDIANTE              No         COLOMBIA   \n",
              "...                  ...             ...             ...              ...   \n",
              "546207  SB11201940195862      ESTUDIANTE              No         COLOMBIA   \n",
              "546208  SB11201940253002      ESTUDIANTE              No         COLOMBIA   \n",
              "546209  SB11201940364767      ESTUDIANTE              No         COLOMBIA   \n",
              "546210  SB11201940210026      ESTUDIANTE              No         COLOMBIA   \n",
              "546211  SB11201940074679      ESTUDIANTE              No         COLOMBIA   \n",
              "\n",
              "       ESTU_ETNIA ESTU_DEPTO_RESIDE  ... PERCENTIL_INGLES DESEMP_INGLES  \\\n",
              "0               -         MAGDALENA  ...               67            A1   \n",
              "1               -            BOGOTÁ  ...               88            A2   \n",
              "2               -           BOLIVAR  ...               89            A2   \n",
              "3         Ninguno            BOGOTÁ  ...               67            A1   \n",
              "4               -            BOGOTÁ  ...               63            A1   \n",
              "...           ...               ...  ...              ...           ...   \n",
              "546207          -         ANTIOQUIA  ...               79            A2   \n",
              "546208          -            BOGOTÁ  ...               97            B1   \n",
              "546209          -            ARAUCA  ...               96            B1   \n",
              "546210          -         SANTANDER  ...               45            A-   \n",
              "546211          -            BOGOTÁ  ...               97            B1   \n",
              "\n",
              "       PUNT_GLOBAL PERCENTIL_GLOBAL ESTU_INSE_INDIVIDUAL ESTU_NSE_INDIVIDUAL  \\\n",
              "0              208               25     50.9421557404314                 2.0   \n",
              "1              299               83      59.767864431576                 3.0   \n",
              "2              299               84     50.7642383644749                 2.0   \n",
              "3              309               88     45.7791353123516                 2.0   \n",
              "4              288               78     52.9109464277177                 3.0   \n",
              "...            ...              ...                  ...                 ...   \n",
              "546207         360               99     47.5807720132296                 2.0   \n",
              "546208         360               99      57.406418472062                 3.0   \n",
              "546209         377              100     71.2254308010465                 4.0   \n",
              "546210         278               73     38.1334451267846                 1.0   \n",
              "546211         365               99     49.7833058735661                 2.0   \n",
              "\n",
              "       ESTU_NSE_ESTABLECIMIENTO ESTU_ESTADOINVESTIGACION  \\\n",
              "0                           2.0                 PUBLICAR   \n",
              "1                           4.0                 PUBLICAR   \n",
              "2                           3.0                 PUBLICAR   \n",
              "3                           3.0                 PUBLICAR   \n",
              "4                           3.0                 PUBLICAR   \n",
              "...                         ...                      ...   \n",
              "546207                      2.0                 PUBLICAR   \n",
              "546208                      4.0                 PUBLICAR   \n",
              "546209                      3.0                 PUBLICAR   \n",
              "546210                      2.0                 PUBLICAR   \n",
              "546211                      3.0                 PUBLICAR   \n",
              "\n",
              "                              ESTU_GENERACION-E ANIO_NACIMIENTO  \n",
              "0                                            NO          2002.0  \n",
              "1                                            NO          2003.0  \n",
              "2                      GENERACION E - GRATUIDAD          2001.0  \n",
              "3                      GENERACION E - GRATUIDAD          2002.0  \n",
              "4                                            NO          2002.0  \n",
              "...                                         ...             ...  \n",
              "546207       GENERACION E - EXCELENCIA NACIONAL          1999.0  \n",
              "546208       GENERACION E - EXCELENCIA NACIONAL          2002.0  \n",
              "546209  GENERACION E - EXCELENCIA DEPARTAMENTAL          2002.0  \n",
              "546210                 GENERACION E - GRATUIDAD          2002.0  \n",
              "546211       GENERACION E - EXCELENCIA NACIONAL          2002.0  \n",
              "\n",
              "[545626 rows x 82 columns]"
            ],
            "text/html": [
              "\n",
              "  <div id=\"df-a97be2db-73c8-4f85-835e-c0b519c49ef9\">\n",
              "    <div class=\"colab-df-container\">\n",
              "      <div>\n",
              "<style scoped>\n",
              "    .dataframe tbody tr th:only-of-type {\n",
              "        vertical-align: middle;\n",
              "    }\n",
              "\n",
              "    .dataframe tbody tr th {\n",
              "        vertical-align: top;\n",
              "    }\n",
              "\n",
              "    .dataframe thead th {\n",
              "        text-align: right;\n",
              "    }\n",
              "</style>\n",
              "<table border=\"1\" class=\"dataframe\">\n",
              "  <thead>\n",
              "    <tr style=\"text-align: right;\">\n",
              "      <th></th>\n",
              "      <th>ESTU_TIPODOCUMENTO</th>\n",
              "      <th>ESTU_NACIONALIDAD</th>\n",
              "      <th>ESTU_GENERO</th>\n",
              "      <th>PERIODO</th>\n",
              "      <th>ESTU_CONSECUTIVO</th>\n",
              "      <th>ESTU_ESTUDIANTE</th>\n",
              "      <th>ESTU_TIENEETNIA</th>\n",
              "      <th>ESTU_PAIS_RESIDE</th>\n",
              "      <th>ESTU_ETNIA</th>\n",
              "      <th>ESTU_DEPTO_RESIDE</th>\n",
              "      <th>...</th>\n",
              "      <th>PERCENTIL_INGLES</th>\n",
              "      <th>DESEMP_INGLES</th>\n",
              "      <th>PUNT_GLOBAL</th>\n",
              "      <th>PERCENTIL_GLOBAL</th>\n",
              "      <th>ESTU_INSE_INDIVIDUAL</th>\n",
              "      <th>ESTU_NSE_INDIVIDUAL</th>\n",
              "      <th>ESTU_NSE_ESTABLECIMIENTO</th>\n",
              "      <th>ESTU_ESTADOINVESTIGACION</th>\n",
              "      <th>ESTU_GENERACION-E</th>\n",
              "      <th>ANIO_NACIMIENTO</th>\n",
              "    </tr>\n",
              "  </thead>\n",
              "  <tbody>\n",
              "    <tr>\n",
              "      <th>0</th>\n",
              "      <td>TI</td>\n",
              "      <td>COLOMBIA</td>\n",
              "      <td>M</td>\n",
              "      <td>20194</td>\n",
              "      <td>SB11201940031558</td>\n",
              "      <td>ESTUDIANTE</td>\n",
              "      <td>No</td>\n",
              "      <td>COLOMBIA</td>\n",
              "      <td>-</td>\n",
              "      <td>MAGDALENA</td>\n",
              "      <td>...</td>\n",
              "      <td>67</td>\n",
              "      <td>A1</td>\n",
              "      <td>208</td>\n",
              "      <td>25</td>\n",
              "      <td>50.9421557404314</td>\n",
              "      <td>2.0</td>\n",
              "      <td>2.0</td>\n",
              "      <td>PUBLICAR</td>\n",
              "      <td>NO</td>\n",
              "      <td>2002.0</td>\n",
              "    </tr>\n",
              "    <tr>\n",
              "      <th>1</th>\n",
              "      <td>TI</td>\n",
              "      <td>COLOMBIA</td>\n",
              "      <td>M</td>\n",
              "      <td>20194</td>\n",
              "      <td>SB11201940303339</td>\n",
              "      <td>ESTUDIANTE</td>\n",
              "      <td>No</td>\n",
              "      <td>COLOMBIA</td>\n",
              "      <td>-</td>\n",
              "      <td>BOGOTÁ</td>\n",
              "      <td>...</td>\n",
              "      <td>88</td>\n",
              "      <td>A2</td>\n",
              "      <td>299</td>\n",
              "      <td>83</td>\n",
              "      <td>59.767864431576</td>\n",
              "      <td>3.0</td>\n",
              "      <td>4.0</td>\n",
              "      <td>PUBLICAR</td>\n",
              "      <td>NO</td>\n",
              "      <td>2003.0</td>\n",
              "    </tr>\n",
              "    <tr>\n",
              "      <th>2</th>\n",
              "      <td>TI</td>\n",
              "      <td>COLOMBIA</td>\n",
              "      <td>M</td>\n",
              "      <td>20194</td>\n",
              "      <td>SB11201940255017</td>\n",
              "      <td>ESTUDIANTE</td>\n",
              "      <td>No</td>\n",
              "      <td>COLOMBIA</td>\n",
              "      <td>-</td>\n",
              "      <td>BOLIVAR</td>\n",
              "      <td>...</td>\n",
              "      <td>89</td>\n",
              "      <td>A2</td>\n",
              "      <td>299</td>\n",
              "      <td>84</td>\n",
              "      <td>50.7642383644749</td>\n",
              "      <td>2.0</td>\n",
              "      <td>3.0</td>\n",
              "      <td>PUBLICAR</td>\n",
              "      <td>GENERACION E - GRATUIDAD</td>\n",
              "      <td>2001.0</td>\n",
              "    </tr>\n",
              "    <tr>\n",
              "      <th>3</th>\n",
              "      <td>TI</td>\n",
              "      <td>COLOMBIA</td>\n",
              "      <td>M</td>\n",
              "      <td>20194</td>\n",
              "      <td>SB11201940154799</td>\n",
              "      <td>ESTUDIANTE</td>\n",
              "      <td>Si</td>\n",
              "      <td>COLOMBIA</td>\n",
              "      <td>Ninguno</td>\n",
              "      <td>BOGOTÁ</td>\n",
              "      <td>...</td>\n",
              "      <td>67</td>\n",
              "      <td>A1</td>\n",
              "      <td>309</td>\n",
              "      <td>88</td>\n",
              "      <td>45.7791353123516</td>\n",
              "      <td>2.0</td>\n",
              "      <td>3.0</td>\n",
              "      <td>PUBLICAR</td>\n",
              "      <td>GENERACION E - GRATUIDAD</td>\n",
              "      <td>2002.0</td>\n",
              "    </tr>\n",
              "    <tr>\n",
              "      <th>4</th>\n",
              "      <td>TI</td>\n",
              "      <td>COLOMBIA</td>\n",
              "      <td>M</td>\n",
              "      <td>20194</td>\n",
              "      <td>SB11201940280831</td>\n",
              "      <td>ESTUDIANTE</td>\n",
              "      <td>No</td>\n",
              "      <td>COLOMBIA</td>\n",
              "      <td>-</td>\n",
              "      <td>BOGOTÁ</td>\n",
              "      <td>...</td>\n",
              "      <td>63</td>\n",
              "      <td>A1</td>\n",
              "      <td>288</td>\n",
              "      <td>78</td>\n",
              "      <td>52.9109464277177</td>\n",
              "      <td>3.0</td>\n",
              "      <td>3.0</td>\n",
              "      <td>PUBLICAR</td>\n",
              "      <td>NO</td>\n",
              "      <td>2002.0</td>\n",
              "    </tr>\n",
              "    <tr>\n",
              "      <th>...</th>\n",
              "      <td>...</td>\n",
              "      <td>...</td>\n",
              "      <td>...</td>\n",
              "      <td>...</td>\n",
              "      <td>...</td>\n",
              "      <td>...</td>\n",
              "      <td>...</td>\n",
              "      <td>...</td>\n",
              "      <td>...</td>\n",
              "      <td>...</td>\n",
              "      <td>...</td>\n",
              "      <td>...</td>\n",
              "      <td>...</td>\n",
              "      <td>...</td>\n",
              "      <td>...</td>\n",
              "      <td>...</td>\n",
              "      <td>...</td>\n",
              "      <td>...</td>\n",
              "      <td>...</td>\n",
              "      <td>...</td>\n",
              "      <td>...</td>\n",
              "    </tr>\n",
              "    <tr>\n",
              "      <th>546207</th>\n",
              "      <td>CC</td>\n",
              "      <td>COLOMBIA</td>\n",
              "      <td>M</td>\n",
              "      <td>20194</td>\n",
              "      <td>SB11201940195862</td>\n",
              "      <td>ESTUDIANTE</td>\n",
              "      <td>No</td>\n",
              "      <td>COLOMBIA</td>\n",
              "      <td>-</td>\n",
              "      <td>ANTIOQUIA</td>\n",
              "      <td>...</td>\n",
              "      <td>79</td>\n",
              "      <td>A2</td>\n",
              "      <td>360</td>\n",
              "      <td>99</td>\n",
              "      <td>47.5807720132296</td>\n",
              "      <td>2.0</td>\n",
              "      <td>2.0</td>\n",
              "      <td>PUBLICAR</td>\n",
              "      <td>GENERACION E - EXCELENCIA NACIONAL</td>\n",
              "      <td>1999.0</td>\n",
              "    </tr>\n",
              "    <tr>\n",
              "      <th>546208</th>\n",
              "      <td>TI</td>\n",
              "      <td>COLOMBIA</td>\n",
              "      <td>M</td>\n",
              "      <td>20194</td>\n",
              "      <td>SB11201940253002</td>\n",
              "      <td>ESTUDIANTE</td>\n",
              "      <td>No</td>\n",
              "      <td>COLOMBIA</td>\n",
              "      <td>-</td>\n",
              "      <td>BOGOTÁ</td>\n",
              "      <td>...</td>\n",
              "      <td>97</td>\n",
              "      <td>B1</td>\n",
              "      <td>360</td>\n",
              "      <td>99</td>\n",
              "      <td>57.406418472062</td>\n",
              "      <td>3.0</td>\n",
              "      <td>4.0</td>\n",
              "      <td>PUBLICAR</td>\n",
              "      <td>GENERACION E - EXCELENCIA NACIONAL</td>\n",
              "      <td>2002.0</td>\n",
              "    </tr>\n",
              "    <tr>\n",
              "      <th>546209</th>\n",
              "      <td>TI</td>\n",
              "      <td>COLOMBIA</td>\n",
              "      <td>M</td>\n",
              "      <td>20194</td>\n",
              "      <td>SB11201940364767</td>\n",
              "      <td>ESTUDIANTE</td>\n",
              "      <td>No</td>\n",
              "      <td>COLOMBIA</td>\n",
              "      <td>-</td>\n",
              "      <td>ARAUCA</td>\n",
              "      <td>...</td>\n",
              "      <td>96</td>\n",
              "      <td>B1</td>\n",
              "      <td>377</td>\n",
              "      <td>100</td>\n",
              "      <td>71.2254308010465</td>\n",
              "      <td>4.0</td>\n",
              "      <td>3.0</td>\n",
              "      <td>PUBLICAR</td>\n",
              "      <td>GENERACION E - EXCELENCIA DEPARTAMENTAL</td>\n",
              "      <td>2002.0</td>\n",
              "    </tr>\n",
              "    <tr>\n",
              "      <th>546210</th>\n",
              "      <td>TI</td>\n",
              "      <td>COLOMBIA</td>\n",
              "      <td>M</td>\n",
              "      <td>20194</td>\n",
              "      <td>SB11201940210026</td>\n",
              "      <td>ESTUDIANTE</td>\n",
              "      <td>No</td>\n",
              "      <td>COLOMBIA</td>\n",
              "      <td>-</td>\n",
              "      <td>SANTANDER</td>\n",
              "      <td>...</td>\n",
              "      <td>45</td>\n",
              "      <td>A-</td>\n",
              "      <td>278</td>\n",
              "      <td>73</td>\n",
              "      <td>38.1334451267846</td>\n",
              "      <td>1.0</td>\n",
              "      <td>2.0</td>\n",
              "      <td>PUBLICAR</td>\n",
              "      <td>GENERACION E - GRATUIDAD</td>\n",
              "      <td>2002.0</td>\n",
              "    </tr>\n",
              "    <tr>\n",
              "      <th>546211</th>\n",
              "      <td>TI</td>\n",
              "      <td>COLOMBIA</td>\n",
              "      <td>M</td>\n",
              "      <td>20194</td>\n",
              "      <td>SB11201940074679</td>\n",
              "      <td>ESTUDIANTE</td>\n",
              "      <td>No</td>\n",
              "      <td>COLOMBIA</td>\n",
              "      <td>-</td>\n",
              "      <td>BOGOTÁ</td>\n",
              "      <td>...</td>\n",
              "      <td>97</td>\n",
              "      <td>B1</td>\n",
              "      <td>365</td>\n",
              "      <td>99</td>\n",
              "      <td>49.7833058735661</td>\n",
              "      <td>2.0</td>\n",
              "      <td>3.0</td>\n",
              "      <td>PUBLICAR</td>\n",
              "      <td>GENERACION E - EXCELENCIA NACIONAL</td>\n",
              "      <td>2002.0</td>\n",
              "    </tr>\n",
              "  </tbody>\n",
              "</table>\n",
              "<p>545626 rows × 82 columns</p>\n",
              "</div>\n",
              "      <button class=\"colab-df-convert\" onclick=\"convertToInteractive('df-a97be2db-73c8-4f85-835e-c0b519c49ef9')\"\n",
              "              title=\"Convert this dataframe to an interactive table.\"\n",
              "              style=\"display:none;\">\n",
              "        \n",
              "  <svg xmlns=\"http://www.w3.org/2000/svg\" height=\"24px\"viewBox=\"0 0 24 24\"\n",
              "       width=\"24px\">\n",
              "    <path d=\"M0 0h24v24H0V0z\" fill=\"none\"/>\n",
              "    <path d=\"M18.56 5.44l.94 2.06.94-2.06 2.06-.94-2.06-.94-.94-2.06-.94 2.06-2.06.94zm-11 1L8.5 8.5l.94-2.06 2.06-.94-2.06-.94L8.5 2.5l-.94 2.06-2.06.94zm10 10l.94 2.06.94-2.06 2.06-.94-2.06-.94-.94-2.06-.94 2.06-2.06.94z\"/><path d=\"M17.41 7.96l-1.37-1.37c-.4-.4-.92-.59-1.43-.59-.52 0-1.04.2-1.43.59L10.3 9.45l-7.72 7.72c-.78.78-.78 2.05 0 2.83L4 21.41c.39.39.9.59 1.41.59.51 0 1.02-.2 1.41-.59l7.78-7.78 2.81-2.81c.8-.78.8-2.07 0-2.86zM5.41 20L4 18.59l7.72-7.72 1.47 1.35L5.41 20z\"/>\n",
              "  </svg>\n",
              "      </button>\n",
              "      \n",
              "  <style>\n",
              "    .colab-df-container {\n",
              "      display:flex;\n",
              "      flex-wrap:wrap;\n",
              "      gap: 12px;\n",
              "    }\n",
              "\n",
              "    .colab-df-convert {\n",
              "      background-color: #E8F0FE;\n",
              "      border: none;\n",
              "      border-radius: 50%;\n",
              "      cursor: pointer;\n",
              "      display: none;\n",
              "      fill: #1967D2;\n",
              "      height: 32px;\n",
              "      padding: 0 0 0 0;\n",
              "      width: 32px;\n",
              "    }\n",
              "\n",
              "    .colab-df-convert:hover {\n",
              "      background-color: #E2EBFA;\n",
              "      box-shadow: 0px 1px 2px rgba(60, 64, 67, 0.3), 0px 1px 3px 1px rgba(60, 64, 67, 0.15);\n",
              "      fill: #174EA6;\n",
              "    }\n",
              "\n",
              "    [theme=dark] .colab-df-convert {\n",
              "      background-color: #3B4455;\n",
              "      fill: #D2E3FC;\n",
              "    }\n",
              "\n",
              "    [theme=dark] .colab-df-convert:hover {\n",
              "      background-color: #434B5C;\n",
              "      box-shadow: 0px 1px 3px 1px rgba(0, 0, 0, 0.15);\n",
              "      filter: drop-shadow(0px 1px 2px rgba(0, 0, 0, 0.3));\n",
              "      fill: #FFFFFF;\n",
              "    }\n",
              "  </style>\n",
              "\n",
              "      <script>\n",
              "        const buttonEl =\n",
              "          document.querySelector('#df-a97be2db-73c8-4f85-835e-c0b519c49ef9 button.colab-df-convert');\n",
              "        buttonEl.style.display =\n",
              "          google.colab.kernel.accessAllowed ? 'block' : 'none';\n",
              "\n",
              "        async function convertToInteractive(key) {\n",
              "          const element = document.querySelector('#df-a97be2db-73c8-4f85-835e-c0b519c49ef9');\n",
              "          const dataTable =\n",
              "            await google.colab.kernel.invokeFunction('convertToInteractive',\n",
              "                                                     [key], {});\n",
              "          if (!dataTable) return;\n",
              "\n",
              "          const docLinkHtml = 'Like what you see? Visit the ' +\n",
              "            '<a target=\"_blank\" href=https://colab.research.google.com/notebooks/data_table.ipynb>data table notebook</a>'\n",
              "            + ' to learn more about interactive tables.';\n",
              "          element.innerHTML = '';\n",
              "          dataTable['output_type'] = 'display_data';\n",
              "          await google.colab.output.renderOutput(dataTable, element);\n",
              "          const docLink = document.createElement('div');\n",
              "          docLink.innerHTML = docLinkHtml;\n",
              "          element.appendChild(docLink);\n",
              "        }\n",
              "      </script>\n",
              "    </div>\n",
              "  </div>\n",
              "  "
            ]
          },
          "metadata": {}
        }
      ]
    },
    {
      "cell_type": "markdown",
      "source": [
        "Pasamos de tener originalmente 546212 registros, a tener 545626. Una diferencia de 586 registros, solo una disminuición del 0.00001% del dataset original."
      ],
      "metadata": {
        "id": "Vq_NnHxLjaNd"
      }
    },
    {
      "cell_type": "markdown",
      "source": [
        "## Columna ESTU_TIENEETNIA"
      ],
      "metadata": {
        "id": "QtxVSj_Ij5DB"
      }
    },
    {
      "cell_type": "code",
      "source": [
        "# generar conteo de registros por valor único en la columna ESTU_TIENEETNIA que hace referencia si pertenece o no a un tipo de etnia.\n",
        "\n",
        "df_etnia = df_resultados['ESTU_TIENEETNIA'].value_counts().reset_index()\n",
        "df_etnia.columns = ['Etnia', 'Cantidad']\n",
        "df_etnia"
      ],
      "metadata": {
        "colab": {
          "base_uri": "https://localhost:8080/",
          "height": 143
        },
        "id": "CbzMCi6wkAKB",
        "outputId": "1eab248c-0d99-4ab9-dd99-8a6c4361a8a7"
      },
      "execution_count": null,
      "outputs": [
        {
          "output_type": "execute_result",
          "data": {
            "text/plain": [
              "  Etnia  Cantidad\n",
              "0    No    505527\n",
              "1    Si     39724\n",
              "2     -       375"
            ],
            "text/html": [
              "\n",
              "  <div id=\"df-9a8d87fb-3fd6-4e9a-b821-8a824dc0dc0f\">\n",
              "    <div class=\"colab-df-container\">\n",
              "      <div>\n",
              "<style scoped>\n",
              "    .dataframe tbody tr th:only-of-type {\n",
              "        vertical-align: middle;\n",
              "    }\n",
              "\n",
              "    .dataframe tbody tr th {\n",
              "        vertical-align: top;\n",
              "    }\n",
              "\n",
              "    .dataframe thead th {\n",
              "        text-align: right;\n",
              "    }\n",
              "</style>\n",
              "<table border=\"1\" class=\"dataframe\">\n",
              "  <thead>\n",
              "    <tr style=\"text-align: right;\">\n",
              "      <th></th>\n",
              "      <th>Etnia</th>\n",
              "      <th>Cantidad</th>\n",
              "    </tr>\n",
              "  </thead>\n",
              "  <tbody>\n",
              "    <tr>\n",
              "      <th>0</th>\n",
              "      <td>No</td>\n",
              "      <td>505527</td>\n",
              "    </tr>\n",
              "    <tr>\n",
              "      <th>1</th>\n",
              "      <td>Si</td>\n",
              "      <td>39724</td>\n",
              "    </tr>\n",
              "    <tr>\n",
              "      <th>2</th>\n",
              "      <td>-</td>\n",
              "      <td>375</td>\n",
              "    </tr>\n",
              "  </tbody>\n",
              "</table>\n",
              "</div>\n",
              "      <button class=\"colab-df-convert\" onclick=\"convertToInteractive('df-9a8d87fb-3fd6-4e9a-b821-8a824dc0dc0f')\"\n",
              "              title=\"Convert this dataframe to an interactive table.\"\n",
              "              style=\"display:none;\">\n",
              "        \n",
              "  <svg xmlns=\"http://www.w3.org/2000/svg\" height=\"24px\"viewBox=\"0 0 24 24\"\n",
              "       width=\"24px\">\n",
              "    <path d=\"M0 0h24v24H0V0z\" fill=\"none\"/>\n",
              "    <path d=\"M18.56 5.44l.94 2.06.94-2.06 2.06-.94-2.06-.94-.94-2.06-.94 2.06-2.06.94zm-11 1L8.5 8.5l.94-2.06 2.06-.94-2.06-.94L8.5 2.5l-.94 2.06-2.06.94zm10 10l.94 2.06.94-2.06 2.06-.94-2.06-.94-.94-2.06-.94 2.06-2.06.94z\"/><path d=\"M17.41 7.96l-1.37-1.37c-.4-.4-.92-.59-1.43-.59-.52 0-1.04.2-1.43.59L10.3 9.45l-7.72 7.72c-.78.78-.78 2.05 0 2.83L4 21.41c.39.39.9.59 1.41.59.51 0 1.02-.2 1.41-.59l7.78-7.78 2.81-2.81c.8-.78.8-2.07 0-2.86zM5.41 20L4 18.59l7.72-7.72 1.47 1.35L5.41 20z\"/>\n",
              "  </svg>\n",
              "      </button>\n",
              "      \n",
              "  <style>\n",
              "    .colab-df-container {\n",
              "      display:flex;\n",
              "      flex-wrap:wrap;\n",
              "      gap: 12px;\n",
              "    }\n",
              "\n",
              "    .colab-df-convert {\n",
              "      background-color: #E8F0FE;\n",
              "      border: none;\n",
              "      border-radius: 50%;\n",
              "      cursor: pointer;\n",
              "      display: none;\n",
              "      fill: #1967D2;\n",
              "      height: 32px;\n",
              "      padding: 0 0 0 0;\n",
              "      width: 32px;\n",
              "    }\n",
              "\n",
              "    .colab-df-convert:hover {\n",
              "      background-color: #E2EBFA;\n",
              "      box-shadow: 0px 1px 2px rgba(60, 64, 67, 0.3), 0px 1px 3px 1px rgba(60, 64, 67, 0.15);\n",
              "      fill: #174EA6;\n",
              "    }\n",
              "\n",
              "    [theme=dark] .colab-df-convert {\n",
              "      background-color: #3B4455;\n",
              "      fill: #D2E3FC;\n",
              "    }\n",
              "\n",
              "    [theme=dark] .colab-df-convert:hover {\n",
              "      background-color: #434B5C;\n",
              "      box-shadow: 0px 1px 3px 1px rgba(0, 0, 0, 0.15);\n",
              "      filter: drop-shadow(0px 1px 2px rgba(0, 0, 0, 0.3));\n",
              "      fill: #FFFFFF;\n",
              "    }\n",
              "  </style>\n",
              "\n",
              "      <script>\n",
              "        const buttonEl =\n",
              "          document.querySelector('#df-9a8d87fb-3fd6-4e9a-b821-8a824dc0dc0f button.colab-df-convert');\n",
              "        buttonEl.style.display =\n",
              "          google.colab.kernel.accessAllowed ? 'block' : 'none';\n",
              "\n",
              "        async function convertToInteractive(key) {\n",
              "          const element = document.querySelector('#df-9a8d87fb-3fd6-4e9a-b821-8a824dc0dc0f');\n",
              "          const dataTable =\n",
              "            await google.colab.kernel.invokeFunction('convertToInteractive',\n",
              "                                                     [key], {});\n",
              "          if (!dataTable) return;\n",
              "\n",
              "          const docLinkHtml = 'Like what you see? Visit the ' +\n",
              "            '<a target=\"_blank\" href=https://colab.research.google.com/notebooks/data_table.ipynb>data table notebook</a>'\n",
              "            + ' to learn more about interactive tables.';\n",
              "          element.innerHTML = '';\n",
              "          dataTable['output_type'] = 'display_data';\n",
              "          await google.colab.output.renderOutput(dataTable, element);\n",
              "          const docLink = document.createElement('div');\n",
              "          docLink.innerHTML = docLinkHtml;\n",
              "          element.appendChild(docLink);\n",
              "        }\n",
              "      </script>\n",
              "    </div>\n",
              "  </div>\n",
              "  "
            ]
          },
          "metadata": {},
          "execution_count": 92
        }
      ]
    },
    {
      "cell_type": "code",
      "source": [
        "# generar conteo de registros por valor único en la columna ESTU_TIENEETNIA que hace referencia si pertenece o no a un tipo de etnia.\n",
        "df_etnia = df_resultados['ESTU_TIENEETNIA'].value_counts().reset_index()\n",
        "df_etnia.columns = ['Etnia', 'Cantidad']\n",
        "\n",
        "# configurar etiquetas\n",
        "labels = df_etnia['Etnia']\n",
        "sizes = df_etnia['Cantidad']\n",
        "explode = (0, 0.1, 0)  # separar una porción del gráfico\n",
        "\n",
        "# configurar la figura y el eje\n",
        "fig, ax = plt.subplots()\n",
        "fig.set_size_inches(5, 5)\n",
        "\n",
        "# crear gráfico de dona\n",
        "ax.pie(sizes, explode=explode, labels=labels, autopct='%1.1f%%', startangle=90, textprops={'fontsize': 14}, wedgeprops={'width': 0.6})\n",
        "\n",
        "# agregar etiqueta central\n",
        "ax.text(0, 0, 'Etnia', horizontalalignment='center', verticalalignment='center', fontsize=10, fontweight='bold')\n",
        "\n",
        "# mostrar resultados\n",
        "plt.show()"
      ],
      "metadata": {
        "colab": {
          "base_uri": "https://localhost:8080/",
          "height": 422
        },
        "id": "lsB6wPaVkSPZ",
        "outputId": "7b58a831-a51b-4c1f-a343-b26cf07035f4"
      },
      "execution_count": null,
      "outputs": [
        {
          "output_type": "display_data",
          "data": {
            "text/plain": [
              "<Figure size 500x500 with 1 Axes>"
            ],
            "image/png": "[encoded data removed]"
          },
          "metadata": {}
        }
      ]
    },
    {
      "cell_type": "code",
      "source": [
        "# Los valores que estan etiquetados como \"el signo menos\", representan un 0.06% del total de registros, estos estan representados con el caracter \"-\".\n",
        "# Se procederá a reemplazar en el DataFrame original ese caracter con la etiqueta de \"Desconocido\".\n",
        "\n",
        "# reemplazar valores \"-\"\n",
        "df_resultados['ESTU_TIENEETNIA'] = df_resultados['ESTU_TIENEETNIA'].replace('-', 'Desconocido')\n",
        "\n",
        "# contar registros de la columna 'ESTU_GENERO'\n",
        "df_resultados['ESTU_GENERO'].value_counts()"
      ],
      "metadata": {
        "colab": {
          "base_uri": "https://localhost:8080/"
        },
        "id": "vPKSNHvlk7Yr",
        "outputId": "013680ff-d5f5-44aa-84dd-18c586f1eb58"
      },
      "execution_count": null,
      "outputs": [
        {
          "output_type": "execute_result",
          "data": {
            "text/plain": [
              "F              295676\n",
              "M              249829\n",
              "Desconocido       121\n",
              "Name: ESTU_GENERO, dtype: int64"
            ]
          },
          "metadata": {},
          "execution_count": 106
        }
      ]
    },
    {
      "cell_type": "markdown",
      "source": [
        "## Columna ESTU_ETNIA"
      ],
      "metadata": {
        "id": "DPbrA_aslmf2"
      }
    },
    {
      "cell_type": "code",
      "source": [
        "# generar conteo de registros por valor único en la columna Columna ESTU_ETNIA que hace referencia al departamento de residencia\n",
        "\n",
        "df_tipo_etnia = df_resultados['ESTU_ETNIA'].value_counts()\n",
        "df_tipo_etnia"
      ],
      "metadata": {
        "colab": {
          "base_uri": "https://localhost:8080/"
        },
        "id": "qo2tGwJjlsnr",
        "outputId": "7235c10b-90bc-4b18-a846-d2e27d329f12"
      },
      "execution_count": null,
      "outputs": [
        {
          "output_type": "execute_result",
          "data": {
            "text/plain": [
              "-                                505653\n",
              "Comunidad afrodescendiente        19511\n",
              "Ninguno                            4440\n",
              "Zenú                               3280\n",
              "Otro grupo étnico minoritario      3148\n",
              "Wayúu                              2691\n",
              "Paez                               1886\n",
              "Pasto                              1537\n",
              "Emberá                             1152\n",
              "Pijao                               703\n",
              "Raizal                              381\n",
              "Sikuani                             267\n",
              "Inga                                222\n",
              "Guambiano                           173\n",
              "Cancuamo                            156\n",
              "Cubeo                               117\n",
              "Arhuaco                              97\n",
              "Huitoto                              92\n",
              "Palenquero                           74\n",
              "Tucano                               33\n",
              "Comunidades Rom (Gitanas)            13\n",
              "Name: ESTU_ETNIA, dtype: int64"
            ]
          },
          "metadata": {},
          "execution_count": 121
        }
      ]
    },
    {
      "cell_type": "code",
      "source": [
        "# Los valores que tiene etiquete con el caracter \"-\", representan el 92.6% del total de registros, es posible que al momento de diligenciar\n",
        "# la encuesta, los estudiantes lo hayan ignorado, dejado en blanco o no sabian contestar.\n",
        "# Se procederá a reemplazar en el DataFrame original ese caracter con la etiqueta de \"Ninguno\".\n",
        "\n",
        "# reemplazar valores \"-\"\n",
        "df_resultados['ESTU_ETNIA'] = df_resultados['ESTU_ETNIA'].replace('-', 'Ninguno')\n",
        "\n",
        "# contar registros de la columna 'ESTU_ETNIA'\n",
        "df_resultados['ESTU_ETNIA'].value_counts()"
      ],
      "metadata": {
        "colab": {
          "base_uri": "https://localhost:8080/"
        },
        "id": "dP8eTdNxmk8h",
        "outputId": "d07e930f-54c9-499e-f64c-937f40154248"
      },
      "execution_count": null,
      "outputs": [
        {
          "output_type": "execute_result",
          "data": {
            "text/plain": [
              "Ninguno                          510093\n",
              "Comunidad afrodescendiente        19511\n",
              "Zenú                               3280\n",
              "Otro grupo étnico minoritario      3148\n",
              "Wayúu                              2691\n",
              "Paez                               1886\n",
              "Pasto                              1537\n",
              "Emberá                             1152\n",
              "Pijao                               703\n",
              "Raizal                              381\n",
              "Sikuani                             267\n",
              "Inga                                222\n",
              "Guambiano                           173\n",
              "Cancuamo                            156\n",
              "Cubeo                               117\n",
              "Arhuaco                              97\n",
              "Huitoto                              92\n",
              "Palenquero                           74\n",
              "Tucano                               33\n",
              "Comunidades Rom (Gitanas)            13\n",
              "Name: ESTU_ETNIA, dtype: int64"
            ]
          },
          "metadata": {},
          "execution_count": 122
        }
      ]
    },
    {
      "cell_type": "markdown",
      "source": [
        "## Columna ESTU_DEPTO_RESIDE"
      ],
      "metadata": {
        "id": "5fVyKf7dnS13"
      }
    },
    {
      "cell_type": "code",
      "source": [
        "# generar conteo de registros por valor único en la columna ESTU_DEPTO_RESIDE que hace referencia al departamento de residencia\n",
        "\n",
        "df_dto = df_resultados['ESTU_DEPTO_RESIDE'].value_counts()\n",
        "df_dto"
      ],
      "metadata": {
        "colab": {
          "base_uri": "https://localhost:8080/"
        },
        "id": "WsyAlfnqnWEn",
        "outputId": "1bf9e744-6977-4211-8a82-ed0257124939"
      },
      "execution_count": null,
      "outputs": [
        {
          "output_type": "execute_result",
          "data": {
            "text/plain": [
              "BOGOTÁ             83489\n",
              "ANTIOQUIA          74162\n",
              "VALLE              38587\n",
              "CUNDINAMARCA       36138\n",
              "ATLANTICO          32126\n",
              "SANTANDER          25438\n",
              "BOLIVAR            25200\n",
              "CORDOBA            20017\n",
              "NARIÑO             16884\n",
              "BOYACA             16751\n",
              "MAGDALENA          16606\n",
              "TOLIMA             16411\n",
              "NORTE SANTANDER    15747\n",
              "HUILA              14075\n",
              "CAUCA              13966\n",
              "CESAR              13261\n",
              "META               12447\n",
              "SUCRE              10926\n",
              "RISARALDA          10693\n",
              "CALDAS             10426\n",
              "LA GUAJIRA          8830\n",
              "QUINDIO             6401\n",
              "CASANARE            5982\n",
              "CHOCO               4886\n",
              "CAQUETA             4625\n",
              "PUTUMAYO            4028\n",
              "ARAUCA              3356\n",
              "GUAVIARE            1016\n",
              "AMAZONAS             825\n",
              "SAN ANDRES           625\n",
              "VICHADA              498\n",
              "VAUPES               353\n",
              "GUAINIA              268\n",
              "EXTRANJERO           134\n",
              "Name: ESTU_DEPTO_RESIDE, dtype: int64"
            ]
          },
          "metadata": {},
          "execution_count": 110
        }
      ]
    },
    {
      "cell_type": "markdown",
      "source": [
        "Dicha columna, presenta orden; no hay valores nulos, vacios o atipicos."
      ],
      "metadata": {
        "id": "3cA_U7mEnkhq"
      }
    },
    {
      "cell_type": "markdown",
      "source": [
        "## Columna ESTU_MCPIO_RESIDE"
      ],
      "metadata": {
        "id": "W1x4LDognscu"
      }
    },
    {
      "cell_type": "code",
      "source": [
        "# Generar conteo de registros por valor único en la columna ESTU_MCPIO_RESIDE que hace referencia al municipio de residencia\n",
        "\n",
        "df_muni = df_resultados['ESTU_MCPIO_RESIDE'].value_counts()\n",
        "display(df_muni)"
      ],
      "metadata": {
        "colab": {
          "base_uri": "https://localhost:8080/",
          "height": 236
        },
        "id": "EBUgPNuon2YC",
        "outputId": "1665e1c2-ddda-40c2-998d-4511b700849f"
      },
      "execution_count": null,
      "outputs": [
        {
          "output_type": "display_data",
          "data": {
            "text/plain": [
              "BOGOTÁ D.C.            83500\n",
              "MEDELLÍN               28201\n",
              "BARRANQUILLA           17153\n",
              "CALI                   16523\n",
              "CARTAGENA DE INDIAS    13515\n",
              "                       ...  \n",
              "BUSBANZÁ                   7\n",
              "PACOA                      5\n",
              "MORICHAL                   4\n",
              "JORDÁN                     4\n",
              "BELÉN DE BAJIRÁ            1\n",
              "Name: ESTU_MCPIO_RESIDE, Length: 1031, dtype: int64"
            ]
          },
          "metadata": {}
        }
      ]
    },
    {
      "cell_type": "code",
      "source": [
        "# Se valida por filtro de valores vacios\n",
        "\n",
        "registros_vacios = df_resultados[df_resultados['ESTU_MCPIO_RESIDE'] == '']\n",
        "display(registros_vacios)"
      ],
      "metadata": {
        "colab": {
          "base_uri": "https://localhost:8080/",
          "height": 160
        },
        "id": "b2ejrxHfpnF-",
        "outputId": "167bdd30-42af-4c5f-9748-e91d114c86d4"
      },
      "execution_count": null,
      "outputs": [
        {
          "output_type": "display_data",
          "data": {
            "text/plain": [
              "Empty DataFrame\n",
              "Columns: [ESTU_TIPODOCUMENTO, ESTU_NACIONALIDAD, ESTU_GENERO, PERIODO, ESTU_CONSECUTIVO, ESTU_ESTUDIANTE, ESTU_TIENEETNIA, ESTU_PAIS_RESIDE, ESTU_ETNIA, ESTU_DEPTO_RESIDE, ESTU_COD_RESIDE_DEPTO, ESTU_MCPIO_RESIDE, ESTU_COD_RESIDE_MCPIO, FAMI_ESTRATOVIVIENDA, FAMI_PERSONASHOGAR, FAMI_CUARTOSHOGAR, FAMI_EDUCACIONPADRE, FAMI_EDUCACIONMADRE, FAMI_TRABAJOLABORPADRE, FAMI_TRABAJOLABORMADRE, FAMI_TIENEINTERNET, FAMI_TIENESERVICIOTV, FAMI_TIENECOMPUTADOR, FAMI_TIENELAVADORA, FAMI_TIENEHORNOMICROOGAS, FAMI_TIENEAUTOMOVIL, FAMI_TIENEMOTOCICLETA, FAMI_TIENECONSOLAVIDEOJUEGOS, FAMI_NUMLIBROS, FAMI_COMELECHEDERIVADOS, FAMI_COMECARNEPESCADOHUEVO, FAMI_COMECEREALFRUTOSLEGUMBRE, FAMI_SITUACIONECONOMICA, ESTU_DEDICACIONLECTURADIARIA, ESTU_DEDICACIONINTERNET, ESTU_HORASSEMANATRABAJA, ESTU_TIPOREMUNERACION, COLE_CODIGO_ICFES, COLE_COD_DANE_ESTABLECIMIENTO, COLE_NOMBRE_ESTABLECIMIENTO, COLE_GENERO, COLE_NATURALEZA, COLE_CALENDARIO, COLE_BILINGUE, COLE_CARACTER, COLE_COD_DANE_SEDE, COLE_NOMBRE_SEDE, COLE_SEDE_PRINCIPAL, COLE_AREA_UBICACION, COLE_JORNADA, COLE_COD_MCPIO_UBICACION, COLE_MCPIO_UBICACION, COLE_COD_DEPTO_UBICACION, COLE_DEPTO_UBICACION, ESTU_PRIVADO_LIBERTAD, ESTU_COD_MCPIO_PRESENTACION, ESTU_MCPIO_PRESENTACION, ESTU_DEPTO_PRESENTACION, ESTU_COD_DEPTO_PRESENTACION, PUNT_LECTURA_CRITICA, PERCENTIL_LECTURA_CRITICA, DESEMP_LECTURA_CRITICA, PUNT_MATEMATICAS, PERCENTIL_MATEMATICAS, DESEMP_MATEMATICAS, PUNT_C_NATURALES, PERCENTIL_C_NATURALES, DESEMP_C_NATURALES, PUNT_SOCIALES_CIUDADANAS, PERCENTIL_SOCIALES_CIUDADANAS, DESEMP_SOCIALES_CIUDADANAS, PUNT_INGLES, PERCENTIL_INGLES, DESEMP_INGLES, PUNT_GLOBAL, PERCENTIL_GLOBAL, ESTU_INSE_INDIVIDUAL, ESTU_NSE_INDIVIDUAL, ESTU_NSE_ESTABLECIMIENTO, ESTU_ESTADOINVESTIGACION, ESTU_GENERACION-E, ANIO_NACIMIENTO]\n",
              "Index: []\n",
              "\n",
              "[0 rows x 82 columns]"
            ],
            "text/html": [
              "\n",
              "  <div id=\"df-511a215b-b47c-42e2-9ee0-2a0722060e80\">\n",
              "    <div class=\"colab-df-container\">\n",
              "      <div>\n",
              "<style scoped>\n",
              "    .dataframe tbody tr th:only-of-type {\n",
              "        vertical-align: middle;\n",
              "    }\n",
              "\n",
              "    .dataframe tbody tr th {\n",
              "        vertical-align: top;\n",
              "    }\n",
              "\n",
              "    .dataframe thead th {\n",
              "        text-align: right;\n",
              "    }\n",
              "</style>\n",
              "<table border=\"1\" class=\"dataframe\">\n",
              "  <thead>\n",
              "    <tr style=\"text-align: right;\">\n",
              "      <th></th>\n",
              "      <th>ESTU_TIPODOCUMENTO</th>\n",
              "      <th>ESTU_NACIONALIDAD</th>\n",
              "      <th>ESTU_GENERO</th>\n",
              "      <th>PERIODO</th>\n",
              "      <th>ESTU_CONSECUTIVO</th>\n",
              "      <th>ESTU_ESTUDIANTE</th>\n",
              "      <th>ESTU_TIENEETNIA</th>\n",
              "      <th>ESTU_PAIS_RESIDE</th>\n",
              "      <th>ESTU_ETNIA</th>\n",
              "      <th>ESTU_DEPTO_RESIDE</th>\n",
              "      <th>...</th>\n",
              "      <th>PERCENTIL_INGLES</th>\n",
              "      <th>DESEMP_INGLES</th>\n",
              "      <th>PUNT_GLOBAL</th>\n",
              "      <th>PERCENTIL_GLOBAL</th>\n",
              "      <th>ESTU_INSE_INDIVIDUAL</th>\n",
              "      <th>ESTU_NSE_INDIVIDUAL</th>\n",
              "      <th>ESTU_NSE_ESTABLECIMIENTO</th>\n",
              "      <th>ESTU_ESTADOINVESTIGACION</th>\n",
              "      <th>ESTU_GENERACION-E</th>\n",
              "      <th>ANIO_NACIMIENTO</th>\n",
              "    </tr>\n",
              "  </thead>\n",
              "  <tbody>\n",
              "  </tbody>\n",
              "</table>\n",
              "<p>0 rows × 82 columns</p>\n",
              "</div>\n",
              "      <button class=\"colab-df-convert\" onclick=\"convertToInteractive('df-511a215b-b47c-42e2-9ee0-2a0722060e80')\"\n",
              "              title=\"Convert this dataframe to an interactive table.\"\n",
              "              style=\"display:none;\">\n",
              "        \n",
              "  <svg xmlns=\"http://www.w3.org/2000/svg\" height=\"24px\"viewBox=\"0 0 24 24\"\n",
              "       width=\"24px\">\n",
              "    <path d=\"M0 0h24v24H0V0z\" fill=\"none\"/>\n",
              "    <path d=\"M18.56 5.44l.94 2.06.94-2.06 2.06-.94-2.06-.94-.94-2.06-.94 2.06-2.06.94zm-11 1L8.5 8.5l.94-2.06 2.06-.94-2.06-.94L8.5 2.5l-.94 2.06-2.06.94zm10 10l.94 2.06.94-2.06 2.06-.94-2.06-.94-.94-2.06-.94 2.06-2.06.94z\"/><path d=\"M17.41 7.96l-1.37-1.37c-.4-.4-.92-.59-1.43-.59-.52 0-1.04.2-1.43.59L10.3 9.45l-7.72 7.72c-.78.78-.78 2.05 0 2.83L4 21.41c.39.39.9.59 1.41.59.51 0 1.02-.2 1.41-.59l7.78-7.78 2.81-2.81c.8-.78.8-2.07 0-2.86zM5.41 20L4 18.59l7.72-7.72 1.47 1.35L5.41 20z\"/>\n",
              "  </svg>\n",
              "      </button>\n",
              "      \n",
              "  <style>\n",
              "    .colab-df-container {\n",
              "      display:flex;\n",
              "      flex-wrap:wrap;\n",
              "      gap: 12px;\n",
              "    }\n",
              "\n",
              "    .colab-df-convert {\n",
              "      background-color: #E8F0FE;\n",
              "      border: none;\n",
              "      border-radius: 50%;\n",
              "      cursor: pointer;\n",
              "      display: none;\n",
              "      fill: #1967D2;\n",
              "      height: 32px;\n",
              "      padding: 0 0 0 0;\n",
              "      width: 32px;\n",
              "    }\n",
              "\n",
              "    .colab-df-convert:hover {\n",
              "      background-color: #E2EBFA;\n",
              "      box-shadow: 0px 1px 2px rgba(60, 64, 67, 0.3), 0px 1px 3px 1px rgba(60, 64, 67, 0.15);\n",
              "      fill: #174EA6;\n",
              "    }\n",
              "\n",
              "    [theme=dark] .colab-df-convert {\n",
              "      background-color: #3B4455;\n",
              "      fill: #D2E3FC;\n",
              "    }\n",
              "\n",
              "    [theme=dark] .colab-df-convert:hover {\n",
              "      background-color: #434B5C;\n",
              "      box-shadow: 0px 1px 3px 1px rgba(0, 0, 0, 0.15);\n",
              "      filter: drop-shadow(0px 1px 2px rgba(0, 0, 0, 0.3));\n",
              "      fill: #FFFFFF;\n",
              "    }\n",
              "  </style>\n",
              "\n",
              "      <script>\n",
              "        const buttonEl =\n",
              "          document.querySelector('#df-511a215b-b47c-42e2-9ee0-2a0722060e80 button.colab-df-convert');\n",
              "        buttonEl.style.display =\n",
              "          google.colab.kernel.accessAllowed ? 'block' : 'none';\n",
              "\n",
              "        async function convertToInteractive(key) {\n",
              "          const element = document.querySelector('#df-511a215b-b47c-42e2-9ee0-2a0722060e80');\n",
              "          const dataTable =\n",
              "            await google.colab.kernel.invokeFunction('convertToInteractive',\n",
              "                                                     [key], {});\n",
              "          if (!dataTable) return;\n",
              "\n",
              "          const docLinkHtml = 'Like what you see? Visit the ' +\n",
              "            '<a target=\"_blank\" href=https://colab.research.google.com/notebooks/data_table.ipynb>data table notebook</a>'\n",
              "            + ' to learn more about interactive tables.';\n",
              "          element.innerHTML = '';\n",
              "          dataTable['output_type'] = 'display_data';\n",
              "          await google.colab.output.renderOutput(dataTable, element);\n",
              "          const docLink = document.createElement('div');\n",
              "          docLink.innerHTML = docLinkHtml;\n",
              "          element.appendChild(docLink);\n",
              "        }\n",
              "      </script>\n",
              "    </div>\n",
              "  </div>\n",
              "  "
            ]
          },
          "metadata": {}
        }
      ]
    },
    {
      "cell_type": "markdown",
      "source": [
        "## Columna FAMI_ESTRATOVIVIENDA"
      ],
      "metadata": {
        "id": "YZg2e3Y7qMtf"
      }
    },
    {
      "cell_type": "code",
      "source": [
        "# generar conteo de registros por valor único en la columna FAMI_ESTRATOVIVIENDAA que hace referencia al estrato de la vivienda de los estudiantes.\n",
        "\n",
        "df_estrato = df_resultados['FAMI_ESTRATOVIVIENDA'].value_counts()\n",
        "df_estrato"
      ],
      "metadata": {
        "colab": {
          "base_uri": "https://localhost:8080/"
        },
        "id": "wZZBneAnqPtG",
        "outputId": "44b8b179-dec4-4033-e6ef-0266330fc6b3"
      },
      "execution_count": null,
      "outputs": [
        {
          "output_type": "execute_result",
          "data": {
            "text/plain": [
              "Estrato 2      188120\n",
              "Estrato 1      159837\n",
              "Estrato 3      108568\n",
              "-               34426\n",
              "Estrato 4       25776\n",
              "Sin Estrato     17149\n",
              "Estrato 5        8016\n",
              "Estrato 6        3708\n",
              "Name: FAMI_ESTRATOVIVIENDA, dtype: int64"
            ]
          },
          "metadata": {},
          "execution_count": 125
        }
      ]
    },
    {
      "cell_type": "code",
      "source": [
        "df_resultados['FAMI_ESTRATOVIVIENDA'].replace(['Vacías', '-'], 'No sabe', inplace=True)"
      ],
      "metadata": {
        "id": "ZPhuYz53qqYJ"
      },
      "execution_count": null,
      "outputs": []
    },
    {
      "cell_type": "code",
      "source": [
        "df_estrato = df_resultados['FAMI_ESTRATOVIVIENDA'].value_counts()\n",
        "df_estrato"
      ],
      "metadata": {
        "colab": {
          "base_uri": "https://localhost:8080/"
        },
        "id": "fDN4oApNrB6O",
        "outputId": "a977eeaa-1021-4831-cd13-b7d75d5ba65e"
      },
      "execution_count": null,
      "outputs": [
        {
          "output_type": "execute_result",
          "data": {
            "text/plain": [
              "Estrato 2      188120\n",
              "Estrato 1      159837\n",
              "Estrato 3      108568\n",
              "No sabe         34426\n",
              "Estrato 4       25776\n",
              "Sin Estrato     17149\n",
              "Estrato 5        8016\n",
              "Estrato 6        3708\n",
              "Name: FAMI_ESTRATOVIVIENDA, dtype: int64"
            ]
          },
          "metadata": {},
          "execution_count": 127
        }
      ]
    },
    {
      "cell_type": "markdown",
      "source": [
        "## FAMI_PERSONASHOGAR"
      ],
      "metadata": {
        "id": "zFWin5GCrOLB"
      }
    },
    {
      "cell_type": "code",
      "source": [
        "# generar conteo de registros por valor único en la columna ESTU_TIENEETNIA que hace referencia si pertenece o no a un tipo de etnia.\n",
        "\n",
        "df_personas_hogar = df_resultados['FAMI_PERSONASHOGAR'].value_counts()\n",
        "df_personas_hogar"
      ],
      "metadata": {
        "colab": {
          "base_uri": "https://localhost:8080/"
        },
        "id": "05fL32WgrRe_",
        "outputId": "96437dfc-b594-40c5-b692-076d101bc92a"
      },
      "execution_count": null,
      "outputs": [
        {
          "output_type": "execute_result",
          "data": {
            "text/plain": [
              "3 a 4      257346\n",
              "5 a 6      169852\n",
              "7 a 8       44931\n",
              "1 a 2       39792\n",
              "9 o más     17732\n",
              "-            7522\n",
              "Name: FAMI_PERSONASHOGAR, dtype: int64"
            ]
          },
          "metadata": {},
          "execution_count": 128
        }
      ]
    },
    {
      "cell_type": "code",
      "source": [
        "df_resultados['FAMI_PERSONASHOGAR'].replace(['Vacías', '-'], 'Desconocido', inplace=True)\n",
        "\n",
        "# generar conteo de registros por valor único en la columna ESTU_TIENEETNIA que hace referencia si pertenece o no a un tipo de etnia.\n",
        "\n",
        "df_personas_hogar = df_resultados['FAMI_PERSONASHOGAR'].value_counts()\n",
        "df_personas_hogar"
      ],
      "metadata": {
        "id": "OA55FhwFrgZA",
        "colab": {
          "base_uri": "https://localhost:8080/"
        },
        "outputId": "426a58d7-4a56-42ed-f2e9-0ed29603aa46"
      },
      "execution_count": null,
      "outputs": [
        {
          "output_type": "execute_result",
          "data": {
            "text/plain": [
              "3 a 4          257346\n",
              "5 a 6          169852\n",
              "7 a 8           44931\n",
              "1 a 2           39792\n",
              "9 o más         17732\n",
              "Desconocido      7522\n",
              "Name: FAMI_PERSONASHOGAR, dtype: int64"
            ]
          },
          "metadata": {},
          "execution_count": 129
        }
      ]
    },
    {
      "cell_type": "markdown",
      "source": [
        "## FAMI_CUARTOSHOGAR"
      ],
      "metadata": {
        "id": "JpD3atEVrrQS"
      }
    },
    {
      "cell_type": "code",
      "source": [
        "# generar conteo de registros por valor único en la columna ESTU_TIENEETNIA que hace referencia si pertenece o no a un tipo de etnia.\n",
        "\n",
        "df_cuartos_hogar = df_resultados['FAMI_CUARTOSHOGAR'].value_counts()\n",
        "df_cuartos_hogar"
      ],
      "metadata": {
        "colab": {
          "base_uri": "https://localhost:8080/"
        },
        "id": "qGNe72ZOrurE",
        "outputId": "a41ea2f2-4450-4308-d0f5-1c04d1c58e86"
      },
      "execution_count": null,
      "outputs": [
        {
          "output_type": "execute_result",
          "data": {
            "text/plain": [
              "Tres          206970\n",
              "Dos           188838\n",
              "Cuatro         70550\n",
              "Uno            28238\n",
              "Cinco          21934\n",
              "Seis o mas     11886\n",
              "-              10726\n",
              "Name: FAMI_CUARTOSHOGAR, dtype: int64"
            ]
          },
          "metadata": {},
          "execution_count": 128
        }
      ]
    },
    {
      "cell_type": "code",
      "source": [
        "df_resultados['FAMI_CUARTOSHOGAR'].replace(['Vacías', '-'], 'No sabe', inplace=True)\n",
        "\n",
        "df_cuartos_hogar = df_resultados['FAMI_CUARTOSHOGAR'].value_counts()\n",
        "df_cuartos_hogar"
      ],
      "metadata": {
        "colab": {
          "base_uri": "https://localhost:8080/"
        },
        "id": "0EfwhzzAr3np",
        "outputId": "628ee7d9-c286-4d82-9964-80ca6616847e"
      },
      "execution_count": null,
      "outputs": [
        {
          "output_type": "execute_result",
          "data": {
            "text/plain": [
              "Tres          207008\n",
              "Dos           188858\n",
              "Cuatro         70558\n",
              "Uno            28240\n",
              "Cinco          21938\n",
              "Seis o mas     11887\n",
              "No sabe        10726\n",
              "Name: FAMI_CUARTOSHOGAR, dtype: int64"
            ]
          },
          "metadata": {},
          "execution_count": 130
        }
      ]
    },
    {
      "cell_type": "markdown",
      "source": [
        "## FAMI_EDUCACIONPADRE"
      ],
      "metadata": {
        "id": "mtSxoSfSr-zQ"
      }
    },
    {
      "cell_type": "code",
      "source": [
        "# generar conteo de registros por valor único en la columna ESTU_TIENEETNIA que hace referencia si pertenece o no a un tipo de etnia.\n",
        "\n",
        "df_edu_padre = df_resultados['FAMI_EDUCACIONPADRE'].value_counts()\n",
        "df_edu_padre"
      ],
      "metadata": {
        "colab": {
          "base_uri": "https://localhost:8080/"
        },
        "id": "m8XxF8mIsCQ5",
        "outputId": "49110670-ab4b-4bb2-e48d-53d43429860b"
      },
      "execution_count": null,
      "outputs": [
        {
          "output_type": "execute_result",
          "data": {
            "text/plain": [
              "Secundaria (Bachillerato) completa      117358\n",
              "Primaria incompleta                     101291\n",
              "Secundaria (Bachillerato) incompleta     71222\n",
              "Primaria completa                        54083\n",
              "Educación profesional completa           46358\n",
              "Técnica o tecnológica completa           35333\n",
              "No sabe                                  32062\n",
              "-                                        22200\n",
              "Ninguno                                  20078\n",
              "Técnica o tecnológica incompleta         10952\n",
              "Educación profesional incompleta         10136\n",
              "Postgrado                                 9427\n",
              "No Aplica                                 6846\n",
              "Name: FAMI_EDUCACIONPADRE, dtype: int64"
            ]
          },
          "metadata": {},
          "execution_count": 131
        }
      ]
    },
    {
      "cell_type": "code",
      "source": [
        "df_resultados['FAMI_EDUCACIONPADRE'].replace(['Vacías', '-', 'No Aplica'], 'No sabe', inplace=True)\n",
        "\n",
        "df_edu_padre = df_resultados['FAMI_EDUCACIONPADRE'].value_counts()\n",
        "df_edu_padre"
      ],
      "metadata": {
        "colab": {
          "base_uri": "https://localhost:8080/"
        },
        "id": "HxlqOat5sQrA",
        "outputId": "d62fbf64-8797-49b3-c250-e6de7bd33738"
      },
      "execution_count": null,
      "outputs": [
        {
          "output_type": "execute_result",
          "data": {
            "text/plain": [
              "Secundaria (Bachillerato) completa      117358\n",
              "Primaria incompleta                     101291\n",
              "Secundaria (Bachillerato) incompleta     71222\n",
              "No sabe                                  61108\n",
              "Primaria completa                        54083\n",
              "Educación profesional completa           46358\n",
              "Técnica o tecnológica completa           35333\n",
              "Ninguno                                  20078\n",
              "Técnica o tecnológica incompleta         10952\n",
              "Educación profesional incompleta         10136\n",
              "Postgrado                                 9427\n",
              "Name: FAMI_EDUCACIONPADRE, dtype: int64"
            ]
          },
          "metadata": {},
          "execution_count": 132
        }
      ]
    },
    {
      "cell_type": "markdown",
      "source": [
        "## FAMI_EDUCACIONMADRE"
      ],
      "metadata": {
        "id": "Wb-z5gABssKh"
      }
    },
    {
      "cell_type": "code",
      "source": [
        "# generar conteo de registros por valor único en la columna ESTU_TIENEETNIA que hace referencia si pertenece o no a un tipo de etnia.\n",
        "\n",
        "df_edu_madre = df_resultados['FAMI_EDUCACIONMADRE'].value_counts()\n",
        "df_edu_madre"
      ],
      "metadata": {
        "colab": {
          "base_uri": "https://localhost:8080/"
        },
        "id": "vFGZe7uusovv",
        "outputId": "b74a175a-6c09-402e-aea0-9c9935fb82d1"
      },
      "execution_count": null,
      "outputs": [
        {
          "output_type": "execute_result",
          "data": {
            "text/plain": [
              "Secundaria (Bachillerato) completa      136144\n",
              "Primaria incompleta                      79978\n",
              "Secundaria (Bachillerato) incompleta     76275\n",
              "Educación profesional completa           54417\n",
              "Primaria completa                        53395\n",
              "Técnica o tecnológica completa           52891\n",
              "Técnica o tecnológica incompleta         15957\n",
              "Ninguno                                  12743\n",
              "Educación profesional incompleta         12370\n",
              "Postgrado                                10793\n",
              "-                                         9396\n",
              "No sabe                                   9258\n",
              "No Aplica                                 1081\n",
              "Name: FAMI_EDUCACIONMADRE, dtype: int64"
            ]
          },
          "metadata": {},
          "execution_count": 133
        }
      ]
    },
    {
      "cell_type": "code",
      "source": [
        "df_resultados['FAMI_EDUCACIONMADRE'].replace(['Vacías', '-', 'No Aplica'], 'No sabe', inplace=True)\n",
        "\n",
        "df_edu_madre = df_resultados['FAMI_EDUCACIONMADRE'].value_counts()\n",
        "df_edu_madre"
      ],
      "metadata": {
        "colab": {
          "base_uri": "https://localhost:8080/"
        },
        "id": "PU86bUaVs0UY",
        "outputId": "9da3e956-173a-4e56-a204-fac2ede09ade"
      },
      "execution_count": null,
      "outputs": [
        {
          "output_type": "execute_result",
          "data": {
            "text/plain": [
              "Secundaria (Bachillerato) completa      136144\n",
              "Primaria incompleta                      79978\n",
              "Secundaria (Bachillerato) incompleta     76275\n",
              "Educación profesional completa           54417\n",
              "Primaria completa                        53395\n",
              "Técnica o tecnológica completa           52891\n",
              "No sabe                                  19735\n",
              "Técnica o tecnológica incompleta         15957\n",
              "Ninguno                                  12743\n",
              "Educación profesional incompleta         12370\n",
              "Postgrado                                10793\n",
              "Name: FAMI_EDUCACIONMADRE, dtype: int64"
            ]
          },
          "metadata": {},
          "execution_count": 134
        }
      ]
    },
    {
      "cell_type": "markdown",
      "source": [
        "## FAMI_TRABAJOLABORPADRE"
      ],
      "metadata": {
        "id": "hkACpx1ks-eh"
      }
    },
    {
      "cell_type": "code",
      "source": [
        "# generar conteo de registros por valor único en la columna ESTU_TIENEETNIA que hace referencia si pertenece o no a un tipo de etnia.\n",
        "\n",
        "df_trabajo_padre = df_resultados['FAMI_TRABAJOLABORPADRE'].value_counts()\n",
        "df_trabajo_padre"
      ],
      "metadata": {
        "colab": {
          "base_uri": "https://localhost:8080/"
        },
        "id": "pR-Y8Le-tB-C",
        "outputId": "6776fa5a-0a2a-4f18-dfe1-fb323a4cb61c"
      },
      "execution_count": null,
      "outputs": [
        {
          "output_type": "execute_result",
          "data": {
            "text/plain": [
              "Es agricultor, pesquero o jornalero                                                                     78130\n",
              "Trabaja por cuenta propia (por ejemplo plomero, electricista)                                           60882\n",
              "Es operario de máquinas o conduce vehículos (taxita, chofer)                                            56889\n",
              "No aplica                                                                                               48973\n",
              "No sabe                                                                                                 44193\n",
              "Es dueño de un negocio pequeño (tiene pocos empleados o no tiene, por ejemplo tienda, papelería, etc    44190\n",
              "Trabaja como profesional (por ejemplo médico, abogado, ingeniero)                                       41156\n",
              "Trabaja como personal de limpieza, mantenimiento, seguridad o construcción                              39929\n",
              "Trabaja en el hogar, no trabaja o estudia                                                               33135\n",
              "Es vendedor o trabaja en atención al público                                                            31386\n",
              "Tiene un trabajo de tipo auxiliar administrativo (por ejemplo, secretario o asistente)                  22575\n",
              "Pensionado                                                                                              12989\n",
              "Es dueño de un negocio grande, tiene un cargo de nivel directivo o gerencial                            12921\n",
              "-                                                                                                       10159\n",
              "Name: FAMI_TRABAJOLABORPADRE, dtype: int64"
            ]
          },
          "metadata": {},
          "execution_count": 135
        }
      ]
    },
    {
      "cell_type": "code",
      "source": [
        "df_resultados['FAMI_TRABAJOLABORPADRE'].replace(['Vacías', '-', 'No aplica'], 'No sabe', inplace=True)\n",
        "\n",
        "df_trabajo_padre = df_resultados['FAMI_TRABAJOLABORPADRE'].value_counts()\n",
        "df_trabajo_padre"
      ],
      "metadata": {
        "colab": {
          "base_uri": "https://localhost:8080/"
        },
        "id": "jQ2LkNhQtOX3",
        "outputId": "91125d1e-2803-48b7-a0f6-4d9a73141c25"
      },
      "execution_count": null,
      "outputs": [
        {
          "output_type": "execute_result",
          "data": {
            "text/plain": [
              "No sabe                                                                                                 103325\n",
              "Es agricultor, pesquero o jornalero                                                                      78130\n",
              "Trabaja por cuenta propia (por ejemplo plomero, electricista)                                            60882\n",
              "Es operario de máquinas o conduce vehículos (taxita, chofer)                                             56889\n",
              "Es dueño de un negocio pequeño (tiene pocos empleados o no tiene, por ejemplo tienda, papelería, etc     44190\n",
              "Trabaja como profesional (por ejemplo médico, abogado, ingeniero)                                        41156\n",
              "Trabaja como personal de limpieza, mantenimiento, seguridad o construcción                               39929\n",
              "Trabaja en el hogar, no trabaja o estudia                                                                33135\n",
              "Es vendedor o trabaja en atención al público                                                             31386\n",
              "Tiene un trabajo de tipo auxiliar administrativo (por ejemplo, secretario o asistente)                   22575\n",
              "Pensionado                                                                                               12989\n",
              "Es dueño de un negocio grande, tiene un cargo de nivel directivo o gerencial                             12921\n",
              "Name: FAMI_TRABAJOLABORPADRE, dtype: int64"
            ]
          },
          "metadata": {},
          "execution_count": 136
        }
      ]
    },
    {
      "cell_type": "markdown",
      "source": [
        "## FAMI_TRABAJOLABORMADRE"
      ],
      "metadata": {
        "id": "_uuZ-1bcta3M"
      }
    },
    {
      "cell_type": "code",
      "source": [
        "df_resultados['FAMI_TRABAJOLABORMADRE'].replace(['Vacías', '-', 'No aplica'], 'No sabe', inplace=True)\n",
        "\n",
        "df_trabajo_madre = df_resultados['FAMI_TRABAJOLABORMADRE'].value_counts()\n",
        "df_trabajo_madre"
      ],
      "metadata": {
        "colab": {
          "base_uri": "https://localhost:8080/"
        },
        "id": "H-40e3-ztdMh",
        "outputId": "12428365-70e3-452c-ff79-7bb8c61c9b6f"
      },
      "execution_count": null,
      "outputs": [
        {
          "output_type": "execute_result",
          "data": {
            "text/plain": [
              "Trabaja en el hogar, no trabaja o estudia                                                               213189\n",
              "No sabe                                                                                                  49119\n",
              "Es dueño de un negocio pequeño (tiene pocos empleados o no tiene, por ejemplo tienda, papelería, etc     48075\n",
              "Trabaja como personal de limpieza, mantenimiento, seguridad o construcción                               46834\n",
              "Tiene un trabajo de tipo auxiliar administrativo (por ejemplo, secretario o asistente)                   44351\n",
              "Trabaja como profesional (por ejemplo médico, abogado, ingeniero)                                        41897\n",
              "Es vendedor o trabaja en atención al público                                                             40326\n",
              "Es agricultor, pesquero o jornalero                                                                      17002\n",
              "Trabaja por cuenta propia (por ejemplo plomero, electricista)                                            16525\n",
              "Es dueño de un negocio grande, tiene un cargo de nivel directivo o gerencial                              8691\n",
              "Es operario de máquinas o conduce vehículos (taxita, chofer)                                              8505\n",
              "Pensionado                                                                                                3652\n",
              "Name: FAMI_TRABAJOLABORMADRE, dtype: int64"
            ]
          },
          "metadata": {},
          "execution_count": 137
        }
      ]
    },
    {
      "cell_type": "markdown",
      "source": [
        "## FAMI_TIENEINTERNET"
      ],
      "metadata": {
        "id": "R62lhETTtp_N"
      }
    },
    {
      "cell_type": "code",
      "source": [
        "# generar conteo de registros por valor único en la columna ESTU_TIENEETNIA que hace referencia si pertenece o no a un tipo de etnia.\n",
        "\n",
        "df_internet = df_resultados['FAMI_TIENEINTERNET'].value_counts()\n",
        "df_internet"
      ],
      "metadata": {
        "colab": {
          "base_uri": "https://localhost:8080/"
        },
        "id": "T-B3OU3Ittel",
        "outputId": "83961e07-bd90-4f45-a4aa-ce8b4dd92ef7"
      },
      "execution_count": null,
      "outputs": [
        {
          "output_type": "execute_result",
          "data": {
            "text/plain": [
              "Si    313692\n",
              "No    201013\n",
              "-      22597\n",
              "Name: FAMI_TIENEINTERNET, dtype: int64"
            ]
          },
          "metadata": {},
          "execution_count": 138
        }
      ]
    },
    {
      "cell_type": "code",
      "source": [
        "df_resultados['FAMI_TIENEINTERNET'].replace(['-'], 'No sabe', inplace=True)\n",
        "\n",
        "df_internet = df_resultados['FAMI_TIENEINTERNET'].value_counts()\n",
        "df_internet"
      ],
      "metadata": {
        "colab": {
          "base_uri": "https://localhost:8080/"
        },
        "id": "ID2vYNJit2Rv",
        "outputId": "90f24c2d-31b9-42ce-8c40-5f8378db7158"
      },
      "execution_count": null,
      "outputs": [
        {
          "output_type": "execute_result",
          "data": {
            "text/plain": [
              "Si         313692\n",
              "No         201013\n",
              "No sabe     22597\n",
              "Name: FAMI_TIENEINTERNET, dtype: int64"
            ]
          },
          "metadata": {},
          "execution_count": 139
        }
      ]
    },
    {
      "cell_type": "markdown",
      "source": [
        "## FAMI_TIENECOMPUTADOR"
      ],
      "metadata": {
        "id": "zNeUppdAuCE_"
      }
    },
    {
      "cell_type": "code",
      "source": [
        "# generar conteo de registros por valor único en la columna ESTU_TIENEETNIA que hace referencia si pertenece o no a un tipo de etnia.\n",
        "\n",
        "df_pc = df_resultados['FAMI_TIENECOMPUTADOR'].value_counts()\n",
        "df_pc"
      ],
      "metadata": {
        "colab": {
          "base_uri": "https://localhost:8080/"
        },
        "id": "K9Uw4y2auG3t",
        "outputId": "7d68a1f3-e395-4b9c-ea5e-e84ff17585ea"
      },
      "execution_count": null,
      "outputs": [
        {
          "output_type": "execute_result",
          "data": {
            "text/plain": [
              "Si    295092\n",
              "No    233582\n",
              "-       8779\n",
              "Name: FAMI_TIENECOMPUTADOR, dtype: int64"
            ]
          },
          "metadata": {},
          "execution_count": 140
        }
      ]
    },
    {
      "cell_type": "code",
      "source": [
        "df_resultados['FAMI_TIENECOMPUTADOR'].replace(['-'], 'No aplica', inplace=True)\n",
        "\n",
        "df_pc = df_resultados['FAMI_TIENECOMPUTADOR'].value_counts()\n",
        "df_pc"
      ],
      "metadata": {
        "colab": {
          "base_uri": "https://localhost:8080/"
        },
        "id": "6DbdM2E5uOdO",
        "outputId": "f1aaab49-f521-4437-ec9d-484c2e50ddd3"
      },
      "execution_count": null,
      "outputs": [
        {
          "output_type": "execute_result",
          "data": {
            "text/plain": [
              "Si           295092\n",
              "No           233582\n",
              "No aplica      8779\n",
              "Name: FAMI_TIENECOMPUTADOR, dtype: int64"
            ]
          },
          "metadata": {},
          "execution_count": 141
        }
      ]
    },
    {
      "cell_type": "markdown",
      "source": [
        "## FAMI_NUMLIBROS"
      ],
      "metadata": {
        "id": "vUdL4pWJuXO5"
      }
    },
    {
      "cell_type": "code",
      "source": [
        "# generar conteo de registros por valor único en la columna ESTU_TIENEETNIA que hace referencia si pertenece o no a un tipo de etnia.\n",
        "\n",
        "df_libros = df_resultados['FAMI_NUMLIBROS'].value_counts()\n",
        "df_libros"
      ],
      "metadata": {
        "colab": {
          "base_uri": "https://localhost:8080/"
        },
        "id": "UaxDkJhIuZ8B",
        "outputId": "8ce77de0-0e91-4ff2-c6e4-a1b435c80edb"
      },
      "execution_count": null,
      "outputs": [
        {
          "output_type": "execute_result",
          "data": {
            "text/plain": [
              "0 A 10 LIBROS        207308\n",
              "11 A 25 LIBROS       153808\n",
              "26 A 100 LIBROS      105542\n",
              "-                     35947\n",
              "MÁS DE 100 LIBROS     34382\n",
              "Name: FAMI_NUMLIBROS, dtype: int64"
            ]
          },
          "metadata": {},
          "execution_count": 142
        }
      ]
    },
    {
      "cell_type": "code",
      "source": [
        "df_resultados['FAMI_NUMLIBROS'].replace(['-'], 'No sabe', inplace=True)\n",
        "\n",
        "df_libros = df_resultados['FAMI_NUMLIBROS'].value_counts()\n",
        "df_libros"
      ],
      "metadata": {
        "colab": {
          "base_uri": "https://localhost:8080/"
        },
        "id": "jJy8oYFVuj2Z",
        "outputId": "5a6f60cb-d849-4d72-bf3d-ca7f3f41ad67"
      },
      "execution_count": null,
      "outputs": [
        {
          "output_type": "execute_result",
          "data": {
            "text/plain": [
              "0 A 10 LIBROS        207308\n",
              "11 A 25 LIBROS       153808\n",
              "26 A 100 LIBROS      105542\n",
              "No sabe               35947\n",
              "MÁS DE 100 LIBROS     34382\n",
              "Name: FAMI_NUMLIBROS, dtype: int64"
            ]
          },
          "metadata": {},
          "execution_count": 143
        }
      ]
    },
    {
      "cell_type": "markdown",
      "source": [
        "## FAMI_SITUACIONECONOMICA"
      ],
      "metadata": {
        "id": "T9sNH_I7uqbG"
      }
    },
    {
      "cell_type": "code",
      "source": [
        "# generar conteo de registros por valor único en la columna ESTU_TIENEETNIA que hace referencia si pertenece o no a un tipo de etnia.\n",
        "\n",
        "df_econo = df_resultados['FAMI_SITUACIONECONOMICA'].value_counts()\n",
        "df_econo"
      ],
      "metadata": {
        "colab": {
          "base_uri": "https://localhost:8080/"
        },
        "id": "lOeOf1AJutt6",
        "outputId": "f1077c56-2f24-4028-8688-a36f210ab7ec"
      },
      "execution_count": null,
      "outputs": [
        {
          "output_type": "execute_result",
          "data": {
            "text/plain": [
              "Igual    322177\n",
              "Mejor    133545\n",
              "Peor      72052\n",
              "-          9605\n",
              "Name: FAMI_SITUACIONECONOMICA, dtype: int64"
            ]
          },
          "metadata": {},
          "execution_count": 144
        }
      ]
    },
    {
      "cell_type": "code",
      "source": [
        "df_resultados['FAMI_SITUACIONECONOMICA'].replace(['-'], 'No sabe', inplace=True)\n",
        "\n",
        "df_econo = df_resultados['FAMI_SITUACIONECONOMICA'].value_counts()\n",
        "df_econo"
      ],
      "metadata": {
        "colab": {
          "base_uri": "https://localhost:8080/"
        },
        "id": "InxvBs0ju0dw",
        "outputId": "ac9cc406-edfd-4576-dc2f-56521a6cfc48"
      },
      "execution_count": null,
      "outputs": [
        {
          "output_type": "execute_result",
          "data": {
            "text/plain": [
              "Igual      322177\n",
              "Mejor      133545\n",
              "Peor        72052\n",
              "No sabe      9605\n",
              "Name: FAMI_SITUACIONECONOMICA, dtype: int64"
            ]
          },
          "metadata": {},
          "execution_count": 145
        }
      ]
    },
    {
      "cell_type": "markdown",
      "source": [
        "## ESTU_DEDICACIONLECTURADIARIA"
      ],
      "metadata": {
        "id": "GZz1LUoKu7cm"
      }
    },
    {
      "cell_type": "code",
      "source": [
        "# generar conteo de registros por valor único en la columna ESTU_TIENEETNIA que hace referencia si pertenece o no a un tipo de etnia.\n",
        "\n",
        "df_lectura = df_resultados['ESTU_DEDICACIONLECTURADIARIA'].value_counts()\n",
        "df_lectura"
      ],
      "metadata": {
        "colab": {
          "base_uri": "https://localhost:8080/"
        },
        "id": "vB7fwOi9u_TP",
        "outputId": "89151b33-89d1-4587-fc75-5a871b1d8977"
      },
      "execution_count": null,
      "outputs": [
        {
          "output_type": "execute_result",
          "data": {
            "text/plain": [
              "30 minutos o menos            198898\n",
              "Entre 30 y 60 minutos         144118\n",
              "No leo por entretenimiento     95516\n",
              "Entre 1 y 2 horas              55425\n",
              "-                              31060\n",
              "Más de 2 horas                 19983\n",
              "Name: ESTU_DEDICACIONLECTURADIARIA, dtype: int64"
            ]
          },
          "metadata": {},
          "execution_count": 146
        }
      ]
    },
    {
      "cell_type": "code",
      "source": [
        "df_resultados['ESTU_DEDICACIONLECTURADIARIA'].replace(['-'], 'No calcula', inplace=True)\n",
        "\n",
        "df_lectura = df_resultados['ESTU_DEDICACIONLECTURADIARIA'].value_counts()\n",
        "df_lectura"
      ],
      "metadata": {
        "colab": {
          "base_uri": "https://localhost:8080/"
        },
        "id": "C3APY3NBvGAw",
        "outputId": "e7b3dd9e-3df1-4828-d52a-aefd5181074a"
      },
      "execution_count": null,
      "outputs": [
        {
          "output_type": "execute_result",
          "data": {
            "text/plain": [
              "30 minutos o menos            198898\n",
              "Entre 30 y 60 minutos         144118\n",
              "No leo por entretenimiento     95516\n",
              "Entre 1 y 2 horas              55425\n",
              "No calcula                     31060\n",
              "Más de 2 horas                 19983\n",
              "Name: ESTU_DEDICACIONLECTURADIARIA, dtype: int64"
            ]
          },
          "metadata": {},
          "execution_count": 147
        }
      ]
    },
    {
      "cell_type": "markdown",
      "source": [
        "## ESTU_DEDICACIONINTERNET"
      ],
      "metadata": {
        "id": "Z_PbE2gRvTgD"
      }
    },
    {
      "cell_type": "code",
      "source": [
        "# generar conteo de registros por valor único en la columna ESTU_TIENEETNIA que hace referencia si pertenece o no a un tipo de etnia.\n",
        "\n",
        "df_internet = df_resultados['ESTU_DEDICACIONINTERNET'].value_counts()\n",
        "df_internet"
      ],
      "metadata": {
        "colab": {
          "base_uri": "https://localhost:8080/"
        },
        "id": "al1PjHbNvP8W",
        "outputId": "7276f126-11b9-4696-a281-cb126bd582e7"
      },
      "execution_count": null,
      "outputs": [
        {
          "output_type": "execute_result",
          "data": {
            "text/plain": [
              "Entre 1 y 3 horas        157403\n",
              "Entre 30 y 60 minutos    134248\n",
              "Más de 3 horas           100016\n",
              "30 minutos o menos        90431\n",
              "No Navega Internet        30661\n",
              "-                          2617\n",
              "Name: ESTU_DEDICACIONINTERNET, dtype: int64"
            ]
          },
          "metadata": {},
          "execution_count": 148
        }
      ]
    },
    {
      "cell_type": "code",
      "source": [
        "df_resultados['ESTU_DEDICACIONINTERNET'].replace(['-'], 'No calcula', inplace=True)\n",
        "\n",
        "df_internet = df_resultados['ESTU_DEDICACIONINTERNET'].value_counts()\n",
        "df_internet"
      ],
      "metadata": {
        "colab": {
          "base_uri": "https://localhost:8080/"
        },
        "id": "yfIadbjyvbZn",
        "outputId": "18d71d8d-8e47-4f4b-ef83-176f794c7372"
      },
      "execution_count": null,
      "outputs": [
        {
          "output_type": "execute_result",
          "data": {
            "text/plain": [
              "Entre 1 y 3 horas        157403\n",
              "Entre 30 y 60 minutos    134248\n",
              "Más de 3 horas           100016\n",
              "30 minutos o menos        90431\n",
              "No Navega Internet        30661\n",
              "No calcula                 2617\n",
              "Name: ESTU_DEDICACIONINTERNET, dtype: int64"
            ]
          },
          "metadata": {},
          "execution_count": 149
        }
      ]
    },
    {
      "cell_type": "markdown",
      "source": [
        "## ESTU_HORASSEMANATRABAJA"
      ],
      "metadata": {
        "id": "Xr1M5Gyivuhz"
      }
    },
    {
      "cell_type": "code",
      "source": [
        "# generar conteo de registros por valor único en la columna ESTU_TIENEETNIA que hace referencia si pertenece o no a un tipo de etnia.\n",
        "\n",
        "df_estu_traba = df_resultados['ESTU_HORASSEMANATRABAJA'].value_counts()\n",
        "df_estu_traba"
      ],
      "metadata": {
        "colab": {
          "base_uri": "https://localhost:8080/"
        },
        "id": "r0DOgHgfvzff",
        "outputId": "2f774b70-0c13-4c0c-f3cf-05391108952f"
      },
      "execution_count": null,
      "outputs": [
        {
          "output_type": "execute_result",
          "data": {
            "text/plain": [
              "0                      354149\n",
              "Menos de 10 horas       97806\n",
              "Entre 11 y 20 horas     41673\n",
              "Más de 30 horas         19881\n",
              "-                       16487\n",
              "Entre 21 y 30 horas     15250\n",
              "Name: ESTU_HORASSEMANATRABAJA, dtype: int64"
            ]
          },
          "metadata": {},
          "execution_count": 150
        }
      ]
    },
    {
      "cell_type": "code",
      "source": [
        "df_resultados['ESTU_HORASSEMANATRABAJA'].replace(['-'], 'No calcula', inplace=True)\n",
        "df_resultados['ESTU_HORASSEMANATRABAJA'].replace(['0'], 'No trabaja', inplace=True)\n",
        "\n",
        "df_internet = df_resultados['ESTU_HORASSEMANATRABAJA'].value_counts()\n",
        "df_internet"
      ],
      "metadata": {
        "colab": {
          "base_uri": "https://localhost:8080/"
        },
        "id": "iNjw3BvmwGy4",
        "outputId": "224be222-82bf-4195-f68d-e70a4257547f"
      },
      "execution_count": null,
      "outputs": [
        {
          "output_type": "execute_result",
          "data": {
            "text/plain": [
              "No trabaja             354149\n",
              "Menos de 10 horas       97806\n",
              "Entre 11 y 20 horas     41673\n",
              "Más de 30 horas         19881\n",
              "No calcula              16487\n",
              "Entre 21 y 30 horas     15250\n",
              "Name: ESTU_HORASSEMANATRABAJA, dtype: int64"
            ]
          },
          "metadata": {},
          "execution_count": 151
        }
      ]
    },
    {
      "cell_type": "markdown",
      "source": [
        "## ESTU_TIPOREMUNERACION"
      ],
      "metadata": {
        "id": "8GBE6nIawZOv"
      }
    },
    {
      "cell_type": "code",
      "source": [
        "# generar conteo de registros por valor único en la columna ESTU_TIENEETNIA que hace referencia si pertenece o no a un tipo de etnia.\n",
        "\n",
        "df_tipo_remu = df_resultados['ESTU_TIPOREMUNERACION'].value_counts()\n",
        "df_tipo_remu"
      ],
      "metadata": {
        "colab": {
          "base_uri": "https://localhost:8080/"
        },
        "id": "UkaUBis6waRi",
        "outputId": "5a92741e-3bdb-42cc-9d0c-344b6a9c6856"
      },
      "execution_count": null,
      "outputs": [
        {
          "output_type": "execute_result",
          "data": {
            "text/plain": [
              "No                           377053\n",
              "Si, en efectivo              134628\n",
              "Si, en especie                 8514\n",
              "Si, en efectivo y especie      7355\n",
              "-                              2588\n",
              "Name: ESTU_TIPOREMUNERACION, dtype: int64"
            ]
          },
          "metadata": {},
          "execution_count": 152
        }
      ]
    },
    {
      "cell_type": "code",
      "source": [
        "df_resultados['ESTU_TIPOREMUNERACION'].replace(['-'], 'Prefiero no responder', inplace=True)\n",
        "\n",
        "df_tipo_remu = df_resultados['ESTU_TIPOREMUNERACION'].value_counts()\n",
        "df_tipo_remu"
      ],
      "metadata": {
        "colab": {
          "base_uri": "https://localhost:8080/"
        },
        "id": "F9qo6aBcwl3t",
        "outputId": "c8493737-f8f7-419a-bef5-a4af7f212eee"
      },
      "execution_count": null,
      "outputs": [
        {
          "output_type": "execute_result",
          "data": {
            "text/plain": [
              "No                           377053\n",
              "Si, en efectivo              134628\n",
              "Si, en especie                 8514\n",
              "Si, en efectivo y especie      7355\n",
              "Prefiero no responder          2588\n",
              "Name: ESTU_TIPOREMUNERACION, dtype: int64"
            ]
          },
          "metadata": {},
          "execution_count": 153
        }
      ]
    },
    {
      "cell_type": "markdown",
      "source": [
        "## COLE_BILINGUE"
      ],
      "metadata": {
        "id": "pm2zuz_tw7bA"
      }
    },
    {
      "cell_type": "code",
      "source": [
        "# generar conteo de registros por valor único en la columna ESTU_TIENEETNIA que hace referencia si pertenece o no a un tipo de etnia.\n",
        "\n",
        "df_cole = df_resultados['COLE_BILINGUE'].value_counts()\n",
        "df_cole"
      ],
      "metadata": {
        "colab": {
          "base_uri": "https://localhost:8080/"
        },
        "id": "lHPbuaI9w-Wj",
        "outputId": "5596bda5-55d9-4bb8-cfad-5be14d026432"
      },
      "execution_count": null,
      "outputs": [
        {
          "output_type": "execute_result",
          "data": {
            "text/plain": [
              "N    452814\n",
              "-     87316\n",
              "S      5496\n",
              "Name: COLE_BILINGUE, dtype: int64"
            ]
          },
          "metadata": {},
          "execution_count": 154
        }
      ]
    },
    {
      "cell_type": "code",
      "source": [
        "df_resultados['COLE_BILINGUE'].replace(['-'], 'N', inplace=True)\n",
        "\n",
        "df_cole = df_resultados['COLE_BILINGUE'].value_counts()\n",
        "df_cole"
      ],
      "metadata": {
        "colab": {
          "base_uri": "https://localhost:8080/"
        },
        "id": "NcjoTIg3xImj",
        "outputId": "83f48e24-8d9c-42f2-981d-cdd2a5a4ce2f"
      },
      "execution_count": null,
      "outputs": [
        {
          "output_type": "execute_result",
          "data": {
            "text/plain": [
              "N    540130\n",
              "S      5496\n",
              "Name: COLE_BILINGUE, dtype: int64"
            ]
          },
          "metadata": {},
          "execution_count": 155
        }
      ]
    },
    {
      "cell_type": "markdown",
      "source": [
        "## COLE_CARACTER"
      ],
      "metadata": {
        "id": "zZntsVbWxTbx"
      }
    },
    {
      "cell_type": "code",
      "source": [
        "# generar conteo de registros por valor único en la columna ESTU_TIENEETNIA que hace referencia si pertenece o no a un tipo de etnia.\n",
        "\n",
        "df_caracter = df_resultados['COLE_CARACTER'].value_counts()\n",
        "df_caracter"
      ],
      "metadata": {
        "colab": {
          "base_uri": "https://localhost:8080/"
        },
        "id": "RR8zzXIlxXbj",
        "outputId": "8cc1059d-7a3c-42f1-90c7-073b3f4c9819"
      },
      "execution_count": null,
      "outputs": [
        {
          "output_type": "execute_result",
          "data": {
            "text/plain": [
              "ACADÉMICO            283860\n",
              "TÉCNICO/ACADÉMICO    181084\n",
              "TÉCNICO               58924\n",
              "NO APLICA              6990\n",
              "-                      1044\n",
              "Name: COLE_CARACTER, dtype: int64"
            ]
          },
          "metadata": {},
          "execution_count": 156
        }
      ]
    },
    {
      "cell_type": "code",
      "source": [
        "df_resultados['COLE_CARACTER'].replace(['-'], 'NO SABE', inplace=True)\n",
        "\n",
        "df_caracter = df_resultados['COLE_CARACTER'].value_counts()\n",
        "df_caracter"
      ],
      "metadata": {
        "colab": {
          "base_uri": "https://localhost:8080/"
        },
        "id": "hL0KgfEJxfy3",
        "outputId": "6f9eab74-15b6-40c7-e607-6f7021590845"
      },
      "execution_count": null,
      "outputs": [
        {
          "output_type": "execute_result",
          "data": {
            "text/plain": [
              "ACADÉMICO            283860\n",
              "TÉCNICO/ACADÉMICO    181084\n",
              "TÉCNICO               58924\n",
              "NO APLICA              6990\n",
              "NO SABE                1044\n",
              "Name: COLE_CARACTER, dtype: int64"
            ]
          },
          "metadata": {},
          "execution_count": 157
        }
      ]
    },
    {
      "cell_type": "markdown",
      "source": [
        "## COLE_NATURALEZA"
      ],
      "metadata": {
        "id": "LMcAUoDAzNXw"
      }
    },
    {
      "cell_type": "code",
      "source": [
        "# generar conteo de registros por valor único en la columna ESTU_TIENEETNIA que hace referencia si pertenece o no a un tipo de etnia.\n",
        "\n",
        "df_cole_natu = df_resultados['COLE_NATURALEZA'].value_counts()\n",
        "df_cole_natu"
      ],
      "metadata": {
        "colab": {
          "base_uri": "https://localhost:8080/"
        },
        "id": "kj72XEtlzQyo",
        "outputId": "d8d83bd5-ce38-45f6-f5f8-5b6f79bd073a"
      },
      "execution_count": null,
      "outputs": [
        {
          "output_type": "execute_result",
          "data": {
            "text/plain": [
              "OFICIAL       415665\n",
              "NO OFICIAL    129961\n",
              "Name: COLE_NATURALEZA, dtype: int64"
            ]
          },
          "metadata": {},
          "execution_count": 158
        }
      ]
    },
    {
      "cell_type": "markdown",
      "source": [
        "No hay valores erroneos, atipicos o inusuales en esta columna"
      ],
      "metadata": {
        "id": "7cG9eskDzgrl"
      }
    },
    {
      "cell_type": "markdown",
      "source": [
        "## COLE_CALENDARIO"
      ],
      "metadata": {
        "id": "YCZdG6MJzsNH"
      }
    },
    {
      "cell_type": "code",
      "source": [
        "# generar conteo de registros por valor único en la columna ESTU_TIENEETNIA que hace referencia si pertenece o no a un tipo de etnia.\n",
        "\n",
        "df_calen = df_resultados['COLE_CALENDARIO'].value_counts()\n",
        "df_calen"
      ],
      "metadata": {
        "colab": {
          "base_uri": "https://localhost:8080/"
        },
        "id": "5O3eGhtdzvZp",
        "outputId": "c60ebb7d-acf0-4718-c770-7a6fa729ce49"
      },
      "execution_count": null,
      "outputs": [
        {
          "output_type": "execute_result",
          "data": {
            "text/plain": [
              "A       541321\n",
              "OTRO      3167\n",
              "B         1138\n",
              "Name: COLE_CALENDARIO, dtype: int64"
            ]
          },
          "metadata": {},
          "execution_count": 159
        }
      ]
    },
    {
      "cell_type": "markdown",
      "source": [
        "No hay valores erroneos, atipicos o inusuales en esta columna"
      ],
      "metadata": {
        "id": "gTKWMZCvz4sQ"
      }
    },
    {
      "cell_type": "markdown",
      "source": [
        "## COLE_SEDE_PRINCIPAL"
      ],
      "metadata": {
        "id": "iW-Dqmb31NJg"
      }
    },
    {
      "cell_type": "code",
      "source": [
        "# generar conteo de registros por valor único en la columna ESTU_TIENEETNIA que hace referencia si pertenece o no a un tipo de etnia.\n",
        "\n",
        "df_sede = df_resultados['COLE_SEDE_PRINCIPAL'].value_counts()\n",
        "df_sede"
      ],
      "metadata": {
        "colab": {
          "base_uri": "https://localhost:8080/"
        },
        "id": "-oVnXVxf1OkV",
        "outputId": "f4aaebcc-ca5a-40d1-acc5-a43b9fc38273"
      },
      "execution_count": null,
      "outputs": [
        {
          "output_type": "execute_result",
          "data": {
            "text/plain": [
              "S    522754\n",
              "N     22872\n",
              "Name: COLE_SEDE_PRINCIPAL, dtype: int64"
            ]
          },
          "metadata": {},
          "execution_count": 160
        }
      ]
    },
    {
      "cell_type": "markdown",
      "source": [
        "No hay valores erroneos, atipicos o inusuales en esta columna"
      ],
      "metadata": {
        "id": "la7tTDgc1UKH"
      }
    },
    {
      "cell_type": "markdown",
      "source": [
        "## COLE_AREA_UBICACION"
      ],
      "metadata": {
        "id": "EMIuLarI1ZhS"
      }
    },
    {
      "cell_type": "code",
      "source": [
        "# generar conteo de registros por valor único en la columna ESTU_TIENEETNIA que hace referencia si pertenece o no a un tipo de etnia.\n",
        "\n",
        "df_ubi = df_resultados['COLE_AREA_UBICACION'].value_counts()\n",
        "df_ubi"
      ],
      "metadata": {
        "colab": {
          "base_uri": "https://localhost:8080/"
        },
        "id": "pP5laokN1cn6",
        "outputId": "800c8a5a-a22c-4bc4-a944-c741dee1928c"
      },
      "execution_count": null,
      "outputs": [
        {
          "output_type": "execute_result",
          "data": {
            "text/plain": [
              "URBANO    459974\n",
              "RURAL      85652\n",
              "Name: COLE_AREA_UBICACION, dtype: int64"
            ]
          },
          "metadata": {},
          "execution_count": 161
        }
      ]
    },
    {
      "cell_type": "markdown",
      "source": [
        "No hay valores erroneos, atipicos o inusuales en esta columna"
      ],
      "metadata": {
        "id": "DJtFeWQ61ifB"
      }
    },
    {
      "cell_type": "markdown",
      "source": [
        "## COLE_JORNADA"
      ],
      "metadata": {
        "id": "1UAE1yfp1kpt"
      }
    },
    {
      "cell_type": "code",
      "source": [
        "# generar conteo de registros por valor único en la columna ESTU_TIENEETNIA que hace referencia si pertenece o no a un tipo de etnia.\n",
        "\n",
        "df_jornada = df_resultados['COLE_JORNADA'].value_counts()\n",
        "df_jornada"
      ],
      "metadata": {
        "colab": {
          "base_uri": "https://localhost:8080/"
        },
        "id": "Oss6krqg1n15",
        "outputId": "41dbd093-c073-4663-c7ca-ddce130d65c2"
      },
      "execution_count": null,
      "outputs": [
        {
          "output_type": "execute_result",
          "data": {
            "text/plain": [
              "MAÑANA      256844\n",
              "COMPLETA     89436\n",
              "UNICA        67313\n",
              "TARDE        58997\n",
              "SABATINA     39003\n",
              "NOCHE        34033\n",
              "Name: COLE_JORNADA, dtype: int64"
            ]
          },
          "metadata": {},
          "execution_count": 162
        }
      ]
    },
    {
      "cell_type": "markdown",
      "source": [
        "# Exportar DataFrame para actividad de EDA (Analisis Eploratorio de Datos)"
      ],
      "metadata": {
        "id": "0uDTbDsWs_fm"
      }
    },
    {
      "cell_type": "markdown",
      "source": [
        "Al exportar el DataFrame df_resutados con todos los cambios anteriormente aplicados, ya podemos contar con los datos limpios para procesar."
      ],
      "metadata": {
        "id": "2Vu5rtHJtvbI"
      }
    },
    {
      "cell_type": "code",
      "source": [
        "# Exportar DataFrame a un archivo CSV llamado \"saber1120192.csv\"\n",
        "df_resultados.to_csv('saber1120192.csv', index=False)"
      ],
      "metadata": {
        "id": "10gk8NjMtFE1"
      },
      "execution_count": null,
      "outputs": []
    },
    {
      "cell_type": "markdown",
      "source": [
        "## Columnas que no se limpiaran"
      ],
      "metadata": {
        "id": "V4ZqeYSAxoxi"
      }
    },
    {
      "cell_type": "markdown",
      "source": [
        "No se limpiaran las siguientes columnas ya que no serán tenidas en cuenta para un futuro analisis:\n",
        "\n",
        "- PERIODO\n",
        "- ESTU_ESTUDIANTE\n",
        "- ESTU_COD_RESIDE_DEPTO\n",
        "- ESTU_COD_RESIDE_MCPIO\n",
        "- FAMI_TIENESERVICIOTV\n",
        "- FAMI_TIENELAVADORA\n",
        "- FAMI_TIENEHORNOMICROOGAS\n",
        "- FAMI_TIENEAUTOMOVIL\n",
        "- FAMI_TIENEMOTOCICLETA\n",
        "- FAMI_TIENECONSOLAVIDEOJUEGOS\n",
        "- FAMI_COMELECHEDERIVADOS\n",
        "- FAMI_COMECARNEPESCADOHUEVO\n",
        "- FAMI_COMECEREALFRUTOSLEGUMBRE\n",
        "- COLE_CODIGO_ICFES\n",
        "- COLE_COD_DANE_ESTABLECIMIENTO\n",
        "- COLE_COD_DANE_SEDE\n",
        "- COLE_NOMBRE_SEDE\n",
        "- COLE_COD_MCPIO_UBICACION\n",
        "- COLE_COD_DEPTO_UBICACION\n",
        "- ESTU_COD_MCPIO_PRESENTACION\n",
        "- ESTU_COD_DEPTO_PRESENTACION\n",
        "- ESTU_INSE_INDIVIDUAL\n",
        "- ESTU_NSE_ESTABLECIMIENTO\n",
        "\n",
        "\n",
        "\n",
        "\n",
        "\n"
      ],
      "metadata": {
        "id": "7ZyOFwzjxv81"
      }
    },
    {
      "cell_type": "markdown",
      "source": [
        "# Conclusiones:"
      ],
      "metadata": {
        "id": "ROyuEX4Lp6e6"
      }
    },
    {
      "cell_type": "markdown",
      "source": [
        "El análisis técnico de limpieza de datos es una tarea esencial en cualquier proyecto de análisis de datos, ya que permite obtener datos de alta calidad y precisión. A partir de la limpieza de datos realizada, se pueden obtener diversas conclusiones, entre ellas:\n",
        "\n",
        "* No se identificaron muchos valores atípicos, en algunas columnas, solo habían registros que no indicaban una respuesta concreta (Si o No) al titulo de la columna.\n",
        "\n",
        "* Se mejoro la calidad del DataFrame, la limpieza permitio eliminar, inconsistencias, actualizar algunas y valores faltantes. Con datos de alta calidad, se pueden obtener resultados más precisos y confiables.\n",
        "\n",
        "* Con dicha limpieza, se asegura integridad de los datos, este análisis técnico de limpieza de datos ya permitio ayudar a garantizar la integridad de los datos, asegurando que estos se mantengan precisos y confiables para posteriores actividades como pueden ser construcciones de analisis exploratorios de datos, pruebas de hipótesis, construcción de tableros de analitica, entre otros.\n",
        "\n",
        "* También se mininizo el riesgo de errores para fututos análisis, al limpiar los datos antes de analizarlos, se puede reducir el riesgo de errores en el análisis, lo que puede llevar a conclusiones incorrectas.\n",
        "\n",
        "* El Dataframe \"saber20192\" se encuentra en condiciones para seguir con diferentes actividades y técnicas que la Ciencia de Datos permite."
      ],
      "metadata": {
        "id": "Gsb7adRtp8ap"
      }
    }
  ]
}