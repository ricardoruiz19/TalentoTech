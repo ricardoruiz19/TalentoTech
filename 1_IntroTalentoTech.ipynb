{
  "nbformat": 4,
  "nbformat_minor": 0,
  "metadata": {
    "colab": {
      "provenance": [],
      "mount_file_id": "1eEc_W1jJfTnWYS6ExaqfrfcaV7DmxiYK",
      "authorship_tag": "ABX9TyPlWED8d+hGbbqcvx9hRAcf",
      "include_colab_link": true
    },
    "kernelspec": {
      "name": "python3",
      "display_name": "Python 3"
    },
    "language_info": {
      "name": "python"
    }
  },
  "cells": [
    {
      "cell_type": "markdown",
      "metadata": {
        "id": "view-in-github",
        "colab_type": "text"
      },
      "source": [
        "<a href=\"https://colab.research.google.com/github/ricardoruiz19/TalentoTech/blob/main/1_IntroTalentoTech.ipynb\" target=\"_parent\"><img src=\"https://colab.research.google.com/assets/colab-badge.svg\" alt=\"Open In Colab\"/></a>"
      ]
    },
    {
      "cell_type": "markdown",
      "source": [
        "# Práctica 1 de Talento Tech: Incluye importar un Dataset"
      ],
      "metadata": {
        "id": "OYnmbOwRoR9f"
      }
    },
    {
      "cell_type": "code",
      "execution_count": null,
      "metadata": {
        "id": "7XRbMtULoOEh"
      },
      "outputs": [],
      "source": [
        "# Paso 1: Importar las librerias requeridas\n",
        "# Paso 1: Debo tener el archivo en una carpeta\n",
        "# Paso 2: Debo establecer una conexión con la carpeta\n",
        "# Paso 3: Ejecutar la celda de la conexión y revisar que este OK"
      ]
    },
    {
      "cell_type": "markdown",
      "source": [
        "# Suma de variables"
      ],
      "metadata": {
        "id": "SXEwuqL0ssiH"
      }
    },
    {
      "cell_type": "markdown",
      "source": [
        "# Ingreso de nuevos datos\n"
      ],
      "metadata": {
        "id": "9Ye5dpKDtNNC"
      }
    },
    {
      "cell_type": "code",
      "source": [
        "from google.colab import drive # Traemos la clase drive, dentro del módulo colab, del paquete google\n",
        "drive.mount('/content/drive') # Establecemos la conexión através del método mount"
      ],
      "metadata": {
        "colab": {
          "base_uri": "https://localhost:8080/"
        },
        "id": "SIYEude_gNT-",
        "outputId": "8ec4c78b-bf56-4e35-f102-6a99b7327b68"
      },
      "execution_count": null,
      "outputs": [
        {
          "output_type": "stream",
          "name": "stdout",
          "text": [
            "Mounted at /content/drive\n"
          ]
        }
      ]
    },
    {
      "cell_type": "code",
      "source": [
        "path = '/content/drive/MyDrive/Colab Notebooks/DA_Talento/data/Ventas.xlsx'\n",
        "#file = 'Ventas.xlsx'"
      ],
      "metadata": {
        "id": "7MBAdKrRgY-U"
      },
      "execution_count": null,
      "outputs": []
    },
    {
      "cell_type": "code",
      "source": [
        "import pandas as pd"
      ],
      "metadata": {
        "id": "tQjXI05egyCv"
      },
      "execution_count": null,
      "outputs": []
    },
    {
      "cell_type": "code",
      "source": [
        "df = pd.read_excel(path)"
      ],
      "metadata": {
        "id": "X74B7JSmiWeP"
      },
      "execution_count": null,
      "outputs": []
    },
    {
      "cell_type": "code",
      "source": [
        "df.head()"
      ],
      "metadata": {
        "colab": {
          "base_uri": "https://localhost:8080/",
          "height": 175
        },
        "id": "I80-xrbTil1_",
        "outputId": "830e6357-5895-4e7d-be88-8f4028d64bf6"
      },
      "execution_count": 1,
      "outputs": [
        {
          "output_type": "error",
          "ename": "NameError",
          "evalue": "name 'df' is not defined",
          "traceback": [
            "\u001b[0;31m---------------------------------------------------------------------------\u001b[0m",
            "\u001b[0;31mNameError\u001b[0m                                 Traceback (most recent call last)",
            "\u001b[0;32m<ipython-input-1-c42a15b2c7cf>\u001b[0m in \u001b[0;36m<cell line: 1>\u001b[0;34m()\u001b[0m\n\u001b[0;32m----> 1\u001b[0;31m \u001b[0mdf\u001b[0m\u001b[0;34m.\u001b[0m\u001b[0mhead\u001b[0m\u001b[0;34m(\u001b[0m\u001b[0;34m)\u001b[0m\u001b[0;34m\u001b[0m\u001b[0;34m\u001b[0m\u001b[0m\n\u001b[0m",
            "\u001b[0;31mNameError\u001b[0m: name 'df' is not defined"
          ]
        }
      ]
    },
    {
      "cell_type": "code",
      "source": [
        "#variable e input\n",
        "num1 = 125\n",
        "num2 = 524\n",
        "\n",
        "#proceso\n",
        "suma = num1 * num2\n",
        "\n",
        "#output - salida\n",
        "print(suma)\n"
      ],
      "metadata": {
        "colab": {
          "base_uri": "https://localhost:8080/"
        },
        "id": "xaHKlqLVoziJ",
        "outputId": "8750cc45-ec10-454d-bf35-1c76da87d41c"
      },
      "execution_count": 1,
      "outputs": [
        {
          "output_type": "stream",
          "name": "stdout",
          "text": [
            "65500\n"
          ]
        }
      ]
    },
    {
      "cell_type": "code",
      "source": [],
      "metadata": {
        "id": "MhLwtQGTiWcx"
      },
      "execution_count": null,
      "outputs": []
    }
  ]
}