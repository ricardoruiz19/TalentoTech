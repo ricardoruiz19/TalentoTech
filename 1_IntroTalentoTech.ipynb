{
  "nbformat": 4,
  "nbformat_minor": 0,
  "metadata": {
    "colab": {
      "provenance": [],
      "mount_file_id": "1eEc_W1jJfTnWYS6ExaqfrfcaV7DmxiYK",
      "authorship_tag": "ABX9TyM138qRD1FnnbMSfjdIE0pU",
      "include_colab_link": true
    },
    "kernelspec": {
      "name": "python3",
      "display_name": "Python 3"
    },
    "language_info": {
      "name": "python"
    }
  },
  "cells": [
    {
      "cell_type": "markdown",
      "metadata": {
        "id": "view-in-github",
        "colab_type": "text"
      },
      "source": [
        "<a href=\"https://colab.research.google.com/github/ricardoruiz19/TalentoTech/blob/main/1_IntroTalentoTech.ipynb\" target=\"_parent\"><img src=\"https://colab.research.google.com/assets/colab-badge.svg\" alt=\"Open In Colab\"/></a>"
      ]
    },
    {
      "cell_type": "markdown",
      "source": [
        "# Práctica 1 de Talento Tech: Incluye importar un Dataset"
      ],
      "metadata": {
        "id": "OYnmbOwRoR9f"
      }
    },
    {
      "cell_type": "code",
      "execution_count": null,
      "metadata": {
        "id": "7XRbMtULoOEh"
      },
      "outputs": [],
      "source": [
        "# Paso 1: Importar las librerias requeridas\n",
        "# Paso 1: Debo tener el archivo en una carpeta\n",
        "# Paso 2: Debo establecer una conexión con la carpeta\n",
        "# Paso 3: Ejecutar la celda de la conexión y revisar que este OK"
      ]
    },
    {
      "cell_type": "markdown",
      "source": [
        "# Ingreso de nuevos datos\n"
      ],
      "metadata": {
        "id": "9Ye5dpKDtNNC"
      }
    },
    {
      "cell_type": "code",
      "source": [
        "from google.colab import drive # Traemos la clase drive, dentro del módulo colab, del paquete google\n",
        "drive.mount('/content/drive') # Establecemos la conexión através del método mount"
      ],
      "metadata": {
        "colab": {
          "base_uri": "https://localhost:8080/"
        },
        "id": "SIYEude_gNT-",
        "outputId": "1f808264-d137-4733-8102-1d294e330271"
      },
      "execution_count": null,
      "outputs": [
        {
          "output_type": "stream",
          "name": "stdout",
          "text": [
            "Drive already mounted at /content/drive; to attempt to forcibly remount, call drive.mount(\"/content/drive\", force_remount=True).\n"
          ]
        }
      ]
    },
    {
      "cell_type": "code",
      "source": [
        "#Establezco la conexión con mi fuente y con el Dataset de prueba\n",
        "path = '/content/drive/MyDrive/Colab Notebooks/DA_Talento/data/Ventas.xlsx'"
      ],
      "metadata": {
        "id": "7MBAdKrRgY-U"
      },
      "execution_count": null,
      "outputs": []
    },
    {
      "cell_type": "code",
      "source": [
        "#importamos la libreria para manipulación de datos llamada Pandas\n",
        "import pandas as pd"
      ],
      "metadata": {
        "id": "tQjXI05egyCv"
      },
      "execution_count": null,
      "outputs": []
    },
    {
      "cell_type": "code",
      "source": [
        "#creamos un dataframe de pandas con los datos suministrados\n",
        "df = pd.read_excel(path)\n",
        "\n",
        "#cal_vent_mes = \"calcular las ventas del mes * region * vendedor * producto\""
      ],
      "metadata": {
        "id": "X74B7JSmiWeP"
      },
      "execution_count": null,
      "outputs": []
    },
    {
      "cell_type": "code",
      "source": [
        "df.head()\n",
        "#df.columns"
      ],
      "metadata": {
        "id": "qvhx0TxBL7YG"
      },
      "execution_count": null,
      "outputs": []
    },
    {
      "cell_type": "markdown",
      "source": [
        "# **Creación y Lectura de DataFrames:**\n",
        "\n",
        "*   pd.DataFrame(data): Crea un DataFrame a partir de datos.\n",
        "*   pd.read_csv('archivo.csv'): Lee un archivo CSV y crea un DataFrame.\n",
        "*   pd.read_excel('archivo.xlsx'): Lee un archivo Excel y crea un DataFrame.\n"
      ],
      "metadata": {
        "id": "VJPPo8Rx4syi"
      }
    },
    {
      "cell_type": "markdown",
      "source": [
        "# **Visualización y Exploración de Datos:**\n",
        "\n",
        "\n",
        "*   df.head(): Muestra las primeras filas del DataFrame.\n",
        "*   df.tail(): Muestra las últimas filas del DataFrame.\n",
        "*   df.info(): Muestra información sobre el DataFrame, incluyendo tipos de datos y valores no nulos.\n",
        "*   df.describe(): Proporciona estadísticas descriptivas para columnas numéricas.\n",
        "*   df.shape: Devuelve una tupla con la cantidad de filas y columnas del DataFrame.\n",
        "*   df.columns: Devuelve una lista con los nombres de las columnas del DataFrame.\n"
      ],
      "metadata": {
        "id": "CvZHV7qy47uB"
      }
    },
    {
      "cell_type": "code",
      "source": [
        "df.head()"
      ],
      "metadata": {
        "id": "CAOjcEASRpCU"
      },
      "execution_count": null,
      "outputs": []
    },
    {
      "cell_type": "code",
      "source": [
        "df.tail()"
      ],
      "metadata": {
        "id": "N3qDs4lgRr4o"
      },
      "execution_count": null,
      "outputs": []
    },
    {
      "cell_type": "code",
      "source": [
        "df.info('Region')"
      ],
      "metadata": {
        "id": "3qYlQMETRutf",
        "colab": {
          "base_uri": "https://localhost:8080/"
        },
        "outputId": "26e864f3-e1fc-4355-eede-06869e19cfd6"
      },
      "execution_count": null,
      "outputs": [
        {
          "output_type": "stream",
          "name": "stdout",
          "text": [
            "<class 'pandas.core.frame.DataFrame'>\n",
            "RangeIndex: 18 entries, 0 to 17\n",
            "Data columns (total 4 columns):\n",
            " #   Column    Non-Null Count  Dtype \n",
            "---  ------    --------------  ----- \n",
            " 0   Region    18 non-null     object\n",
            " 1   Producto  18 non-null     object\n",
            " 2   Vendedor  18 non-null     object\n",
            " 3   Ventas    18 non-null     int64 \n",
            "dtypes: int64(1), object(3)\n",
            "memory usage: 704.0+ bytes\n"
          ]
        }
      ]
    },
    {
      "cell_type": "code",
      "source": [
        "df.describe()"
      ],
      "metadata": {
        "id": "QNgQWhD_SD6E"
      },
      "execution_count": null,
      "outputs": []
    },
    {
      "cell_type": "markdown",
      "source": [],
      "metadata": {
        "id": "UpQMzsODLbxx"
      }
    },
    {
      "cell_type": "code",
      "source": [
        "# Ejercicio 1: Mostrar las primeras filas del DataFrame\n",
        "print(\"Ejercicio 1: Mostrar las primeras filas del DataFrame\")\n",
        "print(df.head(5))\n",
        "#print(\"\\n\")"
      ],
      "metadata": {
        "id": "h4WiOEwMJyNM",
        "colab": {
          "base_uri": "https://localhost:8080/"
        },
        "outputId": "e155b8fc-6eee-4b8c-8761-3e6a9ba8249c"
      },
      "execution_count": null,
      "outputs": [
        {
          "output_type": "stream",
          "name": "stdout",
          "text": [
            "Ejercicio 1: Mostrar las primeras filas del DataFrame\n",
            "    Region      Producto Vendedor  Ventas\n",
            "0  Central    Accesorios    David    8287\n",
            "1  Central    Accesorios    Karen    6909\n",
            "2  Central  Dispositivos    David   11420\n",
            "3  Central  Dispositivos    Karen   12948\n",
            "4  Central      Sistemas    David   20098\n"
          ]
        }
      ]
    },
    {
      "cell_type": "code",
      "source": [
        "# Ejercicio 2: Calcular el total de ventas por región\n",
        "print(\"Ejercicio 2: Calcular el total de ventas por región\")\n",
        "ventas_por_region = df.groupby('Region')['Ventas'].sum()\n",
        "print(ventas_por_region)\n",
        "print(\"\\n\")\n",
        "print(df.head(10))"
      ],
      "metadata": {
        "id": "yUtXPSvFK3PY",
        "colab": {
          "base_uri": "https://localhost:8080/"
        },
        "outputId": "6a05551d-2f3e-4cf3-e061-f9f6bf690cfa"
      },
      "execution_count": null,
      "outputs": [
        {
          "output_type": "stream",
          "name": "stdout",
          "text": [
            "Ejercicio 2: Calcular el total de ventas por región\n",
            "Region\n",
            "Central    90295\n",
            "Este       63555\n",
            "Oeste      85683\n",
            "Name: Ventas, dtype: int64\n",
            "\n",
            "\n",
            "    Region      Producto Vendedor  Ventas\n",
            "0  Central    Accesorios    David    8287\n",
            "1  Central    Accesorios    Karen    6909\n",
            "2  Central  Dispositivos    David   11420\n",
            "3  Central  Dispositivos    Karen   12948\n",
            "4  Central      Sistemas    David   20098\n",
            "5  Central      Sistemas    Karen   30633\n",
            "6     Este    Accesorios      Ana    9323\n",
            "7     Este    Accesorios    Lucas    7667\n",
            "8     Este  Dispositivos      Ana   10348\n",
            "9     Este  Dispositivos    Lucas    9312\n"
          ]
        }
      ]
    },
    {
      "cell_type": "code",
      "source": [
        "# Ejercicio 3: Filtrar el DataFrame para mostrar solo las ventas realizadas por David\n",
        "print(\"Ejercicio 3: Filtrar el DataFrame para mostrar solo las ventas realizadas por David\")\n",
        "ventas_david = df[df['Vendedor'] == 'David']\n",
        "print(ventas_david)\n",
        "print(\"\\n\")"
      ],
      "metadata": {
        "id": "Nl3lp3Al3Odk"
      },
      "execution_count": null,
      "outputs": []
    },
    {
      "cell_type": "code",
      "source": [
        "# Ejercicio 4: Calcular el promedio de ventas por region\n",
        "print(\"Ejercicio 4: Calcular el promedio de ventas por region\")\n",
        "ventas_por_producto = df.groupby('Region')['Ventas'].mean()\n",
        "print(ventas_por_producto)\n",
        "print(\"\\n\")"
      ],
      "metadata": {
        "id": "ROqiBAnG3wH0"
      },
      "execution_count": null,
      "outputs": []
    },
    {
      "cell_type": "code",
      "source": [
        "# Ejercicio 5: Ordenar el DataFrame por ventas en orden descendente\n",
        "print(\"Ejercicio 5: Ordenar el DataFrame por ventas en orden descendente\")\n",
        "df_ordenado = df.sort_values(by='Ventas', ascending=False)\n",
        "print(df_ordenado)"
      ],
      "metadata": {
        "id": "bBezcMOu3zij"
      },
      "execution_count": null,
      "outputs": []
    },
    {
      "cell_type": "markdown",
      "source": [
        "## Manipulación de Datos:\n",
        "\n",
        "*   Filtra las filas donde las ventas sean mayores a 10000.\n",
        "*   Ordena el DataFrame por la columna \"Ventas\" en orden descendente.\n",
        "*   Elimina la columna \"Vendedor\"."
      ],
      "metadata": {
        "id": "659Znsq2G2u6"
      }
    },
    {
      "cell_type": "code",
      "source": [
        "# Ejercicio 6: Filtrar las filas con ventas mayores a 10000\n",
        "print(\"Ejercicio 4: Filtrar las filas con ventas mayores a 10000\")\n",
        "df_filtrado = df[df['Ventas'] > 10000]\n",
        "print(df_filtrado)\n",
        "print(\"\\n\")"
      ],
      "metadata": {
        "id": "RTr14cIRGcqa"
      },
      "execution_count": null,
      "outputs": []
    },
    {
      "cell_type": "code",
      "source": [
        "# Ejercicio 7: Ordenar el DataFrame por ventas en orden descendente\n",
        "print(\"Ejercicio 5: Ordenar el DataFrame por ventas en orden descendente\")\n",
        "df_ordenado = df.sort_values(by='Ventas', ascending=False)\n",
        "print(df_ordenado)\n",
        "print(\"\\n\")"
      ],
      "metadata": {
        "id": "arz6RsNzGnmn"
      },
      "execution_count": null,
      "outputs": []
    },
    {
      "cell_type": "code",
      "source": [
        "# Ejercicio 8: Eliminar la columna \"Vendedor\"\n",
        "print(\"Ejercicio 6: Eliminar la columna 'Vendedor'\")\n",
        "df_sin_vendedor = df.drop(columns=['Vendedor'])\n",
        "print(df_sin_vendedor)\n",
        "print(\"\\n\")"
      ],
      "metadata": {
        "id": "PcAdYpIVGuko",
        "colab": {
          "base_uri": "https://localhost:8080/"
        },
        "outputId": "14906850-56ec-44df-fd9b-d9e3747424d2"
      },
      "execution_count": null,
      "outputs": [
        {
          "output_type": "stream",
          "name": "stdout",
          "text": [
            "Ejercicio 6: Eliminar la columna 'Vendedor'\n",
            "     Region      Producto  Ventas\n",
            "0   Central    Accesorios    8287\n",
            "1   Central    Accesorios    6909\n",
            "2   Central  Dispositivos   11420\n",
            "3   Central  Dispositivos   12948\n",
            "4   Central      Sistemas   20098\n",
            "5   Central      Sistemas   30633\n",
            "6      Este    Accesorios    9323\n",
            "7      Este    Accesorios    7667\n",
            "8      Este  Dispositivos   10348\n",
            "9      Este  Dispositivos    9312\n",
            "10     Este      Sistemas   13531\n",
            "11     Este      Sistemas   13374\n",
            "12    Oeste    Accesorios    4744\n",
            "13    Oeste    Accesorios    5442\n",
            "14    Oeste  Dispositivos   10711\n",
            "15    Oeste  Dispositivos    8780\n",
            "16    Oeste      Sistemas   32855\n",
            "17    Oeste      Sistemas   23151\n",
            "\n",
            "\n"
          ]
        }
      ]
    },
    {
      "cell_type": "markdown",
      "source": [
        "## Agregación y Agrupación de Datos:\n",
        "\n",
        "*   Calcular el total de ventas por región.\n",
        "*   Calcular el total de ventas por producto."
      ],
      "metadata": {
        "id": "Dn_6vqCDHpLB"
      }
    },
    {
      "cell_type": "code",
      "source": [
        "# Ejercicio 9: Calcular el total de ventas por región\n",
        "print(\"Ejercicio 9: Calcular el total de ventas por región\")\n",
        "ventas_por_region = df.groupby('Region')['Ventas'].sum()\n",
        "print(ventas_por_region)\n",
        "print(\"\\n\")"
      ],
      "metadata": {
        "id": "p0h4dyIfHn_Y"
      },
      "execution_count": null,
      "outputs": []
    },
    {
      "cell_type": "code",
      "source": [
        "# Ejercicio 10: Calcular el total de ventas por producto\n",
        "print(\"Ejercicio 10: Calcular el total de ventas por producto\")\n",
        "ventas_por_producto = df.groupby('Producto')['Ventas'].sum()\n",
        "print(ventas_por_producto)\n",
        "print(\"\\n\")"
      ],
      "metadata": {
        "id": "20R_0nIVGy93"
      },
      "execution_count": null,
      "outputs": []
    },
    {
      "cell_type": "code",
      "source": [
        "#crear un Dataframe de Pandas con Datos de una Persona\n",
        "data = {\n",
        "    'id': [1, 2, 3, 4, 5],\n",
        "    'weight': ['144.5', '5.9', '33', 'M','541'],\n",
        "    'height': ['David', 'Karen', 'David', 'Karen', 'David'],\n",
        "    'age': [8287, 6909, 11420, 12948, 20098],\n",
        "    'gender': [8287, 6909, 11420, 12948, 20098]\n",
        "}\n",
        "\n",
        "df_persona = pd.DataFrame(data)"
      ],
      "metadata": {
        "id": "MhLwtQGTiWcx"
      },
      "execution_count": null,
      "outputs": []
    },
    {
      "cell_type": "code",
      "source": [
        "df_persona.head()"
      ],
      "metadata": {
        "id": "PtowsCSChxwT",
        "outputId": "7fd9389a-e487-4d68-ce5b-2ce6fbfdf092",
        "colab": {
          "base_uri": "https://localhost:8080/",
          "height": 206
        }
      },
      "execution_count": null,
      "outputs": [
        {
          "output_type": "execute_result",
          "data": {
            "text/plain": [
              "   id weight height    age  gender\n",
              "0   1  144.5  David   8287    8287\n",
              "1   2    5.9  Karen   6909    6909\n",
              "2   3     33  David  11420   11420\n",
              "3   4      M  Karen  12948   12948\n",
              "4   5    541  David  20098   20098"
            ],
            "text/html": [
              "\n",
              "  <div id=\"df-f3d915f7-1101-4645-8a8e-9bc4a1118426\" class=\"colab-df-container\">\n",
              "    <div>\n",
              "<style scoped>\n",
              "    .dataframe tbody tr th:only-of-type {\n",
              "        vertical-align: middle;\n",
              "    }\n",
              "\n",
              "    .dataframe tbody tr th {\n",
              "        vertical-align: top;\n",
              "    }\n",
              "\n",
              "    .dataframe thead th {\n",
              "        text-align: right;\n",
              "    }\n",
              "</style>\n",
              "<table border=\"1\" class=\"dataframe\">\n",
              "  <thead>\n",
              "    <tr style=\"text-align: right;\">\n",
              "      <th></th>\n",
              "      <th>id</th>\n",
              "      <th>weight</th>\n",
              "      <th>height</th>\n",
              "      <th>age</th>\n",
              "      <th>gender</th>\n",
              "    </tr>\n",
              "  </thead>\n",
              "  <tbody>\n",
              "    <tr>\n",
              "      <th>0</th>\n",
              "      <td>1</td>\n",
              "      <td>144.5</td>\n",
              "      <td>David</td>\n",
              "      <td>8287</td>\n",
              "      <td>8287</td>\n",
              "    </tr>\n",
              "    <tr>\n",
              "      <th>1</th>\n",
              "      <td>2</td>\n",
              "      <td>5.9</td>\n",
              "      <td>Karen</td>\n",
              "      <td>6909</td>\n",
              "      <td>6909</td>\n",
              "    </tr>\n",
              "    <tr>\n",
              "      <th>2</th>\n",
              "      <td>3</td>\n",
              "      <td>33</td>\n",
              "      <td>David</td>\n",
              "      <td>11420</td>\n",
              "      <td>11420</td>\n",
              "    </tr>\n",
              "    <tr>\n",
              "      <th>3</th>\n",
              "      <td>4</td>\n",
              "      <td>M</td>\n",
              "      <td>Karen</td>\n",
              "      <td>12948</td>\n",
              "      <td>12948</td>\n",
              "    </tr>\n",
              "    <tr>\n",
              "      <th>4</th>\n",
              "      <td>5</td>\n",
              "      <td>541</td>\n",
              "      <td>David</td>\n",
              "      <td>20098</td>\n",
              "      <td>20098</td>\n",
              "    </tr>\n",
              "  </tbody>\n",
              "</table>\n",
              "</div>\n",
              "    <div class=\"colab-df-buttons\">\n",
              "\n",
              "  <div class=\"colab-df-container\">\n",
              "    <button class=\"colab-df-convert\" onclick=\"convertToInteractive('df-f3d915f7-1101-4645-8a8e-9bc4a1118426')\"\n",
              "            title=\"Convert this dataframe to an interactive table.\"\n",
              "            style=\"display:none;\">\n",
              "\n",
              "  <svg xmlns=\"http://www.w3.org/2000/svg\" height=\"24px\" viewBox=\"0 -960 960 960\">\n",
              "    <path d=\"M120-120v-720h720v720H120Zm60-500h600v-160H180v160Zm220 220h160v-160H400v160Zm0 220h160v-160H400v160ZM180-400h160v-160H180v160Zm440 0h160v-160H620v160ZM180-180h160v-160H180v160Zm440 0h160v-160H620v160Z\"/>\n",
              "  </svg>\n",
              "    </button>\n",
              "\n",
              "  <style>\n",
              "    .colab-df-container {\n",
              "      display:flex;\n",
              "      gap: 12px;\n",
              "    }\n",
              "\n",
              "    .colab-df-convert {\n",
              "      background-color: #E8F0FE;\n",
              "      border: none;\n",
              "      border-radius: 50%;\n",
              "      cursor: pointer;\n",
              "      display: none;\n",
              "      fill: #1967D2;\n",
              "      height: 32px;\n",
              "      padding: 0 0 0 0;\n",
              "      width: 32px;\n",
              "    }\n",
              "\n",
              "    .colab-df-convert:hover {\n",
              "      background-color: #E2EBFA;\n",
              "      box-shadow: 0px 1px 2px rgba(60, 64, 67, 0.3), 0px 1px 3px 1px rgba(60, 64, 67, 0.15);\n",
              "      fill: #174EA6;\n",
              "    }\n",
              "\n",
              "    .colab-df-buttons div {\n",
              "      margin-bottom: 4px;\n",
              "    }\n",
              "\n",
              "    [theme=dark] .colab-df-convert {\n",
              "      background-color: #3B4455;\n",
              "      fill: #D2E3FC;\n",
              "    }\n",
              "\n",
              "    [theme=dark] .colab-df-convert:hover {\n",
              "      background-color: #434B5C;\n",
              "      box-shadow: 0px 1px 3px 1px rgba(0, 0, 0, 0.15);\n",
              "      filter: drop-shadow(0px 1px 2px rgba(0, 0, 0, 0.3));\n",
              "      fill: #FFFFFF;\n",
              "    }\n",
              "  </style>\n",
              "\n",
              "    <script>\n",
              "      const buttonEl =\n",
              "        document.querySelector('#df-f3d915f7-1101-4645-8a8e-9bc4a1118426 button.colab-df-convert');\n",
              "      buttonEl.style.display =\n",
              "        google.colab.kernel.accessAllowed ? 'block' : 'none';\n",
              "\n",
              "      async function convertToInteractive(key) {\n",
              "        const element = document.querySelector('#df-f3d915f7-1101-4645-8a8e-9bc4a1118426');\n",
              "        const dataTable =\n",
              "          await google.colab.kernel.invokeFunction('convertToInteractive',\n",
              "                                                    [key], {});\n",
              "        if (!dataTable) return;\n",
              "\n",
              "        const docLinkHtml = 'Like what you see? Visit the ' +\n",
              "          '<a target=\"_blank\" href=https://colab.research.google.com/notebooks/data_table.ipynb>data table notebook</a>'\n",
              "          + ' to learn more about interactive tables.';\n",
              "        element.innerHTML = '';\n",
              "        dataTable['output_type'] = 'display_data';\n",
              "        await google.colab.output.renderOutput(dataTable, element);\n",
              "        const docLink = document.createElement('div');\n",
              "        docLink.innerHTML = docLinkHtml;\n",
              "        element.appendChild(docLink);\n",
              "      }\n",
              "    </script>\n",
              "  </div>\n",
              "\n",
              "\n",
              "<div id=\"df-4df0b627-c8d8-4d5b-8fb7-ad8cc168f6a2\">\n",
              "  <button class=\"colab-df-quickchart\" onclick=\"quickchart('df-4df0b627-c8d8-4d5b-8fb7-ad8cc168f6a2')\"\n",
              "            title=\"Suggest charts\"\n",
              "            style=\"display:none;\">\n",
              "\n",
              "<svg xmlns=\"http://www.w3.org/2000/svg\" height=\"24px\"viewBox=\"0 0 24 24\"\n",
              "     width=\"24px\">\n",
              "    <g>\n",
              "        <path d=\"M19 3H5c-1.1 0-2 .9-2 2v14c0 1.1.9 2 2 2h14c1.1 0 2-.9 2-2V5c0-1.1-.9-2-2-2zM9 17H7v-7h2v7zm4 0h-2V7h2v10zm4 0h-2v-4h2v4z\"/>\n",
              "    </g>\n",
              "</svg>\n",
              "  </button>\n",
              "\n",
              "<style>\n",
              "  .colab-df-quickchart {\n",
              "      --bg-color: #E8F0FE;\n",
              "      --fill-color: #1967D2;\n",
              "      --hover-bg-color: #E2EBFA;\n",
              "      --hover-fill-color: #174EA6;\n",
              "      --disabled-fill-color: #AAA;\n",
              "      --disabled-bg-color: #DDD;\n",
              "  }\n",
              "\n",
              "  [theme=dark] .colab-df-quickchart {\n",
              "      --bg-color: #3B4455;\n",
              "      --fill-color: #D2E3FC;\n",
              "      --hover-bg-color: #434B5C;\n",
              "      --hover-fill-color: #FFFFFF;\n",
              "      --disabled-bg-color: #3B4455;\n",
              "      --disabled-fill-color: #666;\n",
              "  }\n",
              "\n",
              "  .colab-df-quickchart {\n",
              "    background-color: var(--bg-color);\n",
              "    border: none;\n",
              "    border-radius: 50%;\n",
              "    cursor: pointer;\n",
              "    display: none;\n",
              "    fill: var(--fill-color);\n",
              "    height: 32px;\n",
              "    padding: 0;\n",
              "    width: 32px;\n",
              "  }\n",
              "\n",
              "  .colab-df-quickchart:hover {\n",
              "    background-color: var(--hover-bg-color);\n",
              "    box-shadow: 0 1px 2px rgba(60, 64, 67, 0.3), 0 1px 3px 1px rgba(60, 64, 67, 0.15);\n",
              "    fill: var(--button-hover-fill-color);\n",
              "  }\n",
              "\n",
              "  .colab-df-quickchart-complete:disabled,\n",
              "  .colab-df-quickchart-complete:disabled:hover {\n",
              "    background-color: var(--disabled-bg-color);\n",
              "    fill: var(--disabled-fill-color);\n",
              "    box-shadow: none;\n",
              "  }\n",
              "\n",
              "  .colab-df-spinner {\n",
              "    border: 2px solid var(--fill-color);\n",
              "    border-color: transparent;\n",
              "    border-bottom-color: var(--fill-color);\n",
              "    animation:\n",
              "      spin 1s steps(1) infinite;\n",
              "  }\n",
              "\n",
              "  @keyframes spin {\n",
              "    0% {\n",
              "      border-color: transparent;\n",
              "      border-bottom-color: var(--fill-color);\n",
              "      border-left-color: var(--fill-color);\n",
              "    }\n",
              "    20% {\n",
              "      border-color: transparent;\n",
              "      border-left-color: var(--fill-color);\n",
              "      border-top-color: var(--fill-color);\n",
              "    }\n",
              "    30% {\n",
              "      border-color: transparent;\n",
              "      border-left-color: var(--fill-color);\n",
              "      border-top-color: var(--fill-color);\n",
              "      border-right-color: var(--fill-color);\n",
              "    }\n",
              "    40% {\n",
              "      border-color: transparent;\n",
              "      border-right-color: var(--fill-color);\n",
              "      border-top-color: var(--fill-color);\n",
              "    }\n",
              "    60% {\n",
              "      border-color: transparent;\n",
              "      border-right-color: var(--fill-color);\n",
              "    }\n",
              "    80% {\n",
              "      border-color: transparent;\n",
              "      border-right-color: var(--fill-color);\n",
              "      border-bottom-color: var(--fill-color);\n",
              "    }\n",
              "    90% {\n",
              "      border-color: transparent;\n",
              "      border-bottom-color: var(--fill-color);\n",
              "    }\n",
              "  }\n",
              "</style>\n",
              "\n",
              "  <script>\n",
              "    async function quickchart(key) {\n",
              "      const quickchartButtonEl =\n",
              "        document.querySelector('#' + key + ' button');\n",
              "      quickchartButtonEl.disabled = true;  // To prevent multiple clicks.\n",
              "      quickchartButtonEl.classList.add('colab-df-spinner');\n",
              "      try {\n",
              "        const charts = await google.colab.kernel.invokeFunction(\n",
              "            'suggestCharts', [key], {});\n",
              "      } catch (error) {\n",
              "        console.error('Error during call to suggestCharts:', error);\n",
              "      }\n",
              "      quickchartButtonEl.classList.remove('colab-df-spinner');\n",
              "      quickchartButtonEl.classList.add('colab-df-quickchart-complete');\n",
              "    }\n",
              "    (() => {\n",
              "      let quickchartButtonEl =\n",
              "        document.querySelector('#df-4df0b627-c8d8-4d5b-8fb7-ad8cc168f6a2 button');\n",
              "      quickchartButtonEl.style.display =\n",
              "        google.colab.kernel.accessAllowed ? 'block' : 'none';\n",
              "    })();\n",
              "  </script>\n",
              "</div>\n",
              "\n",
              "    </div>\n",
              "  </div>\n"
            ]
          },
          "metadata": {},
          "execution_count": 29
        }
      ]
    },
    {
      "cell_type": "code",
      "source": [
        "#Ejercicio: leer un .TXT con valores númericos y string"
      ],
      "metadata": {
        "id": "HxuJCoS3fdj0"
      },
      "execution_count": null,
      "outputs": []
    },
    {
      "cell_type": "code",
      "source": [],
      "metadata": {
        "id": "67TR0rOdfdib"
      },
      "execution_count": null,
      "outputs": []
    }
  ]
}