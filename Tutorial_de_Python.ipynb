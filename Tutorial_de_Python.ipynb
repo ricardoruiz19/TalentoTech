{
  "nbformat": 4,
  "nbformat_minor": 0,
  "metadata": {
    "colab": {
      "provenance": [],
      "include_colab_link": true
    },
    "kernelspec": {
      "name": "python3",
      "display_name": "Python 3"
    }
  },
  "cells": [
    {
      "cell_type": "markdown",
      "metadata": {
        "id": "view-in-github",
        "colab_type": "text"
      },
      "source": [
        "<a href=\"https://colab.research.google.com/github/ricardoruiz19/TalentoTech/blob/main/Tutorial_de_Python.ipynb\" target=\"_parent\"><img src=\"https://colab.research.google.com/assets/colab-badge.svg\" alt=\"Open In Colab\"/></a>"
      ]
    },
    {
      "cell_type": "markdown",
      "metadata": {
        "id": "eYoVPqp58EAA"
      },
      "source": [
        "[Link a Tutorial de Google Colab](https://colab.research.google.com/drive/17uy0s5-kKQ8TW-ab6Ny48jwt33XN20F7)\n",
        "\n",
        "\n",
        "[Link a Tutorial de Networkx en Colab](https://colab.research.google.com/drive/1m4OKhgu9InS4RL-foL8NFdj16NNriJ3H)"
      ]
    },
    {
      "cell_type": "markdown",
      "metadata": {
        "id": "juxsdVgb45cy"
      },
      "source": [
        "# **Tutorial de Python**\n",
        "\n",
        "Autor: Lic. Federico Sevlever.\n",
        "Docente en el Departamento de Física de la Universidad de Buenos Aires, Argentina.\n",
        "\n",
        "mail fedesevle@gmail.com\n",
        "\n",
        "Este tutorial es para aprender manejo básico de Python.\n",
        "Es de uso completamente libre.\n",
        "\n",
        "Cualquier duda o sugerencia no dudes en escribirme."
      ]
    },
    {
      "cell_type": "markdown",
      "metadata": {
        "id": "z6_bOKFN5KNn"
      },
      "source": [
        "# 1. Conceptos Básicos\n",
        "\n",
        "Antes de empezar vamos a recorrer algunos conceptos básicos y operaciones que aparecerán en casi todos los códigos que realicen."
      ]
    },
    {
      "cell_type": "code",
      "metadata": {
        "id": "q7v0zroN5KNr",
        "colab": {
          "base_uri": "https://localhost:8080/"
        },
        "outputId": "82b5bb13-3403-4bf5-c22b-baffab6d10ec"
      },
      "source": [
        "x = 3       #Definimos una variable numérica\n",
        "print(x)    #La función 'print()' la escribe en la pantalla\n",
        "\n",
        "y = 4\n",
        "print(y + 5)\n",
        "\n",
        "z = x + 2*y  #Podemos hacer cuentas, el '*' es el producto\n",
        "print(z)"
      ],
      "execution_count": null,
      "outputs": [
        {
          "output_type": "stream",
          "name": "stdout",
          "text": [
            "3\n",
            "9\n",
            "11\n"
          ]
        }
      ]
    },
    {
      "cell_type": "code",
      "metadata": {
        "id": "aGeggUoa5KNz",
        "colab": {
          "base_uri": "https://localhost:8080/",
          "height": 211
        },
        "outputId": "64b51ab4-00ba-45f5-cbd3-3ad310b2eb84"
      },
      "source": [
        "del z          # La función 'del' elimina la variable\n",
        "\n",
        "print(z)       # Error! (z ya no existe porque la eliminamos)"
      ],
      "execution_count": null,
      "outputs": [
        {
          "output_type": "error",
          "ename": "NameError",
          "evalue": "name 'z' is not defined",
          "traceback": [
            "\u001b[0;31m---------------------------------------------------------------------------\u001b[0m",
            "\u001b[0;31mNameError\u001b[0m                                 Traceback (most recent call last)",
            "\u001b[0;32m<ipython-input-6-61fe3036401f>\u001b[0m in \u001b[0;36m<cell line: 3>\u001b[0;34m()\u001b[0m\n\u001b[1;32m      1\u001b[0m \u001b[0;32mdel\u001b[0m \u001b[0mz\u001b[0m          \u001b[0;31m# La función 'del' elimina la variable\u001b[0m\u001b[0;34m\u001b[0m\u001b[0;34m\u001b[0m\u001b[0m\n\u001b[1;32m      2\u001b[0m \u001b[0;34m\u001b[0m\u001b[0m\n\u001b[0;32m----> 3\u001b[0;31m \u001b[0mprint\u001b[0m\u001b[0;34m(\u001b[0m\u001b[0mz\u001b[0m\u001b[0;34m)\u001b[0m       \u001b[0;31m# Error! (z ya no existe porque la eliminamos)\u001b[0m\u001b[0;34m\u001b[0m\u001b[0;34m\u001b[0m\u001b[0m\n\u001b[0m",
            "\u001b[0;31mNameError\u001b[0m: name 'z' is not defined"
          ]
        }
      ]
    },
    {
      "cell_type": "markdown",
      "metadata": {
        "id": "_fTJJTvs5KN-"
      },
      "source": [
        "## 1. Tipos de variables\n",
        "\n",
        "1. type() funcion para saber el tipo de dato de una variable."
      ]
    },
    {
      "cell_type": "code",
      "metadata": {
        "id": "0bEZWlr35KOA",
        "colab": {
          "base_uri": "https://localhost:8080/"
        },
        "outputId": "ee48072b-0a13-44a4-dffe-0d069a2897e0"
      },
      "source": [
        "print(type(4))     #int (entero)\n",
        "print(type(4.0))   #float (numero de punto flotante, numero con coma, decimal)\n",
        "print(type(True))  #boolean (booleana, binaria, True o False, 0 o 1)\n",
        "print(type(None))  #NoneType (variable vacia, no tiene nada)\n",
        "print(type('c'))   #string (secuencia de caracteres)\n",
        "print(type(\"hola\"))#string (secuencia de caracteres)\n",
        "print(type([]))    #list (lista, conjunto ordenado de elementos)\n",
        "print(type(print)) #builtin_function_or_method (funcion, serie de procesos, algoritmo)"
      ],
      "execution_count": null,
      "outputs": [
        {
          "output_type": "stream",
          "name": "stdout",
          "text": [
            "<class 'int'>\n",
            "<class 'float'>\n",
            "<class 'bool'>\n",
            "<class 'NoneType'>\n",
            "<class 'str'>\n",
            "<class 'str'>\n",
            "<class 'list'>\n",
            "<class 'builtin_function_or_method'>\n"
          ]
        }
      ]
    },
    {
      "cell_type": "markdown",
      "metadata": {
        "id": "YOUY4kjZ5KOF"
      },
      "source": [
        "### Convierto numeros a strings y viceversa"
      ]
    },
    {
      "cell_type": "code",
      "metadata": {
        "id": "ZBUFaw5O5KOG",
        "colab": {
          "base_uri": "https://localhost:8080/"
        },
        "outputId": "516abea1-d244-4e94-889d-aaa655749188"
      },
      "source": [
        "entero = 10\n",
        "# string = str(entero) #convierte el numero a string (caracter)\n",
        "# print(type(entero))\n",
        "# print(type(string))\n",
        "\n",
        "# print(2*3)\n",
        "print(entero+entero+entero) #puedo sumar numeros\n",
        "#print(string+string+string) #no puedo sumar strings, los concateno\n",
        "\n",
        "# print('El resultado es '+str(entero)) #puedo imprimir una variable numerica en un mensaje"
      ],
      "execution_count": null,
      "outputs": [
        {
          "output_type": "stream",
          "name": "stdout",
          "text": [
            "101010\n"
          ]
        }
      ]
    },
    {
      "cell_type": "code",
      "metadata": {
        "id": "8fZm_xGK5KOL",
        "colab": {
          "base_uri": "https://localhost:8080/"
        },
        "outputId": "7ad09356-f5c7-4b24-e562-64839d0ea785"
      },
      "source": [
        "print(int(string)+int(string)) #convierte el string a entero"
      ],
      "execution_count": null,
      "outputs": [
        {
          "output_type": "stream",
          "name": "stdout",
          "text": [
            "4\n"
          ]
        }
      ]
    },
    {
      "cell_type": "code",
      "metadata": {
        "id": "7XyuTq9Z5KOO",
        "colab": {
          "base_uri": "https://localhost:8080/"
        },
        "outputId": "33d64d4d-6edc-45f1-8c2b-7955aaffee14"
      },
      "source": [
        "flotante=float(\"2.2\") #idem con numeros con coma\n",
        "flotante+flotante"
      ],
      "execution_count": null,
      "outputs": [
        {
          "output_type": "execute_result",
          "data": {
            "text/plain": [
              "4.4"
            ]
          },
          "metadata": {},
          "execution_count": 7
        }
      ]
    },
    {
      "cell_type": "markdown",
      "metadata": {
        "collapsed": true,
        "id": "KPccKkFk5KOS"
      },
      "source": [
        "### Listas\n",
        "\n",
        "Una lista es una variable donde puedo ir guardando cualquier tipo de variables adentro, en el orden que quiera"
      ]
    },
    {
      "cell_type": "code",
      "metadata": {
        "id": "KF8-9Vzn5KOS",
        "colab": {
          "base_uri": "https://localhost:8080/"
        },
        "outputId": "4147b28a-59cc-4247-e932-9a6dd615d526"
      },
      "source": [
        "lista = [] #creo una lista vacía\n",
        "lista = list() #lista vacía. o bien para convertir otro tipo de dato en lista.\n",
        "print(lista)\n",
        "\n",
        "lista = [0] #lista con un unico elemento, el numero 0\n",
        "print(lista)\n",
        "\n",
        "#cada elemento va separado por una coma\n",
        "lista = ['Pepe', 8] #lista con dos elementos, el string 'Pepe' y el numero 8\n",
        "print(lista)"
      ],
      "execution_count": null,
      "outputs": [
        {
          "output_type": "stream",
          "name": "stdout",
          "text": [
            "[]\n",
            "[0]\n",
            "['Pepe', 8]\n"
          ]
        }
      ]
    },
    {
      "cell_type": "code",
      "metadata": {
        "id": "Q4VNJquxnRRt",
        "colab": {
          "base_uri": "https://localhost:8080/"
        },
        "outputId": "1ed49237-0855-44e4-8f3a-41956517d7b6"
      },
      "source": [
        "lista_super=['arroz','galletitas','cafe','pan']\n",
        "print(len(lista_super)) #devuelve la cantidad de elementos de la lista\n",
        "\n",
        "print(len([])) #una lista vacia tiene 0 cantidad de elementos"
      ],
      "execution_count": null,
      "outputs": [
        {
          "output_type": "stream",
          "name": "stdout",
          "text": [
            "4\n",
            "0\n"
          ]
        }
      ]
    },
    {
      "cell_type": "markdown",
      "metadata": {
        "id": "aDZTY7Sk5KOV"
      },
      "source": [
        "Otras formas de crear listas:"
      ]
    },
    {
      "cell_type": "code",
      "metadata": {
        "id": "DjnDJc8L5KOW",
        "colab": {
          "base_uri": "https://localhost:8080/"
        },
        "outputId": "46dd722f-0f4c-42ac-8d42-5a6658b20857"
      },
      "source": [
        "elemento = 30\n",
        "cantidad_repeticiones = 5\n",
        "lista_repetida = [elemento]*cantidad_repeticiones #Crea una lista con la cantidad de veces elegida el elemento elegido\n",
        "print(lista_repetida)"
      ],
      "execution_count": null,
      "outputs": [
        {
          "output_type": "stream",
          "name": "stdout",
          "text": [
            "[30, 30, 30, 30, 30]\n"
          ]
        }
      ]
    },
    {
      "cell_type": "markdown",
      "metadata": {
        "id": "tZfS9T-d5KOa"
      },
      "source": [
        "**Operaciones** con listas"
      ]
    },
    {
      "cell_type": "code",
      "metadata": {
        "id": "O5I6Mc6t5KOb",
        "colab": {
          "base_uri": "https://localhost:8080/"
        },
        "outputId": "c23eb907-aba1-4d54-d043-a1838964d120"
      },
      "source": [
        "lista_a = [\"3\"] * 2\n",
        "lista_b = [\"5\"] * 4\n",
        "\n",
        "lista_suma = lista_a+lista_b\n",
        "# la suma concatena los elementos de las listas sumadas en una única lista\n",
        "print(lista_suma)"
      ],
      "execution_count": null,
      "outputs": [
        {
          "output_type": "stream",
          "name": "stdout",
          "text": [
            "['3', '3', '5', '5', '5', '5']\n"
          ]
        }
      ]
    },
    {
      "cell_type": "code",
      "metadata": {
        "id": "HaoPHvOdpL4H",
        "colab": {
          "base_uri": "https://localhost:8080/"
        },
        "outputId": "830c4b4d-c062-4990-deca-2e2bd90be588"
      },
      "source": [
        "lista_super=['arroz','galletitas','cafe','pan']\n",
        "elemento_para_agregar = 'chocolate'\n",
        "\n",
        "#con la funcion nombre_lista.append(nombre_elemento) le agrego a la lista el elemento al final\n",
        "print(lista_super)\n",
        "lista_super.append(elemento_para_agregar)\n",
        "print(lista_super)"
      ],
      "execution_count": null,
      "outputs": [
        {
          "output_type": "stream",
          "name": "stdout",
          "text": [
            "['arroz', 'galletitas', 'cafe', 'pan']\n",
            "['arroz', 'galletitas', 'cafe', 'pan', 'chocolate']\n"
          ]
        }
      ]
    },
    {
      "cell_type": "code",
      "metadata": {
        "id": "NP7F1OqaqQvQ",
        "colab": {
          "base_uri": "https://localhost:8080/"
        },
        "outputId": "c2633a54-c7c7-4a64-954c-46e8f0d92989"
      },
      "source": [
        "#Con nombre_lista[n] accedo al elemento n de la lista pedida, donde 'n' es un numero entero\n",
        "print(lista_super[0]) #notar que el primer elemento es el de numero 0,\n",
        "print(lista_super[1]) #entonces el elemento [1] es el segundo\n",
        "print(lista_super[len(lista_super)-1]) #Si quiero el ultimo elemento entonces pido la cantidad de elementos -1\n",
        "print(lista_super[-1]) #O mas facil, solo con -1"
      ],
      "execution_count": null,
      "outputs": [
        {
          "output_type": "stream",
          "name": "stdout",
          "text": [
            "arroz\n",
            "galletitas\n",
            "chocolate\n",
            "chocolate\n"
          ]
        }
      ]
    },
    {
      "cell_type": "markdown",
      "metadata": {
        "id": "I5VhK8525KOe"
      },
      "source": [
        "Acceder a elementos de una lista: la numeración comienza en 0 y va hasta length-1"
      ]
    },
    {
      "cell_type": "code",
      "metadata": {
        "id": "PWGZhZHA5KOf",
        "colab": {
          "base_uri": "https://localhost:8080/"
        },
        "outputId": "5759567d-dd40-40cc-addb-d65aea83270b"
      },
      "source": [
        "frase = \"Pepe esta aprendiendo a programar en python\"\n",
        "lista_frase = frase.split(\" \") #divide al string en los elementos que separen el separador introducido, en este caso un espacio\n",
        "print(lista_frase)"
      ],
      "execution_count": null,
      "outputs": [
        {
          "output_type": "stream",
          "name": "stdout",
          "text": [
            "['Pepe', 'esta', 'aprendiendo', 'a', 'programar', 'en', 'python']\n"
          ]
        }
      ]
    },
    {
      "cell_type": "code",
      "metadata": {
        "id": "uaz8sKO0sY-L",
        "colab": {
          "base_uri": "https://localhost:8080/"
        },
        "outputId": "de6a1e56-4af1-4f93-8298-c114414bbd0b"
      },
      "source": [
        "inicio_intervalo = 1\n",
        "fin_intervalo = 3\n",
        "print(lista_frase[inicio_intervalo:fin_intervalo]) # puedo pedir todos los elementos en un intervalo\n",
        "print(lista_frase[inicio_intervalo:]) # o desde un lugar en adelante\n",
        "print(lista_frase[:fin_intervalo]) # o desde el primero hasta un lugar"
      ],
      "execution_count": null,
      "outputs": [
        {
          "output_type": "stream",
          "name": "stdout",
          "text": [
            "['esta', 'aprendiendo']\n",
            "['esta', 'aprendiendo', 'a', 'programar', 'en', 'python']\n",
            "['Pepe', 'esta', 'aprendiendo']\n"
          ]
        }
      ]
    },
    {
      "cell_type": "code",
      "metadata": {
        "id": "kySc4EAl5KO0",
        "colab": {
          "base_uri": "https://localhost:8080/"
        },
        "outputId": "fb56f2e3-3f82-46f7-d175-2ece32936a8c"
      },
      "source": [
        "paso = 3\n",
        "print(lista_frase[0:7:paso]) # Puedo ir salteando elementos tambien\n",
        "print(lista_frase[::paso]) # Si no pongo nada entiende que va de principio a fin\n",
        "print(lista_frase[-1:0:-1]) # Tambien puedo ir para atras"
      ],
      "execution_count": null,
      "outputs": [
        {
          "output_type": "stream",
          "name": "stdout",
          "text": [
            "['Pepe', 'a', 'python']\n",
            "['Pepe', 'a', 'python']\n",
            "['python', 'en', 'programar', 'a', 'aprendiendo', 'esta']\n"
          ]
        }
      ]
    },
    {
      "cell_type": "code",
      "metadata": {
        "id": "q7HqFXad5KO_",
        "colab": {
          "base_uri": "https://localhost:8080/"
        },
        "outputId": "eef66da2-5910-4098-e686-caf151af1310"
      },
      "source": [
        "print(min([1,4,2.2])) # puedo sumar los elementos de una lista"
      ],
      "execution_count": null,
      "outputs": [
        {
          "output_type": "stream",
          "name": "stdout",
          "text": [
            "1\n"
          ]
        }
      ]
    },
    {
      "cell_type": "markdown",
      "metadata": {
        "id": "p02kQaQ65KPC"
      },
      "source": [
        "### Dicionarios\n",
        "\n",
        "En vez de acceder por índice como en las listas, se accede por una palabra o clave, llamada 'key'."
      ]
    },
    {
      "cell_type": "code",
      "metadata": {
        "id": "DAhOvJin5KPD"
      },
      "source": [
        "# Dos maneras de crear un diccionario\n",
        "diccionario_empanadas = dict()\n",
        "diccionario_empanadas = {}"
      ],
      "execution_count": null,
      "outputs": []
    },
    {
      "cell_type": "code",
      "metadata": {
        "id": "OPcMc7wbghPu",
        "colab": {
          "base_uri": "https://localhost:8080/"
        },
        "outputId": "3e1e006e-b8dd-43a7-b734-3371b26c3ba5"
      },
      "source": [
        "# Le puedo asignar una variable (en este caso la cantidad de empanadas) a cada \"key\" (el gusto de empanada)\n",
        "diccionario_empanadas['queso y cebolla'] = 5\n",
        "diccionario_empanadas['carne suave'] = 4\n",
        "diccionario_empanadas['humita'] = 8\n",
        "\n",
        "print(diccionario_empanadas)"
      ],
      "execution_count": null,
      "outputs": [
        {
          "output_type": "stream",
          "name": "stdout",
          "text": [
            "{'queso y cebolla': 5, 'carne suave': 4, 'humita': 8}\n"
          ]
        }
      ]
    },
    {
      "cell_type": "code",
      "metadata": {
        "id": "pE2dk12J5KPG"
      },
      "source": [
        "# asi accedo a lo que contiene el key 'humita'\n",
        "diccionario_empanadas['humita'] = 10"
      ],
      "execution_count": null,
      "outputs": []
    },
    {
      "cell_type": "code",
      "metadata": {
        "id": "b5iGyYNY5KPI",
        "colab": {
          "base_uri": "https://localhost:8080/"
        },
        "outputId": "04140b16-eae5-4f78-f0d3-dfa9ea42182e"
      },
      "source": [
        "# así puedo ver los valores y keys que existen dentro del diccionario\n",
        "print(diccionario_empanadas.values())\n",
        "print(diccionario_empanadas.keys())\n",
        "print(diccionario_empanadas.items())\n"
      ],
      "execution_count": null,
      "outputs": [
        {
          "output_type": "stream",
          "name": "stdout",
          "text": [
            "dict_values([5, 4, 10])\n",
            "dict_keys(['queso y cebolla', 'carne suave', 'humita'])\n",
            "dict_items([('queso y cebolla', 5), ('carne suave', 4), ('humita', 10)])\n"
          ]
        }
      ]
    },
    {
      "cell_type": "markdown",
      "metadata": {
        "id": "ZUPGCerf5KN4"
      },
      "source": [
        "## 2. Comparaciones lógicas y condicionales\n",
        "\n",
        "Se pueden usar los operadores usuales <, >, <=, >=, ==(igualdad) and != (desigualdad). Las comparaciones devuelven una variable booleana que puede ser: True o False."
      ]
    },
    {
      "cell_type": "code",
      "metadata": {
        "id": "VNTRR9Ki5KN5",
        "colab": {
          "base_uri": "https://localhost:8080/"
        },
        "outputId": "4eec0795-e39d-4f9e-8dd6-3939495f97d0"
      },
      "source": [
        "print(2==2)   # '==' devuelve un True o un False de acuerdo a si ambos lados son iguales o no\n",
        "print(2!=2)   # '!=' devuelve un True o un False de acuerdo a si ambos lados son distintos o no\n",
        "\n",
        "\n",
        "x=3\n",
        "y=2\n",
        "print(x < y) # '<=' devuelve un True o un False de acuerdo a si x es menor a y o no\n",
        "print(x > y) # '<=' devuelve un True o un False de acuerdo a si x es menor a y o no\n",
        "print(x <= y) # '<=' devuelve un True o un False de acuerdo a si x es menor o igual a y o no\n",
        "print(x >= y) # '<=' devuelve un True o un False de acuerdo a si x es menor o igual a y o no"
      ],
      "execution_count": null,
      "outputs": [
        {
          "output_type": "stream",
          "name": "stdout",
          "text": [
            "True\n",
            "False\n",
            "False\n",
            "True\n",
            "False\n",
            "True\n"
          ]
        }
      ]
    },
    {
      "cell_type": "markdown",
      "metadata": {
        "id": "3X0jgI0e5KPm"
      },
      "source": [
        "### **if** (si, condicional)\n",
        "\n",
        "Cuando queremos que un proceso se realice solamente si se cumple alguna condicion. Si (condicion verdadera) entonces (proceso)."
      ]
    },
    {
      "cell_type": "code",
      "metadata": {
        "id": "qh0iiBPXrJEq",
        "colab": {
          "base_uri": "https://localhost:8080/"
        },
        "outputId": "c64a94b7-6998-4e2f-bbf3-2746f5916254"
      },
      "source": [
        "x=3\n",
        "y=2\n",
        "if x > y:\n",
        "  print('x es mayor a y')"
      ],
      "execution_count": null,
      "outputs": [
        {
          "output_type": "stream",
          "name": "stdout",
          "text": [
            "x es mayor a y\n"
          ]
        }
      ]
    },
    {
      "cell_type": "code",
      "metadata": {
        "id": "a4LZ8rWAzZDm",
        "colab": {
          "base_uri": "https://localhost:8080/",
          "height": 34
        },
        "outputId": "ea213788-0f13-4edc-a59a-135db7cff841"
      },
      "source": [
        "x=3\n",
        "y=2\n",
        "if x > y:\n",
        "  print('x es mayor a y') #tengo que 'indentar' o espaciar todo lo que este dentro del 'if'"
      ],
      "execution_count": null,
      "outputs": [
        {
          "output_type": "stream",
          "text": [
            "x es mayor a y\n"
          ],
          "name": "stdout"
        }
      ]
    },
    {
      "cell_type": "code",
      "metadata": {
        "id": "LXQWzXbr5KPr",
        "colab": {
          "base_uri": "https://localhost:8080/"
        },
        "outputId": "d9adde05-c74c-42cb-ee87-16775721e47e"
      },
      "source": [
        "# Si la condicion es falsa, nunca se ejecutan los procesos dentro del 'if'\n",
        "x=1\n",
        "y=2\n",
        "if x > y:\n",
        "  print('x es mayor a y')\n",
        "print('esto esta fuera del if porque no esta espaciado')"
      ],
      "execution_count": null,
      "outputs": [
        {
          "output_type": "stream",
          "name": "stdout",
          "text": [
            "esto esta fuera del if porque no esta espaciado\n"
          ]
        }
      ]
    },
    {
      "cell_type": "markdown",
      "metadata": {
        "id": "tKGpbEejtCPb"
      },
      "source": [
        "### **else** (si no)\n",
        "\n",
        "Si (condicion verdadera), entonces (proceso).\n",
        "Si no (la condicion era falsa), entonces (otro proceso)"
      ]
    },
    {
      "cell_type": "code",
      "metadata": {
        "id": "Cv_7jngRs3C2",
        "colab": {
          "base_uri": "https://localhost:8080/"
        },
        "outputId": "026b7732-43b2-4ab3-8688-3b24752bdd4d"
      },
      "source": [
        "x=1\n",
        "y=2\n",
        "if x > y:\n",
        "  print('x es mayor a y')\n",
        "else: # podemos pedirle que si la condicion en el 'if' era falsa, que realice lo que pongamos dentro del else\n",
        "  print('x NO es mayor a y')"
      ],
      "execution_count": null,
      "outputs": [
        {
          "output_type": "stream",
          "name": "stdout",
          "text": [
            "x NO es mayor a y\n"
          ]
        }
      ]
    },
    {
      "cell_type": "markdown",
      "metadata": {
        "id": "dC0uZMdztpKF"
      },
      "source": [
        "### **elif** (o si)\n",
        "\n",
        "Se usa cuando queremos dividir en mas condiciones\n",
        "Si (condicion), entonces (proceso).\n",
        "Si (otra condicion), entonces (proceso)."
      ]
    },
    {
      "cell_type": "code",
      "metadata": {
        "id": "GyasRAjVuDCU",
        "colab": {
          "base_uri": "https://localhost:8080/"
        },
        "outputId": "ccc9a39f-25f4-4247-a95f-44f2abcc5013"
      },
      "source": [
        "x=2\n",
        "y=2\n",
        "if x > y:\n",
        "  print('x es mayor a y')\n",
        "elif x == y: # Va a realizar la condicion verdadera, si ambas (la del 'if' y la del 'elif') lo son, va a realizar el else\n",
        "  print('x es igual a y')\n",
        "else:\n",
        "  print('x es menor a y')"
      ],
      "execution_count": null,
      "outputs": [
        {
          "output_type": "stream",
          "name": "stdout",
          "text": [
            "x es igual a y\n"
          ]
        }
      ]
    },
    {
      "cell_type": "markdown",
      "metadata": {
        "id": "3mM_AGBVquRi"
      },
      "source": [
        "## 3. Loops o Ciclos\n",
        "\n",
        "Son la herramienta más importante en la programacion. Permiten repetir una serie de procesos una cantidad de veces o hasta que se cumpla alguna condición."
      ]
    },
    {
      "cell_type": "markdown",
      "metadata": {
        "id": "4xQdqIM0kLxd"
      },
      "source": [
        "### **For**\n",
        "Es un ciclo, se utiliza cuando queremos repetir una serie de procesos una cantidad dada de veces.\n",
        "\n",
        "1. _for_ elemento *in* lista:\n",
        "> Recorre cada elemento de la lista y para cada uno realiza las acciones que están tabuladas (corridas con sangría).\n"
      ]
    },
    {
      "cell_type": "code",
      "metadata": {
        "id": "lqTWrUOF5KPm",
        "colab": {
          "base_uri": "https://localhost:8080/"
        },
        "outputId": "024d96cc-f950-4d75-962d-f3a2935bd52d"
      },
      "source": [
        "# imprimo los numeros enteros del 0 al 9\n",
        "enteros=[0,1,2,3,4,5,6,7,8,'nueve',254]\n",
        "for i in enteros:\n",
        "    print(i) # 'i' es, en cada repeticion, el elemento siguiente de la lista 'enteros'"
      ],
      "execution_count": null,
      "outputs": [
        {
          "output_type": "stream",
          "name": "stdout",
          "text": [
            "0\n",
            "1\n",
            "2\n",
            "3\n",
            "4\n",
            "5\n",
            "6\n",
            "7\n",
            "8\n",
            "nueve\n",
            "254\n"
          ]
        }
      ]
    },
    {
      "cell_type": "code",
      "metadata": {
        "id": "-CzJ0QQC5KPo",
        "colab": {
          "base_uri": "https://localhost:8080/"
        },
        "outputId": "2b3c8fa9-b2b3-448f-dc95-a339d7bc640d"
      },
      "source": [
        "# la funcion range(numero_final) me da directamente los enteros desde 0 hasta numero_final-1\n",
        "numero_final=10\n",
        "for i in range(numero_final):\n",
        "    print(i, enteros[i])"
      ],
      "execution_count": null,
      "outputs": [
        {
          "output_type": "stream",
          "name": "stdout",
          "text": [
            "0 0\n",
            "1 1\n",
            "2 2\n",
            "3 3\n",
            "4 4\n",
            "5 5\n",
            "6 6\n",
            "7 7\n",
            "8 8\n",
            "9 nueve\n"
          ]
        }
      ]
    },
    {
      "cell_type": "code",
      "metadata": {
        "id": "T2xm0GVX5KPp",
        "colab": {
          "base_uri": "https://localhost:8080/"
        },
        "outputId": "590c1aa4-adb9-4132-ae18-aad495f58e69"
      },
      "source": [
        "# si pongo range(numero_inicial,numero_final) me da los enteros desde numero_inicial hasta numero_final-1\n",
        "numero_final=10\n",
        "numero_inicial=5\n",
        "for i in range(numero_inicial,numero_final):\n",
        "    print(i)"
      ],
      "execution_count": null,
      "outputs": [
        {
          "output_type": "stream",
          "name": "stdout",
          "text": [
            "5\n",
            "6\n",
            "7\n",
            "8\n",
            "9\n"
          ]
        }
      ]
    },
    {
      "cell_type": "code",
      "metadata": {
        "id": "axK50tYRoOSt",
        "colab": {
          "base_uri": "https://localhost:8080/"
        },
        "outputId": "85bbf9f1-f3bd-4fa4-c01b-2de549c6dbb8"
      },
      "source": [
        "# si pongo range(numero_inicial,numero_final,paso) me da los enteros desde numero_inicial hasta numero_final-1\n",
        "numero_final=10\n",
        "numero_inicial=5\n",
        "paso=2\n",
        "for i in range(numero_inicial,numero_final,paso):\n",
        "    print(i)"
      ],
      "execution_count": null,
      "outputs": [
        {
          "output_type": "stream",
          "name": "stdout",
          "text": [
            "5\n",
            "7\n",
            "9\n"
          ]
        }
      ]
    },
    {
      "cell_type": "code",
      "metadata": {
        "id": "VptZ4p8ZohSZ",
        "colab": {
          "base_uri": "https://localhost:8080/",
          "height": 102
        },
        "outputId": "a0602daf-9586-4158-b998-7570e93739ff"
      },
      "source": [
        "# puedo ir recorriendo los elementos de una lista\n",
        "lista_super=['arroz','galletitas','cafe','pan','chocolate']\n",
        "for producto in lista_super:\n",
        "    print(producto)"
      ],
      "execution_count": null,
      "outputs": [
        {
          "output_type": "stream",
          "text": [
            "arroz\n",
            "galletitas\n",
            "cafe\n",
            "pan\n",
            "chocolate\n"
          ],
          "name": "stdout"
        }
      ]
    },
    {
      "cell_type": "code",
      "metadata": {
        "id": "eduK8CUQo_z_",
        "colab": {
          "base_uri": "https://localhost:8080/",
          "height": 102
        },
        "outputId": "14733fd1-e646-439f-dae0-870fa1fcaf96"
      },
      "source": [
        "# puedo ir recorriendo los elementos de una lista\n",
        "lista_super=['arroz','galletitas','cafe','pan','chocolate']\n",
        "for producto in lista_super:\n",
        "    print(producto)"
      ],
      "execution_count": null,
      "outputs": [
        {
          "output_type": "stream",
          "text": [
            "arroz\n",
            "galletitas\n",
            "cafe\n",
            "pan\n",
            "chocolate\n"
          ],
          "name": "stdout"
        }
      ]
    },
    {
      "cell_type": "code",
      "metadata": {
        "id": "Dn7LVqVlp_EB",
        "colab": {
          "base_uri": "https://localhost:8080/",
          "height": 102
        },
        "outputId": "50ed9b33-cbd7-4320-fbb7-1f55fcc5e2fa"
      },
      "source": [
        "# o sino los indices de los elementos\n",
        "lista_super=['arroz','galletitas','cafe','pan','chocolate']\n",
        "for i in range(len(lista_super)):\n",
        "    print(lista_super[i])"
      ],
      "execution_count": null,
      "outputs": [
        {
          "output_type": "stream",
          "text": [
            "arroz\n",
            "galletitas\n",
            "cafe\n",
            "pan\n",
            "chocolate\n"
          ],
          "name": "stdout"
        }
      ]
    },
    {
      "cell_type": "markdown",
      "metadata": {
        "id": "vCx30KX5ZGB1"
      },
      "source": [
        "### **while**\n",
        "Es un ciclo, se utiliza cuando queremos repetir una serie de procesos, como el **for**. La diferencia es que la cantidad de repeticiones no esta fija sino que se repetirá siempre y cuando se cumpla una condición.\n",
        "\n",
        "1. _while_ (condicion):\n",
        "> Siempre que la condicion sea verdadera realiza las acciones que están tabuladas (corridas con sangría) y vuelve a analizar la **condicion**.\n",
        "\n",
        "Mientras (condicion verdadera), ejecutá lo siguiente:\n"
      ]
    },
    {
      "cell_type": "code",
      "metadata": {
        "id": "ZMOEOMyp5KPu",
        "colab": {
          "base_uri": "https://localhost:8080/"
        },
        "outputId": "15300d6a-df1f-4221-8eaf-31074966a0cb"
      },
      "source": [
        "# Hacemos un contador, donde definimos i=0 y le sumamos uno en cada repeticion\n",
        "i = 0\n",
        "while i<10: # el 'while' terminará cuando i=10, y saldrá del ciclo\n",
        "  print(i)\n",
        "  i = i + 1"
      ],
      "execution_count": null,
      "outputs": [
        {
          "output_type": "stream",
          "name": "stdout",
          "text": [
            "0\n",
            "1\n",
            "2\n",
            "3\n",
            "4\n",
            "5\n",
            "6\n",
            "7\n",
            "8\n",
            "9\n"
          ]
        }
      ]
    },
    {
      "cell_type": "markdown",
      "metadata": {
        "id": "yMsPfVnnbBfO"
      },
      "source": [
        "### **break**\n",
        "Quebrar. Sirve para romper un ciclo.\n",
        "\n",
        "1. _while_ (condicion) ó _for_ elemento _in_ lista:\n",
        "> _if_ (condicion):\n",
        "> break\n",
        "\n",
        "Si (condicion verdadera), entonces quebrá el ciclo"
      ]
    },
    {
      "cell_type": "code",
      "metadata": {
        "id": "PZ8K-97d5KPx",
        "colab": {
          "base_uri": "https://localhost:8080/"
        },
        "outputId": "696a96b0-1459-418b-e04c-1fc1e72ad27d"
      },
      "source": [
        "# Hacemos un buscador, queremos ver si un elemento dado pertenece a una lista\n",
        "lista_super = ['arroz','galletitas','cafe','pan','chocolate']\n",
        "producto = 'cafe'\n",
        "for i in range(len(lista_super)):\n",
        "    if producto==lista_super[i]: #Si encuentra el elemento\n",
        "      print(producto + ' es el elemento ' + str(i) + ' de la lista')\n",
        "      break #Corta el 'for' y la variable 'i' sera la posicion del elemento\n",
        "print(i)\n",
        "print(lista_super[i])"
      ],
      "execution_count": null,
      "outputs": [
        {
          "output_type": "stream",
          "name": "stdout",
          "text": [
            "cafe es el elemento 2 de la lista\n",
            "4\n",
            "chocolate\n"
          ]
        }
      ]
    },
    {
      "cell_type": "markdown",
      "metadata": {
        "id": "8qSjpzgl5KQG"
      },
      "source": [
        "## 4. ***try*** y ***except***\n",
        "\n",
        "---\n",
        "\n",
        "_try_:\n",
        "\n",
        "\n",
        "> (Ejecuta lo que sigue si no hay error)\n",
        "\n",
        "_except_:\n",
        "\n",
        "> (Si hay error, ejecuta la excepcion)\n",
        "\n",
        "\n",
        "---\n",
        "\n",
        "\n",
        "Dos comandos que nos permiten que el programa no se detenga por un error pero nos avise.\n",
        "Probá (serie de comandos), excepto error (serie de comandos)."
      ]
    },
    {
      "cell_type": "code",
      "metadata": {
        "id": "5FKlBUz95KQG",
        "colab": {
          "base_uri": "https://localhost:8080/"
        },
        "outputId": "e7e5f897-c100-40e7-8141-d12666992ea3"
      },
      "source": [
        "for i in range(-2,3):\n",
        "  try: # Ejecuta lo que sigue si no hay error\n",
        "      print(2/i)\n",
        "  except: # Si hay error, ejecuta la excepcion\n",
        "      print(\"Dividiste por 0!\")"
      ],
      "execution_count": null,
      "outputs": [
        {
          "output_type": "stream",
          "name": "stdout",
          "text": [
            "-1.0\n",
            "-2.0\n",
            "Dividiste por 0!\n",
            "2.0\n",
            "1.0\n"
          ]
        }
      ]
    },
    {
      "cell_type": "markdown",
      "metadata": {
        "id": "ggiwi2xt5KQA"
      },
      "source": [
        "# 2. Funciones\n",
        "---\n",
        "_def_ nombre_funcion(input_1,input_2,...):\n",
        "\n",
        "\n",
        "> (procesos de la funcion)\n",
        "\n",
        "\n",
        "> (usan los input y calculan un output)\n",
        "\n",
        "\n",
        "> _return_ output\n",
        "\n",
        "---\n",
        "\n",
        "Cuando un trozo de codigo lo necesitamos utilizar muchas veces se vuelve engorroso tener que escribirlo una y otra vez, y si además queremos cambiar algo tenemos que hacerlo sobre todos los pedazos dispersos. Para ello se suele encapsular en una función que puede llamarse cada vez que deseemos."
      ]
    },
    {
      "cell_type": "code",
      "metadata": {
        "id": "P_hek2SI5KQB",
        "colab": {
          "base_uri": "https://localhost:8080/"
        },
        "outputId": "18f48f01-f723-4f06-ba8a-9559bba6ee2d"
      },
      "source": [
        "#Definamos una funcion que tome dos numeros y los sume\n",
        "def funcion_que_suma(input_1, input_2): # Esta linea define la funcion, NO la ejecuta\n",
        "  output = input_1 + input_2\n",
        "  #las variables input solo existiran dentro de la funcion y cuando termine se borran\n",
        "  return output #la unica variable que sobrevive es el output\n",
        "\n",
        "input_1 = 5\n",
        "input_2 = 3\n",
        "output = funcion_que_suma(input_1,input_2) # Acá ejecuto la función\n",
        "print(output)"
      ],
      "execution_count": null,
      "outputs": [
        {
          "output_type": "stream",
          "name": "stdout",
          "text": [
            "8\n"
          ]
        }
      ]
    },
    {
      "cell_type": "code",
      "source": [
        "funcion_que_suma('100','2')"
      ],
      "metadata": {
        "colab": {
          "base_uri": "https://localhost:8080/",
          "height": 36
        },
        "id": "NfYVuN7cQI95",
        "outputId": "f043c12e-c349-42e5-b892-b6b90caa9ccf"
      },
      "execution_count": null,
      "outputs": [
        {
          "output_type": "execute_result",
          "data": {
            "text/plain": [
              "'1002'"
            ],
            "application/vnd.google.colaboratory.intrinsic+json": {
              "type": "string"
            }
          },
          "metadata": {},
          "execution_count": 47
        }
      ]
    },
    {
      "cell_type": "markdown",
      "metadata": {
        "id": "lKaEm1QB5KQA"
      },
      "source": [
        "Una funcion puede cambiar un input y no devolver output"
      ]
    },
    {
      "cell_type": "code",
      "metadata": {
        "id": "RuB9rjjy5KQC",
        "colab": {
          "base_uri": "https://localhost:8080/"
        },
        "outputId": "154e0b34-b5b3-4890-c0f0-358a773d9f69"
      },
      "source": [
        "def intercambiar_primero_y_ultimo(input_1):\n",
        "  primer_elemento=input_1[0]\n",
        "  ultimo_elemento=input_1[-1]\n",
        "  input_1[-1]=primer_elemento\n",
        "  input_1[0]=ultimo_elemento\n",
        "  # Es una funcion sin 'return', solamente cambia la lista de entrada\n",
        "\n",
        "lista_super=['arroz','galletitas','cafe','pan','chocolate']\n",
        "intercambiar_primero_y_ultimo(lista_super) # Acá ejecuto la función\n",
        "# Notar que no se define ninguna nueva variable al output de la funcion, que no tiene\n",
        "print(lista_super)"
      ],
      "execution_count": null,
      "outputs": [
        {
          "output_type": "stream",
          "name": "stdout",
          "text": [
            "['chocolate', 'galletitas', 'cafe', 'pan', 'arroz']\n"
          ]
        }
      ]
    },
    {
      "cell_type": "markdown",
      "metadata": {
        "id": "nIc4UUY-3v0b"
      },
      "source": [
        "# 3. Librerias\n",
        "\n",
        "\n",
        "---\n",
        "\n",
        "\n",
        "_import_ nombre_libreria\n",
        "\n",
        "\n",
        "---\n",
        "\n",
        "\n",
        "A veces uno quiere utilizar funciones específicas que no vienen con el default de python. Para ello están las librerías de funciones, que incluso uno mismo puede crear y que vienen con funciones específicas.\n",
        "\n",
        "\n",
        "A estas funciones específicas, se las llama como\n",
        "\n",
        "\n",
        "nombre_libreria.nombre_funcion"
      ]
    },
    {
      "cell_type": "markdown",
      "metadata": {
        "id": "V0cDrj7mr6Lm"
      },
      "source": [
        "## 1. Importar\n",
        "\n",
        "Para poder usar estas funciones, hay que importar la librería."
      ]
    },
    {
      "cell_type": "code",
      "metadata": {
        "id": "qYCRaZRm3v0c",
        "colab": {
          "base_uri": "https://localhost:8080/"
        },
        "outputId": "80013356-3512-4f99-d1be-fbb282b7f31a"
      },
      "source": [
        "import time           #importo la libreria de funciones para manejo de tiempo\n",
        "\n",
        "tiempo_inicial = time.time()          # toma el tiempo de la maquina\n",
        "time.sleep(1)                         # deja esperando 1 segundo\n",
        "tiempo_final = time.time()            # toma el tiempo de la maquina\n",
        "print(tiempo_final - tiempo_inicial)  # tiempo transcurrido en segundos"
      ],
      "execution_count": null,
      "outputs": [
        {
          "output_type": "stream",
          "name": "stdout",
          "text": [
            "1.001549482345581\n"
          ]
        }
      ]
    },
    {
      "cell_type": "code",
      "metadata": {
        "id": "npB681qh3v0d",
        "colab": {
          "base_uri": "https://localhost:8080/",
          "height": 34
        },
        "outputId": "57c5158a-22cb-49b0-b786-c01931df33f8"
      },
      "source": [
        "import os   # librería para manejo de path, files, folders etc\n",
        "\n",
        "# devuelve la direccion del directorio actual (get Current Working Directory)\n",
        "directorio = os.getcwd()\n",
        "print(directorio)"
      ],
      "execution_count": null,
      "outputs": [
        {
          "output_type": "stream",
          "text": [
            "/content\n"
          ],
          "name": "stdout"
        }
      ]
    },
    {
      "cell_type": "markdown",
      "metadata": {
        "id": "aBQ-SwTosOHX"
      },
      "source": [
        "Puedo importar abreviando el nombre de la libreria\n",
        "\n",
        "---\n",
        "\n",
        "\n",
        "***_import_*** nombre_libreria ***as*** abreviacion\n",
        "\n",
        "\n",
        "---"
      ]
    },
    {
      "cell_type": "code",
      "metadata": {
        "id": "CHiZoAS3sbqt",
        "colab": {
          "base_uri": "https://localhost:8080/",
          "height": 34
        },
        "outputId": "f04f8091-db76-4939-968a-f6178201af10"
      },
      "source": [
        "import time as t     #importo la libreria de funciones para manejo de tiempo\n",
        "\n",
        "tiempo_inicial = t.time()          # toma el tiempo de la maquina\n",
        "t.sleep(1)                         # deja esperando 1 segundo\n",
        "tiempo_final = t.time()            # toma el tiempo de la maquina\n",
        "print(tiempo_final - tiempo_inicial)  # tiempo transcurrido en segundos"
      ],
      "execution_count": null,
      "outputs": [
        {
          "output_type": "stream",
          "text": [
            "1.0012335777282715\n"
          ],
          "name": "stdout"
        }
      ]
    },
    {
      "cell_type": "markdown",
      "metadata": {
        "id": "o45gycvH3v0i"
      },
      "source": [
        "También puedo importar una sola funcion de una librería\n",
        "\n",
        "---\n",
        "\n",
        "\n",
        "***_from_*** nombre_libreria ***_import_*** nombre_funcion\n",
        "\n",
        "\n",
        "---"
      ]
    },
    {
      "cell_type": "code",
      "metadata": {
        "id": "r0H7RXDN3v0i",
        "colab": {
          "base_uri": "https://localhost:8080/",
          "height": 34
        },
        "outputId": "b16b3eaf-e3d3-4323-80ac-339b4d6e769e"
      },
      "source": [
        "from time import time,sleep\n",
        "\n",
        "tiempo_inicial = time()               # toma el tiempo de la maquina\n",
        "sleep(1)                              # deja esperando 1 segundo\n",
        "tiempo_final = time()                 # toma el tiempo de la maquina\n",
        "print(tiempo_final - tiempo_inicial)  # tiempo transcurrido en segundos"
      ],
      "execution_count": null,
      "outputs": [
        {
          "output_type": "stream",
          "text": [
            "1.0013306140899658\n"
          ],
          "name": "stdout"
        }
      ]
    },
    {
      "cell_type": "markdown",
      "metadata": {
        "id": "VaBCVD3r3v0m"
      },
      "source": [
        "## 2. Numpy (Hacer cuentas)\n",
        "\n",
        "Numpy es la libreria de matemática más usada\n",
        "\n",
        "\n",
        "Documentacion https://docs.scipy.org/doc/numpy/reference/index.html"
      ]
    },
    {
      "cell_type": "code",
      "metadata": {
        "id": "HMm1Glu43v0n"
      },
      "source": [
        "import numpy as np"
      ],
      "execution_count": null,
      "outputs": []
    },
    {
      "cell_type": "markdown",
      "metadata": {
        "id": "YXUTaIaA3v0q"
      },
      "source": [
        "### Arrays (vectores)"
      ]
    },
    {
      "cell_type": "code",
      "metadata": {
        "id": "jVOosFe43v0s",
        "colab": {
          "base_uri": "https://localhost:8080/",
          "height": 34
        },
        "outputId": "21176f81-aaba-4507-90a3-0600d747c2ad"
      },
      "source": [
        "np.array([1,4,3]) # convertir lista en numpy array\n",
        "\n",
        "a = np.arange(2,10,2) # array de enteros, desde 2 hasta 10 no inclusive, de a 2\n",
        "print(a)"
      ],
      "execution_count": null,
      "outputs": [
        {
          "output_type": "stream",
          "text": [
            "[2 4 6 8]\n"
          ],
          "name": "stdout"
        }
      ]
    },
    {
      "cell_type": "code",
      "metadata": {
        "id": "NDhts-nx3v0t",
        "colab": {
          "base_uri": "https://localhost:8080/",
          "height": 34
        },
        "outputId": "b20c4448-c20a-4de9-d90d-533b3264e48d"
      },
      "source": [
        "b = np.linspace(2,10,5) # de 2 a 10 inclusive, 5 elementos linealmente equiespaceados\n",
        "print(b)"
      ],
      "execution_count": null,
      "outputs": [
        {
          "output_type": "stream",
          "text": [
            "[ 2.  4.  6.  8. 10.]\n"
          ],
          "name": "stdout"
        }
      ]
    },
    {
      "cell_type": "code",
      "metadata": {
        "id": "ZEu-fJ0X3v0v",
        "colab": {
          "base_uri": "https://localhost:8080/",
          "height": 34
        },
        "outputId": "63f9c027-eb73-4241-945e-dbbacdec9471"
      },
      "source": [
        "#equiespaceamiento en escala logaritmica;\n",
        "# base 10, desde potencia 0 hasta potencia 4, 4 elementos\n",
        "log_espaciado = np.logspace(base=10,start=0,stop=3,num=4)\n",
        "print(log_espaciado)"
      ],
      "execution_count": null,
      "outputs": [
        {
          "output_type": "stream",
          "text": [
            "[   1.   10.  100. 1000.]\n"
          ],
          "name": "stdout"
        }
      ]
    },
    {
      "cell_type": "code",
      "metadata": {
        "id": "pP-_YMCS3v01",
        "colab": {
          "base_uri": "https://localhost:8080/",
          "height": 51
        },
        "outputId": "408edba4-84d6-48db-c19b-c4cef10e008c"
      },
      "source": [
        "a = np.ones(5)#crea vector todo de 1\n",
        "b = np.zeros(5)#crea vector todo de 0\n",
        "print(a)\n",
        "print(b)"
      ],
      "execution_count": null,
      "outputs": [
        {
          "output_type": "stream",
          "text": [
            "[1. 1. 1. 1. 1.]\n",
            "[0. 0. 0. 0. 0.]\n"
          ],
          "name": "stdout"
        }
      ]
    },
    {
      "cell_type": "markdown",
      "metadata": {
        "collapsed": true,
        "id": "cRjW3nHD3v01"
      },
      "source": [
        "### Operaciones Matemáticas"
      ]
    },
    {
      "cell_type": "code",
      "metadata": {
        "id": "gYuhc8px3v04",
        "colab": {
          "base_uri": "https://localhost:8080/",
          "height": 34
        },
        "outputId": "9bb9d4e8-ba81-4d8f-ef71-7bb27b0c3858"
      },
      "source": [
        "3/4"
      ],
      "execution_count": null,
      "outputs": [
        {
          "output_type": "execute_result",
          "data": {
            "text/plain": [
              "0.75"
            ]
          },
          "metadata": {
            "tags": []
          },
          "execution_count": 40
        }
      ]
    },
    {
      "cell_type": "code",
      "metadata": {
        "id": "NXBIWgeB3v05",
        "colab": {
          "base_uri": "https://localhost:8080/",
          "height": 34
        },
        "outputId": "a0a0ed05-3174-489e-8437-d34966115625"
      },
      "source": [
        "3//4 # división entera"
      ],
      "execution_count": null,
      "outputs": [
        {
          "output_type": "execute_result",
          "data": {
            "text/plain": [
              "0"
            ]
          },
          "metadata": {
            "tags": []
          },
          "execution_count": 41
        }
      ]
    },
    {
      "cell_type": "code",
      "metadata": {
        "id": "vo2Sx5Lq3v07",
        "colab": {
          "base_uri": "https://localhost:8080/",
          "height": 34
        },
        "outputId": "b693e048-5ed7-4175-a4db-f1725cd8fa7a"
      },
      "source": [
        "115 % 3 # resto en la division por 3"
      ],
      "execution_count": null,
      "outputs": [
        {
          "output_type": "execute_result",
          "data": {
            "text/plain": [
              "1"
            ]
          },
          "metadata": {
            "tags": []
          },
          "execution_count": 42
        }
      ]
    },
    {
      "cell_type": "code",
      "metadata": {
        "id": "qVT19zRr3v09",
        "colab": {
          "base_uri": "https://localhost:8080/",
          "height": 34
        },
        "outputId": "b82362a6-9fc4-461e-9fec-384cab861c33"
      },
      "source": [
        "b = np.zeros(5)#crea vector todo de 0\n",
        "b=b+1 # sum 1 to all vector\n",
        "print(b)"
      ],
      "execution_count": null,
      "outputs": [
        {
          "output_type": "stream",
          "text": [
            "[1. 1. 1. 1. 1.]\n"
          ],
          "name": "stdout"
        }
      ]
    },
    {
      "cell_type": "code",
      "metadata": {
        "id": "M3wNr3SX3v0-"
      },
      "source": [
        "a = 2*a\n",
        "b = np.array([-1,0,1,10,100])"
      ],
      "execution_count": null,
      "outputs": []
    },
    {
      "cell_type": "code",
      "metadata": {
        "id": "79NS5W5M3v1D",
        "colab": {
          "base_uri": "https://localhost:8080/",
          "height": 34
        },
        "outputId": "28b84ea9-27db-408e-d97c-8f65c44534be"
      },
      "source": [
        "b+a #suma vectorial"
      ],
      "execution_count": null,
      "outputs": [
        {
          "output_type": "execute_result",
          "data": {
            "text/plain": [
              "array([  1.,   2.,   3.,  12., 102.])"
            ]
          },
          "metadata": {
            "tags": []
          },
          "execution_count": 45
        }
      ]
    },
    {
      "cell_type": "code",
      "metadata": {
        "id": "vswZiCJy3v1G",
        "colab": {
          "base_uri": "https://localhost:8080/",
          "height": 34
        },
        "outputId": "b6f84e13-4f9b-4e88-d935-76d65c5ecb8f"
      },
      "source": [
        "a*b #producto elemento a elemento"
      ],
      "execution_count": null,
      "outputs": [
        {
          "output_type": "execute_result",
          "data": {
            "text/plain": [
              "array([ -2.,   0.,   2.,  20., 200.])"
            ]
          },
          "metadata": {
            "tags": []
          },
          "execution_count": 46
        }
      ]
    },
    {
      "cell_type": "code",
      "metadata": {
        "id": "kDyWDiEt3v1I",
        "colab": {
          "base_uri": "https://localhost:8080/",
          "height": 34
        },
        "outputId": "ed961ec8-209c-4d50-cfa3-3825b6d2dfe0"
      },
      "source": [
        "a**3 #elevar cada elemento al cubo"
      ],
      "execution_count": null,
      "outputs": [
        {
          "output_type": "execute_result",
          "data": {
            "text/plain": [
              "array([8., 8., 8., 8., 8.])"
            ]
          },
          "metadata": {
            "tags": []
          },
          "execution_count": 47
        }
      ]
    },
    {
      "cell_type": "code",
      "metadata": {
        "id": "A8sH1l_J3v1K",
        "colab": {
          "base_uri": "https://localhost:8080/",
          "height": 85
        },
        "outputId": "941da0af-1acd-4aeb-a338-b48d770e4334"
      },
      "source": [
        "a = np.ones((3,1))#vector columna\n",
        "b = np.array([[-1,0,2]])#vector fila\n",
        "print(a)\n",
        "print(b)"
      ],
      "execution_count": null,
      "outputs": [
        {
          "output_type": "stream",
          "text": [
            "[[1.]\n",
            " [1.]\n",
            " [1.]]\n",
            "[[-1  0  2]]\n"
          ],
          "name": "stdout"
        }
      ]
    },
    {
      "cell_type": "code",
      "metadata": {
        "id": "hR1f6ZEv3v1M",
        "colab": {
          "base_uri": "https://localhost:8080/",
          "height": 34
        },
        "outputId": "2f6b4c29-651a-4f3b-ff9f-beaa64701971"
      },
      "source": [
        "a[0]"
      ],
      "execution_count": null,
      "outputs": [
        {
          "output_type": "execute_result",
          "data": {
            "text/plain": [
              "array([1.])"
            ]
          },
          "metadata": {
            "tags": []
          },
          "execution_count": 49
        }
      ]
    },
    {
      "cell_type": "code",
      "metadata": {
        "id": "MtPJ0irg3v1O",
        "colab": {
          "base_uri": "https://localhost:8080/",
          "height": 34
        },
        "outputId": "ec6822a6-7c57-4ca7-fa04-45c225b83284"
      },
      "source": [
        "b[0]"
      ],
      "execution_count": null,
      "outputs": [
        {
          "output_type": "execute_result",
          "data": {
            "text/plain": [
              "array([-1,  0,  2])"
            ]
          },
          "metadata": {
            "tags": []
          },
          "execution_count": 50
        }
      ]
    },
    {
      "cell_type": "code",
      "metadata": {
        "id": "0HpBNjKs3v1P",
        "colab": {
          "base_uri": "https://localhost:8080/",
          "height": 34
        },
        "outputId": "dd224e68-b0b8-4dce-a573-8925fbc934b2"
      },
      "source": [
        "b[0,0]"
      ],
      "execution_count": null,
      "outputs": [
        {
          "output_type": "execute_result",
          "data": {
            "text/plain": [
              "-1"
            ]
          },
          "metadata": {
            "tags": []
          },
          "execution_count": 51
        }
      ]
    },
    {
      "cell_type": "code",
      "metadata": {
        "id": "jrFW2Wct3v1Q",
        "colab": {
          "base_uri": "https://localhost:8080/",
          "height": 102
        },
        "outputId": "2ceba9c2-d45d-4f54-9a86-4073b58e5769"
      },
      "source": [
        "# Trasposicion\n",
        "print(a)\n",
        "print(a.T)\n",
        "print(np.transpose(a))"
      ],
      "execution_count": null,
      "outputs": [
        {
          "output_type": "stream",
          "text": [
            "[[1.]\n",
            " [1.]\n",
            " [1.]]\n",
            "[[1. 1. 1.]]\n",
            "[[1. 1. 1.]]\n"
          ],
          "name": "stdout"
        }
      ]
    },
    {
      "cell_type": "code",
      "metadata": {
        "id": "MDMTU09k3v1U",
        "colab": {
          "base_uri": "https://localhost:8080/",
          "height": 68
        },
        "outputId": "c89b8fce-7ee5-4137-b28f-2d3c73b73f83"
      },
      "source": [
        "np.matmul(a,b)#multiplicacion matricial."
      ],
      "execution_count": null,
      "outputs": [
        {
          "output_type": "execute_result",
          "data": {
            "text/plain": [
              "array([[-1.,  0.,  2.],\n",
              "       [-1.,  0.,  2.],\n",
              "       [-1.,  0.,  2.]])"
            ]
          },
          "metadata": {
            "tags": []
          },
          "execution_count": 53
        }
      ]
    },
    {
      "cell_type": "code",
      "metadata": {
        "id": "jI0A2ee13v1W",
        "colab": {
          "base_uri": "https://localhost:8080/",
          "height": 34
        },
        "outputId": "17c949d5-2bbe-4349-e9be-b67e5930a3aa"
      },
      "source": [
        "np.matmul(a.T,b.T)"
      ],
      "execution_count": null,
      "outputs": [
        {
          "output_type": "execute_result",
          "data": {
            "text/plain": [
              "array([[1.]])"
            ]
          },
          "metadata": {
            "tags": []
          },
          "execution_count": 54
        }
      ]
    },
    {
      "cell_type": "code",
      "metadata": {
        "id": "Z7poSPcC3v1Y",
        "colab": {
          "base_uri": "https://localhost:8080/",
          "height": 34
        },
        "outputId": "44be0ff9-ab0a-4665-f924-cd236949c1f1"
      },
      "source": [
        "np.sum(a) #suma los elementos"
      ],
      "execution_count": null,
      "outputs": [
        {
          "output_type": "execute_result",
          "data": {
            "text/plain": [
              "3.0"
            ]
          },
          "metadata": {
            "tags": []
          },
          "execution_count": 55
        }
      ]
    },
    {
      "cell_type": "code",
      "metadata": {
        "id": "zUnA1Zew3v1Z",
        "colab": {
          "base_uri": "https://localhost:8080/",
          "height": 34
        },
        "outputId": "1c80e4c1-f40a-4a5a-dc1f-7fa8f6caa359"
      },
      "source": [
        "np.mean(a) #calcula valor medio"
      ],
      "execution_count": null,
      "outputs": [
        {
          "output_type": "execute_result",
          "data": {
            "text/plain": [
              "1.0"
            ]
          },
          "metadata": {
            "tags": []
          },
          "execution_count": 56
        }
      ]
    },
    {
      "cell_type": "code",
      "metadata": {
        "id": "VTheHnZj3v1c",
        "colab": {
          "base_uri": "https://localhost:8080/",
          "height": 34
        },
        "outputId": "07d76c46-18a6-4442-b048-98563799f037"
      },
      "source": [
        "np.median(a) #calcula mediana"
      ],
      "execution_count": null,
      "outputs": [
        {
          "output_type": "execute_result",
          "data": {
            "text/plain": [
              "1.0"
            ]
          },
          "metadata": {
            "tags": []
          },
          "execution_count": 57
        }
      ]
    },
    {
      "cell_type": "code",
      "metadata": {
        "id": "kv2dEQiV3v1f",
        "colab": {
          "base_uri": "https://localhost:8080/",
          "height": 34
        },
        "outputId": "694f7785-126b-44bd-e7bc-3194d1d5eec6"
      },
      "source": [
        "np.std(a) #calcula desvío estándar"
      ],
      "execution_count": null,
      "outputs": [
        {
          "output_type": "execute_result",
          "data": {
            "text/plain": [
              "0.0"
            ]
          },
          "metadata": {
            "tags": []
          },
          "execution_count": 58
        }
      ]
    },
    {
      "cell_type": "code",
      "metadata": {
        "id": "aLjMj2wk3v1l",
        "colab": {
          "base_uri": "https://localhost:8080/",
          "height": 51
        },
        "outputId": "b40945c7-f581-4d83-cafd-576b59a98a7e"
      },
      "source": [
        "np.corrcoef([1,2,3],[3,2,0]) #matriz de correlación"
      ],
      "execution_count": null,
      "outputs": [
        {
          "output_type": "execute_result",
          "data": {
            "text/plain": [
              "array([[ 1.        , -0.98198051],\n",
              "       [-0.98198051,  1.        ]])"
            ]
          },
          "metadata": {
            "tags": []
          },
          "execution_count": 59
        }
      ]
    },
    {
      "cell_type": "markdown",
      "metadata": {
        "id": "EGE85mET3v1n"
      },
      "source": [
        "Cuando aparecen nan, las funciones usuales retornan nan; para ello hay que usar otras o resolver el problema de los nan de otro modo."
      ]
    },
    {
      "cell_type": "code",
      "metadata": {
        "id": "YDS8JI1k3v1n",
        "colab": {
          "base_uri": "https://localhost:8080/",
          "height": 34
        },
        "outputId": "926789d0-f280-452c-b65c-103c84a88509"
      },
      "source": [
        "np.mean([1,5,6,np.nan])"
      ],
      "execution_count": null,
      "outputs": [
        {
          "output_type": "execute_result",
          "data": {
            "text/plain": [
              "nan"
            ]
          },
          "metadata": {
            "tags": []
          },
          "execution_count": 60
        }
      ]
    },
    {
      "cell_type": "code",
      "metadata": {
        "id": "b2qCLLw53v1p",
        "colab": {
          "base_uri": "https://localhost:8080/",
          "height": 51
        },
        "outputId": "9f31908f-0616-4329-a78c-a81613b38fb5"
      },
      "source": [
        "a2 = np.append(a,[np.nan])\n",
        "print(a2)\n",
        "np.nanmean(a2)"
      ],
      "execution_count": null,
      "outputs": [
        {
          "output_type": "stream",
          "text": [
            "[ 1.  1.  1. nan]\n"
          ],
          "name": "stdout"
        },
        {
          "output_type": "execute_result",
          "data": {
            "text/plain": [
              "1.0"
            ]
          },
          "metadata": {
            "tags": []
          },
          "execution_count": 61
        }
      ]
    },
    {
      "cell_type": "code",
      "metadata": {
        "id": "O3jypXlo3v1q",
        "colab": {
          "base_uri": "https://localhost:8080/",
          "height": 34
        },
        "outputId": "387fbb44-408d-4a8c-8826-2cb0a15c3f44"
      },
      "source": [
        "np.nanstd(a2)"
      ],
      "execution_count": null,
      "outputs": [
        {
          "output_type": "execute_result",
          "data": {
            "text/plain": [
              "0.0"
            ]
          },
          "metadata": {
            "tags": []
          },
          "execution_count": 62
        }
      ]
    },
    {
      "cell_type": "markdown",
      "metadata": {
        "id": "XqF2i6IK3v2F"
      },
      "source": [
        "### Generar numeros aleatorios"
      ]
    },
    {
      "cell_type": "code",
      "metadata": {
        "id": "CkFWB9_5xB0F",
        "colab": {
          "base_uri": "https://localhost:8080/"
        },
        "outputId": "2b82cfeb-84af-468f-a5cb-a1a5c242da2c"
      },
      "source": [
        "np.random.random() # Devuelve un numero aleatorio entre 0 y 1, distribucion uniforme"
      ],
      "execution_count": null,
      "outputs": [
        {
          "output_type": "execute_result",
          "data": {
            "text/plain": [
              "0.4059805099722884"
            ]
          },
          "metadata": {},
          "execution_count": 54
        }
      ]
    },
    {
      "cell_type": "code",
      "metadata": {
        "id": "YSnWlcSJ3v2G",
        "colab": {
          "base_uri": "https://localhost:8080/"
        },
        "outputId": "b24902e6-962c-4a51-a32a-2c0b48210745"
      },
      "source": [
        "# Devuelve 'size' numeros aleatorios entre 'low' y 'high', distribucion uniforme\n",
        "random_vector = np.random.uniform(low=0, high=10, size=10)\n",
        "print(random_vector)"
      ],
      "execution_count": null,
      "outputs": [
        {
          "output_type": "stream",
          "name": "stdout",
          "text": [
            "[3.84825188 7.27260032 4.77676614 6.72823222 3.39078251 9.77433123\n",
            " 8.1653086  4.12498416 6.20769765 8.88976249]\n"
          ]
        }
      ]
    },
    {
      "cell_type": "code",
      "metadata": {
        "id": "tAQSYzFuxyGx",
        "colab": {
          "base_uri": "https://localhost:8080/"
        },
        "outputId": "009a7f3f-20f7-47ba-d7d3-c97e53bf6b58"
      },
      "source": [
        "# Devuelve 'size' numeros aleatorios con distribucion gaussiana/normal\n",
        "# 'loc' es el valor medio y 'scale' el sigma\n",
        "random_vector = np.random.normal(loc=1, scale=0.1, size=10)\n",
        "print(random_vector)"
      ],
      "execution_count": null,
      "outputs": [
        {
          "output_type": "stream",
          "name": "stdout",
          "text": [
            "[0.94505225 0.95500089 1.10089587 1.19619553 0.95324512 0.9468742\n",
            " 0.94921266 0.94897274 0.93137992 0.93784321]\n"
          ]
        }
      ]
    },
    {
      "cell_type": "markdown",
      "metadata": {
        "id": "Sci40fCi3v2h"
      },
      "source": [
        "## 3. Matplotlib (Graficar)\n",
        "\n",
        "Librería para hacer graficos.\n",
        "\n",
        "\n",
        "Documentacion\n",
        "https://matplotlib.org/"
      ]
    },
    {
      "cell_type": "code",
      "metadata": {
        "id": "RJpYefMi3v2i"
      },
      "source": [
        "import matplotlib.pylab as plt"
      ],
      "execution_count": null,
      "outputs": []
    },
    {
      "cell_type": "code",
      "metadata": {
        "id": "8-jpoVHq3v2k",
        "colab": {
          "base_uri": "https://localhost:8080/",
          "height": 265
        },
        "outputId": "37f5ab55-a469-4972-8d5b-95ed99211f3b"
      },
      "source": [
        "x = np.arange(100) # vector de enteros entre 0 y 100\n",
        "y = x**2           # elevo al cuadrado cada elemento\n",
        "plt.plot(x, y)     # grafico x vs y\n",
        "plt.show()"
      ],
      "execution_count": null,
      "outputs": [
        {
          "output_type": "display_data",
          "data": {
            "image/png": "[encoded data removed]",
            "text/plain": [
              "<Figure size 432x288 with 1 Axes>"
            ]
          },
          "metadata": {
            "tags": [],
            "needs_background": "light"
          }
        }
      ]
    },
    {
      "cell_type": "code",
      "metadata": {
        "id": "KfpbHQEH3v2l",
        "colab": {
          "base_uri": "https://localhost:8080/",
          "height": 295
        },
        "outputId": "2ade0b8a-b52b-4230-b609-1bf84bd9e754"
      },
      "source": [
        "plt.plot(x, y, 'g.', label=\"Puntos verdes\")\n",
        "#'g' para que grafique en verde (green)\n",
        "#'.' para que grafique con puntos en lugar de una linea\n",
        "#label es la leyenda\n",
        "plt.plot(x, y+1000, 'r*', label = \"Estrellas rojas\")\n",
        "#'r' para que grafique en rojo (red)\n",
        "#'*' para que grafique con estrellitas\n",
        "plt.xlabel(\"X\")             # nombro el eje x\n",
        "plt.ylabel(\"X$^2$\")         # nombro el eje y\n",
        "plt.title(\"Parabolas\")      # pongo titulo\n",
        "plt.legend()                # arma la leyenda con los labels\n",
        "plt.show()                  # muestra la imagen"
      ],
      "execution_count": null,
      "outputs": [
        {
          "output_type": "display_data",
          "data": {
            "image/png": "[encoded data removed]",
            "text/plain": [
              "<Figure size 432x288 with 1 Axes>"
            ]
          },
          "metadata": {
            "tags": [],
            "needs_background": "light"
          }
        }
      ]
    },
    {
      "cell_type": "code",
      "metadata": {
        "id": "Ul5RiXlV3v2n",
        "colab": {
          "base_uri": "https://localhost:8080/",
          "height": 431
        },
        "outputId": "39255094-4ee1-4b7c-d2be-9539c4d33ce8"
      },
      "source": [
        "y = np.exp(x) # funcion exponencial\n",
        "\n",
        "#creo subplots:\n",
        "#2 columnas 1 fila -> 2 graficos.\n",
        "# tamaño de la figura en x e y 12*6\n",
        "fig, ax = plt.subplots(ncols=2, nrows=1, figsize=(12,6))\n",
        "plt.suptitle(\"Esto si que pinta bien\")\n",
        "\n",
        "#primer plot\n",
        "ax[0].plot(x, y, 'g.', label=\"exponencial!!!\")\n",
        "ax[0].set_xlabel(\"x\")\n",
        "ax[0].legend()\n",
        "#segundo plot\n",
        "ax[1].semilogy(x, y, 'r*', label = \"APA! eje y logaritmico\")#rojo con estrellitas\n",
        "ax[1].legend()#usa los labels para armar la legenda.\n",
        "plt.show()"
      ],
      "execution_count": null,
      "outputs": [
        {
          "output_type": "display_data",
          "data": {
            "image/png": "[encoded data removed]",
            "text/plain": [
              "<Figure size 864x432 with 2 Axes>"
            ]
          },
          "metadata": {
            "tags": [],
            "needs_background": "light"
          }
        }
      ]
    },
    {
      "cell_type": "code",
      "metadata": {
        "id": "0XnsCyce3v2p",
        "colab": {
          "base_uri": "https://localhost:8080/",
          "height": 285
        },
        "outputId": "82b367f2-2343-434a-dceb-1b6eddc8ee67"
      },
      "source": [
        "color = (0.5,0.2,0.8,0.7)#(red,green,blue,alpha) donde alpha es la opacidad\n",
        "x = np.random.exponential(scale=10,size=100)\n",
        "y = x**2\n",
        "\n",
        "plt.loglog(x,y,'o',c=color)\n",
        "plt.title(\"log en ambos ejes\")\n",
        "plt.show()"
      ],
      "execution_count": null,
      "outputs": [
        {
          "output_type": "display_data",
          "data": {
            "image/png": "[encoded data removed]",
            "text/plain": [
              "<Figure size 432x288 with 1 Axes>"
            ]
          },
          "metadata": {
            "tags": [],
            "needs_background": "light"
          }
        }
      ]
    },
    {
      "cell_type": "code",
      "metadata": {
        "id": "GBvMy9X23v2q",
        "colab": {
          "base_uri": "https://localhost:8080/",
          "height": 265
        },
        "outputId": "b124e57e-de21-49d0-bd98-a7432a587dbc"
      },
      "source": [
        "plt.bar([1,5,8],[2,4,6])\n",
        "plt.show()"
      ],
      "execution_count": null,
      "outputs": [
        {
          "output_type": "display_data",
          "data": {
            "image/png": "[encoded data removed]",
            "text/plain": [
              "<Figure size 432x288 with 1 Axes>"
            ]
          },
          "metadata": {
            "tags": [],
            "needs_background": "light"
          }
        }
      ]
    },
    {
      "cell_type": "code",
      "metadata": {
        "id": "6MjSew8q3v2s",
        "colab": {
          "base_uri": "https://localhost:8080/",
          "height": 1000
        },
        "outputId": "bbba6f45-5eee-4cc6-b680-5306000af708"
      },
      "source": [
        "for size in [10, 100, 1000, 10000]:\n",
        "    r = np.random.normal(loc=5, scale=3, size=size)\n",
        "    plt.hist(r, bins=int(np.sqrt(size)))#histograms\n",
        "    plt.axvline(5, c=\"red\")#vertical lines\n",
        "    plt.title(\"size = {}\".format(size))\n",
        "    plt.show()"
      ],
      "execution_count": null,
      "outputs": [
        {
          "output_type": "display_data",
          "data": {
            "image/png": "[encoded data removed]",
            "text/plain": [
              "<Figure size 432x288 with 1 Axes>"
            ]
          },
          "metadata": {
            "tags": [],
            "needs_background": "light"
          }
        },
        {
          "output_type": "display_data",
          "data": {
            "image/png": "[encoded data removed]",
            "text/plain": [
              "<Figure size 432x288 with 1 Axes>"
            ]
          },
          "metadata": {
            "tags": [],
            "needs_background": "light"
          }
        },
        {
          "output_type": "display_data",
          "data": {
            "image/png": "[encoded data removed]",
            "text/plain": [
              "<Figure size 432x288 with 1 Axes>"
            ]
          },
          "metadata": {
            "tags": [],
            "needs_background": "light"
          }
        },
        {
          "output_type": "display_data",
          "data": {
            "image/png": "[encoded data removed]",
            "text/plain": [
              "<Figure size 432x288 with 1 Axes>"
            ]
          },
          "metadata": {
            "tags": [],
            "needs_background": "light"
          }
        }
      ]
    },
    {
      "cell_type": "markdown",
      "metadata": {
        "id": "NCr5fbiG3v2v"
      },
      "source": [
        "## 4. Scipy (Ajustes y más)\n",
        "\n",
        "Librería para manejo de estadística y cosas útiles como fiteos.\n",
        "\n",
        "Documentacion\n",
        "https://scipy-cookbook.readthedocs.io/items/FittingData.html"
      ]
    },
    {
      "cell_type": "markdown",
      "metadata": {
        "id": "Mf3YsdVE1l43"
      },
      "source": [
        "Ejemplos de ajustes"
      ]
    },
    {
      "cell_type": "markdown",
      "metadata": {
        "id": "3bn-pouT3v2v"
      },
      "source": [
        "### Minimización"
      ]
    },
    {
      "cell_type": "code",
      "metadata": {
        "id": "AUjhYtFY3v2w",
        "colab": {
          "base_uri": "https://localhost:8080/",
          "height": 187
        },
        "outputId": "8ffed7b6-171b-4522-ff7c-e8dc2db88499"
      },
      "source": [
        "from scipy.optimize import minimize\n",
        "f = lambda X:((X[0]-5)**2)+(X[1]-7)**2#funcion a minimizar\n",
        "x0 = [0, 0]#valores iniciales donde empezar a inspeccionar la minimización\n",
        "res = minimize(f, x0, method='Nelder-Mead', tol=1e-6)\n",
        "res#minimos en [5, 7]"
      ],
      "execution_count": null,
      "outputs": [
        {
          "output_type": "execute_result",
          "data": {
            "text/plain": [
              " final_simplex: (array([[4.99999972, 7.00000013],\n",
              "       [5.00000028, 7.00000036],\n",
              "       [5.00000055, 7.00000004]]), array([9.59772390e-14, 2.06306220e-13, 3.09860198e-13]))\n",
              "           fun: 9.597723895727627e-14\n",
              "       message: 'Optimization terminated successfully.'\n",
              "          nfev: 177\n",
              "           nit: 91\n",
              "        status: 0\n",
              "       success: True\n",
              "             x: array([4.99999972, 7.00000013])"
            ]
          },
          "metadata": {
            "tags": []
          },
          "execution_count": 73
        }
      ]
    },
    {
      "cell_type": "markdown",
      "metadata": {
        "id": "48JxMtC93v2y"
      },
      "source": [
        "### Cuadrados minimos"
      ]
    },
    {
      "cell_type": "code",
      "metadata": {
        "id": "7pWNfPDx3v2y"
      },
      "source": [
        "import numpy as np\n",
        "from scipy import optimize\n",
        "import matplotlib.pylab as plt\n",
        "%matplotlib inline\n",
        "\n",
        "# genera puntos con ruido\n",
        "num_points = 150\n",
        "x = np.linspace(-20, 5., num_points)\n",
        "y = x**2+5*x-2+np.random.normal(scale=10, size=num_points)"
      ],
      "execution_count": null,
      "outputs": []
    },
    {
      "cell_type": "markdown",
      "metadata": {
        "id": "fqWDDdy13v2z"
      },
      "source": [
        "Fiteo lineal"
      ]
    },
    {
      "cell_type": "code",
      "metadata": {
        "id": "SX0cstCI3v20"
      },
      "source": [
        "fitfunc = lambda p, x: p[0]*x+p[1]# Funcion con la que queremos fitear la data\n",
        "p0 = [1, 1] # Parametros iniciales para fitear"
      ],
      "execution_count": null,
      "outputs": []
    },
    {
      "cell_type": "code",
      "metadata": {
        "id": "W8IUvwou3v21",
        "colab": {
          "base_uri": "https://localhost:8080/",
          "height": 299
        },
        "outputId": "508825a4-2d3a-4041-cbc8-129b7231cbe5"
      },
      "source": [
        "errfunc = lambda p, x, y: fitfunc(p, x) - y # Distancia a la función objetivo\n",
        "p1, success = optimize.leastsq(errfunc, p0[:], args=(x, y))\n",
        "plt.plot(x, y, \"ro\", x, fitfunc(p1, x), \"k-\", linewidth=3) # Plot of the data and"
      ],
      "execution_count": null,
      "outputs": [
        {
          "output_type": "execute_result",
          "data": {
            "text/plain": [
              "[<matplotlib.lines.Line2D at 0x7efe7a5c6e48>,\n",
              " <matplotlib.lines.Line2D at 0x7efe7a5c6f28>]"
            ]
          },
          "metadata": {
            "tags": []
          },
          "execution_count": 76
        },
        {
          "output_type": "display_data",
          "data": {
            "image/png": "[encoded data removed]",
            "text/plain": [
              "<Figure size 432x288 with 1 Axes>"
            ]
          },
          "metadata": {
            "tags": [],
            "needs_background": "light"
          }
        }
      ]
    },
    {
      "cell_type": "markdown",
      "metadata": {
        "id": "v__fAdUh3v23"
      },
      "source": [
        "Fiteo cuadrático"
      ]
    },
    {
      "cell_type": "code",
      "metadata": {
        "id": "X1NUAF4v3v24"
      },
      "source": [
        "fitfunc = lambda p, x: p[0]*x**2+p[1]*x+p[2]# Funcion con la que queremos fitear la data\n",
        "p0 = [1, 1, 1] # Parametros iniciales para fitear"
      ],
      "execution_count": null,
      "outputs": []
    },
    {
      "cell_type": "code",
      "metadata": {
        "id": "alDUdQQk3v25",
        "colab": {
          "base_uri": "https://localhost:8080/",
          "height": 299
        },
        "outputId": "fb207083-f36f-4554-8a84-dc09722d1537"
      },
      "source": [
        "errfunc = lambda p, x, y: fitfunc(p, x) - y # Distancia a la función objetivo\n",
        "p1, success = optimize.leastsq(errfunc, p0[:], args=(x, y))\n",
        "plt.plot(x, y, \"ro\", x, fitfunc(p1, x), \"k-\", linewidth=3) # Plot of the data and"
      ],
      "execution_count": null,
      "outputs": [
        {
          "output_type": "execute_result",
          "data": {
            "text/plain": [
              "[<matplotlib.lines.Line2D at 0x7efe7a7b2d68>,\n",
              " <matplotlib.lines.Line2D at 0x7efe7a7b2e48>]"
            ]
          },
          "metadata": {
            "tags": []
          },
          "execution_count": 78
        },
        {
          "output_type": "display_data",
          "data": {
            "image/png": "[encoded data removed]",
            "text/plain": [
              "<Figure size 432x288 with 1 Axes>"
            ]
          },
          "metadata": {
            "tags": [],
            "needs_background": "light"
          }
        }
      ]
    },
    {
      "cell_type": "markdown",
      "metadata": {
        "id": "jP4raqQ_3v26"
      },
      "source": [
        "### Fiteando una ley de potencias (Scale-free networks)\n",
        "\n",
        "#### Generacion de los datos\n",
        "Generate some data with noise to demonstrate the fitting procedure. Data is generated with an amplitude of 10 and a power-law index of -2.0. Notice that all of our data is well-behaved when the log is taken... you may have to be more careful of this for real data."
      ]
    },
    {
      "cell_type": "code",
      "metadata": {
        "id": "4aq_wnuM3v27",
        "colab": {
          "base_uri": "https://localhost:8080/",
          "height": 265
        },
        "outputId": "5fac4a19-8961-4d85-eb2c-aa3b19f4009a"
      },
      "source": [
        "# Define function for calculating a power law\n",
        "powerlaw = lambda x, amp, index: amp * (x**index)\n",
        "\n",
        "##########\n",
        "# Generate data points with noise\n",
        "##########\n",
        "num_points = 20\n",
        "\n",
        "# Note: all positive, non-zero data\n",
        "xdata = np.linspace(1.1, 10.1, num_points)\n",
        "ydata = powerlaw(xdata, 10.0, -2.0)     # simulated perfect data\n",
        "yerr = 0.2 * ydata                      # simulated errors (10%)\n",
        "\n",
        "ydata += np.random.randn(num_points) * yerr       # simulated noisy data\n",
        "\n",
        "plt.plot(xdata,ydata)\n",
        "plt.errorbar(xdata, ydata, yerr=yerr, fmt='k.')\n",
        "plt.show()"
      ],
      "execution_count": null,
      "outputs": [
        {
          "output_type": "display_data",
          "data": {
            "image/png": "[encoded data removed]",
            "text/plain": [
              "<Figure size 432x288 with 1 Axes>"
            ]
          },
          "metadata": {
            "tags": [],
            "needs_background": "light"
          }
        }
      ]
    },
    {
      "cell_type": "markdown",
      "metadata": {
        "id": "RepHILlH3v29"
      },
      "source": [
        "\n",
        "#### Fiteando los datos\n",
        "\n",
        "If your data is well-behaved, you can fit a power-law function by first converting to a linear equation by using the logarithm. Then use the optimize function to fit a straight line. Notice that we are weighting by positional uncertainties during the fit. Also, the best-fit parameters uncertainties are estimated from the variance-covariance matrix. You should read up on when it may not be appropriate to use this form of error estimation.\n",
        "\n",
        "If you are trying to fit a power-law distribution, [this first solution] or [this second solution](https://github.com/keflavich/plfit) are more appropriated. (Todavia no probamos estos paquetes, y tampoco es la intención que lo hagan de esa forma)\n"
      ]
    },
    {
      "cell_type": "code",
      "metadata": {
        "id": "mPVVG8qK3v2-",
        "colab": {
          "base_uri": "https://localhost:8080/",
          "height": 367
        },
        "outputId": "60c46568-bf69-4594-9637-573c57129c2b"
      },
      "source": [
        "##########\n",
        "# Fitting the data -- Least Squares Method\n",
        "##########\n",
        "\n",
        "# Power-law fitting is best done by first converting\n",
        "# to a linear equation and then fitting to a straight line.\n",
        "# Note that the `logyerr` term here is ignoring a constant prefactor.\n",
        "#\n",
        "#  y = a * x^b\n",
        "#  log(y) = log(a) + b*log(x)\n",
        "#\n",
        "\n",
        "logx = np.log10(xdata)\n",
        "logy = np.log10(ydata)\n",
        "logyerr = yerr / ydata\n",
        "\n",
        "# define our (line) fitting function\n",
        "fitfunc = lambda p, x: p[0] + p[1] * x\n",
        "errfunc = lambda p, x, y, err: (y - fitfunc(p, x)) / err\n",
        "\n",
        "pinit = [1.0, -1.0]\n",
        "out = optimize.leastsq(errfunc, pinit,args=(logx, logy, logyerr), full_output=1)\n",
        "\n",
        "pfinal = out[0]\n",
        "covar = out[1]\n",
        "print(pfinal)\n",
        "print(covar)\n",
        "\n",
        "index = pfinal[1]\n",
        "amp = 10.0**pfinal[0]\n",
        "\n",
        "indexErr = np.sqrt( covar[1][1] )\n",
        "ampErr = np.sqrt( covar[0][0] ) * amp\n",
        "\n",
        "##########\n",
        "# Plotting data\n",
        "##########\n",
        "\n",
        "plt.clf()\n",
        "plt.subplot(2, 1, 1)\n",
        "plt.plot(xdata, powerlaw(xdata, amp, index))     # Fit\n",
        "plt.errorbar(xdata, ydata, yerr=yerr, fmt='k.')  # Data\n",
        "plt.text(5, 6.5, 'Ampli = %5.2f +/- %5.2f' % (amp, ampErr))\n",
        "plt.text(5, 5.5, 'Index = %5.2f +/- %5.2f' % (index, indexErr))\n",
        "plt.title('Best Fit Power Law')\n",
        "plt.xlabel('X')\n",
        "plt.ylabel('Y')\n",
        "plt.xlim(1, 11)\n",
        "\n",
        "plt.subplot(2, 1, 2)\n",
        "plt.loglog(xdata, powerlaw(xdata, amp, index))\n",
        "plt.errorbar(xdata, ydata, yerr=yerr, fmt='k.')  # Data\n",
        "plt.xlabel('X (log scale)')\n",
        "plt.ylabel('Y (log scale)')\n",
        "plt.xlim(1.0, 11)"
      ],
      "execution_count": null,
      "outputs": [
        {
          "output_type": "stream",
          "text": [
            "[ 0.95937621 -1.92833262]\n",
            "[[ 0.01529783 -0.01898941]\n",
            " [-0.01898941  0.02707938]]\n"
          ],
          "name": "stdout"
        },
        {
          "output_type": "execute_result",
          "data": {
            "text/plain": [
              "(1.0, 11)"
            ]
          },
          "metadata": {
            "tags": []
          },
          "execution_count": 80
        },
        {
          "output_type": "display_data",
          "data": {
            "image/png": "[encoded data removed]",
            "text/plain": [
              "<Figure size 432x288 with 2 Axes>"
            ]
          },
          "metadata": {
            "tags": [],
            "needs_background": "light"
          }
        }
      ]
    },
    {
      "cell_type": "code",
      "source": [
        "# Crear una tupla con un valor booleano\n",
        "\n",
        "estudia = (True,)\n",
        "no_estudia = (False,)\n",
        "\n",
        "# Imprimir la tupla\n",
        "print(\"Tupla si estudia:\", estudia)\n",
        "print(\"Tupla no estudia:\", no_estudia)\n"
      ],
      "metadata": {
        "colab": {
          "base_uri": "https://localhost:8080/"
        },
        "id": "Dq6Mo6ointR8",
        "outputId": "2c246417-570d-45db-f7e5-eb0a7790106f"
      },
      "execution_count": null,
      "outputs": [
        {
          "output_type": "stream",
          "name": "stdout",
          "text": [
            "Tupla si estudia: (True,)\n",
            "Tupla no estudia: (False,)\n"
          ]
        }
      ]
    },
    {
      "cell_type": "code",
      "source": [
        "jane = (\"Jane Doe\", 25, 1.75, \"Canada\")\n",
        "point = (2, 7)\n",
        "pen = (2, False, True)\n",
        "\n",
        "days = (\n",
        "\"Monday\",\n",
        "\"Tuesday\",\n",
        "\"Wednesday\",\n",
        "\"Thursday\",\n",
        "\"Friday\",\n",
        "\"Saturday\",\n",
        "\"Sunday\",\n",
        ")"
      ],
      "metadata": {
        "id": "lBnH_IhFpiSY"
      },
      "execution_count": null,
      "outputs": []
    },
    {
      "cell_type": "code",
      "source": [
        "print(pen)"
      ],
      "metadata": {
        "colab": {
          "base_uri": "https://localhost:8080/"
        },
        "id": "0u4y0tU6ptF4",
        "outputId": "7b105ed7-21cf-4430-8dec-400d1314f568"
      },
      "execution_count": null,
      "outputs": [
        {
          "output_type": "stream",
          "name": "stdout",
          "text": [
            "(2, False, True)\n"
          ]
        }
      ]
    },
    {
      "cell_type": "code",
      "source": [
        "# Crear una tupla con valores de diferentes tipos\n",
        "mis_datos = (42, \"Hola mundo\", True)\n",
        "\n",
        "# Imprimir la tupla\n",
        "print(\"Persona:\", mis_datos)\n",
        "\n",
        "#Crear un diccionario de datos personales que permita ver si una persona estudio o no"
      ],
      "metadata": {
        "colab": {
          "base_uri": "https://localhost:8080/"
        },
        "id": "pEDZ8V79pkLR",
        "outputId": "21e31307-f0df-43d4-aa65-351a53a7733b"
      },
      "execution_count": null,
      "outputs": [
        {
          "output_type": "stream",
          "name": "stdout",
          "text": [
            "Persona: (42, 'Hola mundo', True)\n"
          ]
        }
      ]
    }
  ]
}